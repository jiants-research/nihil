{
  "cells": [
    {
      "cell_type": "code",
      "execution_count": null,
      "metadata": {
        "id": "eEmvD3GoPni2"
      },
      "outputs": [],
      "source": [
        "https://www.webonary.org/basaa/browse/browse-english/?letter=w&key=en&totalEntries=499&pagenr=20&lang=en"
      ]
    },
    {
      "cell_type": "code",
      "execution_count": null,
      "metadata": {
        "id": "KuCQXw86VBYy"
      },
      "outputs": [],
      "source": [
        "dataset = dict()"
      ]
    },
    {
      "cell_type": "code",
      "execution_count": null,
      "metadata": {
        "colab": {
          "base_uri": "https://localhost:8080/"
        },
        "id": "eu7xgxqqQhV3",
        "outputId": "6c4159fc-59fa-4b06-b680-acacd7ae06cf"
      },
      "outputs": [
        {
          "data": {
            "text/plain": [
              "[('puzzle', ['lìpodol li mbâŋ']),\n",
              " ('pygmy mouse', ['ɓakwɛ̄ŋ']),\n",
              " ('pylorus', ['ŋwɛ̀mɛl lipemel li hisàŋ']),\n",
              " ('pyramid', ['njak'])]"
            ]
          },
          "execution_count": 27,
          "metadata": {},
          "output_type": "execute_result"
        }
      ],
      "source": [
        "import requests\n",
        "import json\n",
        "from bs4 import BeautifulSoup\n",
        "\n",
        "headers = {\n",
        "      \"User-Agent\": \"Mozilla/5.0 (Windows NT 10.0; Win64; x64) AppleWebKit/537.36 \"\n",
        "                    \"(KHTML, like Gecko) Chrome/114.0.0.0 Safari/537.36\",\n",
        "      \"Accept\": \"text/html,application/xhtml+xml,application/xml;q=0.9,*/*;q=0.8\",\n",
        "      \"Accept-Language\": \"en-US,en;q=0.5\",\n",
        "      \"Referer\": \"https://www.webonary.org\",\n",
        "      \"Connection\": \"keep-alive\"\n",
        "  }\n",
        "\n",
        "session = requests.Session()\n",
        "session.headers.update(headers)\n",
        "\n",
        "def scrape_website_en(i, letter):\n",
        "  url = f\"https://www.webonary.org/basaa/browse/browse-english/?letter={letter}&key=en&pagenr={i}&lang=en\"\n",
        "\n",
        "  # Step 1: Send HTTP request\n",
        "\n",
        "  response = session.get(url)\n",
        "\n",
        "  # Step 2: Parse HTML content\n",
        "  soup = BeautifulSoup(response.content, \"html.parser\")\n",
        "\n",
        "  # Step 3: Find the element with id=\"searchresults\"\n",
        "  search_results = soup.find(id=\"searchresults\")\n",
        "  pairs = list()\n",
        "  if search_results:\n",
        "      posts = search_results.find_all(\"div\", class_=\"post\")\n",
        "      for post in posts:\n",
        "        en_word = post.find(\"span\", attrs={\"lang\": \"en\"}).text\n",
        "        bas_words = post.find_all(\"span\", attrs={\"lang\": \"bas\"})\n",
        "        bas_word_list = list(set([bas_word.find(\"a\").text.strip() for bas_word in bas_words]))\n",
        "        pairs.append((en_word, bas_word_list))\n",
        "        #print(f\"English Word: {en_word}\")\n",
        "        #print(f\"Basaa Words: {', '.join(bas_word_list)}\")\n",
        "        #print()\n",
        "  elif \"No reversal entries imported.\" in soup.text:\n",
        "      return []\n",
        "  else:\n",
        "      print(\"BLOCKED\")\n",
        "      return -1\n",
        "  return pairs\n",
        "\n",
        "scrape_website_en(40, 'p')"
      ]
    },
    {
      "cell_type": "code",
      "execution_count": null,
      "metadata": {
        "colab": {
          "base_uri": "https://localhost:8080/",
          "height": 1000
        },
        "id": "-ZeYFKnzRpf1",
        "outputId": "7d8a95e0-d729-46ac-f551-6379e2684ebe"
      },
      "outputs": [
        {
          "name": "stderr",
          "output_type": "stream",
          "text": [
            "  4%|▍         | 1/26 [00:24<10:01, 24.06s/it, Letter: b, Page: 1] "
          ]
        },
        {
          "name": "stdout",
          "output_type": "stream",
          "text": [
            "\n",
            "Letter a, 25 pages\n"
          ]
        },
        {
          "name": "stderr",
          "output_type": "stream",
          "text": [
            "  4%|▍         | 1/26 [00:42<10:01, 24.06s/it, Letter: b, Page: 16]"
          ]
        },
        {
          "name": "stdout",
          "output_type": "stream",
          "text": [
            "BLOCKED\n"
          ]
        },
        {
          "name": "stderr",
          "output_type": "stream",
          "text": [
            "\r  4%|▍         | 1/26 [00:44<10:01, 24.06s/it, Letter: b, Page: 16]"
          ]
        },
        {
          "name": "stdout",
          "output_type": "stream",
          "text": [
            "BLOCKED\n"
          ]
        },
        {
          "name": "stderr",
          "output_type": "stream",
          "text": [
            "\r  4%|▍         | 1/26 [00:47<10:01, 24.06s/it, Letter: b, Page: 16]"
          ]
        },
        {
          "name": "stdout",
          "output_type": "stream",
          "text": [
            "BLOCKED\n"
          ]
        },
        {
          "name": "stderr",
          "output_type": "stream",
          "text": [
            "\r  4%|▍         | 1/26 [00:50<10:01, 24.06s/it, Letter: b, Page: 16]"
          ]
        },
        {
          "name": "stdout",
          "output_type": "stream",
          "text": [
            "BLOCKED\n"
          ]
        },
        {
          "name": "stderr",
          "output_type": "stream",
          "text": [
            "\r  4%|▍         | 1/26 [00:53<10:01, 24.06s/it, Letter: b, Page: 16]"
          ]
        },
        {
          "name": "stdout",
          "output_type": "stream",
          "text": [
            "BLOCKED\n"
          ]
        },
        {
          "name": "stderr",
          "output_type": "stream",
          "text": [
            "\r  4%|▍         | 1/26 [00:55<10:01, 24.06s/it, Letter: b, Page: 16]"
          ]
        },
        {
          "name": "stdout",
          "output_type": "stream",
          "text": [
            "BLOCKED\n"
          ]
        },
        {
          "name": "stderr",
          "output_type": "stream",
          "text": [
            "\r  4%|▍         | 1/26 [00:58<10:01, 24.06s/it, Letter: b, Page: 16]"
          ]
        },
        {
          "name": "stdout",
          "output_type": "stream",
          "text": [
            "BLOCKED\n"
          ]
        },
        {
          "name": "stderr",
          "output_type": "stream",
          "text": [
            "\r  4%|▍         | 1/26 [01:01<10:01, 24.06s/it, Letter: b, Page: 16]"
          ]
        },
        {
          "name": "stdout",
          "output_type": "stream",
          "text": [
            "BLOCKED\n"
          ]
        },
        {
          "name": "stderr",
          "output_type": "stream",
          "text": [
            "\r  4%|▍         | 1/26 [01:04<10:01, 24.06s/it, Letter: b, Page: 16]"
          ]
        },
        {
          "name": "stdout",
          "output_type": "stream",
          "text": [
            "BLOCKED\n"
          ]
        },
        {
          "name": "stderr",
          "output_type": "stream",
          "text": [
            "\r  4%|▍         | 1/26 [01:06<10:01, 24.06s/it, Letter: b, Page: 16]"
          ]
        },
        {
          "name": "stdout",
          "output_type": "stream",
          "text": [
            "BLOCKED\n"
          ]
        },
        {
          "name": "stderr",
          "output_type": "stream",
          "text": [
            "\r  4%|▍         | 1/26 [01:09<10:01, 24.06s/it, Letter: b, Page: 16]"
          ]
        },
        {
          "name": "stdout",
          "output_type": "stream",
          "text": [
            "BLOCKED\n"
          ]
        },
        {
          "name": "stderr",
          "output_type": "stream",
          "text": [
            "\r  4%|▍         | 1/26 [01:12<10:01, 24.06s/it, Letter: b, Page: 16]"
          ]
        },
        {
          "name": "stdout",
          "output_type": "stream",
          "text": [
            "BLOCKED\n"
          ]
        },
        {
          "name": "stderr",
          "output_type": "stream",
          "text": [
            "\r  4%|▍         | 1/26 [01:15<10:01, 24.06s/it, Letter: b, Page: 16]"
          ]
        },
        {
          "name": "stdout",
          "output_type": "stream",
          "text": [
            "BLOCKED\n"
          ]
        },
        {
          "name": "stderr",
          "output_type": "stream",
          "text": [
            "\r  4%|▍         | 1/26 [01:17<10:01, 24.06s/it, Letter: b, Page: 16]"
          ]
        },
        {
          "name": "stdout",
          "output_type": "stream",
          "text": [
            "BLOCKED\n"
          ]
        },
        {
          "name": "stderr",
          "output_type": "stream",
          "text": [
            "\r  4%|▍         | 1/26 [01:20<10:01, 24.06s/it, Letter: b, Page: 16]"
          ]
        },
        {
          "name": "stdout",
          "output_type": "stream",
          "text": [
            "BLOCKED\n"
          ]
        },
        {
          "name": "stderr",
          "output_type": "stream",
          "text": [
            "\r  4%|▍         | 1/26 [01:23<10:01, 24.06s/it, Letter: b, Page: 16]"
          ]
        },
        {
          "name": "stdout",
          "output_type": "stream",
          "text": [
            "BLOCKED\n"
          ]
        },
        {
          "name": "stderr",
          "output_type": "stream",
          "text": [
            "\r  4%|▍         | 1/26 [01:26<10:01, 24.06s/it, Letter: b, Page: 16]"
          ]
        },
        {
          "name": "stdout",
          "output_type": "stream",
          "text": [
            "BLOCKED\n"
          ]
        },
        {
          "name": "stderr",
          "output_type": "stream",
          "text": [
            "\r  4%|▍         | 1/26 [01:28<10:01, 24.06s/it, Letter: b, Page: 16]"
          ]
        },
        {
          "name": "stdout",
          "output_type": "stream",
          "text": [
            "BLOCKED\n"
          ]
        },
        {
          "name": "stderr",
          "output_type": "stream",
          "text": [
            "\r  4%|▍         | 1/26 [01:31<10:01, 24.06s/it, Letter: b, Page: 16]"
          ]
        },
        {
          "name": "stdout",
          "output_type": "stream",
          "text": [
            "BLOCKED\n"
          ]
        },
        {
          "name": "stderr",
          "output_type": "stream",
          "text": [
            "\r  4%|▍         | 1/26 [01:34<10:01, 24.06s/it, Letter: b, Page: 16]"
          ]
        },
        {
          "name": "stdout",
          "output_type": "stream",
          "text": [
            "BLOCKED\n"
          ]
        },
        {
          "name": "stderr",
          "output_type": "stream",
          "text": [
            "\r  4%|▍         | 1/26 [01:37<10:01, 24.06s/it, Letter: b, Page: 16]"
          ]
        },
        {
          "name": "stdout",
          "output_type": "stream",
          "text": [
            "BLOCKED\n"
          ]
        },
        {
          "name": "stderr",
          "output_type": "stream",
          "text": [
            "\r  4%|▍         | 1/26 [01:40<10:01, 24.06s/it, Letter: b, Page: 16]"
          ]
        },
        {
          "name": "stdout",
          "output_type": "stream",
          "text": [
            "BLOCKED\n"
          ]
        },
        {
          "name": "stderr",
          "output_type": "stream",
          "text": [
            "  8%|▊         | 2/26 [02:09<28:52, 72.18s/it, Letter: c, Page: 1] "
          ]
        },
        {
          "name": "stdout",
          "output_type": "stream",
          "text": [
            "\n",
            "Letter b, 36 pages\n"
          ]
        },
        {
          "name": "stderr",
          "output_type": "stream",
          "text": [
            "  8%|▊         | 2/26 [02:45<28:52, 72.18s/it, Letter: c, Page: 30]"
          ]
        },
        {
          "name": "stdout",
          "output_type": "stream",
          "text": [
            "BLOCKED\n"
          ]
        },
        {
          "name": "stderr",
          "output_type": "stream",
          "text": [
            "\r  8%|▊         | 2/26 [02:48<28:52, 72.18s/it, Letter: c, Page: 30]"
          ]
        },
        {
          "name": "stdout",
          "output_type": "stream",
          "text": [
            "BLOCKED\n"
          ]
        },
        {
          "name": "stderr",
          "output_type": "stream",
          "text": [
            "\r  8%|▊         | 2/26 [02:50<28:52, 72.18s/it, Letter: c, Page: 30]"
          ]
        },
        {
          "name": "stdout",
          "output_type": "stream",
          "text": [
            "BLOCKED\n"
          ]
        },
        {
          "name": "stderr",
          "output_type": "stream",
          "text": [
            "\r  8%|▊         | 2/26 [02:53<28:52, 72.18s/it, Letter: c, Page: 30]"
          ]
        },
        {
          "name": "stdout",
          "output_type": "stream",
          "text": [
            "BLOCKED\n"
          ]
        },
        {
          "name": "stderr",
          "output_type": "stream",
          "text": [
            "\r  8%|▊         | 2/26 [02:56<28:52, 72.18s/it, Letter: c, Page: 30]"
          ]
        },
        {
          "name": "stdout",
          "output_type": "stream",
          "text": [
            "BLOCKED\n"
          ]
        },
        {
          "name": "stderr",
          "output_type": "stream",
          "text": [
            "\r  8%|▊         | 2/26 [02:59<28:52, 72.18s/it, Letter: c, Page: 30]"
          ]
        },
        {
          "name": "stdout",
          "output_type": "stream",
          "text": [
            "BLOCKED\n"
          ]
        },
        {
          "name": "stderr",
          "output_type": "stream",
          "text": [
            "\r  8%|▊         | 2/26 [03:02<28:52, 72.18s/it, Letter: c, Page: 30]"
          ]
        },
        {
          "name": "stdout",
          "output_type": "stream",
          "text": [
            "BLOCKED\n"
          ]
        },
        {
          "name": "stderr",
          "output_type": "stream",
          "text": [
            "\r  8%|▊         | 2/26 [03:04<28:52, 72.18s/it, Letter: c, Page: 30]"
          ]
        },
        {
          "name": "stdout",
          "output_type": "stream",
          "text": [
            "BLOCKED\n"
          ]
        },
        {
          "name": "stderr",
          "output_type": "stream",
          "text": [
            "\r  8%|▊         | 2/26 [03:07<28:52, 72.18s/it, Letter: c, Page: 30]"
          ]
        },
        {
          "name": "stdout",
          "output_type": "stream",
          "text": [
            "BLOCKED\n"
          ]
        },
        {
          "name": "stderr",
          "output_type": "stream",
          "text": [
            "\r  8%|▊         | 2/26 [03:10<28:52, 72.18s/it, Letter: c, Page: 30]"
          ]
        },
        {
          "name": "stdout",
          "output_type": "stream",
          "text": [
            "BLOCKED\n"
          ]
        },
        {
          "name": "stderr",
          "output_type": "stream",
          "text": [
            "\r  8%|▊         | 2/26 [03:13<28:52, 72.18s/it, Letter: c, Page: 30]"
          ]
        },
        {
          "name": "stdout",
          "output_type": "stream",
          "text": [
            "BLOCKED\n"
          ]
        },
        {
          "name": "stderr",
          "output_type": "stream",
          "text": [
            "\r  8%|▊         | 2/26 [03:16<28:52, 72.18s/it, Letter: c, Page: 30]"
          ]
        },
        {
          "name": "stdout",
          "output_type": "stream",
          "text": [
            "BLOCKED\n"
          ]
        },
        {
          "name": "stderr",
          "output_type": "stream",
          "text": [
            "\r  8%|▊         | 2/26 [03:18<28:52, 72.18s/it, Letter: c, Page: 30]"
          ]
        },
        {
          "name": "stdout",
          "output_type": "stream",
          "text": [
            "BLOCKED\n"
          ]
        },
        {
          "name": "stderr",
          "output_type": "stream",
          "text": [
            "\r  8%|▊         | 2/26 [03:21<28:52, 72.18s/it, Letter: c, Page: 30]"
          ]
        },
        {
          "name": "stdout",
          "output_type": "stream",
          "text": [
            "BLOCKED\n"
          ]
        },
        {
          "name": "stderr",
          "output_type": "stream",
          "text": [
            "\r  8%|▊         | 2/26 [03:24<28:52, 72.18s/it, Letter: c, Page: 30]"
          ]
        },
        {
          "name": "stdout",
          "output_type": "stream",
          "text": [
            "BLOCKED\n"
          ]
        },
        {
          "name": "stderr",
          "output_type": "stream",
          "text": [
            "\r  8%|▊         | 2/26 [03:27<28:52, 72.18s/it, Letter: c, Page: 30]"
          ]
        },
        {
          "name": "stdout",
          "output_type": "stream",
          "text": [
            "BLOCKED\n"
          ]
        },
        {
          "name": "stderr",
          "output_type": "stream",
          "text": [
            "\r  8%|▊         | 2/26 [03:29<28:52, 72.18s/it, Letter: c, Page: 30]"
          ]
        },
        {
          "name": "stdout",
          "output_type": "stream",
          "text": [
            "BLOCKED\n"
          ]
        },
        {
          "name": "stderr",
          "output_type": "stream",
          "text": [
            "\r  8%|▊         | 2/26 [03:32<28:52, 72.18s/it, Letter: c, Page: 30]"
          ]
        },
        {
          "name": "stdout",
          "output_type": "stream",
          "text": [
            "BLOCKED\n"
          ]
        },
        {
          "name": "stderr",
          "output_type": "stream",
          "text": [
            "\r  8%|▊         | 2/26 [03:35<28:52, 72.18s/it, Letter: c, Page: 30]"
          ]
        },
        {
          "name": "stdout",
          "output_type": "stream",
          "text": [
            "BLOCKED\n"
          ]
        },
        {
          "name": "stderr",
          "output_type": "stream",
          "text": [
            "\r  8%|▊         | 2/26 [03:38<28:52, 72.18s/it, Letter: c, Page: 30]"
          ]
        },
        {
          "name": "stdout",
          "output_type": "stream",
          "text": [
            "BLOCKED\n"
          ]
        },
        {
          "name": "stderr",
          "output_type": "stream",
          "text": [
            "\r  8%|▊         | 2/26 [03:40<28:52, 72.18s/it, Letter: c, Page: 30]"
          ]
        },
        {
          "name": "stdout",
          "output_type": "stream",
          "text": [
            "BLOCKED\n"
          ]
        },
        {
          "name": "stderr",
          "output_type": "stream",
          "text": [
            "\r  8%|▊         | 2/26 [03:43<28:52, 72.18s/it, Letter: c, Page: 30]"
          ]
        },
        {
          "name": "stdout",
          "output_type": "stream",
          "text": [
            "BLOCKED\n"
          ]
        },
        {
          "name": "stderr",
          "output_type": "stream",
          "text": [
            " 12%|█▏        | 3/26 [04:08<35:42, 93.16s/it, Letter: d, Page: 1] "
          ]
        },
        {
          "name": "stdout",
          "output_type": "stream",
          "text": [
            "\n",
            "Letter c, 45 pages\n"
          ]
        },
        {
          "name": "stderr",
          "output_type": "stream",
          "text": [
            " 15%|█▌        | 4/26 [04:41<25:28, 69.47s/it, Letter: e, Page: 1] "
          ]
        },
        {
          "name": "stdout",
          "output_type": "stream",
          "text": [
            "\n",
            "Letter d, 25 pages\n"
          ]
        },
        {
          "name": "stderr",
          "output_type": "stream",
          "text": [
            " 15%|█▌        | 4/26 [04:47<25:28, 69.47s/it, Letter: e, Page: 6]"
          ]
        },
        {
          "name": "stdout",
          "output_type": "stream",
          "text": [
            "BLOCKED\n"
          ]
        },
        {
          "name": "stderr",
          "output_type": "stream",
          "text": [
            "\r 15%|█▌        | 4/26 [04:49<25:28, 69.47s/it, Letter: e, Page: 6]"
          ]
        },
        {
          "name": "stdout",
          "output_type": "stream",
          "text": [
            "BLOCKED\n"
          ]
        },
        {
          "name": "stderr",
          "output_type": "stream",
          "text": [
            "\r 15%|█▌        | 4/26 [04:52<25:28, 69.47s/it, Letter: e, Page: 6]"
          ]
        },
        {
          "name": "stdout",
          "output_type": "stream",
          "text": [
            "BLOCKED\n"
          ]
        },
        {
          "name": "stderr",
          "output_type": "stream",
          "text": [
            "\r 15%|█▌        | 4/26 [04:55<25:28, 69.47s/it, Letter: e, Page: 6]"
          ]
        },
        {
          "name": "stdout",
          "output_type": "stream",
          "text": [
            "BLOCKED\n"
          ]
        },
        {
          "name": "stderr",
          "output_type": "stream",
          "text": [
            "\r 15%|█▌        | 4/26 [04:58<25:28, 69.47s/it, Letter: e, Page: 6]"
          ]
        },
        {
          "name": "stdout",
          "output_type": "stream",
          "text": [
            "BLOCKED\n"
          ]
        },
        {
          "name": "stderr",
          "output_type": "stream",
          "text": [
            "\r 15%|█▌        | 4/26 [05:00<25:28, 69.47s/it, Letter: e, Page: 6]"
          ]
        },
        {
          "name": "stdout",
          "output_type": "stream",
          "text": [
            "BLOCKED\n"
          ]
        },
        {
          "name": "stderr",
          "output_type": "stream",
          "text": [
            "\r 15%|█▌        | 4/26 [05:03<25:28, 69.47s/it, Letter: e, Page: 6]"
          ]
        },
        {
          "name": "stdout",
          "output_type": "stream",
          "text": [
            "BLOCKED\n"
          ]
        },
        {
          "name": "stderr",
          "output_type": "stream",
          "text": [
            "\r 15%|█▌        | 4/26 [05:06<25:28, 69.47s/it, Letter: e, Page: 6]"
          ]
        },
        {
          "name": "stdout",
          "output_type": "stream",
          "text": [
            "BLOCKED\n"
          ]
        },
        {
          "name": "stderr",
          "output_type": "stream",
          "text": [
            "\r 15%|█▌        | 4/26 [05:09<25:28, 69.47s/it, Letter: e, Page: 6]"
          ]
        },
        {
          "name": "stdout",
          "output_type": "stream",
          "text": [
            "BLOCKED\n"
          ]
        },
        {
          "name": "stderr",
          "output_type": "stream",
          "text": [
            "\r 15%|█▌        | 4/26 [05:11<25:28, 69.47s/it, Letter: e, Page: 6]"
          ]
        },
        {
          "name": "stdout",
          "output_type": "stream",
          "text": [
            "BLOCKED\n"
          ]
        },
        {
          "name": "stderr",
          "output_type": "stream",
          "text": [
            "\r 15%|█▌        | 4/26 [05:14<25:28, 69.47s/it, Letter: e, Page: 6]"
          ]
        },
        {
          "name": "stdout",
          "output_type": "stream",
          "text": [
            "BLOCKED\n"
          ]
        },
        {
          "name": "stderr",
          "output_type": "stream",
          "text": [
            "\r 15%|█▌        | 4/26 [05:17<25:28, 69.47s/it, Letter: e, Page: 6]"
          ]
        },
        {
          "name": "stdout",
          "output_type": "stream",
          "text": [
            "BLOCKED\n"
          ]
        },
        {
          "name": "stderr",
          "output_type": "stream",
          "text": [
            "\r 15%|█▌        | 4/26 [05:20<25:28, 69.47s/it, Letter: e, Page: 6]"
          ]
        },
        {
          "name": "stdout",
          "output_type": "stream",
          "text": [
            "BLOCKED\n"
          ]
        },
        {
          "name": "stderr",
          "output_type": "stream",
          "text": [
            "\r 15%|█▌        | 4/26 [05:22<25:28, 69.47s/it, Letter: e, Page: 6]"
          ]
        },
        {
          "name": "stdout",
          "output_type": "stream",
          "text": [
            "BLOCKED\n"
          ]
        },
        {
          "name": "stderr",
          "output_type": "stream",
          "text": [
            "\r 15%|█▌        | 4/26 [05:25<25:28, 69.47s/it, Letter: e, Page: 6]"
          ]
        },
        {
          "name": "stdout",
          "output_type": "stream",
          "text": [
            "BLOCKED\n"
          ]
        },
        {
          "name": "stderr",
          "output_type": "stream",
          "text": [
            "\r 15%|█▌        | 4/26 [05:28<25:28, 69.47s/it, Letter: e, Page: 6]"
          ]
        },
        {
          "name": "stdout",
          "output_type": "stream",
          "text": [
            "BLOCKED\n"
          ]
        },
        {
          "name": "stderr",
          "output_type": "stream",
          "text": [
            "\r 15%|█▌        | 4/26 [05:31<25:28, 69.47s/it, Letter: e, Page: 6]"
          ]
        },
        {
          "name": "stdout",
          "output_type": "stream",
          "text": [
            "BLOCKED\n"
          ]
        },
        {
          "name": "stderr",
          "output_type": "stream",
          "text": [
            "\r 15%|█▌        | 4/26 [05:34<25:28, 69.47s/it, Letter: e, Page: 6]"
          ]
        },
        {
          "name": "stdout",
          "output_type": "stream",
          "text": [
            "BLOCKED\n"
          ]
        },
        {
          "name": "stderr",
          "output_type": "stream",
          "text": [
            "\r 15%|█▌        | 4/26 [05:36<25:28, 69.47s/it, Letter: e, Page: 6]"
          ]
        },
        {
          "name": "stdout",
          "output_type": "stream",
          "text": [
            "BLOCKED\n"
          ]
        },
        {
          "name": "stderr",
          "output_type": "stream",
          "text": [
            "\r 15%|█▌        | 4/26 [05:39<25:28, 69.47s/it, Letter: e, Page: 6]"
          ]
        },
        {
          "name": "stdout",
          "output_type": "stream",
          "text": [
            "BLOCKED\n"
          ]
        },
        {
          "name": "stderr",
          "output_type": "stream",
          "text": [
            "\r 15%|█▌        | 4/26 [05:42<25:28, 69.47s/it, Letter: e, Page: 6]"
          ]
        },
        {
          "name": "stdout",
          "output_type": "stream",
          "text": [
            "BLOCKED\n"
          ]
        },
        {
          "name": "stderr",
          "output_type": "stream",
          "text": [
            "\r 15%|█▌        | 4/26 [05:45<25:28, 69.47s/it, Letter: e, Page: 6]"
          ]
        },
        {
          "name": "stdout",
          "output_type": "stream",
          "text": [
            "BLOCKED\n"
          ]
        },
        {
          "name": "stderr",
          "output_type": "stream",
          "text": [
            " 19%|█▉        | 5/26 [06:01<25:39, 73.32s/it, Letter: f, Page: 1] "
          ]
        },
        {
          "name": "stdout",
          "output_type": "stream",
          "text": [
            "\n",
            "Letter e, 15 pages\n"
          ]
        },
        {
          "name": "stderr",
          "output_type": "stream",
          "text": [
            " 23%|██▎       | 6/26 [06:32<19:36, 58.83s/it, Letter: g, Page: 1] "
          ]
        },
        {
          "name": "stdout",
          "output_type": "stream",
          "text": [
            "\n",
            "Letter f, 24 pages\n"
          ]
        },
        {
          "name": "stderr",
          "output_type": "stream",
          "text": [
            " 23%|██▎       | 6/26 [06:44<19:36, 58.83s/it, Letter: g, Page: 12]"
          ]
        },
        {
          "name": "stdout",
          "output_type": "stream",
          "text": [
            "BLOCKED\n"
          ]
        },
        {
          "name": "stderr",
          "output_type": "stream",
          "text": [
            "\r 23%|██▎       | 6/26 [06:47<19:36, 58.83s/it, Letter: g, Page: 12]"
          ]
        },
        {
          "name": "stdout",
          "output_type": "stream",
          "text": [
            "BLOCKED\n"
          ]
        },
        {
          "name": "stderr",
          "output_type": "stream",
          "text": [
            "\r 23%|██▎       | 6/26 [06:50<19:36, 58.83s/it, Letter: g, Page: 12]"
          ]
        },
        {
          "name": "stdout",
          "output_type": "stream",
          "text": [
            "BLOCKED\n"
          ]
        },
        {
          "name": "stderr",
          "output_type": "stream",
          "text": [
            "\r 23%|██▎       | 6/26 [06:53<19:36, 58.83s/it, Letter: g, Page: 12]"
          ]
        },
        {
          "name": "stdout",
          "output_type": "stream",
          "text": [
            "BLOCKED\n"
          ]
        },
        {
          "name": "stderr",
          "output_type": "stream",
          "text": [
            "\r 23%|██▎       | 6/26 [06:56<19:36, 58.83s/it, Letter: g, Page: 12]"
          ]
        },
        {
          "name": "stdout",
          "output_type": "stream",
          "text": [
            "BLOCKED\n"
          ]
        },
        {
          "name": "stderr",
          "output_type": "stream",
          "text": [
            "\r 23%|██▎       | 6/26 [06:58<19:36, 58.83s/it, Letter: g, Page: 12]"
          ]
        },
        {
          "name": "stdout",
          "output_type": "stream",
          "text": [
            "BLOCKED\n"
          ]
        },
        {
          "name": "stderr",
          "output_type": "stream",
          "text": [
            "\r 23%|██▎       | 6/26 [07:01<19:36, 58.83s/it, Letter: g, Page: 12]"
          ]
        },
        {
          "name": "stdout",
          "output_type": "stream",
          "text": [
            "BLOCKED\n"
          ]
        },
        {
          "name": "stderr",
          "output_type": "stream",
          "text": [
            "\r 23%|██▎       | 6/26 [07:04<19:36, 58.83s/it, Letter: g, Page: 12]"
          ]
        },
        {
          "name": "stdout",
          "output_type": "stream",
          "text": [
            "BLOCKED\n"
          ]
        },
        {
          "name": "stderr",
          "output_type": "stream",
          "text": [
            "\r 23%|██▎       | 6/26 [07:07<19:36, 58.83s/it, Letter: g, Page: 12]"
          ]
        },
        {
          "name": "stdout",
          "output_type": "stream",
          "text": [
            "BLOCKED\n"
          ]
        },
        {
          "name": "stderr",
          "output_type": "stream",
          "text": [
            "\r 23%|██▎       | 6/26 [07:09<19:36, 58.83s/it, Letter: g, Page: 12]"
          ]
        },
        {
          "name": "stdout",
          "output_type": "stream",
          "text": [
            "BLOCKED\n"
          ]
        },
        {
          "name": "stderr",
          "output_type": "stream",
          "text": [
            "\r 23%|██▎       | 6/26 [07:12<19:36, 58.83s/it, Letter: g, Page: 12]"
          ]
        },
        {
          "name": "stdout",
          "output_type": "stream",
          "text": [
            "BLOCKED\n"
          ]
        },
        {
          "name": "stderr",
          "output_type": "stream",
          "text": [
            "\r 23%|██▎       | 6/26 [07:15<19:36, 58.83s/it, Letter: g, Page: 12]"
          ]
        },
        {
          "name": "stdout",
          "output_type": "stream",
          "text": [
            "BLOCKED\n"
          ]
        },
        {
          "name": "stderr",
          "output_type": "stream",
          "text": [
            "\r 23%|██▎       | 6/26 [07:18<19:36, 58.83s/it, Letter: g, Page: 12]"
          ]
        },
        {
          "name": "stdout",
          "output_type": "stream",
          "text": [
            "BLOCKED\n"
          ]
        },
        {
          "name": "stderr",
          "output_type": "stream",
          "text": [
            "\r 23%|██▎       | 6/26 [07:20<19:36, 58.83s/it, Letter: g, Page: 12]"
          ]
        },
        {
          "name": "stdout",
          "output_type": "stream",
          "text": [
            "BLOCKED\n"
          ]
        },
        {
          "name": "stderr",
          "output_type": "stream",
          "text": [
            "\r 23%|██▎       | 6/26 [07:23<19:36, 58.83s/it, Letter: g, Page: 12]"
          ]
        },
        {
          "name": "stdout",
          "output_type": "stream",
          "text": [
            "BLOCKED\n"
          ]
        },
        {
          "name": "stderr",
          "output_type": "stream",
          "text": [
            "\r 23%|██▎       | 6/26 [07:26<19:36, 58.83s/it, Letter: g, Page: 12]"
          ]
        },
        {
          "name": "stdout",
          "output_type": "stream",
          "text": [
            "BLOCKED\n"
          ]
        },
        {
          "name": "stderr",
          "output_type": "stream",
          "text": [
            "\r 23%|██▎       | 6/26 [07:29<19:36, 58.83s/it, Letter: g, Page: 12]"
          ]
        },
        {
          "name": "stdout",
          "output_type": "stream",
          "text": [
            "BLOCKED\n"
          ]
        },
        {
          "name": "stderr",
          "output_type": "stream",
          "text": [
            "\r 23%|██▎       | 6/26 [07:31<19:36, 58.83s/it, Letter: g, Page: 12]"
          ]
        },
        {
          "name": "stdout",
          "output_type": "stream",
          "text": [
            "BLOCKED\n"
          ]
        },
        {
          "name": "stderr",
          "output_type": "stream",
          "text": [
            "\r 23%|██▎       | 6/26 [07:34<19:36, 58.83s/it, Letter: g, Page: 12]"
          ]
        },
        {
          "name": "stdout",
          "output_type": "stream",
          "text": [
            "BLOCKED\n"
          ]
        },
        {
          "name": "stderr",
          "output_type": "stream",
          "text": [
            "\r 23%|██▎       | 6/26 [07:37<19:36, 58.83s/it, Letter: g, Page: 12]"
          ]
        },
        {
          "name": "stdout",
          "output_type": "stream",
          "text": [
            "BLOCKED\n"
          ]
        },
        {
          "name": "stderr",
          "output_type": "stream",
          "text": [
            "\r 23%|██▎       | 6/26 [07:40<19:36, 58.83s/it, Letter: g, Page: 12]"
          ]
        },
        {
          "name": "stdout",
          "output_type": "stream",
          "text": [
            "BLOCKED\n"
          ]
        },
        {
          "name": "stderr",
          "output_type": "stream",
          "text": [
            "\r 23%|██▎       | 6/26 [07:42<19:36, 58.83s/it, Letter: g, Page: 12]"
          ]
        },
        {
          "name": "stdout",
          "output_type": "stream",
          "text": [
            "BLOCKED\n"
          ]
        },
        {
          "name": "stderr",
          "output_type": "stream",
          "text": [
            " 27%|██▋       | 7/26 [08:00<21:40, 68.45s/it, Letter: h, Page: 1] "
          ]
        },
        {
          "name": "stdout",
          "output_type": "stream",
          "text": [
            "\n",
            "Letter g, 21 pages\n"
          ]
        },
        {
          "name": "stderr",
          "output_type": "stream",
          "text": [
            " 31%|███       | 8/26 [08:28<16:39, 55.54s/it, Letter: i, Page: 1] "
          ]
        },
        {
          "name": "stdout",
          "output_type": "stream",
          "text": [
            "\n",
            "Letter h, 22 pages\n"
          ]
        },
        {
          "name": "stderr",
          "output_type": "stream",
          "text": [
            " 31%|███       | 8/26 [08:45<16:39, 55.54s/it, Letter: i, Page: 15]"
          ]
        },
        {
          "name": "stdout",
          "output_type": "stream",
          "text": [
            "BLOCKED\n"
          ]
        },
        {
          "name": "stderr",
          "output_type": "stream",
          "text": [
            "\r 31%|███       | 8/26 [08:48<16:39, 55.54s/it, Letter: i, Page: 15]"
          ]
        },
        {
          "name": "stdout",
          "output_type": "stream",
          "text": [
            "BLOCKED\n"
          ]
        },
        {
          "name": "stderr",
          "output_type": "stream",
          "text": [
            "\r 31%|███       | 8/26 [08:51<16:39, 55.54s/it, Letter: i, Page: 15]"
          ]
        },
        {
          "name": "stdout",
          "output_type": "stream",
          "text": [
            "BLOCKED\n"
          ]
        },
        {
          "name": "stderr",
          "output_type": "stream",
          "text": [
            "\r 31%|███       | 8/26 [08:54<16:39, 55.54s/it, Letter: i, Page: 15]"
          ]
        },
        {
          "name": "stdout",
          "output_type": "stream",
          "text": [
            "BLOCKED\n"
          ]
        },
        {
          "name": "stderr",
          "output_type": "stream",
          "text": [
            "\r 31%|███       | 8/26 [08:56<16:39, 55.54s/it, Letter: i, Page: 15]"
          ]
        },
        {
          "name": "stdout",
          "output_type": "stream",
          "text": [
            "BLOCKED\n"
          ]
        },
        {
          "name": "stderr",
          "output_type": "stream",
          "text": [
            "\r 31%|███       | 8/26 [08:59<16:39, 55.54s/it, Letter: i, Page: 15]"
          ]
        },
        {
          "name": "stdout",
          "output_type": "stream",
          "text": [
            "BLOCKED\n"
          ]
        },
        {
          "name": "stderr",
          "output_type": "stream",
          "text": [
            "\r 31%|███       | 8/26 [09:02<16:39, 55.54s/it, Letter: i, Page: 15]"
          ]
        },
        {
          "name": "stdout",
          "output_type": "stream",
          "text": [
            "BLOCKED\n"
          ]
        },
        {
          "name": "stderr",
          "output_type": "stream",
          "text": [
            "\r 31%|███       | 8/26 [09:05<16:39, 55.54s/it, Letter: i, Page: 15]"
          ]
        },
        {
          "name": "stdout",
          "output_type": "stream",
          "text": [
            "BLOCKED\n"
          ]
        },
        {
          "name": "stderr",
          "output_type": "stream",
          "text": [
            "\r 31%|███       | 8/26 [09:08<16:39, 55.54s/it, Letter: i, Page: 15]"
          ]
        },
        {
          "name": "stdout",
          "output_type": "stream",
          "text": [
            "BLOCKED\n"
          ]
        },
        {
          "name": "stderr",
          "output_type": "stream",
          "text": [
            "\r 31%|███       | 8/26 [09:10<16:39, 55.54s/it, Letter: i, Page: 15]"
          ]
        },
        {
          "name": "stdout",
          "output_type": "stream",
          "text": [
            "BLOCKED\n"
          ]
        },
        {
          "name": "stderr",
          "output_type": "stream",
          "text": [
            "\r 31%|███       | 8/26 [09:13<16:39, 55.54s/it, Letter: i, Page: 15]"
          ]
        },
        {
          "name": "stdout",
          "output_type": "stream",
          "text": [
            "BLOCKED\n"
          ]
        },
        {
          "name": "stderr",
          "output_type": "stream",
          "text": [
            "\r 31%|███       | 8/26 [09:16<16:39, 55.54s/it, Letter: i, Page: 15]"
          ]
        },
        {
          "name": "stdout",
          "output_type": "stream",
          "text": [
            "BLOCKED\n"
          ]
        },
        {
          "name": "stderr",
          "output_type": "stream",
          "text": [
            "\r 31%|███       | 8/26 [09:19<16:39, 55.54s/it, Letter: i, Page: 15]"
          ]
        },
        {
          "name": "stdout",
          "output_type": "stream",
          "text": [
            "BLOCKED\n"
          ]
        },
        {
          "name": "stderr",
          "output_type": "stream",
          "text": [
            "\r 31%|███       | 8/26 [09:21<16:39, 55.54s/it, Letter: i, Page: 15]"
          ]
        },
        {
          "name": "stdout",
          "output_type": "stream",
          "text": [
            "BLOCKED\n"
          ]
        },
        {
          "name": "stderr",
          "output_type": "stream",
          "text": [
            "\r 31%|███       | 8/26 [09:24<16:39, 55.54s/it, Letter: i, Page: 15]"
          ]
        },
        {
          "name": "stdout",
          "output_type": "stream",
          "text": [
            "BLOCKED\n"
          ]
        },
        {
          "name": "stderr",
          "output_type": "stream",
          "text": [
            "\r 31%|███       | 8/26 [09:27<16:39, 55.54s/it, Letter: i, Page: 15]"
          ]
        },
        {
          "name": "stdout",
          "output_type": "stream",
          "text": [
            "BLOCKED\n"
          ]
        },
        {
          "name": "stderr",
          "output_type": "stream",
          "text": [
            "\r 31%|███       | 8/26 [09:30<16:39, 55.54s/it, Letter: i, Page: 15]"
          ]
        },
        {
          "name": "stdout",
          "output_type": "stream",
          "text": [
            "BLOCKED\n"
          ]
        },
        {
          "name": "stderr",
          "output_type": "stream",
          "text": [
            "\r 31%|███       | 8/26 [09:32<16:39, 55.54s/it, Letter: i, Page: 15]"
          ]
        },
        {
          "name": "stdout",
          "output_type": "stream",
          "text": [
            "BLOCKED\n"
          ]
        },
        {
          "name": "stderr",
          "output_type": "stream",
          "text": [
            "\r 31%|███       | 8/26 [09:35<16:39, 55.54s/it, Letter: i, Page: 15]"
          ]
        },
        {
          "name": "stdout",
          "output_type": "stream",
          "text": [
            "BLOCKED\n"
          ]
        },
        {
          "name": "stderr",
          "output_type": "stream",
          "text": [
            "\r 31%|███       | 8/26 [09:38<16:39, 55.54s/it, Letter: i, Page: 15]"
          ]
        },
        {
          "name": "stdout",
          "output_type": "stream",
          "text": [
            "BLOCKED\n"
          ]
        },
        {
          "name": "stderr",
          "output_type": "stream",
          "text": [
            "\r 31%|███       | 8/26 [09:41<16:39, 55.54s/it, Letter: i, Page: 15]"
          ]
        },
        {
          "name": "stdout",
          "output_type": "stream",
          "text": [
            "BLOCKED\n"
          ]
        },
        {
          "name": "stderr",
          "output_type": "stream",
          "text": [
            "\r 31%|███       | 8/26 [09:43<16:39, 55.54s/it, Letter: i, Page: 15]"
          ]
        },
        {
          "name": "stdout",
          "output_type": "stream",
          "text": [
            "BLOCKED\n"
          ]
        },
        {
          "name": "stderr",
          "output_type": "stream",
          "text": [
            " 35%|███▍      | 9/26 [09:47<17:52, 63.11s/it, Letter: j, Page: 1] "
          ]
        },
        {
          "name": "stdout",
          "output_type": "stream",
          "text": [
            "\n",
            "Letter i, 14 pages\n"
          ]
        },
        {
          "name": "stderr",
          "output_type": "stream",
          "text": [
            " 38%|███▊      | 10/26 [09:53<12:07, 45.48s/it, Letter: k, Page: 1]"
          ]
        },
        {
          "name": "stdout",
          "output_type": "stream",
          "text": [
            "\n",
            "Letter j, 4 pages\n"
          ]
        },
        {
          "name": "stderr",
          "output_type": "stream",
          "text": [
            " 42%|████▏     | 11/26 [10:01<08:28, 33.88s/it, Letter: l, Page: 1]"
          ]
        },
        {
          "name": "stdout",
          "output_type": "stream",
          "text": [
            "\n",
            "Letter k, 5 pages\n"
          ]
        },
        {
          "name": "stderr",
          "output_type": "stream",
          "text": [
            " 46%|████▌     | 12/26 [10:30<07:34, 32.46s/it, Letter: m, Page: 1] "
          ]
        },
        {
          "name": "stdout",
          "output_type": "stream",
          "text": [
            "\n",
            "Letter l, 23 pages\n"
          ]
        },
        {
          "name": "stderr",
          "output_type": "stream",
          "text": [
            " 46%|████▌     | 12/26 [10:45<07:34, 32.46s/it, Letter: m, Page: 13]"
          ]
        },
        {
          "name": "stdout",
          "output_type": "stream",
          "text": [
            "BLOCKED\n"
          ]
        },
        {
          "name": "stderr",
          "output_type": "stream",
          "text": [
            "\r 46%|████▌     | 12/26 [10:48<07:34, 32.46s/it, Letter: m, Page: 13]"
          ]
        },
        {
          "name": "stdout",
          "output_type": "stream",
          "text": [
            "BLOCKED\n"
          ]
        },
        {
          "name": "stderr",
          "output_type": "stream",
          "text": [
            "\r 46%|████▌     | 12/26 [10:51<07:34, 32.46s/it, Letter: m, Page: 13]"
          ]
        },
        {
          "name": "stdout",
          "output_type": "stream",
          "text": [
            "BLOCKED\n"
          ]
        },
        {
          "name": "stderr",
          "output_type": "stream",
          "text": [
            "\r 46%|████▌     | 12/26 [10:53<07:34, 32.46s/it, Letter: m, Page: 13]"
          ]
        },
        {
          "name": "stdout",
          "output_type": "stream",
          "text": [
            "BLOCKED\n"
          ]
        },
        {
          "name": "stderr",
          "output_type": "stream",
          "text": [
            "\r 46%|████▌     | 12/26 [10:56<07:34, 32.46s/it, Letter: m, Page: 13]"
          ]
        },
        {
          "name": "stdout",
          "output_type": "stream",
          "text": [
            "BLOCKED\n"
          ]
        },
        {
          "name": "stderr",
          "output_type": "stream",
          "text": [
            "\r 46%|████▌     | 12/26 [10:59<07:34, 32.46s/it, Letter: m, Page: 13]"
          ]
        },
        {
          "name": "stdout",
          "output_type": "stream",
          "text": [
            "BLOCKED\n"
          ]
        },
        {
          "name": "stderr",
          "output_type": "stream",
          "text": [
            "\r 46%|████▌     | 12/26 [11:02<07:34, 32.46s/it, Letter: m, Page: 13]"
          ]
        },
        {
          "name": "stdout",
          "output_type": "stream",
          "text": [
            "BLOCKED\n"
          ]
        },
        {
          "name": "stderr",
          "output_type": "stream",
          "text": [
            "\r 46%|████▌     | 12/26 [11:04<07:34, 32.46s/it, Letter: m, Page: 13]"
          ]
        },
        {
          "name": "stdout",
          "output_type": "stream",
          "text": [
            "BLOCKED\n"
          ]
        },
        {
          "name": "stderr",
          "output_type": "stream",
          "text": [
            "\r 46%|████▌     | 12/26 [11:07<07:34, 32.46s/it, Letter: m, Page: 13]"
          ]
        },
        {
          "name": "stdout",
          "output_type": "stream",
          "text": [
            "BLOCKED\n"
          ]
        },
        {
          "name": "stderr",
          "output_type": "stream",
          "text": [
            "\r 46%|████▌     | 12/26 [11:10<07:34, 32.46s/it, Letter: m, Page: 13]"
          ]
        },
        {
          "name": "stdout",
          "output_type": "stream",
          "text": [
            "BLOCKED\n"
          ]
        },
        {
          "name": "stderr",
          "output_type": "stream",
          "text": [
            "\r 46%|████▌     | 12/26 [11:13<07:34, 32.46s/it, Letter: m, Page: 13]"
          ]
        },
        {
          "name": "stdout",
          "output_type": "stream",
          "text": [
            "BLOCKED\n"
          ]
        },
        {
          "name": "stderr",
          "output_type": "stream",
          "text": [
            "\r 46%|████▌     | 12/26 [11:15<07:34, 32.46s/it, Letter: m, Page: 13]"
          ]
        },
        {
          "name": "stdout",
          "output_type": "stream",
          "text": [
            "BLOCKED\n"
          ]
        },
        {
          "name": "stderr",
          "output_type": "stream",
          "text": [
            "\r 46%|████▌     | 12/26 [11:18<07:34, 32.46s/it, Letter: m, Page: 13]"
          ]
        },
        {
          "name": "stdout",
          "output_type": "stream",
          "text": [
            "BLOCKED\n"
          ]
        },
        {
          "name": "stderr",
          "output_type": "stream",
          "text": [
            "\r 46%|████▌     | 12/26 [11:21<07:34, 32.46s/it, Letter: m, Page: 13]"
          ]
        },
        {
          "name": "stdout",
          "output_type": "stream",
          "text": [
            "BLOCKED\n"
          ]
        },
        {
          "name": "stderr",
          "output_type": "stream",
          "text": [
            "\r 46%|████▌     | 12/26 [11:24<07:34, 32.46s/it, Letter: m, Page: 13]"
          ]
        },
        {
          "name": "stdout",
          "output_type": "stream",
          "text": [
            "BLOCKED\n"
          ]
        },
        {
          "name": "stderr",
          "output_type": "stream",
          "text": [
            "\r 46%|████▌     | 12/26 [11:26<07:34, 32.46s/it, Letter: m, Page: 13]"
          ]
        },
        {
          "name": "stdout",
          "output_type": "stream",
          "text": [
            "BLOCKED\n"
          ]
        },
        {
          "name": "stderr",
          "output_type": "stream",
          "text": [
            "\r 46%|████▌     | 12/26 [11:29<07:34, 32.46s/it, Letter: m, Page: 13]"
          ]
        },
        {
          "name": "stdout",
          "output_type": "stream",
          "text": [
            "BLOCKED\n"
          ]
        },
        {
          "name": "stderr",
          "output_type": "stream",
          "text": [
            "\r 46%|████▌     | 12/26 [11:32<07:34, 32.46s/it, Letter: m, Page: 13]"
          ]
        },
        {
          "name": "stdout",
          "output_type": "stream",
          "text": [
            "BLOCKED\n"
          ]
        },
        {
          "name": "stderr",
          "output_type": "stream",
          "text": [
            "\r 46%|████▌     | 12/26 [11:35<07:34, 32.46s/it, Letter: m, Page: 13]"
          ]
        },
        {
          "name": "stdout",
          "output_type": "stream",
          "text": [
            "BLOCKED\n"
          ]
        },
        {
          "name": "stderr",
          "output_type": "stream",
          "text": [
            "\r 46%|████▌     | 12/26 [11:38<07:34, 32.46s/it, Letter: m, Page: 13]"
          ]
        },
        {
          "name": "stdout",
          "output_type": "stream",
          "text": [
            "BLOCKED\n"
          ]
        },
        {
          "name": "stderr",
          "output_type": "stream",
          "text": [
            "\r 46%|████▌     | 12/26 [11:40<07:34, 32.46s/it, Letter: m, Page: 13]"
          ]
        },
        {
          "name": "stdout",
          "output_type": "stream",
          "text": [
            "BLOCKED\n"
          ]
        },
        {
          "name": "stderr",
          "output_type": "stream",
          "text": [
            "\r 46%|████▌     | 12/26 [11:43<07:34, 32.46s/it, Letter: m, Page: 13]"
          ]
        },
        {
          "name": "stdout",
          "output_type": "stream",
          "text": [
            "BLOCKED\n"
          ]
        },
        {
          "name": "stderr",
          "output_type": "stream",
          "text": [
            " 50%|█████     | 13/26 [12:05<11:05, 51.23s/it, Letter: n, Page: 1] "
          ]
        },
        {
          "name": "stdout",
          "output_type": "stream",
          "text": [
            "\n",
            "Letter m, 26 pages\n"
          ]
        },
        {
          "name": "stderr",
          "output_type": "stream",
          "text": [
            " 54%|█████▍    | 14/26 [12:21<08:07, 40.64s/it, Letter: o, Page: 1] "
          ]
        },
        {
          "name": "stdout",
          "output_type": "stream",
          "text": [
            "\n",
            "Letter n, 13 pages\n"
          ]
        },
        {
          "name": "stderr",
          "output_type": "stream",
          "text": [
            " 58%|█████▊    | 15/26 [12:37<06:05, 33.24s/it, Letter: p, Page: 1] "
          ]
        },
        {
          "name": "stdout",
          "output_type": "stream",
          "text": [
            "\n",
            "Letter o, 12 pages\n"
          ]
        },
        {
          "name": "stderr",
          "output_type": "stream",
          "text": [
            " 58%|█████▊    | 15/26 [12:44<06:05, 33.24s/it, Letter: p, Page: 7]"
          ]
        },
        {
          "name": "stdout",
          "output_type": "stream",
          "text": [
            "BLOCKED\n"
          ]
        },
        {
          "name": "stderr",
          "output_type": "stream",
          "text": [
            "\r 58%|█████▊    | 15/26 [12:47<06:05, 33.24s/it, Letter: p, Page: 7]"
          ]
        },
        {
          "name": "stdout",
          "output_type": "stream",
          "text": [
            "BLOCKED\n"
          ]
        },
        {
          "name": "stderr",
          "output_type": "stream",
          "text": [
            "\r 58%|█████▊    | 15/26 [12:50<06:05, 33.24s/it, Letter: p, Page: 7]"
          ]
        },
        {
          "name": "stdout",
          "output_type": "stream",
          "text": [
            "BLOCKED\n"
          ]
        },
        {
          "name": "stderr",
          "output_type": "stream",
          "text": [
            "\r 58%|█████▊    | 15/26 [12:52<06:05, 33.24s/it, Letter: p, Page: 7]"
          ]
        },
        {
          "name": "stdout",
          "output_type": "stream",
          "text": [
            "BLOCKED\n"
          ]
        },
        {
          "name": "stderr",
          "output_type": "stream",
          "text": [
            "\r 58%|█████▊    | 15/26 [12:55<06:05, 33.24s/it, Letter: p, Page: 7]"
          ]
        },
        {
          "name": "stdout",
          "output_type": "stream",
          "text": [
            "BLOCKED\n"
          ]
        },
        {
          "name": "stderr",
          "output_type": "stream",
          "text": [
            "\r 58%|█████▊    | 15/26 [12:58<06:05, 33.24s/it, Letter: p, Page: 7]"
          ]
        },
        {
          "name": "stdout",
          "output_type": "stream",
          "text": [
            "BLOCKED\n"
          ]
        },
        {
          "name": "stderr",
          "output_type": "stream",
          "text": [
            "\r 58%|█████▊    | 15/26 [13:01<06:05, 33.24s/it, Letter: p, Page: 7]"
          ]
        },
        {
          "name": "stdout",
          "output_type": "stream",
          "text": [
            "BLOCKED\n"
          ]
        },
        {
          "name": "stderr",
          "output_type": "stream",
          "text": [
            "\r 58%|█████▊    | 15/26 [13:04<06:05, 33.24s/it, Letter: p, Page: 7]"
          ]
        },
        {
          "name": "stdout",
          "output_type": "stream",
          "text": [
            "BLOCKED\n"
          ]
        },
        {
          "name": "stderr",
          "output_type": "stream",
          "text": [
            "\r 58%|█████▊    | 15/26 [13:06<06:05, 33.24s/it, Letter: p, Page: 7]"
          ]
        },
        {
          "name": "stdout",
          "output_type": "stream",
          "text": [
            "BLOCKED\n"
          ]
        },
        {
          "name": "stderr",
          "output_type": "stream",
          "text": [
            "\r 58%|█████▊    | 15/26 [13:09<06:05, 33.24s/it, Letter: p, Page: 7]"
          ]
        },
        {
          "name": "stdout",
          "output_type": "stream",
          "text": [
            "BLOCKED\n"
          ]
        },
        {
          "name": "stderr",
          "output_type": "stream",
          "text": [
            "\r 58%|█████▊    | 15/26 [13:12<06:05, 33.24s/it, Letter: p, Page: 7]"
          ]
        },
        {
          "name": "stdout",
          "output_type": "stream",
          "text": [
            "BLOCKED\n"
          ]
        },
        {
          "name": "stderr",
          "output_type": "stream",
          "text": [
            "\r 58%|█████▊    | 15/26 [13:15<06:05, 33.24s/it, Letter: p, Page: 7]"
          ]
        },
        {
          "name": "stdout",
          "output_type": "stream",
          "text": [
            "BLOCKED\n"
          ]
        },
        {
          "name": "stderr",
          "output_type": "stream",
          "text": [
            "\r 58%|█████▊    | 15/26 [13:17<06:05, 33.24s/it, Letter: p, Page: 7]"
          ]
        },
        {
          "name": "stdout",
          "output_type": "stream",
          "text": [
            "BLOCKED\n"
          ]
        },
        {
          "name": "stderr",
          "output_type": "stream",
          "text": [
            "\r 58%|█████▊    | 15/26 [13:20<06:05, 33.24s/it, Letter: p, Page: 7]"
          ]
        },
        {
          "name": "stdout",
          "output_type": "stream",
          "text": [
            "BLOCKED\n"
          ]
        },
        {
          "name": "stderr",
          "output_type": "stream",
          "text": [
            "\r 58%|█████▊    | 15/26 [13:23<06:05, 33.24s/it, Letter: p, Page: 7]"
          ]
        },
        {
          "name": "stdout",
          "output_type": "stream",
          "text": [
            "BLOCKED\n"
          ]
        },
        {
          "name": "stderr",
          "output_type": "stream",
          "text": [
            "\r 58%|█████▊    | 15/26 [13:26<06:05, 33.24s/it, Letter: p, Page: 7]"
          ]
        },
        {
          "name": "stdout",
          "output_type": "stream",
          "text": [
            "BLOCKED\n"
          ]
        },
        {
          "name": "stderr",
          "output_type": "stream",
          "text": [
            "\r 58%|█████▊    | 15/26 [13:29<06:05, 33.24s/it, Letter: p, Page: 7]"
          ]
        },
        {
          "name": "stdout",
          "output_type": "stream",
          "text": [
            "BLOCKED\n"
          ]
        },
        {
          "name": "stderr",
          "output_type": "stream",
          "text": [
            "\r 58%|█████▊    | 15/26 [13:31<06:05, 33.24s/it, Letter: p, Page: 7]"
          ]
        },
        {
          "name": "stdout",
          "output_type": "stream",
          "text": [
            "BLOCKED\n"
          ]
        },
        {
          "name": "stderr",
          "output_type": "stream",
          "text": [
            "\r 58%|█████▊    | 15/26 [13:34<06:05, 33.24s/it, Letter: p, Page: 7]"
          ]
        },
        {
          "name": "stdout",
          "output_type": "stream",
          "text": [
            "BLOCKED\n"
          ]
        },
        {
          "name": "stderr",
          "output_type": "stream",
          "text": [
            "\r 58%|█████▊    | 15/26 [13:37<06:05, 33.24s/it, Letter: p, Page: 7]"
          ]
        },
        {
          "name": "stdout",
          "output_type": "stream",
          "text": [
            "BLOCKED\n"
          ]
        },
        {
          "name": "stderr",
          "output_type": "stream",
          "text": [
            "\r 58%|█████▊    | 15/26 [13:40<06:05, 33.24s/it, Letter: p, Page: 7]"
          ]
        },
        {
          "name": "stdout",
          "output_type": "stream",
          "text": [
            "BLOCKED\n"
          ]
        },
        {
          "name": "stderr",
          "output_type": "stream",
          "text": [
            "\r 58%|█████▊    | 15/26 [13:42<06:05, 33.24s/it, Letter: p, Page: 7]"
          ]
        },
        {
          "name": "stdout",
          "output_type": "stream",
          "text": [
            "BLOCKED\n"
          ]
        },
        {
          "name": "stderr",
          "output_type": "stream",
          "text": [
            " 62%|██████▏   | 16/26 [14:27<09:22, 56.30s/it, Letter: q, Page: 1] "
          ]
        },
        {
          "name": "stdout",
          "output_type": "stream",
          "text": [
            "\n",
            "Letter p, 40 pages\n"
          ]
        },
        {
          "name": "stderr",
          "output_type": "stream",
          "text": [
            " 65%|██████▌   | 17/26 [14:30<06:04, 40.47s/it, Letter: r, Page: 1]"
          ]
        },
        {
          "name": "stdout",
          "output_type": "stream",
          "text": [
            "\n",
            "Letter q, 2 pages\n"
          ]
        },
        {
          "name": "stderr",
          "output_type": "stream",
          "text": [
            " 65%|██████▌   | 17/26 [14:43<06:04, 40.47s/it, Letter: r, Page: 12]"
          ]
        },
        {
          "name": "stdout",
          "output_type": "stream",
          "text": [
            "BLOCKED\n"
          ]
        },
        {
          "name": "stderr",
          "output_type": "stream",
          "text": [
            "\r 65%|██████▌   | 17/26 [14:46<06:04, 40.47s/it, Letter: r, Page: 12]"
          ]
        },
        {
          "name": "stdout",
          "output_type": "stream",
          "text": [
            "BLOCKED\n"
          ]
        },
        {
          "name": "stderr",
          "output_type": "stream",
          "text": [
            "\r 65%|██████▌   | 17/26 [14:49<06:04, 40.47s/it, Letter: r, Page: 12]"
          ]
        },
        {
          "name": "stdout",
          "output_type": "stream",
          "text": [
            "BLOCKED\n"
          ]
        },
        {
          "name": "stderr",
          "output_type": "stream",
          "text": [
            "\r 65%|██████▌   | 17/26 [14:52<06:04, 40.47s/it, Letter: r, Page: 12]"
          ]
        },
        {
          "name": "stdout",
          "output_type": "stream",
          "text": [
            "BLOCKED\n"
          ]
        },
        {
          "name": "stderr",
          "output_type": "stream",
          "text": [
            "\r 65%|██████▌   | 17/26 [14:54<06:04, 40.47s/it, Letter: r, Page: 12]"
          ]
        },
        {
          "name": "stdout",
          "output_type": "stream",
          "text": [
            "BLOCKED\n"
          ]
        },
        {
          "name": "stderr",
          "output_type": "stream",
          "text": [
            "\r 65%|██████▌   | 17/26 [14:57<06:04, 40.47s/it, Letter: r, Page: 12]"
          ]
        },
        {
          "name": "stdout",
          "output_type": "stream",
          "text": [
            "BLOCKED\n"
          ]
        },
        {
          "name": "stderr",
          "output_type": "stream",
          "text": [
            "\r 65%|██████▌   | 17/26 [15:00<06:04, 40.47s/it, Letter: r, Page: 12]"
          ]
        },
        {
          "name": "stdout",
          "output_type": "stream",
          "text": [
            "BLOCKED\n"
          ]
        },
        {
          "name": "stderr",
          "output_type": "stream",
          "text": [
            "\r 65%|██████▌   | 17/26 [15:03<06:04, 40.47s/it, Letter: r, Page: 12]"
          ]
        },
        {
          "name": "stdout",
          "output_type": "stream",
          "text": [
            "BLOCKED\n"
          ]
        },
        {
          "name": "stderr",
          "output_type": "stream",
          "text": [
            "\r 65%|██████▌   | 17/26 [15:05<06:04, 40.47s/it, Letter: r, Page: 12]"
          ]
        },
        {
          "name": "stdout",
          "output_type": "stream",
          "text": [
            "BLOCKED\n"
          ]
        },
        {
          "name": "stderr",
          "output_type": "stream",
          "text": [
            "\r 65%|██████▌   | 17/26 [15:08<06:04, 40.47s/it, Letter: r, Page: 12]"
          ]
        },
        {
          "name": "stdout",
          "output_type": "stream",
          "text": [
            "BLOCKED\n"
          ]
        },
        {
          "name": "stderr",
          "output_type": "stream",
          "text": [
            "\r 65%|██████▌   | 17/26 [15:11<06:04, 40.47s/it, Letter: r, Page: 12]"
          ]
        },
        {
          "name": "stdout",
          "output_type": "stream",
          "text": [
            "BLOCKED\n"
          ]
        },
        {
          "name": "stderr",
          "output_type": "stream",
          "text": [
            "\r 65%|██████▌   | 17/26 [15:14<06:04, 40.47s/it, Letter: r, Page: 12]"
          ]
        },
        {
          "name": "stdout",
          "output_type": "stream",
          "text": [
            "BLOCKED\n"
          ]
        },
        {
          "name": "stderr",
          "output_type": "stream",
          "text": [
            "\r 65%|██████▌   | 17/26 [15:16<06:04, 40.47s/it, Letter: r, Page: 12]"
          ]
        },
        {
          "name": "stdout",
          "output_type": "stream",
          "text": [
            "BLOCKED\n"
          ]
        },
        {
          "name": "stderr",
          "output_type": "stream",
          "text": [
            "\r 65%|██████▌   | 17/26 [15:19<06:04, 40.47s/it, Letter: r, Page: 12]"
          ]
        },
        {
          "name": "stdout",
          "output_type": "stream",
          "text": [
            "BLOCKED\n"
          ]
        },
        {
          "name": "stderr",
          "output_type": "stream",
          "text": [
            "\r 65%|██████▌   | 17/26 [15:22<06:04, 40.47s/it, Letter: r, Page: 12]"
          ]
        },
        {
          "name": "stdout",
          "output_type": "stream",
          "text": [
            "BLOCKED\n"
          ]
        },
        {
          "name": "stderr",
          "output_type": "stream",
          "text": [
            "\r 65%|██████▌   | 17/26 [15:25<06:04, 40.47s/it, Letter: r, Page: 12]"
          ]
        },
        {
          "name": "stdout",
          "output_type": "stream",
          "text": [
            "BLOCKED\n"
          ]
        },
        {
          "name": "stderr",
          "output_type": "stream",
          "text": [
            "\r 65%|██████▌   | 17/26 [15:28<06:04, 40.47s/it, Letter: r, Page: 12]"
          ]
        },
        {
          "name": "stdout",
          "output_type": "stream",
          "text": [
            "BLOCKED\n"
          ]
        },
        {
          "name": "stderr",
          "output_type": "stream",
          "text": [
            "\r 65%|██████▌   | 17/26 [15:30<06:04, 40.47s/it, Letter: r, Page: 12]"
          ]
        },
        {
          "name": "stdout",
          "output_type": "stream",
          "text": [
            "BLOCKED\n"
          ]
        },
        {
          "name": "stderr",
          "output_type": "stream",
          "text": [
            "\r 65%|██████▌   | 17/26 [15:33<06:04, 40.47s/it, Letter: r, Page: 12]"
          ]
        },
        {
          "name": "stdout",
          "output_type": "stream",
          "text": [
            "BLOCKED\n"
          ]
        },
        {
          "name": "stderr",
          "output_type": "stream",
          "text": [
            "\r 65%|██████▌   | 17/26 [15:36<06:04, 40.47s/it, Letter: r, Page: 12]"
          ]
        },
        {
          "name": "stdout",
          "output_type": "stream",
          "text": [
            "BLOCKED\n"
          ]
        },
        {
          "name": "stderr",
          "output_type": "stream",
          "text": [
            "\r 65%|██████▌   | 17/26 [15:39<06:04, 40.47s/it, Letter: r, Page: 12]"
          ]
        },
        {
          "name": "stdout",
          "output_type": "stream",
          "text": [
            "BLOCKED\n"
          ]
        },
        {
          "name": "stderr",
          "output_type": "stream",
          "text": [
            "\r 65%|██████▌   | 17/26 [15:41<06:04, 40.47s/it, Letter: r, Page: 12]"
          ]
        },
        {
          "name": "stdout",
          "output_type": "stream",
          "text": [
            "BLOCKED\n"
          ]
        },
        {
          "name": "stderr",
          "output_type": "stream",
          "text": [
            " 69%|██████▉   | 18/26 [16:00<07:22, 55.35s/it, Letter: s, Page: 1] "
          ]
        },
        {
          "name": "stdout",
          "output_type": "stream",
          "text": [
            "\n",
            "Letter r, 23 pages\n"
          ]
        },
        {
          "name": "stderr",
          "output_type": "stream",
          "text": [
            " 69%|██████▉   | 18/26 [16:44<07:22, 55.35s/it, Letter: s, Page: 37]"
          ]
        },
        {
          "name": "stdout",
          "output_type": "stream",
          "text": [
            "BLOCKED\n"
          ]
        },
        {
          "name": "stderr",
          "output_type": "stream",
          "text": [
            "\r 69%|██████▉   | 18/26 [16:47<07:22, 55.35s/it, Letter: s, Page: 37]"
          ]
        },
        {
          "name": "stdout",
          "output_type": "stream",
          "text": [
            "BLOCKED\n"
          ]
        },
        {
          "name": "stderr",
          "output_type": "stream",
          "text": [
            "\r 69%|██████▉   | 18/26 [16:50<07:22, 55.35s/it, Letter: s, Page: 37]"
          ]
        },
        {
          "name": "stdout",
          "output_type": "stream",
          "text": [
            "BLOCKED\n"
          ]
        },
        {
          "name": "stderr",
          "output_type": "stream",
          "text": [
            "\r 69%|██████▉   | 18/26 [16:52<07:22, 55.35s/it, Letter: s, Page: 37]"
          ]
        },
        {
          "name": "stdout",
          "output_type": "stream",
          "text": [
            "BLOCKED\n"
          ]
        },
        {
          "name": "stderr",
          "output_type": "stream",
          "text": [
            "\r 69%|██████▉   | 18/26 [16:55<07:22, 55.35s/it, Letter: s, Page: 37]"
          ]
        },
        {
          "name": "stdout",
          "output_type": "stream",
          "text": [
            "BLOCKED\n"
          ]
        },
        {
          "name": "stderr",
          "output_type": "stream",
          "text": [
            "\r 69%|██████▉   | 18/26 [16:58<07:22, 55.35s/it, Letter: s, Page: 37]"
          ]
        },
        {
          "name": "stdout",
          "output_type": "stream",
          "text": [
            "BLOCKED\n"
          ]
        },
        {
          "name": "stderr",
          "output_type": "stream",
          "text": [
            "\r 69%|██████▉   | 18/26 [17:01<07:22, 55.35s/it, Letter: s, Page: 37]"
          ]
        },
        {
          "name": "stdout",
          "output_type": "stream",
          "text": [
            "BLOCKED\n"
          ]
        },
        {
          "name": "stderr",
          "output_type": "stream",
          "text": [
            "\r 69%|██████▉   | 18/26 [17:03<07:22, 55.35s/it, Letter: s, Page: 37]"
          ]
        },
        {
          "name": "stdout",
          "output_type": "stream",
          "text": [
            "BLOCKED\n"
          ]
        },
        {
          "name": "stderr",
          "output_type": "stream",
          "text": [
            "\r 69%|██████▉   | 18/26 [17:06<07:22, 55.35s/it, Letter: s, Page: 37]"
          ]
        },
        {
          "name": "stdout",
          "output_type": "stream",
          "text": [
            "BLOCKED\n"
          ]
        },
        {
          "name": "stderr",
          "output_type": "stream",
          "text": [
            "\r 69%|██████▉   | 18/26 [17:09<07:22, 55.35s/it, Letter: s, Page: 37]"
          ]
        },
        {
          "name": "stdout",
          "output_type": "stream",
          "text": [
            "BLOCKED\n"
          ]
        },
        {
          "name": "stderr",
          "output_type": "stream",
          "text": [
            "\r 69%|██████▉   | 18/26 [17:12<07:22, 55.35s/it, Letter: s, Page: 37]"
          ]
        },
        {
          "name": "stdout",
          "output_type": "stream",
          "text": [
            "BLOCKED\n"
          ]
        },
        {
          "name": "stderr",
          "output_type": "stream",
          "text": [
            "\r 69%|██████▉   | 18/26 [17:14<07:22, 55.35s/it, Letter: s, Page: 37]"
          ]
        },
        {
          "name": "stdout",
          "output_type": "stream",
          "text": [
            "BLOCKED\n"
          ]
        },
        {
          "name": "stderr",
          "output_type": "stream",
          "text": [
            "\r 69%|██████▉   | 18/26 [17:17<07:22, 55.35s/it, Letter: s, Page: 37]"
          ]
        },
        {
          "name": "stdout",
          "output_type": "stream",
          "text": [
            "BLOCKED\n"
          ]
        },
        {
          "name": "stderr",
          "output_type": "stream",
          "text": [
            "\r 69%|██████▉   | 18/26 [17:20<07:22, 55.35s/it, Letter: s, Page: 37]"
          ]
        },
        {
          "name": "stdout",
          "output_type": "stream",
          "text": [
            "BLOCKED\n"
          ]
        },
        {
          "name": "stderr",
          "output_type": "stream",
          "text": [
            "\r 69%|██████▉   | 18/26 [17:23<07:22, 55.35s/it, Letter: s, Page: 37]"
          ]
        },
        {
          "name": "stdout",
          "output_type": "stream",
          "text": [
            "BLOCKED\n"
          ]
        },
        {
          "name": "stderr",
          "output_type": "stream",
          "text": [
            "\r 69%|██████▉   | 18/26 [17:26<07:22, 55.35s/it, Letter: s, Page: 37]"
          ]
        },
        {
          "name": "stdout",
          "output_type": "stream",
          "text": [
            "BLOCKED\n"
          ]
        },
        {
          "name": "stderr",
          "output_type": "stream",
          "text": [
            "\r 69%|██████▉   | 18/26 [17:28<07:22, 55.35s/it, Letter: s, Page: 37]"
          ]
        },
        {
          "name": "stdout",
          "output_type": "stream",
          "text": [
            "BLOCKED\n"
          ]
        },
        {
          "name": "stderr",
          "output_type": "stream",
          "text": [
            "\r 69%|██████▉   | 18/26 [17:31<07:22, 55.35s/it, Letter: s, Page: 37]"
          ]
        },
        {
          "name": "stdout",
          "output_type": "stream",
          "text": [
            "BLOCKED\n"
          ]
        },
        {
          "name": "stderr",
          "output_type": "stream",
          "text": [
            "\r 69%|██████▉   | 18/26 [17:34<07:22, 55.35s/it, Letter: s, Page: 37]"
          ]
        },
        {
          "name": "stdout",
          "output_type": "stream",
          "text": [
            "BLOCKED\n"
          ]
        },
        {
          "name": "stderr",
          "output_type": "stream",
          "text": [
            "\r 69%|██████▉   | 18/26 [17:37<07:22, 55.35s/it, Letter: s, Page: 37]"
          ]
        },
        {
          "name": "stdout",
          "output_type": "stream",
          "text": [
            "BLOCKED\n"
          ]
        },
        {
          "name": "stderr",
          "output_type": "stream",
          "text": [
            "\r 69%|██████▉   | 18/26 [17:39<07:22, 55.35s/it, Letter: s, Page: 37]"
          ]
        },
        {
          "name": "stdout",
          "output_type": "stream",
          "text": [
            "BLOCKED\n"
          ]
        },
        {
          "name": "stderr",
          "output_type": "stream",
          "text": [
            "\r 69%|██████▉   | 18/26 [17:42<07:22, 55.35s/it, Letter: s, Page: 37]"
          ]
        },
        {
          "name": "stdout",
          "output_type": "stream",
          "text": [
            "BLOCKED\n"
          ]
        },
        {
          "name": "stderr",
          "output_type": "stream",
          "text": [
            " 73%|███████▎  | 19/26 [18:20<09:23, 80.55s/it, Letter: t, Page: 1] "
          ]
        },
        {
          "name": "stdout",
          "output_type": "stream",
          "text": [
            "\n",
            "Letter s, 63 pages\n"
          ]
        },
        {
          "name": "stderr",
          "output_type": "stream",
          "text": [
            " 73%|███████▎  | 19/26 [18:46<09:23, 80.55s/it, Letter: t, Page: 22]"
          ]
        },
        {
          "name": "stdout",
          "output_type": "stream",
          "text": [
            "BLOCKED\n"
          ]
        },
        {
          "name": "stderr",
          "output_type": "stream",
          "text": [
            "\r 73%|███████▎  | 19/26 [18:48<09:23, 80.55s/it, Letter: t, Page: 22]"
          ]
        },
        {
          "name": "stdout",
          "output_type": "stream",
          "text": [
            "BLOCKED\n"
          ]
        },
        {
          "name": "stderr",
          "output_type": "stream",
          "text": [
            "\r 73%|███████▎  | 19/26 [18:51<09:23, 80.55s/it, Letter: t, Page: 22]"
          ]
        },
        {
          "name": "stdout",
          "output_type": "stream",
          "text": [
            "BLOCKED\n"
          ]
        },
        {
          "name": "stderr",
          "output_type": "stream",
          "text": [
            "\r 73%|███████▎  | 19/26 [18:54<09:23, 80.55s/it, Letter: t, Page: 22]"
          ]
        },
        {
          "name": "stdout",
          "output_type": "stream",
          "text": [
            "BLOCKED\n"
          ]
        },
        {
          "name": "stderr",
          "output_type": "stream",
          "text": [
            "\r 73%|███████▎  | 19/26 [18:57<09:23, 80.55s/it, Letter: t, Page: 22]"
          ]
        },
        {
          "name": "stdout",
          "output_type": "stream",
          "text": [
            "BLOCKED\n"
          ]
        },
        {
          "name": "stderr",
          "output_type": "stream",
          "text": [
            "\r 73%|███████▎  | 19/26 [18:59<09:23, 80.55s/it, Letter: t, Page: 22]"
          ]
        },
        {
          "name": "stdout",
          "output_type": "stream",
          "text": [
            "BLOCKED\n"
          ]
        },
        {
          "name": "stderr",
          "output_type": "stream",
          "text": [
            "\r 73%|███████▎  | 19/26 [19:02<09:23, 80.55s/it, Letter: t, Page: 22]"
          ]
        },
        {
          "name": "stdout",
          "output_type": "stream",
          "text": [
            "BLOCKED\n"
          ]
        },
        {
          "name": "stderr",
          "output_type": "stream",
          "text": [
            "\r 73%|███████▎  | 19/26 [19:05<09:23, 80.55s/it, Letter: t, Page: 22]"
          ]
        },
        {
          "name": "stdout",
          "output_type": "stream",
          "text": [
            "BLOCKED\n"
          ]
        },
        {
          "name": "stderr",
          "output_type": "stream",
          "text": [
            "\r 73%|███████▎  | 19/26 [19:08<09:23, 80.55s/it, Letter: t, Page: 22]"
          ]
        },
        {
          "name": "stdout",
          "output_type": "stream",
          "text": [
            "BLOCKED\n"
          ]
        },
        {
          "name": "stderr",
          "output_type": "stream",
          "text": [
            "\r 73%|███████▎  | 19/26 [19:10<09:23, 80.55s/it, Letter: t, Page: 22]"
          ]
        },
        {
          "name": "stdout",
          "output_type": "stream",
          "text": [
            "BLOCKED\n"
          ]
        },
        {
          "name": "stderr",
          "output_type": "stream",
          "text": [
            "\r 73%|███████▎  | 19/26 [19:13<09:23, 80.55s/it, Letter: t, Page: 22]"
          ]
        },
        {
          "name": "stdout",
          "output_type": "stream",
          "text": [
            "BLOCKED\n"
          ]
        },
        {
          "name": "stderr",
          "output_type": "stream",
          "text": [
            "\r 73%|███████▎  | 19/26 [19:16<09:23, 80.55s/it, Letter: t, Page: 22]"
          ]
        },
        {
          "name": "stdout",
          "output_type": "stream",
          "text": [
            "BLOCKED\n"
          ]
        },
        {
          "name": "stderr",
          "output_type": "stream",
          "text": [
            "\r 73%|███████▎  | 19/26 [19:19<09:23, 80.55s/it, Letter: t, Page: 22]"
          ]
        },
        {
          "name": "stdout",
          "output_type": "stream",
          "text": [
            "BLOCKED\n"
          ]
        },
        {
          "name": "stderr",
          "output_type": "stream",
          "text": [
            "\r 73%|███████▎  | 19/26 [19:21<09:23, 80.55s/it, Letter: t, Page: 22]"
          ]
        },
        {
          "name": "stdout",
          "output_type": "stream",
          "text": [
            "BLOCKED\n"
          ]
        },
        {
          "name": "stderr",
          "output_type": "stream",
          "text": [
            "\r 73%|███████▎  | 19/26 [19:24<09:23, 80.55s/it, Letter: t, Page: 22]"
          ]
        },
        {
          "name": "stdout",
          "output_type": "stream",
          "text": [
            "BLOCKED\n"
          ]
        },
        {
          "name": "stderr",
          "output_type": "stream",
          "text": [
            "\r 73%|███████▎  | 19/26 [19:27<09:23, 80.55s/it, Letter: t, Page: 22]"
          ]
        },
        {
          "name": "stdout",
          "output_type": "stream",
          "text": [
            "BLOCKED\n"
          ]
        },
        {
          "name": "stderr",
          "output_type": "stream",
          "text": [
            "\r 73%|███████▎  | 19/26 [19:30<09:23, 80.55s/it, Letter: t, Page: 22]"
          ]
        },
        {
          "name": "stdout",
          "output_type": "stream",
          "text": [
            "BLOCKED\n"
          ]
        },
        {
          "name": "stderr",
          "output_type": "stream",
          "text": [
            "\r 73%|███████▎  | 19/26 [19:32<09:23, 80.55s/it, Letter: t, Page: 22]"
          ]
        },
        {
          "name": "stdout",
          "output_type": "stream",
          "text": [
            "BLOCKED\n"
          ]
        },
        {
          "name": "stderr",
          "output_type": "stream",
          "text": [
            "\r 73%|███████▎  | 19/26 [19:35<09:23, 80.55s/it, Letter: t, Page: 22]"
          ]
        },
        {
          "name": "stdout",
          "output_type": "stream",
          "text": [
            "BLOCKED\n"
          ]
        },
        {
          "name": "stderr",
          "output_type": "stream",
          "text": [
            "\r 73%|███████▎  | 19/26 [19:38<09:23, 80.55s/it, Letter: t, Page: 22]"
          ]
        },
        {
          "name": "stdout",
          "output_type": "stream",
          "text": [
            "BLOCKED\n"
          ]
        },
        {
          "name": "stderr",
          "output_type": "stream",
          "text": [
            "\r 73%|███████▎  | 19/26 [19:41<09:23, 80.55s/it, Letter: t, Page: 22]"
          ]
        },
        {
          "name": "stdout",
          "output_type": "stream",
          "text": [
            "BLOCKED\n"
          ]
        },
        {
          "name": "stderr",
          "output_type": "stream",
          "text": [
            "\r 73%|███████▎  | 19/26 [19:44<09:23, 80.55s/it, Letter: t, Page: 22]"
          ]
        },
        {
          "name": "stdout",
          "output_type": "stream",
          "text": [
            "BLOCKED\n"
          ]
        },
        {
          "name": "stderr",
          "output_type": "stream",
          "text": [
            " 77%|███████▋  | 20/26 [20:04<08:46, 87.78s/it, Letter: u, Page: 1] "
          ]
        },
        {
          "name": "stdout",
          "output_type": "stream",
          "text": [
            "\n",
            "Letter t, 34 pages\n"
          ]
        },
        {
          "name": "stderr",
          "output_type": "stream",
          "text": [
            " 81%|████████  | 21/26 [20:14<05:21, 64.30s/it, Letter: v, Page: 1]"
          ]
        },
        {
          "name": "stdout",
          "output_type": "stream",
          "text": [
            "\n",
            "Letter u, 7 pages\n"
          ]
        },
        {
          "name": "stderr",
          "output_type": "stream",
          "text": [
            " 85%|████████▍ | 22/26 [20:24<03:11, 47.96s/it, Letter: w, Page: 1]"
          ]
        },
        {
          "name": "stdout",
          "output_type": "stream",
          "text": [
            "\n",
            "Letter v, 7 pages\n"
          ]
        },
        {
          "name": "stderr",
          "output_type": "stream",
          "text": [
            " 85%|████████▍ | 22/26 [20:45<03:11, 47.96s/it, Letter: w, Page: 18]"
          ]
        },
        {
          "name": "stdout",
          "output_type": "stream",
          "text": [
            "BLOCKED\n"
          ]
        },
        {
          "name": "stderr",
          "output_type": "stream",
          "text": [
            "\r 85%|████████▍ | 22/26 [20:48<03:11, 47.96s/it, Letter: w, Page: 18]"
          ]
        },
        {
          "name": "stdout",
          "output_type": "stream",
          "text": [
            "BLOCKED\n"
          ]
        },
        {
          "name": "stderr",
          "output_type": "stream",
          "text": [
            "\r 85%|████████▍ | 22/26 [20:51<03:11, 47.96s/it, Letter: w, Page: 18]"
          ]
        },
        {
          "name": "stdout",
          "output_type": "stream",
          "text": [
            "BLOCKED\n"
          ]
        },
        {
          "name": "stderr",
          "output_type": "stream",
          "text": [
            "\r 85%|████████▍ | 22/26 [20:54<03:11, 47.96s/it, Letter: w, Page: 18]"
          ]
        },
        {
          "name": "stdout",
          "output_type": "stream",
          "text": [
            "BLOCKED\n"
          ]
        },
        {
          "name": "stderr",
          "output_type": "stream",
          "text": [
            "\r 85%|████████▍ | 22/26 [20:56<03:11, 47.96s/it, Letter: w, Page: 18]"
          ]
        },
        {
          "name": "stdout",
          "output_type": "stream",
          "text": [
            "BLOCKED\n"
          ]
        },
        {
          "name": "stderr",
          "output_type": "stream",
          "text": [
            "\r 85%|████████▍ | 22/26 [20:59<03:11, 47.96s/it, Letter: w, Page: 18]"
          ]
        },
        {
          "name": "stdout",
          "output_type": "stream",
          "text": [
            "BLOCKED\n"
          ]
        },
        {
          "name": "stderr",
          "output_type": "stream",
          "text": [
            "\r 85%|████████▍ | 22/26 [21:02<03:11, 47.96s/it, Letter: w, Page: 18]"
          ]
        },
        {
          "name": "stdout",
          "output_type": "stream",
          "text": [
            "BLOCKED\n"
          ]
        },
        {
          "name": "stderr",
          "output_type": "stream",
          "text": [
            "\r 85%|████████▍ | 22/26 [21:05<03:11, 47.96s/it, Letter: w, Page: 18]"
          ]
        },
        {
          "name": "stdout",
          "output_type": "stream",
          "text": [
            "BLOCKED\n"
          ]
        },
        {
          "name": "stderr",
          "output_type": "stream",
          "text": [
            "\r 85%|████████▍ | 22/26 [21:08<03:11, 47.96s/it, Letter: w, Page: 18]"
          ]
        },
        {
          "name": "stdout",
          "output_type": "stream",
          "text": [
            "BLOCKED\n"
          ]
        },
        {
          "name": "stderr",
          "output_type": "stream",
          "text": [
            "\r 85%|████████▍ | 22/26 [21:10<03:11, 47.96s/it, Letter: w, Page: 18]"
          ]
        },
        {
          "name": "stdout",
          "output_type": "stream",
          "text": [
            "BLOCKED\n"
          ]
        },
        {
          "name": "stderr",
          "output_type": "stream",
          "text": [
            "\r 85%|████████▍ | 22/26 [21:13<03:11, 47.96s/it, Letter: w, Page: 18]"
          ]
        },
        {
          "name": "stdout",
          "output_type": "stream",
          "text": [
            "BLOCKED\n"
          ]
        },
        {
          "name": "stderr",
          "output_type": "stream",
          "text": [
            "\r 85%|████████▍ | 22/26 [21:16<03:11, 47.96s/it, Letter: w, Page: 18]"
          ]
        },
        {
          "name": "stdout",
          "output_type": "stream",
          "text": [
            "BLOCKED\n"
          ]
        },
        {
          "name": "stderr",
          "output_type": "stream",
          "text": [
            "\r 85%|████████▍ | 22/26 [21:19<03:11, 47.96s/it, Letter: w, Page: 18]"
          ]
        },
        {
          "name": "stdout",
          "output_type": "stream",
          "text": [
            "BLOCKED\n"
          ]
        },
        {
          "name": "stderr",
          "output_type": "stream",
          "text": [
            "\r 85%|████████▍ | 22/26 [21:21<03:11, 47.96s/it, Letter: w, Page: 18]"
          ]
        },
        {
          "name": "stdout",
          "output_type": "stream",
          "text": [
            "BLOCKED\n"
          ]
        },
        {
          "name": "stderr",
          "output_type": "stream",
          "text": [
            "\r 85%|████████▍ | 22/26 [21:24<03:11, 47.96s/it, Letter: w, Page: 18]"
          ]
        },
        {
          "name": "stdout",
          "output_type": "stream",
          "text": [
            "BLOCKED\n"
          ]
        },
        {
          "name": "stderr",
          "output_type": "stream",
          "text": [
            "\r 85%|████████▍ | 22/26 [21:27<03:11, 47.96s/it, Letter: w, Page: 18]"
          ]
        },
        {
          "name": "stdout",
          "output_type": "stream",
          "text": [
            "BLOCKED\n"
          ]
        },
        {
          "name": "stderr",
          "output_type": "stream",
          "text": [
            "\r 85%|████████▍ | 22/26 [21:30<03:11, 47.96s/it, Letter: w, Page: 18]"
          ]
        },
        {
          "name": "stdout",
          "output_type": "stream",
          "text": [
            "BLOCKED\n"
          ]
        },
        {
          "name": "stderr",
          "output_type": "stream",
          "text": [
            "\r 85%|████████▍ | 22/26 [21:32<03:11, 47.96s/it, Letter: w, Page: 18]"
          ]
        },
        {
          "name": "stdout",
          "output_type": "stream",
          "text": [
            "BLOCKED\n"
          ]
        },
        {
          "name": "stderr",
          "output_type": "stream",
          "text": [
            "\r 85%|████████▍ | 22/26 [21:35<03:11, 47.96s/it, Letter: w, Page: 18]"
          ]
        },
        {
          "name": "stdout",
          "output_type": "stream",
          "text": [
            "BLOCKED\n"
          ]
        },
        {
          "name": "stderr",
          "output_type": "stream",
          "text": [
            "\r 85%|████████▍ | 22/26 [21:38<03:11, 47.96s/it, Letter: w, Page: 18]"
          ]
        },
        {
          "name": "stdout",
          "output_type": "stream",
          "text": [
            "BLOCKED\n"
          ]
        },
        {
          "name": "stderr",
          "output_type": "stream",
          "text": [
            "\r 85%|████████▍ | 22/26 [21:41<03:11, 47.96s/it, Letter: w, Page: 18]"
          ]
        },
        {
          "name": "stdout",
          "output_type": "stream",
          "text": [
            "BLOCKED\n"
          ]
        },
        {
          "name": "stderr",
          "output_type": "stream",
          "text": [
            "\r 85%|████████▍ | 22/26 [21:44<03:11, 47.96s/it, Letter: w, Page: 18]"
          ]
        },
        {
          "name": "stdout",
          "output_type": "stream",
          "text": [
            "BLOCKED\n"
          ]
        },
        {
          "name": "stderr",
          "output_type": "stream",
          "text": [
            " 88%|████████▊ | 23/26 [21:51<02:59, 59.83s/it, Letter: x, Page: 1] "
          ]
        },
        {
          "name": "stdout",
          "output_type": "stream",
          "text": [
            "\n",
            "Letter w, 20 pages\n"
          ]
        },
        {
          "name": "stderr",
          "output_type": "stream",
          "text": [
            " 92%|█████████▏| 24/26 [21:54<01:25, 42.57s/it, Letter: y, Page: 1]"
          ]
        },
        {
          "name": "stdout",
          "output_type": "stream",
          "text": [
            "\n",
            "Letter x, 1 pages\n"
          ]
        },
        {
          "name": "stderr",
          "output_type": "stream",
          "text": [
            " 96%|█████████▌| 25/26 [21:58<00:31, 31.21s/it, Letter: z, Page: 1]"
          ]
        },
        {
          "name": "stdout",
          "output_type": "stream",
          "text": [
            "\n",
            "Letter y, 3 pages\n"
          ]
        },
        {
          "name": "stderr",
          "output_type": "stream",
          "text": [
            "100%|██████████| 26/26 [22:00<00:00, 50.81s/it, Letter: z, Page: 2]"
          ]
        },
        {
          "name": "stdout",
          "output_type": "stream",
          "text": [
            "\n",
            "Letter z, 1 pages\n"
          ]
        },
        {
          "name": "stderr",
          "output_type": "stream",
          "text": [
            "\n"
          ]
        },
        {
          "ename": "TypeError",
          "evalue": "unhashable type: 'slice'",
          "output_type": "error",
          "traceback": [
            "\u001b[0;31m---------------------------------------------------------------------------\u001b[0m",
            "\u001b[0;31mTypeError\u001b[0m                                 Traceback (most recent call last)",
            "\u001b[0;32m/tmp/ipython-input-32-210030372.py\u001b[0m in \u001b[0;36m<cell line: 0>\u001b[0;34m()\u001b[0m\n\u001b[1;32m     26\u001b[0m     \u001b[0mjson\u001b[0m\u001b[0;34m.\u001b[0m\u001b[0mdump\u001b[0m\u001b[0;34m(\u001b[0m\u001b[0mdataset\u001b[0m\u001b[0;34m,\u001b[0m \u001b[0mjson_file\u001b[0m\u001b[0;34m,\u001b[0m \u001b[0mindent\u001b[0m\u001b[0;34m=\u001b[0m\u001b[0;36m4\u001b[0m\u001b[0;34m)\u001b[0m\u001b[0;34m\u001b[0m\u001b[0;34m\u001b[0m\u001b[0m\n\u001b[1;32m     27\u001b[0m \u001b[0;34m\u001b[0m\u001b[0m\n\u001b[0;32m---> 28\u001b[0;31m \u001b[0mdataset\u001b[0m\u001b[0;34m[\u001b[0m\u001b[0;34m\"en\"\u001b[0m\u001b[0;34m]\u001b[0m\u001b[0;34m[\u001b[0m\u001b[0;34m-\u001b[0m\u001b[0;36m5\u001b[0m\u001b[0;34m:\u001b[0m\u001b[0;34m]\u001b[0m\u001b[0;34m\u001b[0m\u001b[0;34m\u001b[0m\u001b[0m\n\u001b[0m",
            "\u001b[0;31mTypeError\u001b[0m: unhashable type: 'slice'"
          ]
        }
      ],
      "source": [
        "import string\n",
        "import time\n",
        "from tqdm import tqdm\n",
        "\n",
        "dataset[\"en\"] = dataset.get(\"en\", dict())\n",
        "loop = tqdm(string.ascii_lowercase[:])\n",
        "for letter in loop:\n",
        "  dataset[\"en\"][letter] = dataset[\"en\"].get(\"letters\", list())\n",
        "  i = 1\n",
        "  while True:\n",
        "    #\n",
        "    loop.set_postfix_str(f\"Letter: {letter}, Page: {i}\")\n",
        "    #\n",
        "    pairs = scrape_website_en(i, letter)\n",
        "    time.sleep(0.5) # Wait a second please to avoid being blocked\n",
        "    if isinstance(pairs, list):\n",
        "      if pairs == []:\n",
        "        break\n",
        "      dataset[\"en\"][\"letters\"].extend(pairs)\n",
        "      i += 1\n",
        "    else: #  if pair is -1\n",
        "      time.sleep(2)\n",
        "  print(f\"\\nLetter {letter}, {i-1} pages\")\n",
        "\n",
        "with open(\"drive/MyDrive/data_en2_bas.json\", \"w\") as json_file:\n",
        "    json.dump(dataset, json_file, indent=4)\n",
        "\n",
        "dataset[\"en\"]"
      ]
    },
    {
      "cell_type": "code",
      "execution_count": null,
      "metadata": {
        "colab": {
          "base_uri": "https://localhost:8080/"
        },
        "id": "P2Jgmd9w33V8",
        "outputId": "6667aa95-dc64-4e76-b836-1a1318b62e23"
      },
      "outputs": [
        {
          "data": {
            "text/plain": [
              "12481"
            ]
          },
          "execution_count": 35,
          "metadata": {},
          "output_type": "execute_result"
        }
      ],
      "source": [
        "dataset[\"en\"][\"letters\"].__len__()"
      ]
    },
    {
      "cell_type": "code",
      "execution_count": null,
      "metadata": {
        "colab": {
          "base_uri": "https://localhost:8080/"
        },
        "id": "6JeHKIBPW6g1",
        "outputId": "e51d6aec-aea2-40cc-fdad-3f3c456504eb"
      },
      "outputs": [
        {
          "data": {
            "text/plain": [
              "[('bad clearing', ['kwaŋ']),\n",
              " ('bad habit', ['sɔ̀l']),\n",
              " ('bad-looking', ['ɓɛ']),\n",
              " ('bad luck',\n",
              "  ['mbɔ̀m ɓɛ',\n",
              "   'lìɓeyâ',\n",
              "   'bàdlɔ̂k',\n",
              "   'nyǔɓɛ̄',\n",
              "   'njìbŋgàŋ',\n",
              "   'ŋ̀ɛ̀mb lìɓuy',\n",
              "   'sìmbà',\n",
              "   'ndòò',\n",
              "   'sagla',\n",
              "   'sìm',\n",
              "   'ǹsimam̀ɓɛ',\n",
              "   'lìɓɛ',\n",
              "   'bìlìm',\n",
              "   'lìsagnɛ']),\n",
              " ('bad man', ['ɓeba']),\n",
              " ('bad news', ['lìɓɛ']),\n",
              " ('bad ruts in road', ['lìkɔhâk']),\n",
              " ('bad-smelling tree', ['òn']),\n",
              " ('bad spouse', ['li ɓā mɛ̀ kii mùdàa']),\n",
              " ('bad state of affairs', ['ɓeba jâm']),\n",
              " ('bad tasting', ['sabra']),\n",
              " ('bad trickery', ['pinda']),\n",
              " ('bad words against soe', ['lìhuu']),\n",
              " ('bag', ['m̀pek', 'ɓɔ̀ɓɔ̂t', 'ɓɔ̀t', 'hìndɛ̀ŋ']),\n",
              " ('bag, big', ['ɓàlàkwà']),\n",
              " ('bag for carrying arrows', ['ŋ̀kòp']),\n",
              " ('bag for carrying arrows, small', ['ìkòkòbi', 'hìkòkòbi']),\n",
              " ('bag for short arrows', ['ŋ̀kòbi']),\n",
              " ('bag on stick for picking fruit', ['hìsùgà']),\n",
              " ('bait', ['jelɛ', 'sina', 'jêl']),\n",
              " ('bait, fish', ['jɛk nlɔp', 'ǹlɔp']),\n",
              " ('baker', ['m̀ɓòmkɔ̀ga']),\n",
              " ('Balaam', ['Balàm']),\n",
              " ('balance',\n",
              "  ['ŋgìpìŋglà', 'ndìmbhɛ̀ ì lìsuk', 'lìkɔ̀bɔ̀', 'lìɓamba', 'm̀pahâl èt']),\n",
              " ('balanced', ['lìham']),\n",
              " ('balance-sheet', ['ndìmbhɛ̀ ì lìsuk']),\n",
              " ('balance the books', ['cɛk mìnsɔ̀ŋgi', 'ɓɔ̀ŋ sìtɔ̂k']),\n",
              " ('bald', ['ŋgɔs']),\n",
              " ('bald head', ['lìhay']),\n",
              " ('baldheaded', ['lìmbùyàŋ']),\n",
              " ('baldness', ['maya', 'lìsaha']),\n",
              " ('bale', ['yět']),\n",
              " ('Balegel ba Mangele', ['Ɓalɛgɛ̀l ɓa Maŋgɛ̀lɛ̀']),\n",
              " ('ball', ['bɔ̂l', 'ŋ̀kɛk']),\n",
              " ('ballplayer, well-known foot', ['Kùndɛ̀, Emmanuel']),\n",
              " ('ball (-point) pen', ['bîk']),\n",
              " ('balm', ['hìcɔ']),\n",
              " ('Bama Bama', ['Ɓama Ɓāma']),\n",
              " ('bamboo piece', ['ǹtaŋ']),\n",
              " ('bamboo sp.', ['màsɔk']),\n",
              " ('banality', ['bìwògo']),\n",
              " ('banana sp.',\n",
              "  ['kɔŋ',\n",
              "   'ɓàŋ',\n",
              "   'hìyɔŋ',\n",
              "   'hinda hiyɔŋ',\n",
              "   'ŋ̀kom',\n",
              "   'àr',\n",
              "   'njɔ̀k ɓàŋ',\n",
              "   'meè ma ŋgɔ̂ŋd',\n",
              "   'hìyɔyɔŋa',\n",
              "   'm̀ɓoy',\n",
              "   'm̀ɓɔy',\n",
              "   'ŋ̀kunda',\n",
              "   'hìsend likɔ̀ndɔ̀',\n",
              "   'kòyop ɓâŋ',\n",
              "   'oro',\n",
              "   'kɔɔ']),\n",
              " ('banana tree', ['ten lìkube']),\n",
              " ('band', ['hìkakàyà', 'ŋ̀kày', 'ìkakàyà']),\n",
              " ('bandage', ['ɓandîs', 'ɓandâs']),\n",
              " ('Banded mongoose', ['hìndɔndɔ̀nàbikùmul']),\n",
              " ('band for climbing', ['lɛ̀mb']),\n",
              " ('band of barrel', ['ɓɔɔ']),\n",
              " ('bandy-legged', ['cɔgɔp']),\n",
              " ('banish', ['pos'])]"
            ]
          },
          "execution_count": 50,
          "metadata": {},
          "output_type": "execute_result"
        }
      ],
      "source": [
        "dataset[\"en\"][-50:]"
      ]
    },
    {
      "cell_type": "code",
      "execution_count": null,
      "metadata": {
        "colab": {
          "base_uri": "https://localhost:8080/",
          "height": 36
        },
        "id": "-xnSMb7YSs_k",
        "outputId": "cb98982c-fd3e-487b-e0cb-06a15e7cda0f"
      },
      "outputs": [
        {
          "data": {
            "application/vnd.google.colaboratory.intrinsic+json": {
              "type": "string"
            },
            "text/plain": [
              "'ɓɔblà'"
            ]
          },
          "execution_count": 15,
          "metadata": {},
          "output_type": "execute_result"
        }
      ],
      "source": [
        "def scrape_website(i):\n",
        "  url = f\"https://www.webonary.org/basaa/browse/browse-english/?letter=w&key=en&totalEntries=499&pagenr={i}&lang=en\"\n",
        "\n",
        "  # Step 1: Send HTTP request\n",
        "  headers = {\n",
        "      \"User-Agent\": \"Mozilla/5.0\"\n",
        "  }\n",
        "  response = requests.get(url, headers=headers)\n",
        "\n",
        "  # Step 2: Parse HTML content\n",
        "  soup = BeautifulSoup(response.content, \"html.parser\")\n",
        "\n",
        "  # Step 3: Find the element with id=\"searchresults\"\n",
        "  search_results = soup.find(id=\"searchresults\")\n",
        "  pairs = list()\n",
        "  if search_results:\n",
        "      posts = search_results.find_all(\"div\", class_=\"post\")\n",
        "      for post in posts:\n",
        "        en_word = post.find(\"span\", attrs={\"lang\": \"en\"}).text\n",
        "        bas_words = post.find_all(\"span\", attrs={\"lang\": \"bas\"})\n",
        "        bas_word_list = list(set([bas_word.find(\"a\").text.strip() for bas_word in bas_words]))\n",
        "        pairs.append((en_word, bas_word_list))\n",
        "        print(f\"English Word: {en_word}\")\n",
        "        print(f\"Basaa Words: {', '.join(bas_word_list)}\")\n",
        "        print()\n",
        "  else:\n",
        "      print(\"Element with id 'searchresults' not found.\")\n",
        "  return pairs\n",
        "\n",
        "scrape_website(1)"
      ]
    },
    {
      "cell_type": "code",
      "execution_count": null,
      "metadata": {
        "colab": {
          "base_uri": "https://localhost:8080/"
        },
        "id": "FzINHp5iX0a0",
        "outputId": "6fb8af7a-a493-4f19-b5d2-67cd97dc111f"
      },
      "outputs": [
        {
          "name": "stdout",
          "output_type": "stream",
          "text": [
            "English Word: woven bed\n",
            "Basaa Words: kàgà\n",
            "\n",
            "English Word: wrapping paper\n",
            "Basaa Words: pebà\n",
            "\n",
            "English Word: wrath\n",
            "Basaa Words: nyay, hìun\n",
            "\n",
            "English Word: wreath\n",
            "Basaa Words: ǹtut\n",
            "\n",
            "English Word: wrestle\n",
            "Basaa Words: ɓɔblà, sìŋ\n",
            "\n",
            "English Word: wrestle for/with/at\n",
            "Basaa Words: sìŋìl\n",
            "\n",
            "English Word: wrestle soe or with soe\n",
            "Basaa Words: sìŋìs\n",
            "\n",
            "English Word: wrestling\n",
            "Basaa Words: màsìŋ\n",
            "\n",
            "English Word: wretchedness\n",
            "Basaa Words: bìyɛndɛ\n",
            "\n",
            "English Word: wriggle\n",
            "Basaa Words: nyɔ̀glà, wàghà\n",
            "\n",
            "English Word: wring\n",
            "Basaa Words: kèp\n",
            "\n",
            "English Word: wrinkle\n",
            "Basaa Words: ǹhɔ̀r, gwɔ̀t, nyɛ̀dà\n",
            "\n",
            "English Word: wrinkle (animals)\n",
            "Basaa Words: ŋwɔ̀r\n",
            "\n",
            "English Word: wrinkle in skin, or cloth\n",
            "Basaa Words: lìnyɛ̀dà\n",
            "\n",
            "English Word: wrinkles\n",
            "Basaa Words: m̀ɓɔ̀t\n",
            "\n",
            "English Word: wrist\n",
            "Basaa Words: lìɓɔŋga li wɔɔ, lìɓeŋga, jòŋgà\n",
            "\n",
            "English Word: write\n",
            "Basaa Words: kedêl, kɛp, kedêl kààt, tìlà\n",
            "\n",
            "English Word: writer\n",
            "Basaa Words: ǹtìlà, ǹtìlà bìkààt, ŋ̀kedêl, mùt màtìlà\n",
            "\n",
            "English Word: writhe\n",
            "Basaa Words: kiidà, kɔɔŋà\n",
            "\n",
            "English Word: writhe as snake\n",
            "Basaa Words: ɓiŋlà\n",
            "\n",
            "English Word: writing\n",
            "Basaa Words: lìtìlà, sɔŋdatìla, màtìlà, bìtìlna\n",
            "\n",
            "English Word: writing system\n",
            "Basaa Words: bìtìlna\n",
            "\n",
            "English Word: wrong\n",
            "Basaa Words: ɓeba jâm\n",
            "\n",
            "English Word: wrong, to be\n",
            "Basaa Words: kwèhà\n",
            "\n"
          ]
        },
        {
          "data": {
            "text/plain": [
              "[('woven bed', ['kàgà']),\n",
              " ('wrapping paper', ['pebà']),\n",
              " ('wrath', ['nyay', 'hìun']),\n",
              " ('wreath', ['ǹtut']),\n",
              " ('wrestle', ['ɓɔblà', 'sìŋ']),\n",
              " ('wrestle for/with/at', ['sìŋìl']),\n",
              " ('wrestle soe or with soe', ['sìŋìs']),\n",
              " ('wrestling', ['màsìŋ']),\n",
              " ('wretchedness', ['bìyɛndɛ']),\n",
              " ('wriggle', ['nyɔ̀glà', 'wàghà']),\n",
              " ('wring', ['kèp']),\n",
              " ('wrinkle', ['ǹhɔ̀r', 'gwɔ̀t', 'nyɛ̀dà']),\n",
              " ('wrinkle (animals)', ['ŋwɔ̀r']),\n",
              " ('wrinkle in skin, or cloth', ['lìnyɛ̀dà']),\n",
              " ('wrinkles', ['m̀ɓɔ̀t']),\n",
              " ('wrist', ['lìɓɔŋga li wɔɔ', 'lìɓeŋga', 'jòŋgà']),\n",
              " ('write', ['kedêl', 'kɛp', 'kedêl kààt', 'tìlà']),\n",
              " ('writer', ['ǹtìlà', 'ǹtìlà bìkààt', 'ŋ̀kedêl', 'mùt màtìlà']),\n",
              " ('writhe', ['kiidà', 'kɔɔŋà']),\n",
              " ('writhe as snake', ['ɓiŋlà']),\n",
              " ('writing', ['lìtìlà', 'sɔŋdatìla', 'màtìlà', 'bìtìlna']),\n",
              " ('writing system', ['bìtìlna']),\n",
              " ('wrong', ['ɓeba jâm']),\n",
              " ('wrong, to be', ['kwèhà'])]"
            ]
          },
          "execution_count": 31,
          "metadata": {},
          "output_type": "execute_result"
        }
      ],
      "source": [
        "scrape_website(20)"
      ]
    },
    {
      "cell_type": "code",
      "execution_count": null,
      "metadata": {
        "colab": {
          "base_uri": "https://localhost:8080/",
          "height": 36
        },
        "id": "T2CRxQrgt4Cn",
        "outputId": "7a1fe1c7-c6ca-4e4a-aa0a-1028fbb048a8"
      },
      "outputs": [
        {
          "data": {
            "application/vnd.google.colaboratory.intrinsic+json": {
              "type": "string"
            },
            "text/plain": [
              "'abɓ*cdeɛf᷇gh̀ijklmńŋoɔprstuvwyz'"
            ]
          },
          "execution_count": 5,
          "metadata": {},
          "output_type": "execute_result"
        }
      ],
      "source": [
        "\"abɓ*cdeɛf᷇gh̀ijklmńŋoɔprstuvwyz\""
      ]
    },
    {
      "cell_type": "code",
      "execution_count": null,
      "metadata": {
        "id": "k71nGVKuOMGK"
      },
      "outputs": [],
      "source": []
    },
    {
      "cell_type": "code",
      "execution_count": null,
      "metadata": {
        "colab": {
          "base_uri": "https://localhost:8080/",
          "height": 391
        },
        "id": "up2o2HQirJuP",
        "outputId": "aebfe623-6562-404c-f8b2-322be1b1d17e"
      },
      "outputs": [
        {
          "name": "stderr",
          "output_type": "stream",
          "text": [
            "  0%|          | 0/32 [04:30<?, ?it/s, Letter: a, Trads: 308, Page: 116]\n"
          ]
        },
        {
          "ename": "KeyboardInterrupt",
          "evalue": "",
          "output_type": "error",
          "traceback": [
            "\u001b[0;31m---------------------------------------------------------------------------\u001b[0m",
            "\u001b[0;31mKeyboardInterrupt\u001b[0m                         Traceback (most recent call last)",
            "\u001b[0;32m/tmp/ipython-input-2-3625688696.py\u001b[0m in \u001b[0;36m<cell line: 0>\u001b[0;34m()\u001b[0m\n\u001b[1;32m     13\u001b[0m     \u001b[0murl\u001b[0m \u001b[0;34m=\u001b[0m \u001b[0;34mf\"https://www.webonary.org/basaa/browse/browse-vernacular-french/?letter={letter}&key=bas&pagenr={i}&lang=en\"\u001b[0m\u001b[0;34m\u001b[0m\u001b[0;34m\u001b[0m\u001b[0m\n\u001b[1;32m     14\u001b[0m     \u001b[0mheaders\u001b[0m \u001b[0;34m=\u001b[0m \u001b[0;34m{\u001b[0m\u001b[0;34m\"User-Agent\"\u001b[0m\u001b[0;34m:\u001b[0m \u001b[0;34m\"Mozilla/5.0\"\u001b[0m\u001b[0;34m}\u001b[0m\u001b[0;34m\u001b[0m\u001b[0;34m\u001b[0m\u001b[0m\n\u001b[0;32m---> 15\u001b[0;31m     \u001b[0mhtml\u001b[0m \u001b[0;34m=\u001b[0m \u001b[0mrequests\u001b[0m\u001b[0;34m.\u001b[0m\u001b[0mget\u001b[0m\u001b[0;34m(\u001b[0m\u001b[0murl\u001b[0m\u001b[0;34m,\u001b[0m \u001b[0mheaders\u001b[0m\u001b[0;34m=\u001b[0m\u001b[0mheaders\u001b[0m\u001b[0;34m)\u001b[0m\u001b[0;34m.\u001b[0m\u001b[0mcontent\u001b[0m\u001b[0;34m\u001b[0m\u001b[0;34m\u001b[0m\u001b[0m\n\u001b[0m\u001b[1;32m     16\u001b[0m     \u001b[0msoup\u001b[0m \u001b[0;34m=\u001b[0m \u001b[0mBeautifulSoup\u001b[0m\u001b[0;34m(\u001b[0m\u001b[0mhtml\u001b[0m\u001b[0;34m,\u001b[0m \u001b[0;34m\"html.parser\"\u001b[0m\u001b[0;34m)\u001b[0m\u001b[0;34m\u001b[0m\u001b[0;34m\u001b[0m\u001b[0m\n\u001b[1;32m     17\u001b[0m     \u001b[0mresults\u001b[0m \u001b[0;34m=\u001b[0m \u001b[0msoup\u001b[0m\u001b[0;34m.\u001b[0m\u001b[0mfind\u001b[0m\u001b[0;34m(\u001b[0m\u001b[0mid\u001b[0m\u001b[0;34m=\u001b[0m\u001b[0;34m\"searchresults\"\u001b[0m\u001b[0;34m)\u001b[0m\u001b[0;34m\u001b[0m\u001b[0;34m\u001b[0m\u001b[0m\n",
            "\u001b[0;32m/usr/local/lib/python3.11/dist-packages/requests/api.py\u001b[0m in \u001b[0;36mget\u001b[0;34m(url, params, **kwargs)\u001b[0m\n\u001b[1;32m     71\u001b[0m     \"\"\"\n\u001b[1;32m     72\u001b[0m \u001b[0;34m\u001b[0m\u001b[0m\n\u001b[0;32m---> 73\u001b[0;31m     \u001b[0;32mreturn\u001b[0m \u001b[0mrequest\u001b[0m\u001b[0;34m(\u001b[0m\u001b[0;34m\"get\"\u001b[0m\u001b[0;34m,\u001b[0m \u001b[0murl\u001b[0m\u001b[0;34m,\u001b[0m \u001b[0mparams\u001b[0m\u001b[0;34m=\u001b[0m\u001b[0mparams\u001b[0m\u001b[0;34m,\u001b[0m \u001b[0;34m**\u001b[0m\u001b[0mkwargs\u001b[0m\u001b[0;34m)\u001b[0m\u001b[0;34m\u001b[0m\u001b[0;34m\u001b[0m\u001b[0m\n\u001b[0m\u001b[1;32m     74\u001b[0m \u001b[0;34m\u001b[0m\u001b[0m\n\u001b[1;32m     75\u001b[0m \u001b[0;34m\u001b[0m\u001b[0m\n",
            "\u001b[0;32m/usr/local/lib/python3.11/dist-packages/requests/api.py\u001b[0m in \u001b[0;36mrequest\u001b[0;34m(method, url, **kwargs)\u001b[0m\n\u001b[1;32m     57\u001b[0m     \u001b[0;31m# cases, and look like a memory leak in others.\u001b[0m\u001b[0;34m\u001b[0m\u001b[0;34m\u001b[0m\u001b[0m\n\u001b[1;32m     58\u001b[0m     \u001b[0;32mwith\u001b[0m \u001b[0msessions\u001b[0m\u001b[0;34m.\u001b[0m\u001b[0mSession\u001b[0m\u001b[0;34m(\u001b[0m\u001b[0;34m)\u001b[0m \u001b[0;32mas\u001b[0m \u001b[0msession\u001b[0m\u001b[0;34m:\u001b[0m\u001b[0;34m\u001b[0m\u001b[0;34m\u001b[0m\u001b[0m\n\u001b[0;32m---> 59\u001b[0;31m         \u001b[0;32mreturn\u001b[0m \u001b[0msession\u001b[0m\u001b[0;34m.\u001b[0m\u001b[0mrequest\u001b[0m\u001b[0;34m(\u001b[0m\u001b[0mmethod\u001b[0m\u001b[0;34m=\u001b[0m\u001b[0mmethod\u001b[0m\u001b[0;34m,\u001b[0m \u001b[0murl\u001b[0m\u001b[0;34m=\u001b[0m\u001b[0murl\u001b[0m\u001b[0;34m,\u001b[0m \u001b[0;34m**\u001b[0m\u001b[0mkwargs\u001b[0m\u001b[0;34m)\u001b[0m\u001b[0;34m\u001b[0m\u001b[0;34m\u001b[0m\u001b[0m\n\u001b[0m\u001b[1;32m     60\u001b[0m \u001b[0;34m\u001b[0m\u001b[0m\n\u001b[1;32m     61\u001b[0m \u001b[0;34m\u001b[0m\u001b[0m\n",
            "\u001b[0;32m/usr/local/lib/python3.11/dist-packages/requests/sessions.py\u001b[0m in \u001b[0;36mrequest\u001b[0;34m(self, method, url, params, data, headers, cookies, files, auth, timeout, allow_redirects, proxies, hooks, stream, verify, cert, json)\u001b[0m\n\u001b[1;32m    587\u001b[0m         }\n\u001b[1;32m    588\u001b[0m         \u001b[0msend_kwargs\u001b[0m\u001b[0;34m.\u001b[0m\u001b[0mupdate\u001b[0m\u001b[0;34m(\u001b[0m\u001b[0msettings\u001b[0m\u001b[0;34m)\u001b[0m\u001b[0;34m\u001b[0m\u001b[0;34m\u001b[0m\u001b[0m\n\u001b[0;32m--> 589\u001b[0;31m         \u001b[0mresp\u001b[0m \u001b[0;34m=\u001b[0m \u001b[0mself\u001b[0m\u001b[0;34m.\u001b[0m\u001b[0msend\u001b[0m\u001b[0;34m(\u001b[0m\u001b[0mprep\u001b[0m\u001b[0;34m,\u001b[0m \u001b[0;34m**\u001b[0m\u001b[0msend_kwargs\u001b[0m\u001b[0;34m)\u001b[0m\u001b[0;34m\u001b[0m\u001b[0;34m\u001b[0m\u001b[0m\n\u001b[0m\u001b[1;32m    590\u001b[0m \u001b[0;34m\u001b[0m\u001b[0m\n\u001b[1;32m    591\u001b[0m         \u001b[0;32mreturn\u001b[0m \u001b[0mresp\u001b[0m\u001b[0;34m\u001b[0m\u001b[0;34m\u001b[0m\u001b[0m\n",
            "\u001b[0;32m/usr/local/lib/python3.11/dist-packages/requests/sessions.py\u001b[0m in \u001b[0;36msend\u001b[0;34m(self, request, **kwargs)\u001b[0m\n\u001b[1;32m    701\u001b[0m \u001b[0;34m\u001b[0m\u001b[0m\n\u001b[1;32m    702\u001b[0m         \u001b[0;31m# Send the request\u001b[0m\u001b[0;34m\u001b[0m\u001b[0;34m\u001b[0m\u001b[0m\n\u001b[0;32m--> 703\u001b[0;31m         \u001b[0mr\u001b[0m \u001b[0;34m=\u001b[0m \u001b[0madapter\u001b[0m\u001b[0;34m.\u001b[0m\u001b[0msend\u001b[0m\u001b[0;34m(\u001b[0m\u001b[0mrequest\u001b[0m\u001b[0;34m,\u001b[0m \u001b[0;34m**\u001b[0m\u001b[0mkwargs\u001b[0m\u001b[0;34m)\u001b[0m\u001b[0;34m\u001b[0m\u001b[0;34m\u001b[0m\u001b[0m\n\u001b[0m\u001b[1;32m    704\u001b[0m \u001b[0;34m\u001b[0m\u001b[0m\n\u001b[1;32m    705\u001b[0m         \u001b[0;31m# Total elapsed time of the request (approximately)\u001b[0m\u001b[0;34m\u001b[0m\u001b[0;34m\u001b[0m\u001b[0m\n",
            "\u001b[0;32m/usr/local/lib/python3.11/dist-packages/requests/adapters.py\u001b[0m in \u001b[0;36msend\u001b[0;34m(self, request, stream, timeout, verify, cert, proxies)\u001b[0m\n\u001b[1;32m    665\u001b[0m \u001b[0;34m\u001b[0m\u001b[0m\n\u001b[1;32m    666\u001b[0m         \u001b[0;32mtry\u001b[0m\u001b[0;34m:\u001b[0m\u001b[0;34m\u001b[0m\u001b[0;34m\u001b[0m\u001b[0m\n\u001b[0;32m--> 667\u001b[0;31m             resp = conn.urlopen(\n\u001b[0m\u001b[1;32m    668\u001b[0m                 \u001b[0mmethod\u001b[0m\u001b[0;34m=\u001b[0m\u001b[0mrequest\u001b[0m\u001b[0;34m.\u001b[0m\u001b[0mmethod\u001b[0m\u001b[0;34m,\u001b[0m\u001b[0;34m\u001b[0m\u001b[0;34m\u001b[0m\u001b[0m\n\u001b[1;32m    669\u001b[0m                 \u001b[0murl\u001b[0m\u001b[0;34m=\u001b[0m\u001b[0murl\u001b[0m\u001b[0;34m,\u001b[0m\u001b[0;34m\u001b[0m\u001b[0;34m\u001b[0m\u001b[0m\n",
            "\u001b[0;32m/usr/local/lib/python3.11/dist-packages/urllib3/connectionpool.py\u001b[0m in \u001b[0;36murlopen\u001b[0;34m(self, method, url, body, headers, retries, redirect, assert_same_host, timeout, pool_timeout, release_conn, chunked, body_pos, preload_content, decode_content, **response_kw)\u001b[0m\n\u001b[1;32m    785\u001b[0m \u001b[0;34m\u001b[0m\u001b[0m\n\u001b[1;32m    786\u001b[0m             \u001b[0;31m# Make the request on the HTTPConnection object\u001b[0m\u001b[0;34m\u001b[0m\u001b[0;34m\u001b[0m\u001b[0m\n\u001b[0;32m--> 787\u001b[0;31m             response = self._make_request(\n\u001b[0m\u001b[1;32m    788\u001b[0m                 \u001b[0mconn\u001b[0m\u001b[0;34m,\u001b[0m\u001b[0;34m\u001b[0m\u001b[0;34m\u001b[0m\u001b[0m\n\u001b[1;32m    789\u001b[0m                 \u001b[0mmethod\u001b[0m\u001b[0;34m,\u001b[0m\u001b[0;34m\u001b[0m\u001b[0;34m\u001b[0m\u001b[0m\n",
            "\u001b[0;32m/usr/local/lib/python3.11/dist-packages/urllib3/connectionpool.py\u001b[0m in \u001b[0;36m_make_request\u001b[0;34m(self, conn, method, url, body, headers, retries, timeout, chunked, response_conn, preload_content, decode_content, enforce_content_length)\u001b[0m\n\u001b[1;32m    532\u001b[0m         \u001b[0;31m# Receive the response from the server\u001b[0m\u001b[0;34m\u001b[0m\u001b[0;34m\u001b[0m\u001b[0m\n\u001b[1;32m    533\u001b[0m         \u001b[0;32mtry\u001b[0m\u001b[0;34m:\u001b[0m\u001b[0;34m\u001b[0m\u001b[0;34m\u001b[0m\u001b[0m\n\u001b[0;32m--> 534\u001b[0;31m             \u001b[0mresponse\u001b[0m \u001b[0;34m=\u001b[0m \u001b[0mconn\u001b[0m\u001b[0;34m.\u001b[0m\u001b[0mgetresponse\u001b[0m\u001b[0;34m(\u001b[0m\u001b[0;34m)\u001b[0m\u001b[0;34m\u001b[0m\u001b[0;34m\u001b[0m\u001b[0m\n\u001b[0m\u001b[1;32m    535\u001b[0m         \u001b[0;32mexcept\u001b[0m \u001b[0;34m(\u001b[0m\u001b[0mBaseSSLError\u001b[0m\u001b[0;34m,\u001b[0m \u001b[0mOSError\u001b[0m\u001b[0;34m)\u001b[0m \u001b[0;32mas\u001b[0m \u001b[0me\u001b[0m\u001b[0;34m:\u001b[0m\u001b[0;34m\u001b[0m\u001b[0;34m\u001b[0m\u001b[0m\n\u001b[1;32m    536\u001b[0m             \u001b[0mself\u001b[0m\u001b[0;34m.\u001b[0m\u001b[0m_raise_timeout\u001b[0m\u001b[0;34m(\u001b[0m\u001b[0merr\u001b[0m\u001b[0;34m=\u001b[0m\u001b[0me\u001b[0m\u001b[0;34m,\u001b[0m \u001b[0murl\u001b[0m\u001b[0;34m=\u001b[0m\u001b[0murl\u001b[0m\u001b[0;34m,\u001b[0m \u001b[0mtimeout_value\u001b[0m\u001b[0;34m=\u001b[0m\u001b[0mread_timeout\u001b[0m\u001b[0;34m)\u001b[0m\u001b[0;34m\u001b[0m\u001b[0;34m\u001b[0m\u001b[0m\n",
            "\u001b[0;32m/usr/local/lib/python3.11/dist-packages/urllib3/connection.py\u001b[0m in \u001b[0;36mgetresponse\u001b[0;34m(self)\u001b[0m\n\u001b[1;32m    514\u001b[0m \u001b[0;34m\u001b[0m\u001b[0m\n\u001b[1;32m    515\u001b[0m         \u001b[0;31m# Get the response from http.client.HTTPConnection\u001b[0m\u001b[0;34m\u001b[0m\u001b[0;34m\u001b[0m\u001b[0m\n\u001b[0;32m--> 516\u001b[0;31m         \u001b[0mhttplib_response\u001b[0m \u001b[0;34m=\u001b[0m \u001b[0msuper\u001b[0m\u001b[0;34m(\u001b[0m\u001b[0;34m)\u001b[0m\u001b[0;34m.\u001b[0m\u001b[0mgetresponse\u001b[0m\u001b[0;34m(\u001b[0m\u001b[0;34m)\u001b[0m\u001b[0;34m\u001b[0m\u001b[0;34m\u001b[0m\u001b[0m\n\u001b[0m\u001b[1;32m    517\u001b[0m \u001b[0;34m\u001b[0m\u001b[0m\n\u001b[1;32m    518\u001b[0m         \u001b[0;32mtry\u001b[0m\u001b[0;34m:\u001b[0m\u001b[0;34m\u001b[0m\u001b[0;34m\u001b[0m\u001b[0m\n",
            "\u001b[0;32m/usr/lib/python3.11/http/client.py\u001b[0m in \u001b[0;36mgetresponse\u001b[0;34m(self)\u001b[0m\n\u001b[1;32m   1393\u001b[0m         \u001b[0;32mtry\u001b[0m\u001b[0;34m:\u001b[0m\u001b[0;34m\u001b[0m\u001b[0;34m\u001b[0m\u001b[0m\n\u001b[1;32m   1394\u001b[0m             \u001b[0;32mtry\u001b[0m\u001b[0;34m:\u001b[0m\u001b[0;34m\u001b[0m\u001b[0;34m\u001b[0m\u001b[0m\n\u001b[0;32m-> 1395\u001b[0;31m                 \u001b[0mresponse\u001b[0m\u001b[0;34m.\u001b[0m\u001b[0mbegin\u001b[0m\u001b[0;34m(\u001b[0m\u001b[0;34m)\u001b[0m\u001b[0;34m\u001b[0m\u001b[0;34m\u001b[0m\u001b[0m\n\u001b[0m\u001b[1;32m   1396\u001b[0m             \u001b[0;32mexcept\u001b[0m \u001b[0mConnectionError\u001b[0m\u001b[0;34m:\u001b[0m\u001b[0;34m\u001b[0m\u001b[0;34m\u001b[0m\u001b[0m\n\u001b[1;32m   1397\u001b[0m                 \u001b[0mself\u001b[0m\u001b[0;34m.\u001b[0m\u001b[0mclose\u001b[0m\u001b[0;34m(\u001b[0m\u001b[0;34m)\u001b[0m\u001b[0;34m\u001b[0m\u001b[0;34m\u001b[0m\u001b[0m\n",
            "\u001b[0;32m/usr/lib/python3.11/http/client.py\u001b[0m in \u001b[0;36mbegin\u001b[0;34m(self)\u001b[0m\n\u001b[1;32m    323\u001b[0m         \u001b[0;31m# read until we get a non-100 response\u001b[0m\u001b[0;34m\u001b[0m\u001b[0;34m\u001b[0m\u001b[0m\n\u001b[1;32m    324\u001b[0m         \u001b[0;32mwhile\u001b[0m \u001b[0;32mTrue\u001b[0m\u001b[0;34m:\u001b[0m\u001b[0;34m\u001b[0m\u001b[0;34m\u001b[0m\u001b[0m\n\u001b[0;32m--> 325\u001b[0;31m             \u001b[0mversion\u001b[0m\u001b[0;34m,\u001b[0m \u001b[0mstatus\u001b[0m\u001b[0;34m,\u001b[0m \u001b[0mreason\u001b[0m \u001b[0;34m=\u001b[0m \u001b[0mself\u001b[0m\u001b[0;34m.\u001b[0m\u001b[0m_read_status\u001b[0m\u001b[0;34m(\u001b[0m\u001b[0;34m)\u001b[0m\u001b[0;34m\u001b[0m\u001b[0;34m\u001b[0m\u001b[0m\n\u001b[0m\u001b[1;32m    326\u001b[0m             \u001b[0;32mif\u001b[0m \u001b[0mstatus\u001b[0m \u001b[0;34m!=\u001b[0m \u001b[0mCONTINUE\u001b[0m\u001b[0;34m:\u001b[0m\u001b[0;34m\u001b[0m\u001b[0;34m\u001b[0m\u001b[0m\n\u001b[1;32m    327\u001b[0m                 \u001b[0;32mbreak\u001b[0m\u001b[0;34m\u001b[0m\u001b[0;34m\u001b[0m\u001b[0m\n",
            "\u001b[0;32m/usr/lib/python3.11/http/client.py\u001b[0m in \u001b[0;36m_read_status\u001b[0;34m(self)\u001b[0m\n\u001b[1;32m    284\u001b[0m \u001b[0;34m\u001b[0m\u001b[0m\n\u001b[1;32m    285\u001b[0m     \u001b[0;32mdef\u001b[0m \u001b[0m_read_status\u001b[0m\u001b[0;34m(\u001b[0m\u001b[0mself\u001b[0m\u001b[0;34m)\u001b[0m\u001b[0;34m:\u001b[0m\u001b[0;34m\u001b[0m\u001b[0;34m\u001b[0m\u001b[0m\n\u001b[0;32m--> 286\u001b[0;31m         \u001b[0mline\u001b[0m \u001b[0;34m=\u001b[0m \u001b[0mstr\u001b[0m\u001b[0;34m(\u001b[0m\u001b[0mself\u001b[0m\u001b[0;34m.\u001b[0m\u001b[0mfp\u001b[0m\u001b[0;34m.\u001b[0m\u001b[0mreadline\u001b[0m\u001b[0;34m(\u001b[0m\u001b[0m_MAXLINE\u001b[0m \u001b[0;34m+\u001b[0m \u001b[0;36m1\u001b[0m\u001b[0;34m)\u001b[0m\u001b[0;34m,\u001b[0m \u001b[0;34m\"iso-8859-1\"\u001b[0m\u001b[0;34m)\u001b[0m\u001b[0;34m\u001b[0m\u001b[0;34m\u001b[0m\u001b[0m\n\u001b[0m\u001b[1;32m    287\u001b[0m         \u001b[0;32mif\u001b[0m \u001b[0mlen\u001b[0m\u001b[0;34m(\u001b[0m\u001b[0mline\u001b[0m\u001b[0;34m)\u001b[0m \u001b[0;34m>\u001b[0m \u001b[0m_MAXLINE\u001b[0m\u001b[0;34m:\u001b[0m\u001b[0;34m\u001b[0m\u001b[0;34m\u001b[0m\u001b[0m\n\u001b[1;32m    288\u001b[0m             \u001b[0;32mraise\u001b[0m \u001b[0mLineTooLong\u001b[0m\u001b[0;34m(\u001b[0m\u001b[0;34m\"status line\"\u001b[0m\u001b[0;34m)\u001b[0m\u001b[0;34m\u001b[0m\u001b[0;34m\u001b[0m\u001b[0m\n",
            "\u001b[0;32m/usr/lib/python3.11/socket.py\u001b[0m in \u001b[0;36mreadinto\u001b[0;34m(self, b)\u001b[0m\n\u001b[1;32m    716\u001b[0m         \u001b[0;32mwhile\u001b[0m \u001b[0;32mTrue\u001b[0m\u001b[0;34m:\u001b[0m\u001b[0;34m\u001b[0m\u001b[0;34m\u001b[0m\u001b[0m\n\u001b[1;32m    717\u001b[0m             \u001b[0;32mtry\u001b[0m\u001b[0;34m:\u001b[0m\u001b[0;34m\u001b[0m\u001b[0;34m\u001b[0m\u001b[0m\n\u001b[0;32m--> 718\u001b[0;31m                 \u001b[0;32mreturn\u001b[0m \u001b[0mself\u001b[0m\u001b[0;34m.\u001b[0m\u001b[0m_sock\u001b[0m\u001b[0;34m.\u001b[0m\u001b[0mrecv_into\u001b[0m\u001b[0;34m(\u001b[0m\u001b[0mb\u001b[0m\u001b[0;34m)\u001b[0m\u001b[0;34m\u001b[0m\u001b[0;34m\u001b[0m\u001b[0m\n\u001b[0m\u001b[1;32m    719\u001b[0m             \u001b[0;32mexcept\u001b[0m \u001b[0mtimeout\u001b[0m\u001b[0;34m:\u001b[0m\u001b[0;34m\u001b[0m\u001b[0;34m\u001b[0m\u001b[0m\n\u001b[1;32m    720\u001b[0m                 \u001b[0mself\u001b[0m\u001b[0;34m.\u001b[0m\u001b[0m_timeout_occurred\u001b[0m \u001b[0;34m=\u001b[0m \u001b[0;32mTrue\u001b[0m\u001b[0;34m\u001b[0m\u001b[0;34m\u001b[0m\u001b[0m\n",
            "\u001b[0;32m/usr/lib/python3.11/ssl.py\u001b[0m in \u001b[0;36mrecv_into\u001b[0;34m(self, buffer, nbytes, flags)\u001b[0m\n\u001b[1;32m   1312\u001b[0m                   \u001b[0;34m\"non-zero flags not allowed in calls to recv_into() on %s\"\u001b[0m \u001b[0;34m%\u001b[0m\u001b[0;34m\u001b[0m\u001b[0;34m\u001b[0m\u001b[0m\n\u001b[1;32m   1313\u001b[0m                   self.__class__)\n\u001b[0;32m-> 1314\u001b[0;31m             \u001b[0;32mreturn\u001b[0m \u001b[0mself\u001b[0m\u001b[0;34m.\u001b[0m\u001b[0mread\u001b[0m\u001b[0;34m(\u001b[0m\u001b[0mnbytes\u001b[0m\u001b[0;34m,\u001b[0m \u001b[0mbuffer\u001b[0m\u001b[0;34m)\u001b[0m\u001b[0;34m\u001b[0m\u001b[0;34m\u001b[0m\u001b[0m\n\u001b[0m\u001b[1;32m   1315\u001b[0m         \u001b[0;32melse\u001b[0m\u001b[0;34m:\u001b[0m\u001b[0;34m\u001b[0m\u001b[0;34m\u001b[0m\u001b[0m\n\u001b[1;32m   1316\u001b[0m             \u001b[0;32mreturn\u001b[0m \u001b[0msuper\u001b[0m\u001b[0;34m(\u001b[0m\u001b[0;34m)\u001b[0m\u001b[0;34m.\u001b[0m\u001b[0mrecv_into\u001b[0m\u001b[0;34m(\u001b[0m\u001b[0mbuffer\u001b[0m\u001b[0;34m,\u001b[0m \u001b[0mnbytes\u001b[0m\u001b[0;34m,\u001b[0m \u001b[0mflags\u001b[0m\u001b[0;34m)\u001b[0m\u001b[0;34m\u001b[0m\u001b[0;34m\u001b[0m\u001b[0m\n",
            "\u001b[0;32m/usr/lib/python3.11/ssl.py\u001b[0m in \u001b[0;36mread\u001b[0;34m(self, len, buffer)\u001b[0m\n\u001b[1;32m   1164\u001b[0m         \u001b[0;32mtry\u001b[0m\u001b[0;34m:\u001b[0m\u001b[0;34m\u001b[0m\u001b[0;34m\u001b[0m\u001b[0m\n\u001b[1;32m   1165\u001b[0m             \u001b[0;32mif\u001b[0m \u001b[0mbuffer\u001b[0m \u001b[0;32mis\u001b[0m \u001b[0;32mnot\u001b[0m \u001b[0;32mNone\u001b[0m\u001b[0;34m:\u001b[0m\u001b[0;34m\u001b[0m\u001b[0;34m\u001b[0m\u001b[0m\n\u001b[0;32m-> 1166\u001b[0;31m                 \u001b[0;32mreturn\u001b[0m \u001b[0mself\u001b[0m\u001b[0;34m.\u001b[0m\u001b[0m_sslobj\u001b[0m\u001b[0;34m.\u001b[0m\u001b[0mread\u001b[0m\u001b[0;34m(\u001b[0m\u001b[0mlen\u001b[0m\u001b[0;34m,\u001b[0m \u001b[0mbuffer\u001b[0m\u001b[0;34m)\u001b[0m\u001b[0;34m\u001b[0m\u001b[0;34m\u001b[0m\u001b[0m\n\u001b[0m\u001b[1;32m   1167\u001b[0m             \u001b[0;32melse\u001b[0m\u001b[0;34m:\u001b[0m\u001b[0;34m\u001b[0m\u001b[0;34m\u001b[0m\u001b[0m\n\u001b[1;32m   1168\u001b[0m                 \u001b[0;32mreturn\u001b[0m \u001b[0mself\u001b[0m\u001b[0;34m.\u001b[0m\u001b[0m_sslobj\u001b[0m\u001b[0;34m.\u001b[0m\u001b[0mread\u001b[0m\u001b[0;34m(\u001b[0m\u001b[0mlen\u001b[0m\u001b[0;34m)\u001b[0m\u001b[0;34m\u001b[0m\u001b[0;34m\u001b[0m\u001b[0m\n",
            "\u001b[0;31mKeyboardInterrupt\u001b[0m: "
          ]
        }
      ],
      "source": [
        "from bs4 import BeautifulSoup\n",
        "import requests\n",
        "from tqdm import tqdm\n",
        "import json\n",
        "\n",
        "dataset = dict()\n",
        "chars = \"abɓ*cdeɛf᷇gh̀ijklmńŋoɔprstuvwyz\"\n",
        "loop = tqdm(chars)\n",
        "\n",
        "for letter in loop:\n",
        "  i = 1\n",
        "  dataset[letter] = dataset.get(letter, [])\n",
        "  while True:\n",
        "    url = f\"https://www.webonary.org/basaa/browse/browse-vernacular-french/?letter={letter}&key=bas&pagenr={i}&lang=en\"\n",
        "    headers = {\"User-Agent\": \"Mozilla/5.0\"}\n",
        "    html = requests.get(url, headers=headers).content\n",
        "    soup = BeautifulSoup(html, \"html.parser\")\n",
        "    results = soup.find(id=\"searchresults\")\n",
        "\n",
        "    if results is None:\n",
        "      pass\n",
        "    elif \"No reversal entries imported.\" in results.text:\n",
        "      break\n",
        "    else:\n",
        "      entries = []\n",
        "\n",
        "      for post in results.find_all(\"div\", class_=\"post\"):\n",
        "          entry = {}\n",
        "\n",
        "          # 🟢 Headword (Basaa)\n",
        "          head = post.select_one(\".mainheadword span[lang='bas']\")\n",
        "          entry[\"headword\"] = head.get_text(strip=True) if head else \"\"\n",
        "\n",
        "          # 🟡 Plural (Basaa)\n",
        "          plural = post.select_one(\".plural span[lang='bas']\")\n",
        "          entry[\"plural\"] = plural.get_text(strip=True) if plural else \"\"\n",
        "\n",
        "          # 🔁 Loop over senses\n",
        "          entry[\"senses\"] = []\n",
        "          for sense in post.select(\"span.sense\"):\n",
        "              sense_data = {}\n",
        "\n",
        "              # Glosses\n",
        "              fr = sense.select_one(\"span.definitionorgloss > span[lang='fr']\")\n",
        "              en = sense.select_one(\"span.definitionorgloss_1 > span[lang='en']\")\n",
        "              de = sense.select_one(\"span.definitionorgloss_2 > span[lang='de']\")\n",
        "              sense_data[\"fr\"] = fr.get_text(strip=True) if fr else \"\"\n",
        "              sense_data[\"en\"] = en.get_text(strip=True) if en else \"\"\n",
        "              sense_data[\"de\"] = de.get_text(strip=True) if de else \"\"\n",
        "\n",
        "              # Examples\n",
        "              examples = []\n",
        "              for example in sense.select(\".examplescontent\"):\n",
        "                  ex_bas = example.select_one(\"span.example > span[lang='bas']\")\n",
        "                  ex_fr = example.select_one(\"span.translation span[lang='fr']\")\n",
        "                  ex_en = example.select_one(\"span.translation_3 span[lang='en']\")\n",
        "                  examples.append({\n",
        "                      \"bas\": ex_bas.get_text(strip=True) if ex_bas else \"\",\n",
        "                      \"fr\": ex_fr.get_text(strip=True) if ex_fr else \"\",\n",
        "                      \"en\": ex_en.get_text(strip=True) if ex_en else \"\"\n",
        "                  })\n",
        "              sense_data[\"examples\"] = examples\n",
        "\n",
        "              entry[\"senses\"].append(sense_data)\n",
        "\n",
        "          # 🔵 Synonyms, variants, etc.\n",
        "          va = post.select_one(\".va span[lang='bas']\")\n",
        "          syn = post.select_one(\".synonym span[lang='bas']\")\n",
        "          alt = post.select_one(\".compare span[lang='bas']\")\n",
        "\n",
        "          entry[\"variant\"] = va.get_text(strip=True) if va else \"\"\n",
        "          entry[\"synonym\"] = syn.get_text(strip=True) if syn else \"\"\n",
        "          entry[\"compare\"] = alt.get_text(strip=True) if alt else \"\"\n",
        "\n",
        "          entries.append(entry)\n",
        "      dataset[letter].extend(entries)\n",
        "      loop.set_postfix_str(f\"Letter: {letter}, Trads: {len(dataset[letter])}, Page: {i}\")\n",
        "      i += 1\n",
        "      with open(\"drive/MyDrive/data_bas_fr_en_du.json\", \"w\") as json_file:\n",
        "        json.dump(dataset, json_file, indent=4)"
      ]
    },
    {
      "cell_type": "code",
      "execution_count": null,
      "metadata": {
        "colab": {
          "base_uri": "https://localhost:8080/"
        },
        "id": "vznR5-P1YQMa",
        "outputId": "883bfb15-fb29-408c-acf9-a665a0a6b029"
      },
      "outputs": [
        {
          "name": "stderr",
          "output_type": "stream",
          "text": [
            "Letters:   0%|          | 0/32 [00:03<?, ?it/s]"
          ]
        },
        {
          "name": "stdout",
          "output_type": "stream",
          "text": [
            "→ a p1: +25 entries (total 25)\n"
          ]
        },
        {
          "name": "stderr",
          "output_type": "stream",
          "text": [
            "Letters:   0%|          | 0/32 [00:07<?, ?it/s]"
          ]
        },
        {
          "name": "stdout",
          "output_type": "stream",
          "text": [
            "→ a p2: +25 entries (total 50)\n"
          ]
        },
        {
          "name": "stderr",
          "output_type": "stream",
          "text": [
            "Letters:   0%|          | 0/32 [00:33<?, ?it/s]"
          ]
        },
        {
          "name": "stdout",
          "output_type": "stream",
          "text": [
            "→ a p3: +25 entries (total 75)\n"
          ]
        },
        {
          "name": "stderr",
          "output_type": "stream",
          "text": [
            "Letters:   0%|          | 0/32 [00:41<?, ?it/s]"
          ]
        },
        {
          "name": "stdout",
          "output_type": "stream",
          "text": [
            "→ a p4: +25 entries (total 100)\n"
          ]
        },
        {
          "name": "stderr",
          "output_type": "stream",
          "text": [
            "Letters:   0%|          | 0/32 [00:46<?, ?it/s]"
          ]
        },
        {
          "name": "stdout",
          "output_type": "stream",
          "text": [
            "→ a p5: +25 entries (total 125)\n"
          ]
        },
        {
          "name": "stderr",
          "output_type": "stream",
          "text": [
            "Letters:   0%|          | 0/32 [00:51<?, ?it/s]"
          ]
        },
        {
          "name": "stdout",
          "output_type": "stream",
          "text": [
            "→ a p6: +25 entries (total 150)\n"
          ]
        },
        {
          "name": "stderr",
          "output_type": "stream",
          "text": [
            "Letters:   0%|          | 0/32 [00:55<?, ?it/s]"
          ]
        },
        {
          "name": "stdout",
          "output_type": "stream",
          "text": [
            "→ a p7: +25 entries (total 175)\n"
          ]
        },
        {
          "name": "stderr",
          "output_type": "stream",
          "text": [
            "Letters:   0%|          | 0/32 [00:59<?, ?it/s]"
          ]
        },
        {
          "name": "stdout",
          "output_type": "stream",
          "text": [
            "→ a p8: +25 entries (total 200)\n"
          ]
        },
        {
          "name": "stderr",
          "output_type": "stream",
          "text": [
            "Letters:   0%|          | 0/32 [01:04<?, ?it/s]"
          ]
        },
        {
          "name": "stdout",
          "output_type": "stream",
          "text": [
            "→ a p9: +25 entries (total 225)\n"
          ]
        },
        {
          "name": "stderr",
          "output_type": "stream",
          "text": [
            "Letters:   0%|          | 0/32 [01:11<?, ?it/s]"
          ]
        },
        {
          "name": "stdout",
          "output_type": "stream",
          "text": [
            "→ a p10: +25 entries (total 250)\n"
          ]
        },
        {
          "name": "stderr",
          "output_type": "stream",
          "text": [
            "Letters:   0%|          | 0/32 [01:18<?, ?it/s]"
          ]
        },
        {
          "name": "stdout",
          "output_type": "stream",
          "text": [
            "→ a p11: +25 entries (total 275)\n"
          ]
        },
        {
          "name": "stderr",
          "output_type": "stream",
          "text": [
            "Letters:   0%|          | 0/32 [01:22<?, ?it/s]"
          ]
        },
        {
          "name": "stdout",
          "output_type": "stream",
          "text": [
            "→ a p12: +25 entries (total 300)\n"
          ]
        },
        {
          "name": "stderr",
          "output_type": "stream",
          "text": [
            "Letters:   0%|          | 0/32 [01:24<?, ?it/s]"
          ]
        },
        {
          "name": "stdout",
          "output_type": "stream",
          "text": [
            "→ a p13: +8 entries (total 308)\n"
          ]
        },
        {
          "name": "stderr",
          "output_type": "stream",
          "text": [
            "Letters:   3%|▎         | 1/32 [01:30<44:40, 86.46s/it]"
          ]
        },
        {
          "name": "stdout",
          "output_type": "stream",
          "text": [
            "→ b p1: +25 entries (total 25)\n"
          ]
        },
        {
          "name": "stderr",
          "output_type": "stream",
          "text": [
            "Letters:   3%|▎         | 1/32 [01:35<44:40, 86.46s/it]"
          ]
        },
        {
          "name": "stdout",
          "output_type": "stream",
          "text": [
            "→ b p2: +25 entries (total 50)\n"
          ]
        },
        {
          "name": "stderr",
          "output_type": "stream",
          "text": [
            "Letters:   3%|▎         | 1/32 [01:40<44:40, 86.46s/it]"
          ]
        },
        {
          "name": "stdout",
          "output_type": "stream",
          "text": [
            "→ b p3: +25 entries (total 75)\n"
          ]
        },
        {
          "name": "stderr",
          "output_type": "stream",
          "text": [
            "Letters:   3%|▎         | 1/32 [01:44<44:40, 86.46s/it]"
          ]
        },
        {
          "name": "stdout",
          "output_type": "stream",
          "text": [
            "→ b p4: +25 entries (total 100)\n"
          ]
        },
        {
          "name": "stderr",
          "output_type": "stream",
          "text": [
            "Letters:   3%|▎         | 1/32 [01:48<44:40, 86.46s/it]"
          ]
        },
        {
          "name": "stdout",
          "output_type": "stream",
          "text": [
            "→ b p5: +25 entries (total 125)\n"
          ]
        },
        {
          "name": "stderr",
          "output_type": "stream",
          "text": [
            "Letters:   3%|▎         | 1/32 [01:53<44:40, 86.46s/it]"
          ]
        },
        {
          "name": "stdout",
          "output_type": "stream",
          "text": [
            "→ b p6: +25 entries (total 150)\n"
          ]
        },
        {
          "name": "stderr",
          "output_type": "stream",
          "text": [
            "Letters:   3%|▎         | 1/32 [01:59<44:40, 86.46s/it]"
          ]
        },
        {
          "name": "stdout",
          "output_type": "stream",
          "text": [
            "→ b p7: +25 entries (total 175)\n"
          ]
        },
        {
          "name": "stderr",
          "output_type": "stream",
          "text": [
            "Letters:   3%|▎         | 1/32 [02:08<44:40, 86.46s/it]"
          ]
        },
        {
          "name": "stdout",
          "output_type": "stream",
          "text": [
            "→ b p8: +25 entries (total 200)\n"
          ]
        },
        {
          "name": "stderr",
          "output_type": "stream",
          "text": [
            "Letters:   3%|▎         | 1/32 [02:15<44:40, 86.46s/it]"
          ]
        },
        {
          "name": "stdout",
          "output_type": "stream",
          "text": [
            "→ b p9: +25 entries (total 225)\n"
          ]
        },
        {
          "name": "stderr",
          "output_type": "stream",
          "text": [
            "Letters:   3%|▎         | 1/32 [02:21<44:40, 86.46s/it]"
          ]
        },
        {
          "name": "stdout",
          "output_type": "stream",
          "text": [
            "→ b p10: +25 entries (total 250)\n"
          ]
        },
        {
          "name": "stderr",
          "output_type": "stream",
          "text": [
            "Letters:   3%|▎         | 1/32 [02:26<44:40, 86.46s/it]"
          ]
        },
        {
          "name": "stdout",
          "output_type": "stream",
          "text": [
            "→ b p11: +25 entries (total 275)\n"
          ]
        },
        {
          "name": "stderr",
          "output_type": "stream",
          "text": [
            "Letters:   3%|▎         | 1/32 [02:31<44:40, 86.46s/it]"
          ]
        },
        {
          "name": "stdout",
          "output_type": "stream",
          "text": [
            "→ b p12: +25 entries (total 300)\n"
          ]
        },
        {
          "name": "stderr",
          "output_type": "stream",
          "text": [
            "Letters:   3%|▎         | 1/32 [02:36<44:40, 86.46s/it]"
          ]
        },
        {
          "name": "stdout",
          "output_type": "stream",
          "text": [
            "→ b p13: +25 entries (total 325)\n"
          ]
        },
        {
          "name": "stderr",
          "output_type": "stream",
          "text": [
            "Letters:   3%|▎         | 1/32 [02:41<44:40, 86.46s/it]"
          ]
        },
        {
          "name": "stdout",
          "output_type": "stream",
          "text": [
            "→ b p14: +25 entries (total 350)\n"
          ]
        },
        {
          "name": "stderr",
          "output_type": "stream",
          "text": [
            "Letters:   3%|▎         | 1/32 [03:02<44:40, 86.46s/it]"
          ]
        },
        {
          "name": "stdout",
          "output_type": "stream",
          "text": [
            "→ b p15: +25 entries (total 375)\n"
          ]
        },
        {
          "name": "stderr",
          "output_type": "stream",
          "text": [
            "Letters:   3%|▎         | 1/32 [03:32<44:40, 86.46s/it]"
          ]
        },
        {
          "name": "stdout",
          "output_type": "stream",
          "text": [
            "→ b p16: +25 entries (total 400)\n"
          ]
        },
        {
          "name": "stderr",
          "output_type": "stream",
          "text": [
            "Letters:   3%|▎         | 1/32 [03:59<44:40, 86.46s/it]"
          ]
        },
        {
          "name": "stdout",
          "output_type": "stream",
          "text": [
            "→ b p17: +25 entries (total 425)\n"
          ]
        },
        {
          "name": "stderr",
          "output_type": "stream",
          "text": [
            "Letters:   3%|▎         | 1/32 [04:03<44:40, 86.46s/it]"
          ]
        },
        {
          "name": "stdout",
          "output_type": "stream",
          "text": [
            "→ b p18: +25 entries (total 450)\n"
          ]
        },
        {
          "name": "stderr",
          "output_type": "stream",
          "text": [
            "Letters:   3%|▎         | 1/32 [04:11<44:40, 86.46s/it]"
          ]
        },
        {
          "name": "stdout",
          "output_type": "stream",
          "text": [
            "→ b p19: +25 entries (total 475)\n"
          ]
        },
        {
          "name": "stderr",
          "output_type": "stream",
          "text": [
            "Letters:   3%|▎         | 1/32 [04:16<44:40, 86.46s/it]"
          ]
        },
        {
          "name": "stdout",
          "output_type": "stream",
          "text": [
            "→ b p20: +25 entries (total 500)\n"
          ]
        },
        {
          "name": "stderr",
          "output_type": "stream",
          "text": [
            "Letters:   3%|▎         | 1/32 [04:21<44:40, 86.46s/it]"
          ]
        },
        {
          "name": "stdout",
          "output_type": "stream",
          "text": [
            "→ b p21: +25 entries (total 525)\n"
          ]
        },
        {
          "name": "stderr",
          "output_type": "stream",
          "text": [
            "Letters:   3%|▎         | 1/32 [04:25<44:40, 86.46s/it]"
          ]
        },
        {
          "name": "stdout",
          "output_type": "stream",
          "text": [
            "→ b p22: +20 entries (total 545)\n"
          ]
        },
        {
          "name": "stderr",
          "output_type": "stream",
          "text": [
            "Letters:   6%|▋         | 2/32 [04:31<1:11:02, 142.08s/it]"
          ]
        },
        {
          "name": "stdout",
          "output_type": "stream",
          "text": [
            "→ ɓ p1: +25 entries (total 25)\n"
          ]
        },
        {
          "name": "stderr",
          "output_type": "stream",
          "text": [
            "Letters:   6%|▋         | 2/32 [04:37<1:11:02, 142.08s/it]"
          ]
        },
        {
          "name": "stdout",
          "output_type": "stream",
          "text": [
            "→ ɓ p2: +25 entries (total 50)\n"
          ]
        },
        {
          "name": "stderr",
          "output_type": "stream",
          "text": [
            "Letters:   6%|▋         | 2/32 [04:43<1:11:02, 142.08s/it]"
          ]
        },
        {
          "name": "stdout",
          "output_type": "stream",
          "text": [
            "→ ɓ p3: +25 entries (total 75)\n"
          ]
        },
        {
          "name": "stderr",
          "output_type": "stream",
          "text": [
            "Letters:   6%|▋         | 2/32 [04:49<1:11:02, 142.08s/it]"
          ]
        },
        {
          "name": "stdout",
          "output_type": "stream",
          "text": [
            "→ ɓ p4: +25 entries (total 100)\n"
          ]
        },
        {
          "name": "stderr",
          "output_type": "stream",
          "text": [
            "Letters:   6%|▋         | 2/32 [04:55<1:11:02, 142.08s/it]"
          ]
        },
        {
          "name": "stdout",
          "output_type": "stream",
          "text": [
            "→ ɓ p5: +25 entries (total 125)\n"
          ]
        },
        {
          "name": "stderr",
          "output_type": "stream",
          "text": [
            "Letters:   6%|▋         | 2/32 [05:04<1:11:02, 142.08s/it]"
          ]
        },
        {
          "name": "stdout",
          "output_type": "stream",
          "text": [
            "→ ɓ p6: +25 entries (total 150)\n"
          ]
        },
        {
          "name": "stderr",
          "output_type": "stream",
          "text": [
            "Letters:   6%|▋         | 2/32 [05:10<1:11:02, 142.08s/it]"
          ]
        },
        {
          "name": "stdout",
          "output_type": "stream",
          "text": [
            "→ ɓ p7: +25 entries (total 175)\n"
          ]
        },
        {
          "name": "stderr",
          "output_type": "stream",
          "text": [
            "Letters:   6%|▋         | 2/32 [05:14<1:11:02, 142.08s/it]"
          ]
        },
        {
          "name": "stdout",
          "output_type": "stream",
          "text": [
            "→ ɓ p8: +25 entries (total 200)\n"
          ]
        },
        {
          "name": "stderr",
          "output_type": "stream",
          "text": [
            "Letters:   6%|▋         | 2/32 [05:19<1:11:02, 142.08s/it]"
          ]
        },
        {
          "name": "stdout",
          "output_type": "stream",
          "text": [
            "→ ɓ p9: +25 entries (total 225)\n"
          ]
        },
        {
          "name": "stderr",
          "output_type": "stream",
          "text": [
            "Letters:   6%|▋         | 2/32 [05:31<1:11:02, 142.08s/it]"
          ]
        },
        {
          "name": "stdout",
          "output_type": "stream",
          "text": [
            "→ ɓ p10: +25 entries (total 250)\n"
          ]
        },
        {
          "name": "stderr",
          "output_type": "stream",
          "text": [
            "Letters:   6%|▋         | 2/32 [05:41<1:11:02, 142.08s/it]"
          ]
        },
        {
          "name": "stdout",
          "output_type": "stream",
          "text": [
            "→ ɓ p11: +25 entries (total 275)\n"
          ]
        },
        {
          "name": "stderr",
          "output_type": "stream",
          "text": [
            "Letters:   6%|▋         | 2/32 [05:47<1:11:02, 142.08s/it]"
          ]
        },
        {
          "name": "stdout",
          "output_type": "stream",
          "text": [
            "→ ɓ p12: +25 entries (total 300)\n"
          ]
        },
        {
          "name": "stderr",
          "output_type": "stream",
          "text": [
            "Letters:   6%|▋         | 2/32 [05:52<1:11:02, 142.08s/it]"
          ]
        },
        {
          "name": "stdout",
          "output_type": "stream",
          "text": [
            "→ ɓ p13: +25 entries (total 325)\n"
          ]
        },
        {
          "name": "stderr",
          "output_type": "stream",
          "text": [
            "Letters:   6%|▋         | 2/32 [05:59<1:11:02, 142.08s/it]"
          ]
        },
        {
          "name": "stdout",
          "output_type": "stream",
          "text": [
            "→ ɓ p14: +25 entries (total 350)\n"
          ]
        },
        {
          "name": "stderr",
          "output_type": "stream",
          "text": [
            "Letters:   6%|▋         | 2/32 [06:08<1:11:02, 142.08s/it]"
          ]
        },
        {
          "name": "stdout",
          "output_type": "stream",
          "text": [
            "→ ɓ p15: +25 entries (total 375)\n"
          ]
        },
        {
          "name": "stderr",
          "output_type": "stream",
          "text": [
            "Letters:   6%|▋         | 2/32 [06:13<1:11:02, 142.08s/it]"
          ]
        },
        {
          "name": "stdout",
          "output_type": "stream",
          "text": [
            "→ ɓ p16: +25 entries (total 400)\n"
          ]
        },
        {
          "name": "stderr",
          "output_type": "stream",
          "text": [
            "Letters:   6%|▋         | 2/32 [06:18<1:11:02, 142.08s/it]"
          ]
        },
        {
          "name": "stdout",
          "output_type": "stream",
          "text": [
            "→ ɓ p17: +25 entries (total 425)\n"
          ]
        },
        {
          "name": "stderr",
          "output_type": "stream",
          "text": [
            "Letters:   6%|▋         | 2/32 [06:26<1:11:02, 142.08s/it]"
          ]
        },
        {
          "name": "stdout",
          "output_type": "stream",
          "text": [
            "→ ɓ p18: +25 entries (total 450)\n"
          ]
        },
        {
          "name": "stderr",
          "output_type": "stream",
          "text": [
            "Letters:   6%|▋         | 2/32 [06:32<1:11:02, 142.08s/it]"
          ]
        },
        {
          "name": "stdout",
          "output_type": "stream",
          "text": [
            "→ ɓ p19: +25 entries (total 475)\n"
          ]
        },
        {
          "name": "stderr",
          "output_type": "stream",
          "text": [
            "Letters:   6%|▋         | 2/32 [06:37<1:11:02, 142.08s/it]"
          ]
        },
        {
          "name": "stdout",
          "output_type": "stream",
          "text": [
            "→ ɓ p20: +25 entries (total 500)\n"
          ]
        },
        {
          "name": "stderr",
          "output_type": "stream",
          "text": [
            "Letters:   6%|▋         | 2/32 [06:43<1:11:02, 142.08s/it]"
          ]
        },
        {
          "name": "stdout",
          "output_type": "stream",
          "text": [
            "→ ɓ p21: +25 entries (total 525)\n"
          ]
        },
        {
          "name": "stderr",
          "output_type": "stream",
          "text": [
            "Letters:   6%|▋         | 2/32 [06:48<1:11:02, 142.08s/it]"
          ]
        },
        {
          "name": "stdout",
          "output_type": "stream",
          "text": [
            "→ ɓ p22: +25 entries (total 550)\n"
          ]
        },
        {
          "name": "stderr",
          "output_type": "stream",
          "text": [
            "Letters:   6%|▋         | 2/32 [06:53<1:11:02, 142.08s/it]"
          ]
        },
        {
          "name": "stdout",
          "output_type": "stream",
          "text": [
            "→ ɓ p23: +25 entries (total 575)\n"
          ]
        },
        {
          "name": "stderr",
          "output_type": "stream",
          "text": [
            "Letters:   6%|▋         | 2/32 [06:58<1:11:02, 142.08s/it]"
          ]
        },
        {
          "name": "stdout",
          "output_type": "stream",
          "text": [
            "→ ɓ p24: +25 entries (total 600)\n"
          ]
        },
        {
          "name": "stderr",
          "output_type": "stream",
          "text": [
            "Letters:   6%|▋         | 2/32 [07:03<1:11:02, 142.08s/it]"
          ]
        },
        {
          "name": "stdout",
          "output_type": "stream",
          "text": [
            "→ ɓ p25: +25 entries (total 625)\n"
          ]
        },
        {
          "name": "stderr",
          "output_type": "stream",
          "text": [
            "Letters:   6%|▋         | 2/32 [07:10<1:11:02, 142.08s/it]"
          ]
        },
        {
          "name": "stdout",
          "output_type": "stream",
          "text": [
            "→ ɓ p26: +25 entries (total 650)\n"
          ]
        },
        {
          "name": "stderr",
          "output_type": "stream",
          "text": [
            "Letters:   6%|▋         | 2/32 [07:16<1:11:02, 142.08s/it]"
          ]
        },
        {
          "name": "stdout",
          "output_type": "stream",
          "text": [
            "→ ɓ p27: +25 entries (total 675)\n"
          ]
        },
        {
          "name": "stderr",
          "output_type": "stream",
          "text": [
            "Letters:   6%|▋         | 2/32 [07:24<1:11:02, 142.08s/it]"
          ]
        },
        {
          "name": "stdout",
          "output_type": "stream",
          "text": [
            "→ ɓ p28: +25 entries (total 700)\n"
          ]
        },
        {
          "name": "stderr",
          "output_type": "stream",
          "text": [
            "Letters:   6%|▋         | 2/32 [07:31<1:11:02, 142.08s/it]"
          ]
        },
        {
          "name": "stdout",
          "output_type": "stream",
          "text": [
            "→ ɓ p29: +25 entries (total 725)\n"
          ]
        },
        {
          "name": "stderr",
          "output_type": "stream",
          "text": [
            "Letters:   6%|▋         | 2/32 [07:57<1:11:02, 142.08s/it]"
          ]
        },
        {
          "name": "stdout",
          "output_type": "stream",
          "text": [
            "→ ɓ p30: +25 entries (total 750)\n"
          ]
        },
        {
          "name": "stderr",
          "output_type": "stream",
          "text": [
            "Letters:   6%|▋         | 2/32 [08:09<1:11:02, 142.08s/it]"
          ]
        },
        {
          "name": "stdout",
          "output_type": "stream",
          "text": [
            "→ ɓ p31: +25 entries (total 775)\n"
          ]
        },
        {
          "name": "stderr",
          "output_type": "stream",
          "text": [
            "Letters:   6%|▋         | 2/32 [08:14<1:11:02, 142.08s/it]"
          ]
        },
        {
          "name": "stdout",
          "output_type": "stream",
          "text": [
            "→ ɓ p32: +25 entries (total 800)\n"
          ]
        },
        {
          "name": "stderr",
          "output_type": "stream",
          "text": [
            "Letters:   6%|▋         | 2/32 [08:19<1:11:02, 142.08s/it]"
          ]
        },
        {
          "name": "stdout",
          "output_type": "stream",
          "text": [
            "→ ɓ p33: +25 entries (total 825)\n"
          ]
        },
        {
          "name": "stderr",
          "output_type": "stream",
          "text": [
            "Letters:   6%|▋         | 2/32 [08:24<1:11:02, 142.08s/it]"
          ]
        },
        {
          "name": "stdout",
          "output_type": "stream",
          "text": [
            "→ ɓ p34: +25 entries (total 850)\n"
          ]
        },
        {
          "name": "stderr",
          "output_type": "stream",
          "text": [
            "Letters:   6%|▋         | 2/32 [08:31<1:11:02, 142.08s/it]"
          ]
        },
        {
          "name": "stdout",
          "output_type": "stream",
          "text": [
            "→ ɓ p35: +25 entries (total 875)\n"
          ]
        },
        {
          "name": "stderr",
          "output_type": "stream",
          "text": [
            "Letters:   6%|▋         | 2/32 [08:36<1:11:02, 142.08s/it]"
          ]
        },
        {
          "name": "stdout",
          "output_type": "stream",
          "text": [
            "→ ɓ p36: +25 entries (total 900)\n"
          ]
        },
        {
          "name": "stderr",
          "output_type": "stream",
          "text": [
            "Letters:   6%|▋         | 2/32 [08:41<1:11:02, 142.08s/it]"
          ]
        },
        {
          "name": "stdout",
          "output_type": "stream",
          "text": [
            "→ ɓ p37: +25 entries (total 925)\n"
          ]
        },
        {
          "name": "stderr",
          "output_type": "stream",
          "text": [
            "Letters:   6%|▋         | 2/32 [08:46<1:11:02, 142.08s/it]"
          ]
        },
        {
          "name": "stdout",
          "output_type": "stream",
          "text": [
            "→ ɓ p38: +25 entries (total 950)\n"
          ]
        },
        {
          "name": "stderr",
          "output_type": "stream",
          "text": [
            "Letters:   6%|▋         | 2/32 [08:51<1:11:02, 142.08s/it]"
          ]
        },
        {
          "name": "stdout",
          "output_type": "stream",
          "text": [
            "→ ɓ p39: +25 entries (total 975)\n"
          ]
        },
        {
          "name": "stderr",
          "output_type": "stream",
          "text": [
            "Letters:   6%|▋         | 2/32 [08:59<1:11:02, 142.08s/it]"
          ]
        },
        {
          "name": "stdout",
          "output_type": "stream",
          "text": [
            "→ ɓ p40: +25 entries (total 1000)\n"
          ]
        },
        {
          "name": "stderr",
          "output_type": "stream",
          "text": [
            "Letters:   6%|▋         | 2/32 [09:05<1:11:02, 142.08s/it]"
          ]
        },
        {
          "name": "stdout",
          "output_type": "stream",
          "text": [
            "→ ɓ p41: +25 entries (total 1025)\n"
          ]
        },
        {
          "name": "stderr",
          "output_type": "stream",
          "text": [
            "Letters:   6%|▋         | 2/32 [09:10<1:11:02, 142.08s/it]"
          ]
        },
        {
          "name": "stdout",
          "output_type": "stream",
          "text": [
            "→ ɓ p42: +25 entries (total 1050)\n"
          ]
        },
        {
          "name": "stderr",
          "output_type": "stream",
          "text": [
            "Letters:   6%|▋         | 2/32 [09:15<1:11:02, 142.08s/it]"
          ]
        },
        {
          "name": "stdout",
          "output_type": "stream",
          "text": [
            "→ ɓ p43: +25 entries (total 1075)\n"
          ]
        },
        {
          "name": "stderr",
          "output_type": "stream",
          "text": [
            "Letters:   6%|▋         | 2/32 [09:24<1:11:02, 142.08s/it]"
          ]
        },
        {
          "name": "stdout",
          "output_type": "stream",
          "text": [
            "→ ɓ p44: +25 entries (total 1100)\n"
          ]
        },
        {
          "name": "stderr",
          "output_type": "stream",
          "text": [
            "Letters:   6%|▋         | 2/32 [09:33<1:11:02, 142.08s/it]"
          ]
        },
        {
          "name": "stdout",
          "output_type": "stream",
          "text": [
            "→ ɓ p45: +25 entries (total 1125)\n"
          ]
        },
        {
          "name": "stderr",
          "output_type": "stream",
          "text": [
            "Letters:   6%|▋         | 2/32 [09:38<1:11:02, 142.08s/it]"
          ]
        },
        {
          "name": "stdout",
          "output_type": "stream",
          "text": [
            "→ ɓ p46: +25 entries (total 1150)\n"
          ]
        },
        {
          "name": "stderr",
          "output_type": "stream",
          "text": [
            "Letters:   6%|▋         | 2/32 [09:43<1:11:02, 142.08s/it]"
          ]
        },
        {
          "name": "stdout",
          "output_type": "stream",
          "text": [
            "→ ɓ p47: +25 entries (total 1175)\n"
          ]
        },
        {
          "name": "stderr",
          "output_type": "stream",
          "text": [
            "Letters:   6%|▋         | 2/32 [09:47<1:11:02, 142.08s/it]"
          ]
        },
        {
          "name": "stdout",
          "output_type": "stream",
          "text": [
            "→ ɓ p48: +25 entries (total 1200)\n"
          ]
        },
        {
          "name": "stderr",
          "output_type": "stream",
          "text": [
            "Letters:   6%|▋         | 2/32 [09:56<1:11:02, 142.08s/it]"
          ]
        },
        {
          "name": "stdout",
          "output_type": "stream",
          "text": [
            "→ ɓ p49: +25 entries (total 1225)\n"
          ]
        },
        {
          "name": "stderr",
          "output_type": "stream",
          "text": [
            "Letters:   6%|▋         | 2/32 [10:04<1:11:02, 142.08s/it]"
          ]
        },
        {
          "name": "stdout",
          "output_type": "stream",
          "text": [
            "→ ɓ p50: +25 entries (total 1250)\n"
          ]
        },
        {
          "name": "stderr",
          "output_type": "stream",
          "text": [
            "Letters:   6%|▋         | 2/32 [10:11<1:11:02, 142.08s/it]"
          ]
        },
        {
          "name": "stdout",
          "output_type": "stream",
          "text": [
            "→ ɓ p51: +25 entries (total 1275)\n"
          ]
        },
        {
          "name": "stderr",
          "output_type": "stream",
          "text": [
            "Letters:   6%|▋         | 2/32 [10:18<1:11:02, 142.08s/it]"
          ]
        },
        {
          "name": "stdout",
          "output_type": "stream",
          "text": [
            "→ ɓ p52: +25 entries (total 1300)\n"
          ]
        },
        {
          "name": "stderr",
          "output_type": "stream",
          "text": [
            "Letters:   6%|▋         | 2/32 [10:23<1:11:02, 142.08s/it]"
          ]
        },
        {
          "name": "stdout",
          "output_type": "stream",
          "text": [
            "→ ɓ p53: +25 entries (total 1325)\n"
          ]
        },
        {
          "name": "stderr",
          "output_type": "stream",
          "text": [
            "Letters:   6%|▋         | 2/32 [10:28<1:11:02, 142.08s/it]"
          ]
        },
        {
          "name": "stdout",
          "output_type": "stream",
          "text": [
            "→ ɓ p54: +25 entries (total 1350)\n"
          ]
        },
        {
          "name": "stderr",
          "output_type": "stream",
          "text": [
            "Letters:   6%|▋         | 2/32 [10:35<1:11:02, 142.08s/it]"
          ]
        },
        {
          "name": "stdout",
          "output_type": "stream",
          "text": [
            "→ ɓ p55: +25 entries (total 1375)\n"
          ]
        },
        {
          "name": "stderr",
          "output_type": "stream",
          "text": [
            "Letters:   6%|▋         | 2/32 [10:41<1:11:02, 142.08s/it]"
          ]
        },
        {
          "name": "stdout",
          "output_type": "stream",
          "text": [
            "→ ɓ p56: +25 entries (total 1400)\n"
          ]
        },
        {
          "name": "stderr",
          "output_type": "stream",
          "text": [
            "Letters:   6%|▋         | 2/32 [10:48<1:11:02, 142.08s/it]"
          ]
        },
        {
          "name": "stdout",
          "output_type": "stream",
          "text": [
            "→ ɓ p57: +25 entries (total 1425)\n"
          ]
        },
        {
          "name": "stderr",
          "output_type": "stream",
          "text": [
            "Letters:   6%|▋         | 2/32 [10:53<1:11:02, 142.08s/it]"
          ]
        },
        {
          "name": "stdout",
          "output_type": "stream",
          "text": [
            "→ ɓ p58: +25 entries (total 1450)\n"
          ]
        },
        {
          "name": "stderr",
          "output_type": "stream",
          "text": [
            "Letters:   6%|▋         | 2/32 [11:01<1:11:02, 142.08s/it]"
          ]
        },
        {
          "name": "stdout",
          "output_type": "stream",
          "text": [
            "→ ɓ p59: +25 entries (total 1475)\n"
          ]
        },
        {
          "name": "stderr",
          "output_type": "stream",
          "text": [
            "Letters:   6%|▋         | 2/32 [11:10<1:11:02, 142.08s/it]"
          ]
        },
        {
          "name": "stdout",
          "output_type": "stream",
          "text": [
            "→ ɓ p60: +25 entries (total 1500)\n"
          ]
        },
        {
          "name": "stderr",
          "output_type": "stream",
          "text": [
            "Letters:   6%|▋         | 2/32 [11:14<1:11:02, 142.08s/it]"
          ]
        },
        {
          "name": "stdout",
          "output_type": "stream",
          "text": [
            "→ ɓ p61: +20 entries (total 1520)\n"
          ]
        },
        {
          "name": "stderr",
          "output_type": "stream",
          "text": [
            "Letters:   9%|▉         | 3/32 [11:17<2:07:40, 264.14s/it]"
          ]
        },
        {
          "name": "stdout",
          "output_type": "stream",
          "text": [
            "→ * p1: +1 entries (total 1)\n"
          ]
        },
        {
          "name": "stderr",
          "output_type": "stream",
          "text": [
            "Letters:  12%|█▎        | 4/32 [11:28<1:15:07, 160.99s/it]"
          ]
        },
        {
          "name": "stdout",
          "output_type": "stream",
          "text": [
            "→ c p1: +25 entries (total 25)\n"
          ]
        },
        {
          "name": "stderr",
          "output_type": "stream",
          "text": [
            "Letters:  12%|█▎        | 4/32 [11:39<1:15:07, 160.99s/it]"
          ]
        },
        {
          "name": "stdout",
          "output_type": "stream",
          "text": [
            "→ c p2: +25 entries (total 50)\n"
          ]
        },
        {
          "name": "stderr",
          "output_type": "stream",
          "text": [
            "Letters:  12%|█▎        | 4/32 [11:44<1:15:07, 160.99s/it]"
          ]
        },
        {
          "name": "stdout",
          "output_type": "stream",
          "text": [
            "→ c p3: +25 entries (total 75)\n"
          ]
        },
        {
          "name": "stderr",
          "output_type": "stream",
          "text": [
            "Letters:  12%|█▎        | 4/32 [11:50<1:15:07, 160.99s/it]"
          ]
        },
        {
          "name": "stdout",
          "output_type": "stream",
          "text": [
            "→ c p4: +25 entries (total 100)\n"
          ]
        },
        {
          "name": "stderr",
          "output_type": "stream",
          "text": [
            "Letters:  12%|█▎        | 4/32 [11:58<1:15:07, 160.99s/it]"
          ]
        },
        {
          "name": "stdout",
          "output_type": "stream",
          "text": [
            "→ c p5: +25 entries (total 125)\n"
          ]
        },
        {
          "name": "stderr",
          "output_type": "stream",
          "text": [
            "Letters:  12%|█▎        | 4/32 [12:05<1:15:07, 160.99s/it]"
          ]
        },
        {
          "name": "stdout",
          "output_type": "stream",
          "text": [
            "→ c p6: +25 entries (total 150)\n"
          ]
        },
        {
          "name": "stderr",
          "output_type": "stream",
          "text": [
            "Letters:  12%|█▎        | 4/32 [12:10<1:15:07, 160.99s/it]"
          ]
        },
        {
          "name": "stdout",
          "output_type": "stream",
          "text": [
            "→ c p7: +25 entries (total 175)\n"
          ]
        },
        {
          "name": "stderr",
          "output_type": "stream",
          "text": [
            "Letters:  12%|█▎        | 4/32 [12:18<1:15:07, 160.99s/it]"
          ]
        },
        {
          "name": "stdout",
          "output_type": "stream",
          "text": [
            "→ c p8: +25 entries (total 200)\n"
          ]
        },
        {
          "name": "stderr",
          "output_type": "stream",
          "text": [
            "Letters:  12%|█▎        | 4/32 [12:26<1:15:07, 160.99s/it]"
          ]
        },
        {
          "name": "stdout",
          "output_type": "stream",
          "text": [
            "→ c p9: +23 entries (total 223)\n"
          ]
        },
        {
          "name": "stderr",
          "output_type": "stream",
          "text": [
            "Letters:  16%|█▌        | 5/32 [12:35<57:27, 127.67s/it]"
          ]
        },
        {
          "name": "stdout",
          "output_type": "stream",
          "text": [
            "→ d p1: +25 entries (total 25)\n"
          ]
        },
        {
          "name": "stderr",
          "output_type": "stream",
          "text": [
            "Letters:  16%|█▌        | 5/32 [12:55<57:27, 127.67s/it]"
          ]
        },
        {
          "name": "stdout",
          "output_type": "stream",
          "text": [
            "→ d p2: +25 entries (total 50)\n"
          ]
        },
        {
          "name": "stderr",
          "output_type": "stream",
          "text": [
            "Letters:  16%|█▌        | 5/32 [13:02<57:27, 127.67s/it]"
          ]
        },
        {
          "name": "stdout",
          "output_type": "stream",
          "text": [
            "→ d p3: +25 entries (total 75)\n"
          ]
        },
        {
          "name": "stderr",
          "output_type": "stream",
          "text": [
            "Letters:  16%|█▌        | 5/32 [13:07<57:27, 127.67s/it]"
          ]
        },
        {
          "name": "stdout",
          "output_type": "stream",
          "text": [
            "→ d p4: +25 entries (total 100)\n"
          ]
        },
        {
          "name": "stderr",
          "output_type": "stream",
          "text": [
            "Letters:  16%|█▌        | 5/32 [13:13<57:27, 127.67s/it]"
          ]
        },
        {
          "name": "stdout",
          "output_type": "stream",
          "text": [
            "→ d p5: +10 entries (total 110)\n"
          ]
        },
        {
          "name": "stderr",
          "output_type": "stream",
          "text": [
            "Letters:  19%|█▉        | 6/32 [13:19<43:25, 100.22s/it]"
          ]
        },
        {
          "name": "stdout",
          "output_type": "stream",
          "text": [
            "→ e p1: +25 entries (total 25)\n"
          ]
        },
        {
          "name": "stderr",
          "output_type": "stream",
          "text": [
            "Letters:  19%|█▉        | 6/32 [13:25<43:25, 100.22s/it]"
          ]
        },
        {
          "name": "stdout",
          "output_type": "stream",
          "text": [
            "→ e p2: +25 entries (total 50)\n"
          ]
        },
        {
          "name": "stderr",
          "output_type": "stream",
          "text": [
            "Letters:  19%|█▉        | 6/32 [13:31<43:25, 100.22s/it]"
          ]
        },
        {
          "name": "stdout",
          "output_type": "stream",
          "text": [
            "→ e p3: +25 entries (total 75)\n"
          ]
        },
        {
          "name": "stderr",
          "output_type": "stream",
          "text": [
            "Letters:  19%|█▉        | 6/32 [13:43<43:25, 100.22s/it]"
          ]
        },
        {
          "name": "stdout",
          "output_type": "stream",
          "text": [
            "→ e p4: +25 entries (total 100)\n"
          ]
        },
        {
          "name": "stderr",
          "output_type": "stream",
          "text": [
            "Letters:  19%|█▉        | 6/32 [13:57<43:25, 100.22s/it]"
          ]
        },
        {
          "name": "stdout",
          "output_type": "stream",
          "text": [
            "→ e p5: +25 entries (total 125)\n"
          ]
        },
        {
          "name": "stderr",
          "output_type": "stream",
          "text": [
            "Letters:  19%|█▉        | 6/32 [14:05<43:25, 100.22s/it]"
          ]
        },
        {
          "name": "stdout",
          "output_type": "stream",
          "text": [
            "→ e p6: +25 entries (total 150)\n"
          ]
        },
        {
          "name": "stderr",
          "output_type": "stream",
          "text": [
            "Letters:  19%|█▉        | 6/32 [14:12<43:25, 100.22s/it]"
          ]
        },
        {
          "name": "stdout",
          "output_type": "stream",
          "text": [
            "→ e p7: +22 entries (total 172)\n"
          ]
        },
        {
          "name": "stderr",
          "output_type": "stream",
          "text": [
            "Letters:  22%|██▏       | 7/32 [14:19<36:14, 86.99s/it]"
          ]
        },
        {
          "name": "stdout",
          "output_type": "stream",
          "text": [
            "→ ɛ p1: +25 entries (total 25)\n"
          ]
        },
        {
          "name": "stderr",
          "output_type": "stream",
          "text": [
            "Letters:  22%|██▏       | 7/32 [14:24<36:14, 86.99s/it]"
          ]
        },
        {
          "name": "stdout",
          "output_type": "stream",
          "text": [
            "→ ɛ p2: +25 entries (total 50)\n"
          ]
        },
        {
          "name": "stderr",
          "output_type": "stream",
          "text": [
            "Letters:  22%|██▏       | 7/32 [14:28<36:14, 86.99s/it]"
          ]
        },
        {
          "name": "stdout",
          "output_type": "stream",
          "text": [
            "→ ɛ p3: +11 entries (total 61)\n"
          ]
        },
        {
          "name": "stderr",
          "output_type": "stream",
          "text": [
            "Letters:  25%|██▌       | 8/32 [14:35<25:41, 64.22s/it]"
          ]
        },
        {
          "name": "stdout",
          "output_type": "stream",
          "text": [
            "→ f p1: +25 entries (total 25)\n"
          ]
        },
        {
          "name": "stderr",
          "output_type": "stream",
          "text": [
            "Letters:  25%|██▌       | 8/32 [14:40<25:41, 64.22s/it]"
          ]
        },
        {
          "name": "stdout",
          "output_type": "stream",
          "text": [
            "→ f p2: +25 entries (total 50)\n"
          ]
        },
        {
          "name": "stderr",
          "output_type": "stream",
          "text": [
            "Letters:  25%|██▌       | 8/32 [14:44<25:41, 64.22s/it]"
          ]
        },
        {
          "name": "stdout",
          "output_type": "stream",
          "text": [
            "→ f p3: +11 entries (total 61)\n"
          ]
        },
        {
          "name": "stderr",
          "output_type": "stream",
          "text": [
            "Letters:  28%|██▊       | 9/32 [14:47<18:50, 49.17s/it]"
          ]
        },
        {
          "name": "stdout",
          "output_type": "stream",
          "text": [
            "→ ᷇ p1: +1 entries (total 1)\n"
          ]
        },
        {
          "name": "stderr",
          "output_type": "stream",
          "text": [
            "Letters:  31%|███▏      | 10/32 [14:52<12:46, 34.83s/it]"
          ]
        },
        {
          "name": "stdout",
          "output_type": "stream",
          "text": [
            "→ g p1: +25 entries (total 25)\n"
          ]
        },
        {
          "name": "stderr",
          "output_type": "stream",
          "text": [
            "Letters:  31%|███▏      | 10/32 [14:57<12:46, 34.83s/it]"
          ]
        },
        {
          "name": "stdout",
          "output_type": "stream",
          "text": [
            "→ g p2: +25 entries (total 50)\n"
          ]
        },
        {
          "name": "stderr",
          "output_type": "stream",
          "text": [
            "Letters:  31%|███▏      | 10/32 [15:02<12:46, 34.83s/it]"
          ]
        },
        {
          "name": "stdout",
          "output_type": "stream",
          "text": [
            "→ g p3: +25 entries (total 75)\n"
          ]
        },
        {
          "name": "stderr",
          "output_type": "stream",
          "text": [
            "Letters:  31%|███▏      | 10/32 [15:07<12:46, 34.83s/it]"
          ]
        },
        {
          "name": "stdout",
          "output_type": "stream",
          "text": [
            "→ g p4: +25 entries (total 100)\n"
          ]
        },
        {
          "name": "stderr",
          "output_type": "stream",
          "text": [
            "Letters:  31%|███▏      | 10/32 [15:11<12:46, 34.83s/it]"
          ]
        },
        {
          "name": "stdout",
          "output_type": "stream",
          "text": [
            "→ g p5: +25 entries (total 125)\n"
          ]
        },
        {
          "name": "stderr",
          "output_type": "stream",
          "text": [
            "Letters:  31%|███▏      | 10/32 [15:16<12:46, 34.83s/it]"
          ]
        },
        {
          "name": "stdout",
          "output_type": "stream",
          "text": [
            "→ g p6: +25 entries (total 150)\n"
          ]
        },
        {
          "name": "stderr",
          "output_type": "stream",
          "text": [
            "Letters:  31%|███▏      | 10/32 [15:21<12:46, 34.83s/it]"
          ]
        },
        {
          "name": "stdout",
          "output_type": "stream",
          "text": [
            "→ g p7: +25 entries (total 175)\n"
          ]
        },
        {
          "name": "stderr",
          "output_type": "stream",
          "text": [
            "Letters:  31%|███▏      | 10/32 [15:26<12:46, 34.83s/it]"
          ]
        },
        {
          "name": "stdout",
          "output_type": "stream",
          "text": [
            "→ g p8: +24 entries (total 199)\n"
          ]
        },
        {
          "name": "stderr",
          "output_type": "stream",
          "text": [
            "Letters:  34%|███▍      | 11/32 [15:31<12:37, 36.06s/it]"
          ]
        },
        {
          "name": "stdout",
          "output_type": "stream",
          "text": [
            "→ h p1: +25 entries (total 25)\n"
          ]
        },
        {
          "name": "stderr",
          "output_type": "stream",
          "text": [
            "Letters:  34%|███▍      | 11/32 [15:36<12:37, 36.06s/it]"
          ]
        },
        {
          "name": "stdout",
          "output_type": "stream",
          "text": [
            "→ h p2: +25 entries (total 50)\n"
          ]
        },
        {
          "name": "stderr",
          "output_type": "stream",
          "text": [
            "Letters:  34%|███▍      | 11/32 [15:40<12:37, 36.06s/it]"
          ]
        },
        {
          "name": "stdout",
          "output_type": "stream",
          "text": [
            "→ h p3: +25 entries (total 75)\n"
          ]
        },
        {
          "name": "stderr",
          "output_type": "stream",
          "text": [
            "Letters:  34%|███▍      | 11/32 [15:47<12:37, 36.06s/it]"
          ]
        },
        {
          "name": "stdout",
          "output_type": "stream",
          "text": [
            "→ h p4: +25 entries (total 100)\n"
          ]
        },
        {
          "name": "stderr",
          "output_type": "stream",
          "text": [
            "Letters:  34%|███▍      | 11/32 [15:52<12:37, 36.06s/it]"
          ]
        },
        {
          "name": "stdout",
          "output_type": "stream",
          "text": [
            "→ h p5: +25 entries (total 125)\n"
          ]
        },
        {
          "name": "stderr",
          "output_type": "stream",
          "text": [
            "Letters:  34%|███▍      | 11/32 [15:56<12:37, 36.06s/it]"
          ]
        },
        {
          "name": "stdout",
          "output_type": "stream",
          "text": [
            "→ h p6: +25 entries (total 150)\n"
          ]
        },
        {
          "name": "stderr",
          "output_type": "stream",
          "text": [
            "Letters:  34%|███▍      | 11/32 [16:01<12:37, 36.06s/it]"
          ]
        },
        {
          "name": "stdout",
          "output_type": "stream",
          "text": [
            "→ h p7: +25 entries (total 175)\n"
          ]
        },
        {
          "name": "stderr",
          "output_type": "stream",
          "text": [
            "Letters:  34%|███▍      | 11/32 [16:05<12:37, 36.06s/it]"
          ]
        },
        {
          "name": "stdout",
          "output_type": "stream",
          "text": [
            "→ h p8: +25 entries (total 200)\n"
          ]
        },
        {
          "name": "stderr",
          "output_type": "stream",
          "text": [
            "Letters:  34%|███▍      | 11/32 [16:10<12:37, 36.06s/it]"
          ]
        },
        {
          "name": "stdout",
          "output_type": "stream",
          "text": [
            "→ h p9: +25 entries (total 225)\n"
          ]
        },
        {
          "name": "stderr",
          "output_type": "stream",
          "text": [
            "Letters:  34%|███▍      | 11/32 [16:14<12:37, 36.06s/it]"
          ]
        },
        {
          "name": "stdout",
          "output_type": "stream",
          "text": [
            "→ h p10: +25 entries (total 250)\n"
          ]
        },
        {
          "name": "stderr",
          "output_type": "stream",
          "text": [
            "Letters:  34%|███▍      | 11/32 [16:19<12:37, 36.06s/it]"
          ]
        },
        {
          "name": "stdout",
          "output_type": "stream",
          "text": [
            "→ h p11: +25 entries (total 275)\n"
          ]
        },
        {
          "name": "stderr",
          "output_type": "stream",
          "text": [
            "Letters:  34%|███▍      | 11/32 [16:25<12:37, 36.06s/it]"
          ]
        },
        {
          "name": "stdout",
          "output_type": "stream",
          "text": [
            "→ h p12: +25 entries (total 300)\n"
          ]
        },
        {
          "name": "stderr",
          "output_type": "stream",
          "text": [
            "Letters:  34%|███▍      | 11/32 [16:33<12:37, 36.06s/it]"
          ]
        },
        {
          "name": "stdout",
          "output_type": "stream",
          "text": [
            "→ h p13: +25 entries (total 325)\n"
          ]
        },
        {
          "name": "stderr",
          "output_type": "stream",
          "text": [
            "Letters:  34%|███▍      | 11/32 [16:37<12:37, 36.06s/it]"
          ]
        },
        {
          "name": "stdout",
          "output_type": "stream",
          "text": [
            "→ h p14: +25 entries (total 350)\n"
          ]
        },
        {
          "name": "stderr",
          "output_type": "stream",
          "text": [
            "Letters:  34%|███▍      | 11/32 [16:42<12:37, 36.06s/it]"
          ]
        },
        {
          "name": "stdout",
          "output_type": "stream",
          "text": [
            "→ h p15: +25 entries (total 375)\n"
          ]
        },
        {
          "name": "stderr",
          "output_type": "stream",
          "text": [
            "Letters:  34%|███▍      | 11/32 [16:47<12:37, 36.06s/it]"
          ]
        },
        {
          "name": "stdout",
          "output_type": "stream",
          "text": [
            "→ h p16: +25 entries (total 400)\n"
          ]
        },
        {
          "name": "stderr",
          "output_type": "stream",
          "text": [
            "Letters:  34%|███▍      | 11/32 [16:51<12:37, 36.06s/it]"
          ]
        },
        {
          "name": "stdout",
          "output_type": "stream",
          "text": [
            "→ h p17: +25 entries (total 425)\n"
          ]
        },
        {
          "name": "stderr",
          "output_type": "stream",
          "text": [
            "Letters:  34%|███▍      | 11/32 [16:56<12:37, 36.06s/it]"
          ]
        },
        {
          "name": "stdout",
          "output_type": "stream",
          "text": [
            "→ h p18: +25 entries (total 450)\n"
          ]
        },
        {
          "name": "stderr",
          "output_type": "stream",
          "text": [
            "Letters:  34%|███▍      | 11/32 [17:00<12:37, 36.06s/it]"
          ]
        },
        {
          "name": "stdout",
          "output_type": "stream",
          "text": [
            "→ h p19: +25 entries (total 475)\n"
          ]
        },
        {
          "name": "stderr",
          "output_type": "stream",
          "text": [
            "Letters:  34%|███▍      | 11/32 [17:05<12:37, 36.06s/it]"
          ]
        },
        {
          "name": "stdout",
          "output_type": "stream",
          "text": [
            "→ h p20: +25 entries (total 500)\n"
          ]
        },
        {
          "name": "stderr",
          "output_type": "stream",
          "text": [
            "Letters:  34%|███▍      | 11/32 [17:10<12:37, 36.06s/it]"
          ]
        },
        {
          "name": "stdout",
          "output_type": "stream",
          "text": [
            "→ h p21: +25 entries (total 525)\n"
          ]
        },
        {
          "name": "stderr",
          "output_type": "stream",
          "text": [
            "Letters:  34%|███▍      | 11/32 [17:19<12:37, 36.06s/it]"
          ]
        },
        {
          "name": "stdout",
          "output_type": "stream",
          "text": [
            "→ h p22: +25 entries (total 550)\n"
          ]
        },
        {
          "name": "stderr",
          "output_type": "stream",
          "text": [
            "Letters:  34%|███▍      | 11/32 [17:24<12:37, 36.06s/it]"
          ]
        },
        {
          "name": "stdout",
          "output_type": "stream",
          "text": [
            "→ h p23: +25 entries (total 575)\n"
          ]
        },
        {
          "name": "stderr",
          "output_type": "stream",
          "text": [
            "Letters:  34%|███▍      | 11/32 [17:28<12:37, 36.06s/it]"
          ]
        },
        {
          "name": "stdout",
          "output_type": "stream",
          "text": [
            "→ h p24: +25 entries (total 600)\n"
          ]
        },
        {
          "name": "stderr",
          "output_type": "stream",
          "text": [
            "Letters:  34%|███▍      | 11/32 [17:33<12:37, 36.06s/it]"
          ]
        },
        {
          "name": "stdout",
          "output_type": "stream",
          "text": [
            "→ h p25: +25 entries (total 625)\n"
          ]
        },
        {
          "name": "stderr",
          "output_type": "stream",
          "text": [
            "Letters:  34%|███▍      | 11/32 [17:38<12:37, 36.06s/it]"
          ]
        },
        {
          "name": "stdout",
          "output_type": "stream",
          "text": [
            "→ h p26: +25 entries (total 650)\n"
          ]
        },
        {
          "name": "stderr",
          "output_type": "stream",
          "text": [
            "Letters:  34%|███▍      | 11/32 [17:42<12:37, 36.06s/it]"
          ]
        },
        {
          "name": "stdout",
          "output_type": "stream",
          "text": [
            "→ h p27: +25 entries (total 675)\n"
          ]
        },
        {
          "name": "stderr",
          "output_type": "stream",
          "text": [
            "Letters:  34%|███▍      | 11/32 [17:46<12:37, 36.06s/it]"
          ]
        },
        {
          "name": "stdout",
          "output_type": "stream",
          "text": [
            "→ h p28: +25 entries (total 700)\n"
          ]
        },
        {
          "name": "stderr",
          "output_type": "stream",
          "text": [
            "Letters:  34%|███▍      | 11/32 [17:51<12:37, 36.06s/it]"
          ]
        },
        {
          "name": "stdout",
          "output_type": "stream",
          "text": [
            "→ h p29: +25 entries (total 725)\n"
          ]
        },
        {
          "name": "stderr",
          "output_type": "stream",
          "text": [
            "Letters:  34%|███▍      | 11/32 [17:56<12:37, 36.06s/it]"
          ]
        },
        {
          "name": "stdout",
          "output_type": "stream",
          "text": [
            "→ h p30: +25 entries (total 750)\n"
          ]
        },
        {
          "name": "stderr",
          "output_type": "stream",
          "text": [
            "Letters:  34%|███▍      | 11/32 [18:01<12:37, 36.06s/it]"
          ]
        },
        {
          "name": "stdout",
          "output_type": "stream",
          "text": [
            "→ h p31: +25 entries (total 775)\n"
          ]
        },
        {
          "name": "stderr",
          "output_type": "stream",
          "text": [
            "Letters:  34%|███▍      | 11/32 [18:06<12:37, 36.06s/it]"
          ]
        },
        {
          "name": "stdout",
          "output_type": "stream",
          "text": [
            "→ h p32: +25 entries (total 800)\n"
          ]
        },
        {
          "name": "stderr",
          "output_type": "stream",
          "text": [
            "Letters:  34%|███▍      | 11/32 [18:11<12:37, 36.06s/it]"
          ]
        },
        {
          "name": "stdout",
          "output_type": "stream",
          "text": [
            "→ h p33: +25 entries (total 825)\n"
          ]
        },
        {
          "name": "stderr",
          "output_type": "stream",
          "text": [
            "Letters:  34%|███▍      | 11/32 [18:17<12:37, 36.06s/it]"
          ]
        },
        {
          "name": "stdout",
          "output_type": "stream",
          "text": [
            "→ h p34: +25 entries (total 850)\n"
          ]
        },
        {
          "name": "stderr",
          "output_type": "stream",
          "text": [
            "Letters:  34%|███▍      | 11/32 [18:21<12:37, 36.06s/it]"
          ]
        },
        {
          "name": "stdout",
          "output_type": "stream",
          "text": [
            "→ h p35: +25 entries (total 875)\n"
          ]
        },
        {
          "name": "stderr",
          "output_type": "stream",
          "text": [
            "Letters:  34%|███▍      | 11/32 [18:27<12:37, 36.06s/it]"
          ]
        },
        {
          "name": "stdout",
          "output_type": "stream",
          "text": [
            "→ h p36: +25 entries (total 900)\n"
          ]
        },
        {
          "name": "stderr",
          "output_type": "stream",
          "text": [
            "Letters:  34%|███▍      | 11/32 [18:36<12:37, 36.06s/it]"
          ]
        },
        {
          "name": "stdout",
          "output_type": "stream",
          "text": [
            "→ h p37: +25 entries (total 925)\n"
          ]
        },
        {
          "name": "stderr",
          "output_type": "stream",
          "text": [
            "Letters:  34%|███▍      | 11/32 [18:43<12:37, 36.06s/it]"
          ]
        },
        {
          "name": "stdout",
          "output_type": "stream",
          "text": [
            "→ h p38: +25 entries (total 950)\n"
          ]
        },
        {
          "name": "stderr",
          "output_type": "stream",
          "text": [
            "Letters:  34%|███▍      | 11/32 [18:47<12:37, 36.06s/it]"
          ]
        },
        {
          "name": "stdout",
          "output_type": "stream",
          "text": [
            "→ h p39: +25 entries (total 975)\n"
          ]
        },
        {
          "name": "stderr",
          "output_type": "stream",
          "text": [
            "Letters:  34%|███▍      | 11/32 [18:53<12:37, 36.06s/it]"
          ]
        },
        {
          "name": "stdout",
          "output_type": "stream",
          "text": [
            "→ h p40: +25 entries (total 1000)\n"
          ]
        },
        {
          "name": "stderr",
          "output_type": "stream",
          "text": [
            "Letters:  34%|███▍      | 11/32 [18:57<12:37, 36.06s/it]"
          ]
        },
        {
          "name": "stdout",
          "output_type": "stream",
          "text": [
            "→ h p41: +25 entries (total 1025)\n"
          ]
        },
        {
          "name": "stderr",
          "output_type": "stream",
          "text": [
            "Letters:  34%|███▍      | 11/32 [19:02<12:37, 36.06s/it]"
          ]
        },
        {
          "name": "stdout",
          "output_type": "stream",
          "text": [
            "→ h p42: +25 entries (total 1050)\n"
          ]
        },
        {
          "name": "stderr",
          "output_type": "stream",
          "text": [
            "Letters:  34%|███▍      | 11/32 [19:07<12:37, 36.06s/it]"
          ]
        },
        {
          "name": "stdout",
          "output_type": "stream",
          "text": [
            "→ h p43: +25 entries (total 1075)\n"
          ]
        },
        {
          "name": "stderr",
          "output_type": "stream",
          "text": [
            "Letters:  34%|███▍      | 11/32 [19:11<12:37, 36.06s/it]"
          ]
        },
        {
          "name": "stdout",
          "output_type": "stream",
          "text": [
            "→ h p44: +25 entries (total 1100)\n"
          ]
        },
        {
          "name": "stderr",
          "output_type": "stream",
          "text": [
            "Letters:  34%|███▍      | 11/32 [19:16<12:37, 36.06s/it]"
          ]
        },
        {
          "name": "stdout",
          "output_type": "stream",
          "text": [
            "→ h p45: +25 entries (total 1125)\n"
          ]
        },
        {
          "name": "stderr",
          "output_type": "stream",
          "text": [
            "Letters:  34%|███▍      | 11/32 [19:20<12:37, 36.06s/it]"
          ]
        },
        {
          "name": "stdout",
          "output_type": "stream",
          "text": [
            "→ h p46: +25 entries (total 1150)\n"
          ]
        },
        {
          "name": "stderr",
          "output_type": "stream",
          "text": [
            "Letters:  34%|███▍      | 11/32 [19:24<12:37, 36.06s/it]"
          ]
        },
        {
          "name": "stdout",
          "output_type": "stream",
          "text": [
            "→ h p47: +25 entries (total 1175)\n"
          ]
        },
        {
          "name": "stderr",
          "output_type": "stream",
          "text": [
            "Letters:  34%|███▍      | 11/32 [19:33<12:37, 36.06s/it]"
          ]
        },
        {
          "name": "stdout",
          "output_type": "stream",
          "text": [
            "→ h p48: +25 entries (total 1200)\n"
          ]
        },
        {
          "name": "stderr",
          "output_type": "stream",
          "text": [
            "Letters:  34%|███▍      | 11/32 [19:38<12:37, 36.06s/it]"
          ]
        },
        {
          "name": "stdout",
          "output_type": "stream",
          "text": [
            "→ h p49: +25 entries (total 1225)\n"
          ]
        },
        {
          "name": "stderr",
          "output_type": "stream",
          "text": [
            "Letters:  34%|███▍      | 11/32 [19:43<12:37, 36.06s/it]"
          ]
        },
        {
          "name": "stdout",
          "output_type": "stream",
          "text": [
            "→ h p50: +25 entries (total 1250)\n"
          ]
        },
        {
          "name": "stderr",
          "output_type": "stream",
          "text": [
            "Letters:  34%|███▍      | 11/32 [19:47<12:37, 36.06s/it]"
          ]
        },
        {
          "name": "stdout",
          "output_type": "stream",
          "text": [
            "→ h p51: +25 entries (total 1275)\n"
          ]
        },
        {
          "name": "stderr",
          "output_type": "stream",
          "text": [
            "Letters:  34%|███▍      | 11/32 [19:51<12:37, 36.06s/it]"
          ]
        },
        {
          "name": "stdout",
          "output_type": "stream",
          "text": [
            "→ h p52: +25 entries (total 1300)\n"
          ]
        },
        {
          "name": "stderr",
          "output_type": "stream",
          "text": [
            "Letters:  34%|███▍      | 11/32 [19:56<12:37, 36.06s/it]"
          ]
        },
        {
          "name": "stdout",
          "output_type": "stream",
          "text": [
            "→ h p53: +25 entries (total 1325)\n"
          ]
        },
        {
          "name": "stderr",
          "output_type": "stream",
          "text": [
            "Letters:  34%|███▍      | 11/32 [20:00<12:37, 36.06s/it]"
          ]
        },
        {
          "name": "stdout",
          "output_type": "stream",
          "text": [
            "→ h p54: +25 entries (total 1350)\n"
          ]
        },
        {
          "name": "stderr",
          "output_type": "stream",
          "text": [
            "Letters:  34%|███▍      | 11/32 [20:06<12:37, 36.06s/it]"
          ]
        },
        {
          "name": "stdout",
          "output_type": "stream",
          "text": [
            "→ h p55: +25 entries (total 1375)\n"
          ]
        },
        {
          "name": "stderr",
          "output_type": "stream",
          "text": [
            "Letters:  34%|███▍      | 11/32 [20:10<12:37, 36.06s/it]"
          ]
        },
        {
          "name": "stdout",
          "output_type": "stream",
          "text": [
            "→ h p56: +25 entries (total 1400)\n"
          ]
        },
        {
          "name": "stderr",
          "output_type": "stream",
          "text": [
            "Letters:  34%|███▍      | 11/32 [20:14<12:37, 36.06s/it]"
          ]
        },
        {
          "name": "stdout",
          "output_type": "stream",
          "text": [
            "→ h p57: +25 entries (total 1425)\n"
          ]
        },
        {
          "name": "stderr",
          "output_type": "stream",
          "text": [
            "Letters:  34%|███▍      | 11/32 [20:20<12:37, 36.06s/it]"
          ]
        },
        {
          "name": "stdout",
          "output_type": "stream",
          "text": [
            "→ h p58: +25 entries (total 1450)\n"
          ]
        },
        {
          "name": "stderr",
          "output_type": "stream",
          "text": [
            "Letters:  34%|███▍      | 11/32 [20:25<12:37, 36.06s/it]"
          ]
        },
        {
          "name": "stdout",
          "output_type": "stream",
          "text": [
            "→ h p59: +25 entries (total 1475)\n"
          ]
        },
        {
          "name": "stderr",
          "output_type": "stream",
          "text": [
            "Letters:  34%|███▍      | 11/32 [20:29<12:37, 36.06s/it]"
          ]
        },
        {
          "name": "stdout",
          "output_type": "stream",
          "text": [
            "→ h p60: +25 entries (total 1500)\n"
          ]
        },
        {
          "name": "stderr",
          "output_type": "stream",
          "text": [
            "Letters:  34%|███▍      | 11/32 [20:34<12:37, 36.06s/it]"
          ]
        },
        {
          "name": "stdout",
          "output_type": "stream",
          "text": [
            "→ h p61: +25 entries (total 1525)\n"
          ]
        },
        {
          "name": "stderr",
          "output_type": "stream",
          "text": [
            "Letters:  34%|███▍      | 11/32 [20:39<12:37, 36.06s/it]"
          ]
        },
        {
          "name": "stdout",
          "output_type": "stream",
          "text": [
            "→ h p62: +25 entries (total 1550)\n"
          ]
        },
        {
          "name": "stderr",
          "output_type": "stream",
          "text": [
            "Letters:  34%|███▍      | 11/32 [20:43<12:37, 36.06s/it]"
          ]
        },
        {
          "name": "stdout",
          "output_type": "stream",
          "text": [
            "→ h p63: +25 entries (total 1575)\n"
          ]
        },
        {
          "name": "stderr",
          "output_type": "stream",
          "text": [
            "Letters:  34%|███▍      | 11/32 [20:49<12:37, 36.06s/it]"
          ]
        },
        {
          "name": "stdout",
          "output_type": "stream",
          "text": [
            "→ h p64: +25 entries (total 1600)\n"
          ]
        },
        {
          "name": "stderr",
          "output_type": "stream",
          "text": [
            "Letters:  34%|███▍      | 11/32 [20:53<12:37, 36.06s/it]"
          ]
        },
        {
          "name": "stdout",
          "output_type": "stream",
          "text": [
            "→ h p65: +25 entries (total 1625)\n"
          ]
        },
        {
          "name": "stderr",
          "output_type": "stream",
          "text": [
            "Letters:  34%|███▍      | 11/32 [20:57<12:37, 36.06s/it]"
          ]
        },
        {
          "name": "stdout",
          "output_type": "stream",
          "text": [
            "→ h p66: +25 entries (total 1650)\n"
          ]
        },
        {
          "name": "stderr",
          "output_type": "stream",
          "text": [
            "Letters:  34%|███▍      | 11/32 [21:02<12:37, 36.06s/it]"
          ]
        },
        {
          "name": "stdout",
          "output_type": "stream",
          "text": [
            "→ h p67: +25 entries (total 1675)\n"
          ]
        },
        {
          "name": "stderr",
          "output_type": "stream",
          "text": [
            "Letters:  34%|███▍      | 11/32 [21:06<12:37, 36.06s/it]"
          ]
        },
        {
          "name": "stdout",
          "output_type": "stream",
          "text": [
            "→ h p68: +25 entries (total 1700)\n"
          ]
        },
        {
          "name": "stderr",
          "output_type": "stream",
          "text": [
            "Letters:  34%|███▍      | 11/32 [21:11<12:37, 36.06s/it]"
          ]
        },
        {
          "name": "stdout",
          "output_type": "stream",
          "text": [
            "→ h p69: +25 entries (total 1725)\n"
          ]
        },
        {
          "name": "stderr",
          "output_type": "stream",
          "text": [
            "Letters:  34%|███▍      | 11/32 [21:17<12:37, 36.06s/it]"
          ]
        },
        {
          "name": "stdout",
          "output_type": "stream",
          "text": [
            "→ h p70: +25 entries (total 1750)\n"
          ]
        },
        {
          "name": "stderr",
          "output_type": "stream",
          "text": [
            "Letters:  34%|███▍      | 11/32 [21:21<12:37, 36.06s/it]"
          ]
        },
        {
          "name": "stdout",
          "output_type": "stream",
          "text": [
            "→ h p71: +25 entries (total 1775)\n"
          ]
        },
        {
          "name": "stderr",
          "output_type": "stream",
          "text": [
            "Letters:  34%|███▍      | 11/32 [21:28<12:37, 36.06s/it]"
          ]
        },
        {
          "name": "stdout",
          "output_type": "stream",
          "text": [
            "→ h p72: +25 entries (total 1800)\n"
          ]
        },
        {
          "name": "stderr",
          "output_type": "stream",
          "text": [
            "Letters:  34%|███▍      | 11/32 [21:32<12:37, 36.06s/it]"
          ]
        },
        {
          "name": "stdout",
          "output_type": "stream",
          "text": [
            "→ h p73: +25 entries (total 1825)\n"
          ]
        },
        {
          "name": "stderr",
          "output_type": "stream",
          "text": [
            "Letters:  34%|███▍      | 11/32 [21:37<12:37, 36.06s/it]"
          ]
        },
        {
          "name": "stdout",
          "output_type": "stream",
          "text": [
            "→ h p74: +25 entries (total 1850)\n"
          ]
        },
        {
          "name": "stderr",
          "output_type": "stream",
          "text": [
            "Letters:  34%|███▍      | 11/32 [21:41<12:37, 36.06s/it]"
          ]
        },
        {
          "name": "stdout",
          "output_type": "stream",
          "text": [
            "→ h p75: +25 entries (total 1875)\n"
          ]
        },
        {
          "name": "stderr",
          "output_type": "stream",
          "text": [
            "Letters:  34%|███▍      | 11/32 [21:46<12:37, 36.06s/it]"
          ]
        },
        {
          "name": "stdout",
          "output_type": "stream",
          "text": [
            "→ h p76: +25 entries (total 1900)\n"
          ]
        },
        {
          "name": "stderr",
          "output_type": "stream",
          "text": [
            "Letters:  34%|███▍      | 11/32 [21:51<12:37, 36.06s/it]"
          ]
        },
        {
          "name": "stdout",
          "output_type": "stream",
          "text": [
            "→ h p77: +25 entries (total 1925)\n"
          ]
        },
        {
          "name": "stderr",
          "output_type": "stream",
          "text": [
            "Letters:  34%|███▍      | 11/32 [21:56<12:37, 36.06s/it]"
          ]
        },
        {
          "name": "stdout",
          "output_type": "stream",
          "text": [
            "→ h p78: +25 entries (total 1950)\n"
          ]
        },
        {
          "name": "stderr",
          "output_type": "stream",
          "text": [
            "Letters:  34%|███▍      | 11/32 [22:00<12:37, 36.06s/it]"
          ]
        },
        {
          "name": "stdout",
          "output_type": "stream",
          "text": [
            "→ h p79: +25 entries (total 1975)\n"
          ]
        },
        {
          "name": "stderr",
          "output_type": "stream",
          "text": [
            "Letters:  34%|███▍      | 11/32 [22:04<12:37, 36.06s/it]"
          ]
        },
        {
          "name": "stdout",
          "output_type": "stream",
          "text": [
            "→ h p80: +25 entries (total 2000)\n"
          ]
        },
        {
          "name": "stderr",
          "output_type": "stream",
          "text": [
            "Letters:  34%|███▍      | 11/32 [22:09<12:37, 36.06s/it]"
          ]
        },
        {
          "name": "stdout",
          "output_type": "stream",
          "text": [
            "→ h p81: +25 entries (total 2025)\n"
          ]
        },
        {
          "name": "stderr",
          "output_type": "stream",
          "text": [
            "Letters:  34%|███▍      | 11/32 [22:14<12:37, 36.06s/it]"
          ]
        },
        {
          "name": "stdout",
          "output_type": "stream",
          "text": [
            "→ h p82: +25 entries (total 2050)\n"
          ]
        },
        {
          "name": "stderr",
          "output_type": "stream",
          "text": [
            "Letters:  34%|███▍      | 11/32 [22:20<12:37, 36.06s/it]"
          ]
        },
        {
          "name": "stdout",
          "output_type": "stream",
          "text": [
            "→ h p83: +25 entries (total 2075)\n"
          ]
        },
        {
          "name": "stderr",
          "output_type": "stream",
          "text": [
            "Letters:  34%|███▍      | 11/32 [22:25<12:37, 36.06s/it]"
          ]
        },
        {
          "name": "stdout",
          "output_type": "stream",
          "text": [
            "→ h p84: +25 entries (total 2100)\n"
          ]
        },
        {
          "name": "stderr",
          "output_type": "stream",
          "text": [
            "Letters:  34%|███▍      | 11/32 [22:35<12:37, 36.06s/it]"
          ]
        },
        {
          "name": "stdout",
          "output_type": "stream",
          "text": [
            "→ h p85: +25 entries (total 2125)\n"
          ]
        },
        {
          "name": "stderr",
          "output_type": "stream",
          "text": [
            "Letters:  34%|███▍      | 11/32 [22:41<12:37, 36.06s/it]"
          ]
        },
        {
          "name": "stdout",
          "output_type": "stream",
          "text": [
            "→ h p86: +25 entries (total 2150)\n"
          ]
        },
        {
          "name": "stderr",
          "output_type": "stream",
          "text": [
            "Letters:  34%|███▍      | 11/32 [22:54<12:37, 36.06s/it]"
          ]
        },
        {
          "name": "stdout",
          "output_type": "stream",
          "text": [
            "→ h p87: +25 entries (total 2175)\n"
          ]
        },
        {
          "name": "stderr",
          "output_type": "stream",
          "text": [
            "Letters:  34%|███▍      | 11/32 [23:02<12:37, 36.06s/it]"
          ]
        },
        {
          "name": "stdout",
          "output_type": "stream",
          "text": [
            "→ h p88: +25 entries (total 2200)\n"
          ]
        },
        {
          "name": "stderr",
          "output_type": "stream",
          "text": [
            "Letters:  34%|███▍      | 11/32 [23:06<12:37, 36.06s/it]"
          ]
        },
        {
          "name": "stdout",
          "output_type": "stream",
          "text": [
            "→ h p89: +25 entries (total 2225)\n"
          ]
        },
        {
          "name": "stderr",
          "output_type": "stream",
          "text": [
            "Letters:  34%|███▍      | 11/32 [23:11<12:37, 36.06s/it]"
          ]
        },
        {
          "name": "stdout",
          "output_type": "stream",
          "text": [
            "→ h p90: +25 entries (total 2250)\n"
          ]
        },
        {
          "name": "stderr",
          "output_type": "stream",
          "text": [
            "Letters:  34%|███▍      | 11/32 [23:16<12:37, 36.06s/it]"
          ]
        },
        {
          "name": "stdout",
          "output_type": "stream",
          "text": [
            "→ h p91: +25 entries (total 2275)\n"
          ]
        },
        {
          "name": "stderr",
          "output_type": "stream",
          "text": [
            "Letters:  34%|███▍      | 11/32 [23:21<12:37, 36.06s/it]"
          ]
        },
        {
          "name": "stdout",
          "output_type": "stream",
          "text": [
            "→ h p92: +25 entries (total 2300)\n"
          ]
        },
        {
          "name": "stderr",
          "output_type": "stream",
          "text": [
            "Letters:  34%|███▍      | 11/32 [23:25<12:37, 36.06s/it]"
          ]
        },
        {
          "name": "stdout",
          "output_type": "stream",
          "text": [
            "→ h p93: +25 entries (total 2325)\n"
          ]
        },
        {
          "name": "stderr",
          "output_type": "stream",
          "text": [
            "Letters:  34%|███▍      | 11/32 [23:30<12:37, 36.06s/it]"
          ]
        },
        {
          "name": "stdout",
          "output_type": "stream",
          "text": [
            "→ h p94: +25 entries (total 2350)\n"
          ]
        },
        {
          "name": "stderr",
          "output_type": "stream",
          "text": [
            "Letters:  34%|███▍      | 11/32 [23:34<12:37, 36.06s/it]"
          ]
        },
        {
          "name": "stdout",
          "output_type": "stream",
          "text": [
            "→ h p95: +25 entries (total 2375)\n"
          ]
        },
        {
          "name": "stderr",
          "output_type": "stream",
          "text": [
            "Letters:  34%|███▍      | 11/32 [23:39<12:37, 36.06s/it]"
          ]
        },
        {
          "name": "stdout",
          "output_type": "stream",
          "text": [
            "→ h p96: +25 entries (total 2400)\n"
          ]
        },
        {
          "name": "stderr",
          "output_type": "stream",
          "text": [
            "Letters:  34%|███▍      | 11/32 [23:45<12:37, 36.06s/it]"
          ]
        },
        {
          "name": "stdout",
          "output_type": "stream",
          "text": [
            "→ h p97: +25 entries (total 2425)\n"
          ]
        },
        {
          "name": "stderr",
          "output_type": "stream",
          "text": [
            "Letters:  34%|███▍      | 11/32 [23:51<12:37, 36.06s/it]"
          ]
        },
        {
          "name": "stdout",
          "output_type": "stream",
          "text": [
            "→ h p98: +25 entries (total 2450)\n"
          ]
        },
        {
          "name": "stderr",
          "output_type": "stream",
          "text": [
            "Letters:  34%|███▍      | 11/32 [23:56<12:37, 36.06s/it]"
          ]
        },
        {
          "name": "stdout",
          "output_type": "stream",
          "text": [
            "→ h p99: +25 entries (total 2475)\n"
          ]
        },
        {
          "name": "stderr",
          "output_type": "stream",
          "text": [
            "Letters:  34%|███▍      | 11/32 [24:00<12:37, 36.06s/it]"
          ]
        },
        {
          "name": "stdout",
          "output_type": "stream",
          "text": [
            "→ h p100: +25 entries (total 2500)\n"
          ]
        },
        {
          "name": "stderr",
          "output_type": "stream",
          "text": [
            "Letters:  34%|███▍      | 11/32 [24:05<12:37, 36.06s/it]"
          ]
        },
        {
          "name": "stdout",
          "output_type": "stream",
          "text": [
            "→ h p101: +25 entries (total 2525)\n"
          ]
        },
        {
          "name": "stderr",
          "output_type": "stream",
          "text": [
            "Letters:  34%|███▍      | 11/32 [24:10<12:37, 36.06s/it]"
          ]
        },
        {
          "name": "stdout",
          "output_type": "stream",
          "text": [
            "→ h p102: +25 entries (total 2550)\n"
          ]
        },
        {
          "name": "stderr",
          "output_type": "stream",
          "text": [
            "Letters:  34%|███▍      | 11/32 [24:15<12:37, 36.06s/it]"
          ]
        },
        {
          "name": "stdout",
          "output_type": "stream",
          "text": [
            "→ h p103: +25 entries (total 2575)\n"
          ]
        },
        {
          "name": "stderr",
          "output_type": "stream",
          "text": [
            "Letters:  34%|███▍      | 11/32 [24:20<12:37, 36.06s/it]"
          ]
        },
        {
          "name": "stdout",
          "output_type": "stream",
          "text": [
            "→ h p104: +25 entries (total 2600)\n"
          ]
        },
        {
          "name": "stderr",
          "output_type": "stream",
          "text": [
            "Letters:  34%|███▍      | 11/32 [24:24<12:37, 36.06s/it]"
          ]
        },
        {
          "name": "stdout",
          "output_type": "stream",
          "text": [
            "→ h p105: +25 entries (total 2625)\n"
          ]
        },
        {
          "name": "stderr",
          "output_type": "stream",
          "text": [
            "Letters:  34%|███▍      | 11/32 [24:29<12:37, 36.06s/it]"
          ]
        },
        {
          "name": "stdout",
          "output_type": "stream",
          "text": [
            "→ h p106: +25 entries (total 2650)\n"
          ]
        },
        {
          "name": "stderr",
          "output_type": "stream",
          "text": [
            "Letters:  34%|███▍      | 11/32 [24:33<12:37, 36.06s/it]"
          ]
        },
        {
          "name": "stdout",
          "output_type": "stream",
          "text": [
            "→ h p107: +25 entries (total 2675)\n"
          ]
        },
        {
          "name": "stderr",
          "output_type": "stream",
          "text": [
            "Letters:  34%|███▍      | 11/32 [24:36<12:37, 36.06s/it]"
          ]
        },
        {
          "name": "stdout",
          "output_type": "stream",
          "text": [
            "→ h p108: +3 entries (total 2678)\n"
          ]
        },
        {
          "name": "stderr",
          "output_type": "stream",
          "text": [
            "Letters:  38%|███▊      | 12/32 [24:40<1:04:12, 192.65s/it]"
          ]
        },
        {
          "name": "stdout",
          "output_type": "stream",
          "text": [
            "→ ̀ p1: +9 entries (total 9)\n"
          ]
        },
        {
          "name": "stderr",
          "output_type": "stream",
          "text": [
            "Letters:  41%|████      | 13/32 [24:46<42:52, 135.41s/it]"
          ]
        },
        {
          "name": "stdout",
          "output_type": "stream",
          "text": [
            "→ i p1: +25 entries (total 25)\n"
          ]
        },
        {
          "name": "stderr",
          "output_type": "stream",
          "text": [
            "Letters:  41%|████      | 13/32 [24:51<42:52, 135.41s/it]"
          ]
        },
        {
          "name": "stdout",
          "output_type": "stream",
          "text": [
            "→ i p2: +25 entries (total 50)\n"
          ]
        },
        {
          "name": "stderr",
          "output_type": "stream",
          "text": [
            "Letters:  41%|████      | 13/32 [24:55<42:52, 135.41s/it]"
          ]
        },
        {
          "name": "stdout",
          "output_type": "stream",
          "text": [
            "→ i p3: +25 entries (total 75)\n"
          ]
        },
        {
          "name": "stderr",
          "output_type": "stream",
          "text": [
            "Letters:  41%|████      | 13/32 [24:59<42:52, 135.41s/it]"
          ]
        },
        {
          "name": "stdout",
          "output_type": "stream",
          "text": [
            "→ i p4: +25 entries (total 100)\n"
          ]
        },
        {
          "name": "stderr",
          "output_type": "stream",
          "text": [
            "Letters:  41%|████      | 13/32 [25:04<42:52, 135.41s/it]"
          ]
        },
        {
          "name": "stdout",
          "output_type": "stream",
          "text": [
            "→ i p5: +25 entries (total 125)\n"
          ]
        },
        {
          "name": "stderr",
          "output_type": "stream",
          "text": [
            "Letters:  41%|████      | 13/32 [25:08<42:52, 135.41s/it]"
          ]
        },
        {
          "name": "stdout",
          "output_type": "stream",
          "text": [
            "→ i p6: +25 entries (total 150)\n"
          ]
        },
        {
          "name": "stderr",
          "output_type": "stream",
          "text": [
            "Letters:  41%|████      | 13/32 [25:13<42:52, 135.41s/it]"
          ]
        },
        {
          "name": "stdout",
          "output_type": "stream",
          "text": [
            "→ i p7: +25 entries (total 175)\n"
          ]
        },
        {
          "name": "stderr",
          "output_type": "stream",
          "text": [
            "Letters:  41%|████      | 13/32 [25:19<42:52, 135.41s/it]"
          ]
        },
        {
          "name": "stdout",
          "output_type": "stream",
          "text": [
            "→ i p8: +25 entries (total 200)\n"
          ]
        },
        {
          "name": "stderr",
          "output_type": "stream",
          "text": [
            "Letters:  41%|████      | 13/32 [25:23<42:52, 135.41s/it]"
          ]
        },
        {
          "name": "stdout",
          "output_type": "stream",
          "text": [
            "→ i p9: +25 entries (total 225)\n"
          ]
        },
        {
          "name": "stderr",
          "output_type": "stream",
          "text": [
            "Letters:  41%|████      | 13/32 [25:27<42:52, 135.41s/it]"
          ]
        },
        {
          "name": "stdout",
          "output_type": "stream",
          "text": [
            "→ i p10: +25 entries (total 250)\n"
          ]
        },
        {
          "name": "stderr",
          "output_type": "stream",
          "text": [
            "Letters:  41%|████      | 13/32 [25:32<42:52, 135.41s/it]"
          ]
        },
        {
          "name": "stdout",
          "output_type": "stream",
          "text": [
            "→ i p11: +25 entries (total 275)\n"
          ]
        },
        {
          "name": "stderr",
          "output_type": "stream",
          "text": [
            "Letters:  41%|████      | 13/32 [25:38<42:52, 135.41s/it]"
          ]
        },
        {
          "name": "stdout",
          "output_type": "stream",
          "text": [
            "→ i p12: +25 entries (total 300)\n"
          ]
        },
        {
          "name": "stderr",
          "output_type": "stream",
          "text": [
            "Letters:  41%|████      | 13/32 [25:42<42:52, 135.41s/it]"
          ]
        },
        {
          "name": "stdout",
          "output_type": "stream",
          "text": [
            "→ i p13: +25 entries (total 325)\n"
          ]
        },
        {
          "name": "stderr",
          "output_type": "stream",
          "text": [
            "Letters:  41%|████      | 13/32 [25:47<42:52, 135.41s/it]"
          ]
        },
        {
          "name": "stdout",
          "output_type": "stream",
          "text": [
            "→ i p14: +25 entries (total 350)\n"
          ]
        },
        {
          "name": "stderr",
          "output_type": "stream",
          "text": [
            "Letters:  41%|████      | 13/32 [25:51<42:52, 135.41s/it]"
          ]
        },
        {
          "name": "stdout",
          "output_type": "stream",
          "text": [
            "→ i p15: +25 entries (total 375)\n"
          ]
        },
        {
          "name": "stderr",
          "output_type": "stream",
          "text": [
            "Letters:  41%|████      | 13/32 [25:58<42:52, 135.41s/it]"
          ]
        },
        {
          "name": "stdout",
          "output_type": "stream",
          "text": [
            "→ i p16: +25 entries (total 400)\n"
          ]
        },
        {
          "name": "stderr",
          "output_type": "stream",
          "text": [
            "Letters:  41%|████      | 13/32 [26:09<42:52, 135.41s/it]"
          ]
        },
        {
          "name": "stdout",
          "output_type": "stream",
          "text": [
            "→ i p17: +25 entries (total 425)\n"
          ]
        },
        {
          "name": "stderr",
          "output_type": "stream",
          "text": [
            "Letters:  41%|████      | 13/32 [26:15<42:52, 135.41s/it]"
          ]
        },
        {
          "name": "stdout",
          "output_type": "stream",
          "text": [
            "→ i p18: +25 entries (total 450)\n"
          ]
        },
        {
          "name": "stderr",
          "output_type": "stream",
          "text": [
            "Letters:  41%|████      | 13/32 [26:19<42:52, 135.41s/it]"
          ]
        },
        {
          "name": "stdout",
          "output_type": "stream",
          "text": [
            "→ i p19: +25 entries (total 475)\n"
          ]
        },
        {
          "name": "stderr",
          "output_type": "stream",
          "text": [
            "Letters:  41%|████      | 13/32 [26:24<42:52, 135.41s/it]"
          ]
        },
        {
          "name": "stdout",
          "output_type": "stream",
          "text": [
            "→ i p20: +25 entries (total 500)\n"
          ]
        },
        {
          "name": "stderr",
          "output_type": "stream",
          "text": [
            "Letters:  41%|████      | 13/32 [26:29<42:52, 135.41s/it]"
          ]
        },
        {
          "name": "stdout",
          "output_type": "stream",
          "text": [
            "→ i p21: +25 entries (total 525)\n"
          ]
        },
        {
          "name": "stderr",
          "output_type": "stream",
          "text": [
            "Letters:  41%|████      | 13/32 [26:33<42:52, 135.41s/it]"
          ]
        },
        {
          "name": "stdout",
          "output_type": "stream",
          "text": [
            "→ i p22: +25 entries (total 550)\n"
          ]
        },
        {
          "name": "stderr",
          "output_type": "stream",
          "text": [
            "Letters:  41%|████      | 13/32 [26:38<42:52, 135.41s/it]"
          ]
        },
        {
          "name": "stdout",
          "output_type": "stream",
          "text": [
            "→ i p23: +25 entries (total 575)\n"
          ]
        },
        {
          "name": "stderr",
          "output_type": "stream",
          "text": [
            "Letters:  41%|████      | 13/32 [26:43<42:52, 135.41s/it]"
          ]
        },
        {
          "name": "stdout",
          "output_type": "stream",
          "text": [
            "→ i p24: +25 entries (total 600)\n"
          ]
        },
        {
          "name": "stderr",
          "output_type": "stream",
          "text": [
            "Letters:  41%|████      | 13/32 [26:47<42:52, 135.41s/it]"
          ]
        },
        {
          "name": "stdout",
          "output_type": "stream",
          "text": [
            "→ i p25: +25 entries (total 625)\n"
          ]
        },
        {
          "name": "stderr",
          "output_type": "stream",
          "text": [
            "Letters:  41%|████      | 13/32 [26:52<42:52, 135.41s/it]"
          ]
        },
        {
          "name": "stdout",
          "output_type": "stream",
          "text": [
            "→ i p26: +25 entries (total 650)\n"
          ]
        },
        {
          "name": "stderr",
          "output_type": "stream",
          "text": [
            "Letters:  41%|████      | 13/32 [26:56<42:52, 135.41s/it]"
          ]
        },
        {
          "name": "stdout",
          "output_type": "stream",
          "text": [
            "→ i p27: +25 entries (total 675)\n"
          ]
        },
        {
          "name": "stderr",
          "output_type": "stream",
          "text": [
            "Letters:  41%|████      | 13/32 [27:01<42:52, 135.41s/it]"
          ]
        },
        {
          "name": "stdout",
          "output_type": "stream",
          "text": [
            "→ i p28: +25 entries (total 700)\n"
          ]
        },
        {
          "name": "stderr",
          "output_type": "stream",
          "text": [
            "Letters:  41%|████      | 13/32 [27:04<42:52, 135.41s/it]"
          ]
        },
        {
          "name": "stdout",
          "output_type": "stream",
          "text": [
            "→ i p29: +17 entries (total 717)\n"
          ]
        },
        {
          "name": "stderr",
          "output_type": "stream",
          "text": [
            "Letters:  44%|████▍     | 14/32 [27:10<41:26, 138.12s/it]"
          ]
        },
        {
          "name": "stdout",
          "output_type": "stream",
          "text": [
            "→ j p1: +25 entries (total 25)\n"
          ]
        },
        {
          "name": "stderr",
          "output_type": "stream",
          "text": [
            "Letters:  44%|████▍     | 14/32 [27:15<41:26, 138.12s/it]"
          ]
        },
        {
          "name": "stdout",
          "output_type": "stream",
          "text": [
            "→ j p2: +25 entries (total 50)\n"
          ]
        },
        {
          "name": "stderr",
          "output_type": "stream",
          "text": [
            "Letters:  44%|████▍     | 14/32 [27:19<41:26, 138.12s/it]"
          ]
        },
        {
          "name": "stdout",
          "output_type": "stream",
          "text": [
            "→ j p3: +25 entries (total 75)\n"
          ]
        },
        {
          "name": "stderr",
          "output_type": "stream",
          "text": [
            "Letters:  44%|████▍     | 14/32 [27:23<41:26, 138.12s/it]"
          ]
        },
        {
          "name": "stdout",
          "output_type": "stream",
          "text": [
            "→ j p4: +25 entries (total 100)\n"
          ]
        },
        {
          "name": "stderr",
          "output_type": "stream",
          "text": [
            "Letters:  44%|████▍     | 14/32 [27:28<41:26, 138.12s/it]"
          ]
        },
        {
          "name": "stdout",
          "output_type": "stream",
          "text": [
            "→ j p5: +25 entries (total 125)\n"
          ]
        },
        {
          "name": "stderr",
          "output_type": "stream",
          "text": [
            "Letters:  44%|████▍     | 14/32 [27:32<41:26, 138.12s/it]"
          ]
        },
        {
          "name": "stdout",
          "output_type": "stream",
          "text": [
            "→ j p6: +25 entries (total 150)\n"
          ]
        },
        {
          "name": "stderr",
          "output_type": "stream",
          "text": [
            "Letters:  44%|████▍     | 14/32 [27:37<41:26, 138.12s/it]"
          ]
        },
        {
          "name": "stdout",
          "output_type": "stream",
          "text": [
            "→ j p7: +25 entries (total 175)\n"
          ]
        },
        {
          "name": "stderr",
          "output_type": "stream",
          "text": [
            "Letters:  44%|████▍     | 14/32 [27:42<41:26, 138.12s/it]"
          ]
        },
        {
          "name": "stdout",
          "output_type": "stream",
          "text": [
            "→ j p8: +25 entries (total 200)\n"
          ]
        },
        {
          "name": "stderr",
          "output_type": "stream",
          "text": [
            "Letters:  44%|████▍     | 14/32 [27:46<41:26, 138.12s/it]"
          ]
        },
        {
          "name": "stdout",
          "output_type": "stream",
          "text": [
            "→ j p9: +25 entries (total 225)\n"
          ]
        },
        {
          "name": "stderr",
          "output_type": "stream",
          "text": [
            "Letters:  44%|████▍     | 14/32 [27:51<41:26, 138.12s/it]"
          ]
        },
        {
          "name": "stdout",
          "output_type": "stream",
          "text": [
            "→ j p10: +25 entries (total 250)\n"
          ]
        },
        {
          "name": "stderr",
          "output_type": "stream",
          "text": [
            "Letters:  44%|████▍     | 14/32 [28:01<41:26, 138.12s/it]"
          ]
        },
        {
          "name": "stdout",
          "output_type": "stream",
          "text": [
            "→ j p11: +25 entries (total 275)\n"
          ]
        },
        {
          "name": "stderr",
          "output_type": "stream",
          "text": [
            "Letters:  44%|████▍     | 14/32 [28:08<41:26, 138.12s/it]"
          ]
        },
        {
          "name": "stdout",
          "output_type": "stream",
          "text": [
            "→ j p12: +25 entries (total 300)\n"
          ]
        },
        {
          "name": "stderr",
          "output_type": "stream",
          "text": [
            "Letters:  44%|████▍     | 14/32 [28:14<41:26, 138.12s/it]"
          ]
        },
        {
          "name": "stdout",
          "output_type": "stream",
          "text": [
            "→ j p13: +25 entries (total 325)\n"
          ]
        },
        {
          "name": "stderr",
          "output_type": "stream",
          "text": [
            "Letters:  44%|████▍     | 14/32 [28:18<41:26, 138.12s/it]"
          ]
        },
        {
          "name": "stdout",
          "output_type": "stream",
          "text": [
            "→ j p14: +25 entries (total 350)\n"
          ]
        },
        {
          "name": "stderr",
          "output_type": "stream",
          "text": [
            "Letters:  44%|████▍     | 14/32 [28:23<41:26, 138.12s/it]"
          ]
        },
        {
          "name": "stdout",
          "output_type": "stream",
          "text": [
            "→ j p15: +25 entries (total 375)\n"
          ]
        },
        {
          "name": "stderr",
          "output_type": "stream",
          "text": [
            "Letters:  44%|████▍     | 14/32 [28:27<41:26, 138.12s/it]"
          ]
        },
        {
          "name": "stdout",
          "output_type": "stream",
          "text": [
            "→ j p16: +25 entries (total 400)\n"
          ]
        },
        {
          "name": "stderr",
          "output_type": "stream",
          "text": [
            "Letters:  44%|████▍     | 14/32 [28:32<41:26, 138.12s/it]"
          ]
        },
        {
          "name": "stdout",
          "output_type": "stream",
          "text": [
            "→ j p17: +25 entries (total 425)\n"
          ]
        },
        {
          "name": "stderr",
          "output_type": "stream",
          "text": [
            "Letters:  44%|████▍     | 14/32 [28:37<41:26, 138.12s/it]"
          ]
        },
        {
          "name": "stdout",
          "output_type": "stream",
          "text": [
            "→ j p18: +25 entries (total 450)\n"
          ]
        },
        {
          "name": "stderr",
          "output_type": "stream",
          "text": [
            "Letters:  44%|████▍     | 14/32 [28:47<41:26, 138.12s/it]"
          ]
        },
        {
          "name": "stdout",
          "output_type": "stream",
          "text": [
            "→ j p19: +25 entries (total 475)\n"
          ]
        },
        {
          "name": "stderr",
          "output_type": "stream",
          "text": [
            "Letters:  44%|████▍     | 14/32 [28:53<41:26, 138.12s/it]"
          ]
        },
        {
          "name": "stdout",
          "output_type": "stream",
          "text": [
            "→ j p20: +25 entries (total 500)\n"
          ]
        },
        {
          "name": "stderr",
          "output_type": "stream",
          "text": [
            "Letters:  44%|████▍     | 14/32 [28:57<41:26, 138.12s/it]"
          ]
        },
        {
          "name": "stdout",
          "output_type": "stream",
          "text": [
            "→ j p21: +25 entries (total 525)\n"
          ]
        },
        {
          "name": "stderr",
          "output_type": "stream",
          "text": [
            "Letters:  44%|████▍     | 14/32 [29:02<41:26, 138.12s/it]"
          ]
        },
        {
          "name": "stdout",
          "output_type": "stream",
          "text": [
            "→ j p22: +25 entries (total 550)\n"
          ]
        },
        {
          "name": "stderr",
          "output_type": "stream",
          "text": [
            "Letters:  44%|████▍     | 14/32 [29:06<41:26, 138.12s/it]"
          ]
        },
        {
          "name": "stdout",
          "output_type": "stream",
          "text": [
            "→ j p23: +25 entries (total 575)\n"
          ]
        },
        {
          "name": "stderr",
          "output_type": "stream",
          "text": [
            "Letters:  44%|████▍     | 14/32 [29:11<41:26, 138.12s/it]"
          ]
        },
        {
          "name": "stdout",
          "output_type": "stream",
          "text": [
            "→ j p24: +25 entries (total 600)\n"
          ]
        },
        {
          "name": "stderr",
          "output_type": "stream",
          "text": [
            "Letters:  44%|████▍     | 14/32 [29:15<41:26, 138.12s/it]"
          ]
        },
        {
          "name": "stdout",
          "output_type": "stream",
          "text": [
            "→ j p25: +25 entries (total 625)\n"
          ]
        },
        {
          "name": "stderr",
          "output_type": "stream",
          "text": [
            "Letters:  44%|████▍     | 14/32 [29:21<41:26, 138.12s/it]"
          ]
        },
        {
          "name": "stdout",
          "output_type": "stream",
          "text": [
            "→ j p26: +25 entries (total 650)\n"
          ]
        },
        {
          "name": "stderr",
          "output_type": "stream",
          "text": [
            "Letters:  44%|████▍     | 14/32 [29:24<41:26, 138.12s/it]"
          ]
        },
        {
          "name": "stdout",
          "output_type": "stream",
          "text": [
            "→ j p27: +18 entries (total 668)\n"
          ]
        },
        {
          "name": "stderr",
          "output_type": "stream",
          "text": [
            "Letters:  47%|████▋     | 15/32 [29:30<39:18, 138.71s/it]"
          ]
        },
        {
          "name": "stdout",
          "output_type": "stream",
          "text": [
            "→ k p1: +25 entries (total 25)\n"
          ]
        },
        {
          "name": "stderr",
          "output_type": "stream",
          "text": [
            "Letters:  47%|████▋     | 15/32 [29:34<39:18, 138.71s/it]"
          ]
        },
        {
          "name": "stdout",
          "output_type": "stream",
          "text": [
            "→ k p2: +25 entries (total 50)\n"
          ]
        },
        {
          "name": "stderr",
          "output_type": "stream",
          "text": [
            "Letters:  47%|████▋     | 15/32 [29:38<39:18, 138.71s/it]"
          ]
        },
        {
          "name": "stdout",
          "output_type": "stream",
          "text": [
            "→ k p3: +25 entries (total 75)\n"
          ]
        },
        {
          "name": "stderr",
          "output_type": "stream",
          "text": [
            "Letters:  47%|████▋     | 15/32 [29:44<39:18, 138.71s/it]"
          ]
        },
        {
          "name": "stdout",
          "output_type": "stream",
          "text": [
            "→ k p4: +25 entries (total 100)\n"
          ]
        },
        {
          "name": "stderr",
          "output_type": "stream",
          "text": [
            "Letters:  47%|████▋     | 15/32 [29:51<39:18, 138.71s/it]"
          ]
        },
        {
          "name": "stdout",
          "output_type": "stream",
          "text": [
            "→ k p5: +25 entries (total 125)\n"
          ]
        },
        {
          "name": "stderr",
          "output_type": "stream",
          "text": [
            "Letters:  47%|████▋     | 15/32 [29:55<39:18, 138.71s/it]"
          ]
        },
        {
          "name": "stdout",
          "output_type": "stream",
          "text": [
            "→ k p6: +25 entries (total 150)\n"
          ]
        },
        {
          "name": "stderr",
          "output_type": "stream",
          "text": [
            "Letters:  47%|████▋     | 15/32 [29:59<39:18, 138.71s/it]"
          ]
        },
        {
          "name": "stdout",
          "output_type": "stream",
          "text": [
            "→ k p7: +25 entries (total 175)\n"
          ]
        },
        {
          "name": "stderr",
          "output_type": "stream",
          "text": [
            "Letters:  47%|████▋     | 15/32 [30:04<39:18, 138.71s/it]"
          ]
        },
        {
          "name": "stdout",
          "output_type": "stream",
          "text": [
            "→ k p8: +25 entries (total 200)\n"
          ]
        },
        {
          "name": "stderr",
          "output_type": "stream",
          "text": [
            "Letters:  47%|████▋     | 15/32 [30:08<39:18, 138.71s/it]"
          ]
        },
        {
          "name": "stdout",
          "output_type": "stream",
          "text": [
            "→ k p9: +25 entries (total 225)\n"
          ]
        },
        {
          "name": "stderr",
          "output_type": "stream",
          "text": [
            "Letters:  47%|████▋     | 15/32 [30:13<39:18, 138.71s/it]"
          ]
        },
        {
          "name": "stdout",
          "output_type": "stream",
          "text": [
            "→ k p10: +25 entries (total 250)\n"
          ]
        },
        {
          "name": "stderr",
          "output_type": "stream",
          "text": [
            "Letters:  47%|████▋     | 15/32 [30:17<39:18, 138.71s/it]"
          ]
        },
        {
          "name": "stdout",
          "output_type": "stream",
          "text": [
            "→ k p11: +25 entries (total 275)\n"
          ]
        },
        {
          "name": "stderr",
          "output_type": "stream",
          "text": [
            "Letters:  47%|████▋     | 15/32 [30:22<39:18, 138.71s/it]"
          ]
        },
        {
          "name": "stdout",
          "output_type": "stream",
          "text": [
            "→ k p12: +25 entries (total 300)\n"
          ]
        },
        {
          "name": "stderr",
          "output_type": "stream",
          "text": [
            "Letters:  47%|████▋     | 15/32 [30:26<39:18, 138.71s/it]"
          ]
        },
        {
          "name": "stdout",
          "output_type": "stream",
          "text": [
            "→ k p13: +25 entries (total 325)\n"
          ]
        },
        {
          "name": "stderr",
          "output_type": "stream",
          "text": [
            "Letters:  47%|████▋     | 15/32 [30:31<39:18, 138.71s/it]"
          ]
        },
        {
          "name": "stdout",
          "output_type": "stream",
          "text": [
            "→ k p14: +25 entries (total 350)\n"
          ]
        },
        {
          "name": "stderr",
          "output_type": "stream",
          "text": [
            "Letters:  47%|████▋     | 15/32 [30:36<39:18, 138.71s/it]"
          ]
        },
        {
          "name": "stdout",
          "output_type": "stream",
          "text": [
            "→ k p15: +25 entries (total 375)\n"
          ]
        },
        {
          "name": "stderr",
          "output_type": "stream",
          "text": [
            "Letters:  47%|████▋     | 15/32 [30:41<39:18, 138.71s/it]"
          ]
        },
        {
          "name": "stdout",
          "output_type": "stream",
          "text": [
            "→ k p16: +25 entries (total 400)\n"
          ]
        },
        {
          "name": "stderr",
          "output_type": "stream",
          "text": [
            "Letters:  47%|████▋     | 15/32 [30:47<39:18, 138.71s/it]"
          ]
        },
        {
          "name": "stdout",
          "output_type": "stream",
          "text": [
            "→ k p17: +25 entries (total 425)\n"
          ]
        },
        {
          "name": "stderr",
          "output_type": "stream",
          "text": [
            "Letters:  47%|████▋     | 15/32 [30:52<39:18, 138.71s/it]"
          ]
        },
        {
          "name": "stdout",
          "output_type": "stream",
          "text": [
            "→ k p18: +25 entries (total 450)\n"
          ]
        },
        {
          "name": "stderr",
          "output_type": "stream",
          "text": [
            "Letters:  47%|████▋     | 15/32 [30:57<39:18, 138.71s/it]"
          ]
        },
        {
          "name": "stdout",
          "output_type": "stream",
          "text": [
            "→ k p19: +25 entries (total 475)\n"
          ]
        },
        {
          "name": "stderr",
          "output_type": "stream",
          "text": [
            "Letters:  47%|████▋     | 15/32 [31:02<39:18, 138.71s/it]"
          ]
        },
        {
          "name": "stdout",
          "output_type": "stream",
          "text": [
            "→ k p20: +25 entries (total 500)\n"
          ]
        },
        {
          "name": "stderr",
          "output_type": "stream",
          "text": [
            "Letters:  47%|████▋     | 15/32 [31:07<39:18, 138.71s/it]"
          ]
        },
        {
          "name": "stdout",
          "output_type": "stream",
          "text": [
            "→ k p21: +25 entries (total 525)\n"
          ]
        },
        {
          "name": "stderr",
          "output_type": "stream",
          "text": [
            "Letters:  47%|████▋     | 15/32 [31:12<39:18, 138.71s/it]"
          ]
        },
        {
          "name": "stdout",
          "output_type": "stream",
          "text": [
            "→ k p22: +25 entries (total 550)\n"
          ]
        },
        {
          "name": "stderr",
          "output_type": "stream",
          "text": [
            "Letters:  47%|████▋     | 15/32 [31:17<39:18, 138.71s/it]"
          ]
        },
        {
          "name": "stdout",
          "output_type": "stream",
          "text": [
            "→ k p23: +25 entries (total 575)\n"
          ]
        },
        {
          "name": "stderr",
          "output_type": "stream",
          "text": [
            "Letters:  47%|████▋     | 15/32 [31:21<39:18, 138.71s/it]"
          ]
        },
        {
          "name": "stdout",
          "output_type": "stream",
          "text": [
            "→ k p24: +25 entries (total 600)\n"
          ]
        },
        {
          "name": "stderr",
          "output_type": "stream",
          "text": [
            "Letters:  47%|████▋     | 15/32 [31:27<39:18, 138.71s/it]"
          ]
        },
        {
          "name": "stdout",
          "output_type": "stream",
          "text": [
            "→ k p25: +25 entries (total 625)\n"
          ]
        },
        {
          "name": "stderr",
          "output_type": "stream",
          "text": [
            "Letters:  47%|████▋     | 15/32 [31:32<39:18, 138.71s/it]"
          ]
        },
        {
          "name": "stdout",
          "output_type": "stream",
          "text": [
            "→ k p26: +25 entries (total 650)\n"
          ]
        },
        {
          "name": "stderr",
          "output_type": "stream",
          "text": [
            "Letters:  47%|████▋     | 15/32 [31:38<39:18, 138.71s/it]"
          ]
        },
        {
          "name": "stdout",
          "output_type": "stream",
          "text": [
            "→ k p27: +25 entries (total 675)\n"
          ]
        },
        {
          "name": "stderr",
          "output_type": "stream",
          "text": [
            "Letters:  47%|████▋     | 15/32 [31:43<39:18, 138.71s/it]"
          ]
        },
        {
          "name": "stdout",
          "output_type": "stream",
          "text": [
            "→ k p28: +25 entries (total 700)\n"
          ]
        },
        {
          "name": "stderr",
          "output_type": "stream",
          "text": [
            "Letters:  47%|████▋     | 15/32 [31:47<39:18, 138.71s/it]"
          ]
        },
        {
          "name": "stdout",
          "output_type": "stream",
          "text": [
            "→ k p29: +25 entries (total 725)\n"
          ]
        },
        {
          "name": "stderr",
          "output_type": "stream",
          "text": [
            "Letters:  47%|████▋     | 15/32 [31:52<39:18, 138.71s/it]"
          ]
        },
        {
          "name": "stdout",
          "output_type": "stream",
          "text": [
            "→ k p30: +25 entries (total 750)\n"
          ]
        },
        {
          "name": "stderr",
          "output_type": "stream",
          "text": [
            "Letters:  47%|████▋     | 15/32 [31:57<39:18, 138.71s/it]"
          ]
        },
        {
          "name": "stdout",
          "output_type": "stream",
          "text": [
            "→ k p31: +25 entries (total 775)\n"
          ]
        },
        {
          "name": "stderr",
          "output_type": "stream",
          "text": [
            "Letters:  47%|████▋     | 15/32 [32:03<39:18, 138.71s/it]"
          ]
        },
        {
          "name": "stdout",
          "output_type": "stream",
          "text": [
            "→ k p32: +25 entries (total 800)\n"
          ]
        },
        {
          "name": "stderr",
          "output_type": "stream",
          "text": [
            "Letters:  47%|████▋     | 15/32 [32:15<39:18, 138.71s/it]"
          ]
        },
        {
          "name": "stdout",
          "output_type": "stream",
          "text": [
            "→ k p33: +25 entries (total 825)\n"
          ]
        },
        {
          "name": "stderr",
          "output_type": "stream",
          "text": [
            "Letters:  47%|████▋     | 15/32 [32:19<39:18, 138.71s/it]"
          ]
        },
        {
          "name": "stdout",
          "output_type": "stream",
          "text": [
            "→ k p34: +25 entries (total 850)\n"
          ]
        },
        {
          "name": "stderr",
          "output_type": "stream",
          "text": [
            "Letters:  47%|████▋     | 15/32 [32:24<39:18, 138.71s/it]"
          ]
        },
        {
          "name": "stdout",
          "output_type": "stream",
          "text": [
            "→ k p35: +25 entries (total 875)\n"
          ]
        },
        {
          "name": "stderr",
          "output_type": "stream",
          "text": [
            "Letters:  47%|████▋     | 15/32 [32:29<39:18, 138.71s/it]"
          ]
        },
        {
          "name": "stdout",
          "output_type": "stream",
          "text": [
            "→ k p36: +25 entries (total 900)\n"
          ]
        },
        {
          "name": "stderr",
          "output_type": "stream",
          "text": [
            "Letters:  47%|████▋     | 15/32 [32:36<39:18, 138.71s/it]"
          ]
        },
        {
          "name": "stdout",
          "output_type": "stream",
          "text": [
            "→ k p37: +25 entries (total 925)\n"
          ]
        },
        {
          "name": "stderr",
          "output_type": "stream",
          "text": [
            "Letters:  47%|████▋     | 15/32 [32:44<39:18, 138.71s/it]"
          ]
        },
        {
          "name": "stdout",
          "output_type": "stream",
          "text": [
            "→ k p38: +25 entries (total 950)\n"
          ]
        },
        {
          "name": "stderr",
          "output_type": "stream",
          "text": [
            "Letters:  47%|████▋     | 15/32 [32:48<39:18, 138.71s/it]"
          ]
        },
        {
          "name": "stdout",
          "output_type": "stream",
          "text": [
            "→ k p39: +25 entries (total 975)\n"
          ]
        },
        {
          "name": "stderr",
          "output_type": "stream",
          "text": [
            "Letters:  47%|████▋     | 15/32 [32:53<39:18, 138.71s/it]"
          ]
        },
        {
          "name": "stdout",
          "output_type": "stream",
          "text": [
            "→ k p40: +25 entries (total 1000)\n"
          ]
        },
        {
          "name": "stderr",
          "output_type": "stream",
          "text": [
            "Letters:  47%|████▋     | 15/32 [32:57<39:18, 138.71s/it]"
          ]
        },
        {
          "name": "stdout",
          "output_type": "stream",
          "text": [
            "→ k p41: +25 entries (total 1025)\n"
          ]
        },
        {
          "name": "stderr",
          "output_type": "stream",
          "text": [
            "Letters:  47%|████▋     | 15/32 [33:02<39:18, 138.71s/it]"
          ]
        },
        {
          "name": "stdout",
          "output_type": "stream",
          "text": [
            "→ k p42: +25 entries (total 1050)\n"
          ]
        },
        {
          "name": "stderr",
          "output_type": "stream",
          "text": [
            "Letters:  47%|████▋     | 15/32 [33:07<39:18, 138.71s/it]"
          ]
        },
        {
          "name": "stdout",
          "output_type": "stream",
          "text": [
            "→ k p43: +25 entries (total 1075)\n"
          ]
        },
        {
          "name": "stderr",
          "output_type": "stream",
          "text": [
            "Letters:  47%|████▋     | 15/32 [33:12<39:18, 138.71s/it]"
          ]
        },
        {
          "name": "stdout",
          "output_type": "stream",
          "text": [
            "→ k p44: +25 entries (total 1100)\n"
          ]
        },
        {
          "name": "stderr",
          "output_type": "stream",
          "text": [
            "Letters:  47%|████▋     | 15/32 [33:17<39:18, 138.71s/it]"
          ]
        },
        {
          "name": "stdout",
          "output_type": "stream",
          "text": [
            "→ k p45: +25 entries (total 1125)\n"
          ]
        },
        {
          "name": "stderr",
          "output_type": "stream",
          "text": [
            "Letters:  47%|████▋     | 15/32 [33:21<39:18, 138.71s/it]"
          ]
        },
        {
          "name": "stdout",
          "output_type": "stream",
          "text": [
            "→ k p46: +25 entries (total 1150)\n"
          ]
        },
        {
          "name": "stderr",
          "output_type": "stream",
          "text": [
            "Letters:  47%|████▋     | 15/32 [33:26<39:18, 138.71s/it]"
          ]
        },
        {
          "name": "stdout",
          "output_type": "stream",
          "text": [
            "→ k p47: +25 entries (total 1175)\n"
          ]
        },
        {
          "name": "stderr",
          "output_type": "stream",
          "text": [
            "Letters:  47%|████▋     | 15/32 [33:34<39:18, 138.71s/it]"
          ]
        },
        {
          "name": "stdout",
          "output_type": "stream",
          "text": [
            "→ k p48: +25 entries (total 1200)\n"
          ]
        },
        {
          "name": "stderr",
          "output_type": "stream",
          "text": [
            "Letters:  47%|████▋     | 15/32 [33:38<39:18, 138.71s/it]"
          ]
        },
        {
          "name": "stdout",
          "output_type": "stream",
          "text": [
            "→ k p49: +25 entries (total 1225)\n"
          ]
        },
        {
          "name": "stderr",
          "output_type": "stream",
          "text": [
            "Letters:  47%|████▋     | 15/32 [33:43<39:18, 138.71s/it]"
          ]
        },
        {
          "name": "stdout",
          "output_type": "stream",
          "text": [
            "→ k p50: +25 entries (total 1250)\n"
          ]
        },
        {
          "name": "stderr",
          "output_type": "stream",
          "text": [
            "Letters:  47%|████▋     | 15/32 [33:47<39:18, 138.71s/it]"
          ]
        },
        {
          "name": "stdout",
          "output_type": "stream",
          "text": [
            "→ k p51: +25 entries (total 1275)\n"
          ]
        },
        {
          "name": "stderr",
          "output_type": "stream",
          "text": [
            "Letters:  47%|████▋     | 15/32 [33:52<39:18, 138.71s/it]"
          ]
        },
        {
          "name": "stdout",
          "output_type": "stream",
          "text": [
            "→ k p52: +25 entries (total 1300)\n"
          ]
        },
        {
          "name": "stderr",
          "output_type": "stream",
          "text": [
            "Letters:  47%|████▋     | 15/32 [33:56<39:18, 138.71s/it]"
          ]
        },
        {
          "name": "stdout",
          "output_type": "stream",
          "text": [
            "→ k p53: +25 entries (total 1325)\n"
          ]
        },
        {
          "name": "stderr",
          "output_type": "stream",
          "text": [
            "Letters:  47%|████▋     | 15/32 [34:01<39:18, 138.71s/it]"
          ]
        },
        {
          "name": "stdout",
          "output_type": "stream",
          "text": [
            "→ k p54: +25 entries (total 1350)\n"
          ]
        },
        {
          "name": "stderr",
          "output_type": "stream",
          "text": [
            "Letters:  47%|████▋     | 15/32 [34:06<39:18, 138.71s/it]"
          ]
        },
        {
          "name": "stdout",
          "output_type": "stream",
          "text": [
            "→ k p55: +25 entries (total 1375)\n"
          ]
        },
        {
          "name": "stderr",
          "output_type": "stream",
          "text": [
            "Letters:  47%|████▋     | 15/32 [34:11<39:18, 138.71s/it]"
          ]
        },
        {
          "name": "stdout",
          "output_type": "stream",
          "text": [
            "→ k p56: +25 entries (total 1400)\n"
          ]
        },
        {
          "name": "stderr",
          "output_type": "stream",
          "text": [
            "Letters:  47%|████▋     | 15/32 [34:15<39:18, 138.71s/it]"
          ]
        },
        {
          "name": "stdout",
          "output_type": "stream",
          "text": [
            "→ k p57: +25 entries (total 1425)\n"
          ]
        },
        {
          "name": "stderr",
          "output_type": "stream",
          "text": [
            "Letters:  47%|████▋     | 15/32 [34:20<39:18, 138.71s/it]"
          ]
        },
        {
          "name": "stdout",
          "output_type": "stream",
          "text": [
            "→ k p58: +25 entries (total 1450)\n"
          ]
        },
        {
          "name": "stderr",
          "output_type": "stream",
          "text": [
            "Letters:  47%|████▋     | 15/32 [34:25<39:18, 138.71s/it]"
          ]
        },
        {
          "name": "stdout",
          "output_type": "stream",
          "text": [
            "→ k p59: +25 entries (total 1475)\n"
          ]
        },
        {
          "name": "stderr",
          "output_type": "stream",
          "text": [
            "Letters:  47%|████▋     | 15/32 [34:30<39:18, 138.71s/it]"
          ]
        },
        {
          "name": "stdout",
          "output_type": "stream",
          "text": [
            "→ k p60: +25 entries (total 1500)\n"
          ]
        },
        {
          "name": "stderr",
          "output_type": "stream",
          "text": [
            "Letters:  47%|████▋     | 15/32 [34:34<39:18, 138.71s/it]"
          ]
        },
        {
          "name": "stdout",
          "output_type": "stream",
          "text": [
            "→ k p61: +25 entries (total 1525)\n"
          ]
        },
        {
          "name": "stderr",
          "output_type": "stream",
          "text": [
            "Letters:  47%|████▋     | 15/32 [34:38<39:18, 138.71s/it]"
          ]
        },
        {
          "name": "stdout",
          "output_type": "stream",
          "text": [
            "→ k p62: +25 entries (total 1550)\n"
          ]
        },
        {
          "name": "stderr",
          "output_type": "stream",
          "text": [
            "Letters:  47%|████▋     | 15/32 [34:42<39:18, 138.71s/it]"
          ]
        },
        {
          "name": "stdout",
          "output_type": "stream",
          "text": [
            "→ k p63: +25 entries (total 1575)\n"
          ]
        },
        {
          "name": "stderr",
          "output_type": "stream",
          "text": [
            "Letters:  47%|████▋     | 15/32 [34:47<39:18, 138.71s/it]"
          ]
        },
        {
          "name": "stdout",
          "output_type": "stream",
          "text": [
            "→ k p64: +25 entries (total 1600)\n"
          ]
        },
        {
          "name": "stderr",
          "output_type": "stream",
          "text": [
            "Letters:  47%|████▋     | 15/32 [34:52<39:18, 138.71s/it]"
          ]
        },
        {
          "name": "stdout",
          "output_type": "stream",
          "text": [
            "→ k p65: +25 entries (total 1625)\n"
          ]
        },
        {
          "name": "stderr",
          "output_type": "stream",
          "text": [
            "Letters:  47%|████▋     | 15/32 [34:57<39:18, 138.71s/it]"
          ]
        },
        {
          "name": "stdout",
          "output_type": "stream",
          "text": [
            "→ k p66: +25 entries (total 1650)\n"
          ]
        },
        {
          "name": "stderr",
          "output_type": "stream",
          "text": [
            "Letters:  47%|████▋     | 15/32 [35:02<39:18, 138.71s/it]"
          ]
        },
        {
          "name": "stdout",
          "output_type": "stream",
          "text": [
            "→ k p67: +25 entries (total 1675)\n"
          ]
        },
        {
          "name": "stderr",
          "output_type": "stream",
          "text": [
            "Letters:  47%|████▋     | 15/32 [35:06<39:18, 138.71s/it]"
          ]
        },
        {
          "name": "stdout",
          "output_type": "stream",
          "text": [
            "→ k p68: +25 entries (total 1700)\n"
          ]
        },
        {
          "name": "stderr",
          "output_type": "stream",
          "text": [
            "Letters:  47%|████▋     | 15/32 [35:11<39:18, 138.71s/it]"
          ]
        },
        {
          "name": "stdout",
          "output_type": "stream",
          "text": [
            "→ k p69: +25 entries (total 1725)\n"
          ]
        },
        {
          "name": "stderr",
          "output_type": "stream",
          "text": [
            "Letters:  47%|████▋     | 15/32 [35:17<39:18, 138.71s/it]"
          ]
        },
        {
          "name": "stdout",
          "output_type": "stream",
          "text": [
            "→ k p70: +25 entries (total 1750)\n"
          ]
        },
        {
          "name": "stderr",
          "output_type": "stream",
          "text": [
            "Letters:  47%|████▋     | 15/32 [35:22<39:18, 138.71s/it]"
          ]
        },
        {
          "name": "stdout",
          "output_type": "stream",
          "text": [
            "→ k p71: +25 entries (total 1775)\n"
          ]
        },
        {
          "name": "stderr",
          "output_type": "stream",
          "text": [
            "Letters:  47%|████▋     | 15/32 [35:27<39:18, 138.71s/it]"
          ]
        },
        {
          "name": "stdout",
          "output_type": "stream",
          "text": [
            "→ k p72: +25 entries (total 1800)\n"
          ]
        },
        {
          "name": "stderr",
          "output_type": "stream",
          "text": [
            "Letters:  47%|████▋     | 15/32 [35:31<39:18, 138.71s/it]"
          ]
        },
        {
          "name": "stdout",
          "output_type": "stream",
          "text": [
            "→ k p73: +25 entries (total 1825)\n"
          ]
        },
        {
          "name": "stderr",
          "output_type": "stream",
          "text": [
            "Letters:  47%|████▋     | 15/32 [35:36<39:18, 138.71s/it]"
          ]
        },
        {
          "name": "stdout",
          "output_type": "stream",
          "text": [
            "→ k p74: +25 entries (total 1850)\n"
          ]
        },
        {
          "name": "stderr",
          "output_type": "stream",
          "text": [
            "Letters:  47%|████▋     | 15/32 [35:40<39:18, 138.71s/it]"
          ]
        },
        {
          "name": "stdout",
          "output_type": "stream",
          "text": [
            "→ k p75: +25 entries (total 1875)\n"
          ]
        },
        {
          "name": "stderr",
          "output_type": "stream",
          "text": [
            "Letters:  47%|████▋     | 15/32 [35:45<39:18, 138.71s/it]"
          ]
        },
        {
          "name": "stdout",
          "output_type": "stream",
          "text": [
            "→ k p76: +25 entries (total 1900)\n"
          ]
        },
        {
          "name": "stderr",
          "output_type": "stream",
          "text": [
            "Letters:  47%|████▋     | 15/32 [35:50<39:18, 138.71s/it]"
          ]
        },
        {
          "name": "stdout",
          "output_type": "stream",
          "text": [
            "→ k p77: +25 entries (total 1925)\n"
          ]
        },
        {
          "name": "stderr",
          "output_type": "stream",
          "text": [
            "Letters:  47%|████▋     | 15/32 [35:55<39:18, 138.71s/it]"
          ]
        },
        {
          "name": "stdout",
          "output_type": "stream",
          "text": [
            "→ k p78: +25 entries (total 1950)\n"
          ]
        },
        {
          "name": "stderr",
          "output_type": "stream",
          "text": [
            "Letters:  47%|████▋     | 15/32 [35:59<39:18, 138.71s/it]"
          ]
        },
        {
          "name": "stdout",
          "output_type": "stream",
          "text": [
            "→ k p79: +25 entries (total 1975)\n"
          ]
        },
        {
          "name": "stderr",
          "output_type": "stream",
          "text": [
            "Letters:  47%|████▋     | 15/32 [36:03<39:18, 138.71s/it]"
          ]
        },
        {
          "name": "stdout",
          "output_type": "stream",
          "text": [
            "→ k p80: +25 entries (total 2000)\n"
          ]
        },
        {
          "name": "stderr",
          "output_type": "stream",
          "text": [
            "Letters:  47%|████▋     | 15/32 [36:08<39:18, 138.71s/it]"
          ]
        },
        {
          "name": "stdout",
          "output_type": "stream",
          "text": [
            "→ k p81: +25 entries (total 2025)\n"
          ]
        },
        {
          "name": "stderr",
          "output_type": "stream",
          "text": [
            "Letters:  47%|████▋     | 15/32 [36:13<39:18, 138.71s/it]"
          ]
        },
        {
          "name": "stdout",
          "output_type": "stream",
          "text": [
            "→ k p82: +25 entries (total 2050)\n"
          ]
        },
        {
          "name": "stderr",
          "output_type": "stream",
          "text": [
            "Letters:  47%|████▋     | 15/32 [36:17<39:18, 138.71s/it]"
          ]
        },
        {
          "name": "stdout",
          "output_type": "stream",
          "text": [
            "→ k p83: +13 entries (total 2063)\n"
          ]
        },
        {
          "name": "stderr",
          "output_type": "stream",
          "text": [
            "Letters:  50%|█████     | 16/32 [36:22<58:56, 221.01s/it]"
          ]
        },
        {
          "name": "stdout",
          "output_type": "stream",
          "text": [
            "→ l p1: +25 entries (total 25)\n"
          ]
        },
        {
          "name": "stderr",
          "output_type": "stream",
          "text": [
            "Letters:  50%|█████     | 16/32 [36:26<58:56, 221.01s/it]"
          ]
        },
        {
          "name": "stdout",
          "output_type": "stream",
          "text": [
            "→ l p2: +25 entries (total 50)\n"
          ]
        },
        {
          "name": "stderr",
          "output_type": "stream",
          "text": [
            "Letters:  50%|█████     | 16/32 [36:30<58:56, 221.01s/it]"
          ]
        },
        {
          "name": "stdout",
          "output_type": "stream",
          "text": [
            "→ l p3: +25 entries (total 75)\n"
          ]
        },
        {
          "name": "stderr",
          "output_type": "stream",
          "text": [
            "Letters:  50%|█████     | 16/32 [36:35<58:56, 221.01s/it]"
          ]
        },
        {
          "name": "stdout",
          "output_type": "stream",
          "text": [
            "→ l p4: +25 entries (total 100)\n"
          ]
        },
        {
          "name": "stderr",
          "output_type": "stream",
          "text": [
            "Letters:  50%|█████     | 16/32 [36:41<58:56, 221.01s/it]"
          ]
        },
        {
          "name": "stdout",
          "output_type": "stream",
          "text": [
            "→ l p5: +25 entries (total 125)\n"
          ]
        },
        {
          "name": "stderr",
          "output_type": "stream",
          "text": [
            "Letters:  50%|█████     | 16/32 [36:45<58:56, 221.01s/it]"
          ]
        },
        {
          "name": "stdout",
          "output_type": "stream",
          "text": [
            "→ l p6: +25 entries (total 150)\n"
          ]
        },
        {
          "name": "stderr",
          "output_type": "stream",
          "text": [
            "Letters:  50%|█████     | 16/32 [36:50<58:56, 221.01s/it]"
          ]
        },
        {
          "name": "stdout",
          "output_type": "stream",
          "text": [
            "→ l p7: +25 entries (total 175)\n"
          ]
        },
        {
          "name": "stderr",
          "output_type": "stream",
          "text": [
            "Letters:  50%|█████     | 16/32 [36:54<58:56, 221.01s/it]"
          ]
        },
        {
          "name": "stdout",
          "output_type": "stream",
          "text": [
            "→ l p8: +25 entries (total 200)\n"
          ]
        },
        {
          "name": "stderr",
          "output_type": "stream",
          "text": [
            "Letters:  50%|█████     | 16/32 [36:59<58:56, 221.01s/it]"
          ]
        },
        {
          "name": "stdout",
          "output_type": "stream",
          "text": [
            "→ l p9: +25 entries (total 225)\n"
          ]
        },
        {
          "name": "stderr",
          "output_type": "stream",
          "text": [
            "Letters:  50%|█████     | 16/32 [37:04<58:56, 221.01s/it]"
          ]
        },
        {
          "name": "stdout",
          "output_type": "stream",
          "text": [
            "→ l p10: +25 entries (total 250)\n"
          ]
        },
        {
          "name": "stderr",
          "output_type": "stream",
          "text": [
            "Letters:  50%|█████     | 16/32 [37:09<58:56, 221.01s/it]"
          ]
        },
        {
          "name": "stdout",
          "output_type": "stream",
          "text": [
            "→ l p11: +25 entries (total 275)\n"
          ]
        },
        {
          "name": "stderr",
          "output_type": "stream",
          "text": [
            "Letters:  50%|█████     | 16/32 [37:26<58:56, 221.01s/it]"
          ]
        },
        {
          "name": "stdout",
          "output_type": "stream",
          "text": [
            "→ l p12: +25 entries (total 300)\n"
          ]
        },
        {
          "name": "stderr",
          "output_type": "stream",
          "text": [
            "Letters:  50%|█████     | 16/32 [37:35<58:56, 221.01s/it]"
          ]
        },
        {
          "name": "stdout",
          "output_type": "stream",
          "text": [
            "→ l p13: +25 entries (total 325)\n"
          ]
        },
        {
          "name": "stderr",
          "output_type": "stream",
          "text": [
            "Letters:  50%|█████     | 16/32 [37:40<58:56, 221.01s/it]"
          ]
        },
        {
          "name": "stdout",
          "output_type": "stream",
          "text": [
            "→ l p14: +25 entries (total 350)\n"
          ]
        },
        {
          "name": "stderr",
          "output_type": "stream",
          "text": [
            "Letters:  50%|█████     | 16/32 [37:45<58:56, 221.01s/it]"
          ]
        },
        {
          "name": "stdout",
          "output_type": "stream",
          "text": [
            "→ l p15: +25 entries (total 375)\n"
          ]
        },
        {
          "name": "stderr",
          "output_type": "stream",
          "text": [
            "Letters:  50%|█████     | 16/32 [37:51<58:56, 221.01s/it]"
          ]
        },
        {
          "name": "stdout",
          "output_type": "stream",
          "text": [
            "→ l p16: +25 entries (total 400)\n"
          ]
        },
        {
          "name": "stderr",
          "output_type": "stream",
          "text": [
            "Letters:  50%|█████     | 16/32 [37:55<58:56, 221.01s/it]"
          ]
        },
        {
          "name": "stdout",
          "output_type": "stream",
          "text": [
            "→ l p17: +25 entries (total 425)\n"
          ]
        },
        {
          "name": "stderr",
          "output_type": "stream",
          "text": [
            "Letters:  50%|█████     | 16/32 [38:00<58:56, 221.01s/it]"
          ]
        },
        {
          "name": "stdout",
          "output_type": "stream",
          "text": [
            "→ l p18: +25 entries (total 450)\n"
          ]
        },
        {
          "name": "stderr",
          "output_type": "stream",
          "text": [
            "Letters:  50%|█████     | 16/32 [38:05<58:56, 221.01s/it]"
          ]
        },
        {
          "name": "stdout",
          "output_type": "stream",
          "text": [
            "→ l p19: +25 entries (total 475)\n"
          ]
        },
        {
          "name": "stderr",
          "output_type": "stream",
          "text": [
            "Letters:  50%|█████     | 16/32 [38:09<58:56, 221.01s/it]"
          ]
        },
        {
          "name": "stdout",
          "output_type": "stream",
          "text": [
            "→ l p20: +25 entries (total 500)\n"
          ]
        },
        {
          "name": "stderr",
          "output_type": "stream",
          "text": [
            "Letters:  50%|█████     | 16/32 [38:14<58:56, 221.01s/it]"
          ]
        },
        {
          "name": "stdout",
          "output_type": "stream",
          "text": [
            "→ l p21: +25 entries (total 525)\n"
          ]
        },
        {
          "name": "stderr",
          "output_type": "stream",
          "text": [
            "Letters:  50%|█████     | 16/32 [38:18<58:56, 221.01s/it]"
          ]
        },
        {
          "name": "stdout",
          "output_type": "stream",
          "text": [
            "→ l p22: +25 entries (total 550)\n"
          ]
        },
        {
          "name": "stderr",
          "output_type": "stream",
          "text": [
            "Letters:  50%|█████     | 16/32 [38:26<58:56, 221.01s/it]"
          ]
        },
        {
          "name": "stdout",
          "output_type": "stream",
          "text": [
            "→ l p23: +25 entries (total 575)\n"
          ]
        },
        {
          "name": "stderr",
          "output_type": "stream",
          "text": [
            "Letters:  50%|█████     | 16/32 [38:30<58:56, 221.01s/it]"
          ]
        },
        {
          "name": "stdout",
          "output_type": "stream",
          "text": [
            "→ l p24: +25 entries (total 600)\n"
          ]
        },
        {
          "name": "stderr",
          "output_type": "stream",
          "text": [
            "Letters:  50%|█████     | 16/32 [38:35<58:56, 221.01s/it]"
          ]
        },
        {
          "name": "stdout",
          "output_type": "stream",
          "text": [
            "→ l p25: +25 entries (total 625)\n"
          ]
        },
        {
          "name": "stderr",
          "output_type": "stream",
          "text": [
            "Letters:  50%|█████     | 16/32 [38:40<58:56, 221.01s/it]"
          ]
        },
        {
          "name": "stdout",
          "output_type": "stream",
          "text": [
            "→ l p26: +25 entries (total 650)\n"
          ]
        },
        {
          "name": "stderr",
          "output_type": "stream",
          "text": [
            "Letters:  50%|█████     | 16/32 [38:45<58:56, 221.01s/it]"
          ]
        },
        {
          "name": "stdout",
          "output_type": "stream",
          "text": [
            "→ l p27: +25 entries (total 675)\n"
          ]
        },
        {
          "name": "stderr",
          "output_type": "stream",
          "text": [
            "Letters:  50%|█████     | 16/32 [38:49<58:56, 221.01s/it]"
          ]
        },
        {
          "name": "stdout",
          "output_type": "stream",
          "text": [
            "→ l p28: +25 entries (total 700)\n"
          ]
        },
        {
          "name": "stderr",
          "output_type": "stream",
          "text": [
            "Letters:  50%|█████     | 16/32 [38:55<58:56, 221.01s/it]"
          ]
        },
        {
          "name": "stdout",
          "output_type": "stream",
          "text": [
            "→ l p29: +25 entries (total 725)\n"
          ]
        },
        {
          "name": "stderr",
          "output_type": "stream",
          "text": [
            "Letters:  50%|█████     | 16/32 [39:00<58:56, 221.01s/it]"
          ]
        },
        {
          "name": "stdout",
          "output_type": "stream",
          "text": [
            "→ l p30: +25 entries (total 750)\n"
          ]
        },
        {
          "name": "stderr",
          "output_type": "stream",
          "text": [
            "Letters:  50%|█████     | 16/32 [39:06<58:56, 221.01s/it]"
          ]
        },
        {
          "name": "stdout",
          "output_type": "stream",
          "text": [
            "→ l p31: +25 entries (total 775)\n"
          ]
        },
        {
          "name": "stderr",
          "output_type": "stream",
          "text": [
            "Letters:  50%|█████     | 16/32 [39:11<58:56, 221.01s/it]"
          ]
        },
        {
          "name": "stdout",
          "output_type": "stream",
          "text": [
            "→ l p32: +25 entries (total 800)\n"
          ]
        },
        {
          "name": "stderr",
          "output_type": "stream",
          "text": [
            "Letters:  50%|█████     | 16/32 [39:16<58:56, 221.01s/it]"
          ]
        },
        {
          "name": "stdout",
          "output_type": "stream",
          "text": [
            "→ l p33: +25 entries (total 825)\n"
          ]
        },
        {
          "name": "stderr",
          "output_type": "stream",
          "text": [
            "Letters:  50%|█████     | 16/32 [39:21<58:56, 221.01s/it]"
          ]
        },
        {
          "name": "stdout",
          "output_type": "stream",
          "text": [
            "→ l p34: +25 entries (total 850)\n"
          ]
        },
        {
          "name": "stderr",
          "output_type": "stream",
          "text": [
            "Letters:  50%|█████     | 16/32 [39:25<58:56, 221.01s/it]"
          ]
        },
        {
          "name": "stdout",
          "output_type": "stream",
          "text": [
            "→ l p35: +25 entries (total 875)\n"
          ]
        },
        {
          "name": "stderr",
          "output_type": "stream",
          "text": [
            "Letters:  50%|█████     | 16/32 [39:29<58:56, 221.01s/it]"
          ]
        },
        {
          "name": "stdout",
          "output_type": "stream",
          "text": [
            "→ l p36: +25 entries (total 900)\n"
          ]
        },
        {
          "name": "stderr",
          "output_type": "stream",
          "text": [
            "Letters:  50%|█████     | 16/32 [39:34<58:56, 221.01s/it]"
          ]
        },
        {
          "name": "stdout",
          "output_type": "stream",
          "text": [
            "→ l p37: +25 entries (total 925)\n"
          ]
        },
        {
          "name": "stderr",
          "output_type": "stream",
          "text": [
            "Letters:  50%|█████     | 16/32 [39:39<58:56, 221.01s/it]"
          ]
        },
        {
          "name": "stdout",
          "output_type": "stream",
          "text": [
            "→ l p38: +25 entries (total 950)\n"
          ]
        },
        {
          "name": "stderr",
          "output_type": "stream",
          "text": [
            "Letters:  50%|█████     | 16/32 [39:46<58:56, 221.01s/it]"
          ]
        },
        {
          "name": "stdout",
          "output_type": "stream",
          "text": [
            "→ l p39: +25 entries (total 975)\n"
          ]
        },
        {
          "name": "stderr",
          "output_type": "stream",
          "text": [
            "Letters:  50%|█████     | 16/32 [39:52<58:56, 221.01s/it]"
          ]
        },
        {
          "name": "stdout",
          "output_type": "stream",
          "text": [
            "→ l p40: +25 entries (total 1000)\n"
          ]
        },
        {
          "name": "stderr",
          "output_type": "stream",
          "text": [
            "Letters:  50%|█████     | 16/32 [39:56<58:56, 221.01s/it]"
          ]
        },
        {
          "name": "stdout",
          "output_type": "stream",
          "text": [
            "→ l p41: +25 entries (total 1025)\n"
          ]
        },
        {
          "name": "stderr",
          "output_type": "stream",
          "text": [
            "Letters:  50%|█████     | 16/32 [40:01<58:56, 221.01s/it]"
          ]
        },
        {
          "name": "stdout",
          "output_type": "stream",
          "text": [
            "→ l p42: +25 entries (total 1050)\n"
          ]
        },
        {
          "name": "stderr",
          "output_type": "stream",
          "text": [
            "Letters:  50%|█████     | 16/32 [40:05<58:56, 221.01s/it]"
          ]
        },
        {
          "name": "stdout",
          "output_type": "stream",
          "text": [
            "→ l p43: +25 entries (total 1075)\n"
          ]
        },
        {
          "name": "stderr",
          "output_type": "stream",
          "text": [
            "Letters:  50%|█████     | 16/32 [40:10<58:56, 221.01s/it]"
          ]
        },
        {
          "name": "stdout",
          "output_type": "stream",
          "text": [
            "→ l p44: +25 entries (total 1100)\n"
          ]
        },
        {
          "name": "stderr",
          "output_type": "stream",
          "text": [
            "Letters:  50%|█████     | 16/32 [40:14<58:56, 221.01s/it]"
          ]
        },
        {
          "name": "stdout",
          "output_type": "stream",
          "text": [
            "→ l p45: +25 entries (total 1125)\n"
          ]
        },
        {
          "name": "stderr",
          "output_type": "stream",
          "text": [
            "Letters:  50%|█████     | 16/32 [40:19<58:56, 221.01s/it]"
          ]
        },
        {
          "name": "stdout",
          "output_type": "stream",
          "text": [
            "→ l p46: +25 entries (total 1150)\n"
          ]
        },
        {
          "name": "stderr",
          "output_type": "stream",
          "text": [
            "Letters:  50%|█████     | 16/32 [40:24<58:56, 221.01s/it]"
          ]
        },
        {
          "name": "stdout",
          "output_type": "stream",
          "text": [
            "→ l p47: +25 entries (total 1175)\n"
          ]
        },
        {
          "name": "stderr",
          "output_type": "stream",
          "text": [
            "Letters:  50%|█████     | 16/32 [40:29<58:56, 221.01s/it]"
          ]
        },
        {
          "name": "stdout",
          "output_type": "stream",
          "text": [
            "→ l p48: +25 entries (total 1200)\n"
          ]
        },
        {
          "name": "stderr",
          "output_type": "stream",
          "text": [
            "Letters:  50%|█████     | 16/32 [40:34<58:56, 221.01s/it]"
          ]
        },
        {
          "name": "stdout",
          "output_type": "stream",
          "text": [
            "→ l p49: +25 entries (total 1225)\n"
          ]
        },
        {
          "name": "stderr",
          "output_type": "stream",
          "text": [
            "Letters:  50%|█████     | 16/32 [40:39<58:56, 221.01s/it]"
          ]
        },
        {
          "name": "stdout",
          "output_type": "stream",
          "text": [
            "→ l p50: +25 entries (total 1250)\n"
          ]
        },
        {
          "name": "stderr",
          "output_type": "stream",
          "text": [
            "Letters:  50%|█████     | 16/32 [40:43<58:56, 221.01s/it]"
          ]
        },
        {
          "name": "stdout",
          "output_type": "stream",
          "text": [
            "→ l p51: +25 entries (total 1275)\n"
          ]
        },
        {
          "name": "stderr",
          "output_type": "stream",
          "text": [
            "Letters:  50%|█████     | 16/32 [40:48<58:56, 221.01s/it]"
          ]
        },
        {
          "name": "stdout",
          "output_type": "stream",
          "text": [
            "→ l p52: +25 entries (total 1300)\n"
          ]
        },
        {
          "name": "stderr",
          "output_type": "stream",
          "text": [
            "Letters:  50%|█████     | 16/32 [40:53<58:56, 221.01s/it]"
          ]
        },
        {
          "name": "stdout",
          "output_type": "stream",
          "text": [
            "→ l p53: +25 entries (total 1325)\n"
          ]
        },
        {
          "name": "stderr",
          "output_type": "stream",
          "text": [
            "Letters:  50%|█████     | 16/32 [40:58<58:56, 221.01s/it]"
          ]
        },
        {
          "name": "stdout",
          "output_type": "stream",
          "text": [
            "→ l p54: +25 entries (total 1350)\n"
          ]
        },
        {
          "name": "stderr",
          "output_type": "stream",
          "text": [
            "Letters:  50%|█████     | 16/32 [41:03<58:56, 221.01s/it]"
          ]
        },
        {
          "name": "stdout",
          "output_type": "stream",
          "text": [
            "→ l p55: +25 entries (total 1375)\n"
          ]
        },
        {
          "name": "stderr",
          "output_type": "stream",
          "text": [
            "Letters:  50%|█████     | 16/32 [41:08<58:56, 221.01s/it]"
          ]
        },
        {
          "name": "stdout",
          "output_type": "stream",
          "text": [
            "→ l p56: +25 entries (total 1400)\n"
          ]
        },
        {
          "name": "stderr",
          "output_type": "stream",
          "text": [
            "Letters:  50%|█████     | 16/32 [41:14<58:56, 221.01s/it]"
          ]
        },
        {
          "name": "stdout",
          "output_type": "stream",
          "text": [
            "→ l p57: +25 entries (total 1425)\n"
          ]
        },
        {
          "name": "stderr",
          "output_type": "stream",
          "text": [
            "Letters:  50%|█████     | 16/32 [41:19<58:56, 221.01s/it]"
          ]
        },
        {
          "name": "stdout",
          "output_type": "stream",
          "text": [
            "→ l p58: +25 entries (total 1450)\n"
          ]
        },
        {
          "name": "stderr",
          "output_type": "stream",
          "text": [
            "Letters:  50%|█████     | 16/32 [41:24<58:56, 221.01s/it]"
          ]
        },
        {
          "name": "stdout",
          "output_type": "stream",
          "text": [
            "→ l p59: +25 entries (total 1475)\n"
          ]
        },
        {
          "name": "stderr",
          "output_type": "stream",
          "text": [
            "Letters:  50%|█████     | 16/32 [41:32<58:56, 221.01s/it]"
          ]
        },
        {
          "name": "stdout",
          "output_type": "stream",
          "text": [
            "→ l p60: +25 entries (total 1500)\n"
          ]
        },
        {
          "name": "stderr",
          "output_type": "stream",
          "text": [
            "Letters:  50%|█████     | 16/32 [41:36<58:56, 221.01s/it]"
          ]
        },
        {
          "name": "stdout",
          "output_type": "stream",
          "text": [
            "→ l p61: +25 entries (total 1525)\n"
          ]
        },
        {
          "name": "stderr",
          "output_type": "stream",
          "text": [
            "Letters:  50%|█████     | 16/32 [41:41<58:56, 221.01s/it]"
          ]
        },
        {
          "name": "stdout",
          "output_type": "stream",
          "text": [
            "→ l p62: +25 entries (total 1550)\n"
          ]
        },
        {
          "name": "stderr",
          "output_type": "stream",
          "text": [
            "Letters:  50%|█████     | 16/32 [41:46<58:56, 221.01s/it]"
          ]
        },
        {
          "name": "stdout",
          "output_type": "stream",
          "text": [
            "→ l p63: +25 entries (total 1575)\n"
          ]
        },
        {
          "name": "stderr",
          "output_type": "stream",
          "text": [
            "Letters:  50%|█████     | 16/32 [41:52<58:56, 221.01s/it]"
          ]
        },
        {
          "name": "stdout",
          "output_type": "stream",
          "text": [
            "→ l p64: +25 entries (total 1600)\n"
          ]
        },
        {
          "name": "stderr",
          "output_type": "stream",
          "text": [
            "Letters:  50%|█████     | 16/32 [41:56<58:56, 221.01s/it]"
          ]
        },
        {
          "name": "stdout",
          "output_type": "stream",
          "text": [
            "→ l p65: +25 entries (total 1625)\n"
          ]
        },
        {
          "name": "stderr",
          "output_type": "stream",
          "text": [
            "Letters:  50%|█████     | 16/32 [42:01<58:56, 221.01s/it]"
          ]
        },
        {
          "name": "stdout",
          "output_type": "stream",
          "text": [
            "→ l p66: +25 entries (total 1650)\n"
          ]
        },
        {
          "name": "stderr",
          "output_type": "stream",
          "text": [
            "Letters:  50%|█████     | 16/32 [42:05<58:56, 221.01s/it]"
          ]
        },
        {
          "name": "stdout",
          "output_type": "stream",
          "text": [
            "→ l p67: +25 entries (total 1675)\n"
          ]
        },
        {
          "name": "stderr",
          "output_type": "stream",
          "text": [
            "Letters:  50%|█████     | 16/32 [42:09<58:56, 221.01s/it]"
          ]
        },
        {
          "name": "stdout",
          "output_type": "stream",
          "text": [
            "→ l p68: +25 entries (total 1700)\n"
          ]
        },
        {
          "name": "stderr",
          "output_type": "stream",
          "text": [
            "Letters:  50%|█████     | 16/32 [42:14<58:56, 221.01s/it]"
          ]
        },
        {
          "name": "stdout",
          "output_type": "stream",
          "text": [
            "→ l p69: +25 entries (total 1725)\n"
          ]
        },
        {
          "name": "stderr",
          "output_type": "stream",
          "text": [
            "Letters:  50%|█████     | 16/32 [42:19<58:56, 221.01s/it]"
          ]
        },
        {
          "name": "stdout",
          "output_type": "stream",
          "text": [
            "→ l p70: +25 entries (total 1750)\n"
          ]
        },
        {
          "name": "stderr",
          "output_type": "stream",
          "text": [
            "Letters:  50%|█████     | 16/32 [42:24<58:56, 221.01s/it]"
          ]
        },
        {
          "name": "stdout",
          "output_type": "stream",
          "text": [
            "→ l p71: +25 entries (total 1775)\n"
          ]
        },
        {
          "name": "stderr",
          "output_type": "stream",
          "text": [
            "Letters:  50%|█████     | 16/32 [42:29<58:56, 221.01s/it]"
          ]
        },
        {
          "name": "stdout",
          "output_type": "stream",
          "text": [
            "→ l p72: +25 entries (total 1800)\n"
          ]
        },
        {
          "name": "stderr",
          "output_type": "stream",
          "text": [
            "Letters:  50%|█████     | 16/32 [42:34<58:56, 221.01s/it]"
          ]
        },
        {
          "name": "stdout",
          "output_type": "stream",
          "text": [
            "→ l p73: +25 entries (total 1825)\n"
          ]
        },
        {
          "name": "stderr",
          "output_type": "stream",
          "text": [
            "Letters:  50%|█████     | 16/32 [42:38<58:56, 221.01s/it]"
          ]
        },
        {
          "name": "stdout",
          "output_type": "stream",
          "text": [
            "→ l p74: +25 entries (total 1850)\n"
          ]
        },
        {
          "name": "stderr",
          "output_type": "stream",
          "text": [
            "Letters:  50%|█████     | 16/32 [42:43<58:56, 221.01s/it]"
          ]
        },
        {
          "name": "stdout",
          "output_type": "stream",
          "text": [
            "→ l p75: +25 entries (total 1875)\n"
          ]
        },
        {
          "name": "stderr",
          "output_type": "stream",
          "text": [
            "Letters:  50%|█████     | 16/32 [42:48<58:56, 221.01s/it]"
          ]
        },
        {
          "name": "stdout",
          "output_type": "stream",
          "text": [
            "→ l p76: +25 entries (total 1900)\n"
          ]
        },
        {
          "name": "stderr",
          "output_type": "stream",
          "text": [
            "Letters:  50%|█████     | 16/32 [42:53<58:56, 221.01s/it]"
          ]
        },
        {
          "name": "stdout",
          "output_type": "stream",
          "text": [
            "→ l p77: +25 entries (total 1925)\n"
          ]
        },
        {
          "name": "stderr",
          "output_type": "stream",
          "text": [
            "Letters:  50%|█████     | 16/32 [42:57<58:56, 221.01s/it]"
          ]
        },
        {
          "name": "stdout",
          "output_type": "stream",
          "text": [
            "→ l p78: +25 entries (total 1950)\n"
          ]
        },
        {
          "name": "stderr",
          "output_type": "stream",
          "text": [
            "Letters:  50%|█████     | 16/32 [43:02<58:56, 221.01s/it]"
          ]
        },
        {
          "name": "stdout",
          "output_type": "stream",
          "text": [
            "→ l p79: +25 entries (total 1975)\n"
          ]
        },
        {
          "name": "stderr",
          "output_type": "stream",
          "text": [
            "Letters:  50%|█████     | 16/32 [43:07<58:56, 221.01s/it]"
          ]
        },
        {
          "name": "stdout",
          "output_type": "stream",
          "text": [
            "→ l p80: +25 entries (total 2000)\n"
          ]
        },
        {
          "name": "stderr",
          "output_type": "stream",
          "text": [
            "Letters:  50%|█████     | 16/32 [43:16<58:56, 221.01s/it]"
          ]
        },
        {
          "name": "stdout",
          "output_type": "stream",
          "text": [
            "→ l p81: +25 entries (total 2025)\n"
          ]
        },
        {
          "name": "stderr",
          "output_type": "stream",
          "text": [
            "Letters:  50%|█████     | 16/32 [43:21<58:56, 221.01s/it]"
          ]
        },
        {
          "name": "stdout",
          "output_type": "stream",
          "text": [
            "→ l p82: +25 entries (total 2050)\n"
          ]
        },
        {
          "name": "stderr",
          "output_type": "stream",
          "text": [
            "Letters:  50%|█████     | 16/32 [43:26<58:56, 221.01s/it]"
          ]
        },
        {
          "name": "stdout",
          "output_type": "stream",
          "text": [
            "→ l p83: +25 entries (total 2075)\n"
          ]
        },
        {
          "name": "stderr",
          "output_type": "stream",
          "text": [
            "Letters:  50%|█████     | 16/32 [43:30<58:56, 221.01s/it]"
          ]
        },
        {
          "name": "stdout",
          "output_type": "stream",
          "text": [
            "→ l p84: +25 entries (total 2100)\n"
          ]
        },
        {
          "name": "stderr",
          "output_type": "stream",
          "text": [
            "Letters:  50%|█████     | 16/32 [43:35<58:56, 221.01s/it]"
          ]
        },
        {
          "name": "stdout",
          "output_type": "stream",
          "text": [
            "→ l p85: +25 entries (total 2125)\n"
          ]
        },
        {
          "name": "stderr",
          "output_type": "stream",
          "text": [
            "Letters:  50%|█████     | 16/32 [43:39<58:56, 221.01s/it]"
          ]
        },
        {
          "name": "stdout",
          "output_type": "stream",
          "text": [
            "→ l p86: +25 entries (total 2150)\n"
          ]
        },
        {
          "name": "stderr",
          "output_type": "stream",
          "text": [
            "Letters:  50%|█████     | 16/32 [43:44<58:56, 221.01s/it]"
          ]
        },
        {
          "name": "stdout",
          "output_type": "stream",
          "text": [
            "→ l p87: +25 entries (total 2175)\n"
          ]
        },
        {
          "name": "stderr",
          "output_type": "stream",
          "text": [
            "Letters:  50%|█████     | 16/32 [43:53<58:56, 221.01s/it]"
          ]
        },
        {
          "name": "stdout",
          "output_type": "stream",
          "text": [
            "→ l p88: +25 entries (total 2200)\n"
          ]
        },
        {
          "name": "stderr",
          "output_type": "stream",
          "text": [
            "Letters:  50%|█████     | 16/32 [44:02<58:56, 221.01s/it]"
          ]
        },
        {
          "name": "stdout",
          "output_type": "stream",
          "text": [
            "→ l p89: +25 entries (total 2225)\n"
          ]
        },
        {
          "name": "stderr",
          "output_type": "stream",
          "text": [
            "Letters:  50%|█████     | 16/32 [44:08<58:56, 221.01s/it]"
          ]
        },
        {
          "name": "stdout",
          "output_type": "stream",
          "text": [
            "→ l p90: +25 entries (total 2250)\n"
          ]
        },
        {
          "name": "stderr",
          "output_type": "stream",
          "text": [
            "Letters:  50%|█████     | 16/32 [44:15<58:56, 221.01s/it]"
          ]
        },
        {
          "name": "stdout",
          "output_type": "stream",
          "text": [
            "→ l p91: +25 entries (total 2275)\n"
          ]
        },
        {
          "name": "stderr",
          "output_type": "stream",
          "text": [
            "Letters:  50%|█████     | 16/32 [44:19<58:56, 221.01s/it]"
          ]
        },
        {
          "name": "stdout",
          "output_type": "stream",
          "text": [
            "→ l p92: +25 entries (total 2300)\n"
          ]
        },
        {
          "name": "stderr",
          "output_type": "stream",
          "text": [
            "Letters:  50%|█████     | 16/32 [44:24<58:56, 221.01s/it]"
          ]
        },
        {
          "name": "stdout",
          "output_type": "stream",
          "text": [
            "→ l p93: +25 entries (total 2325)\n"
          ]
        },
        {
          "name": "stderr",
          "output_type": "stream",
          "text": [
            "Letters:  50%|█████     | 16/32 [44:29<58:56, 221.01s/it]"
          ]
        },
        {
          "name": "stdout",
          "output_type": "stream",
          "text": [
            "→ l p94: +25 entries (total 2350)\n"
          ]
        },
        {
          "name": "stderr",
          "output_type": "stream",
          "text": [
            "Letters:  50%|█████     | 16/32 [44:36<58:56, 221.01s/it]"
          ]
        },
        {
          "name": "stdout",
          "output_type": "stream",
          "text": [
            "→ l p95: +25 entries (total 2375)\n"
          ]
        },
        {
          "name": "stderr",
          "output_type": "stream",
          "text": [
            "Letters:  50%|█████     | 16/32 [44:40<58:56, 221.01s/it]"
          ]
        },
        {
          "name": "stdout",
          "output_type": "stream",
          "text": [
            "→ l p96: +25 entries (total 2400)\n"
          ]
        },
        {
          "name": "stderr",
          "output_type": "stream",
          "text": [
            "Letters:  50%|█████     | 16/32 [44:45<58:56, 221.01s/it]"
          ]
        },
        {
          "name": "stdout",
          "output_type": "stream",
          "text": [
            "→ l p97: +25 entries (total 2425)\n"
          ]
        },
        {
          "name": "stderr",
          "output_type": "stream",
          "text": [
            "Letters:  50%|█████     | 16/32 [44:49<58:56, 221.01s/it]"
          ]
        },
        {
          "name": "stdout",
          "output_type": "stream",
          "text": [
            "→ l p98: +25 entries (total 2450)\n"
          ]
        },
        {
          "name": "stderr",
          "output_type": "stream",
          "text": [
            "Letters:  50%|█████     | 16/32 [44:54<58:56, 221.01s/it]"
          ]
        },
        {
          "name": "stdout",
          "output_type": "stream",
          "text": [
            "→ l p99: +25 entries (total 2475)\n"
          ]
        },
        {
          "name": "stderr",
          "output_type": "stream",
          "text": [
            "Letters:  50%|█████     | 16/32 [44:58<58:56, 221.01s/it]"
          ]
        },
        {
          "name": "stdout",
          "output_type": "stream",
          "text": [
            "→ l p100: +25 entries (total 2500)\n"
          ]
        },
        {
          "name": "stderr",
          "output_type": "stream",
          "text": [
            "Letters:  50%|█████     | 16/32 [45:03<58:56, 221.01s/it]"
          ]
        },
        {
          "name": "stdout",
          "output_type": "stream",
          "text": [
            "→ l p101: +25 entries (total 2525)\n"
          ]
        },
        {
          "name": "stderr",
          "output_type": "stream",
          "text": [
            "Letters:  50%|█████     | 16/32 [45:07<58:56, 221.01s/it]"
          ]
        },
        {
          "name": "stdout",
          "output_type": "stream",
          "text": [
            "→ l p102: +25 entries (total 2550)\n"
          ]
        },
        {
          "name": "stderr",
          "output_type": "stream",
          "text": [
            "Letters:  50%|█████     | 16/32 [45:16<58:56, 221.01s/it]"
          ]
        },
        {
          "name": "stdout",
          "output_type": "stream",
          "text": [
            "→ l p103: +25 entries (total 2575)\n"
          ]
        },
        {
          "name": "stderr",
          "output_type": "stream",
          "text": [
            "Letters:  50%|█████     | 16/32 [45:22<58:56, 221.01s/it]"
          ]
        },
        {
          "name": "stdout",
          "output_type": "stream",
          "text": [
            "→ l p104: +25 entries (total 2600)\n"
          ]
        },
        {
          "name": "stderr",
          "output_type": "stream",
          "text": [
            "Letters:  50%|█████     | 16/32 [45:28<58:56, 221.01s/it]"
          ]
        },
        {
          "name": "stdout",
          "output_type": "stream",
          "text": [
            "→ l p105: +25 entries (total 2625)\n"
          ]
        },
        {
          "name": "stderr",
          "output_type": "stream",
          "text": [
            "Letters:  50%|█████     | 16/32 [45:38<58:56, 221.01s/it]"
          ]
        },
        {
          "name": "stdout",
          "output_type": "stream",
          "text": [
            "→ l p106: +25 entries (total 2650)\n"
          ]
        },
        {
          "name": "stderr",
          "output_type": "stream",
          "text": [
            "Letters:  50%|█████     | 16/32 [45:47<58:56, 221.01s/it]"
          ]
        },
        {
          "name": "stdout",
          "output_type": "stream",
          "text": [
            "→ l p107: +25 entries (total 2675)\n"
          ]
        },
        {
          "name": "stderr",
          "output_type": "stream",
          "text": [
            "Letters:  50%|█████     | 16/32 [45:53<58:56, 221.01s/it]"
          ]
        },
        {
          "name": "stdout",
          "output_type": "stream",
          "text": [
            "→ l p108: +25 entries (total 2700)\n"
          ]
        },
        {
          "name": "stderr",
          "output_type": "stream",
          "text": [
            "Letters:  50%|█████     | 16/32 [45:57<58:56, 221.01s/it]"
          ]
        },
        {
          "name": "stdout",
          "output_type": "stream",
          "text": [
            "→ l p109: +25 entries (total 2725)\n"
          ]
        },
        {
          "name": "stderr",
          "output_type": "stream",
          "text": [
            "Letters:  50%|█████     | 16/32 [46:08<58:56, 221.01s/it]"
          ]
        },
        {
          "name": "stdout",
          "output_type": "stream",
          "text": [
            "→ l p110: +25 entries (total 2750)\n"
          ]
        },
        {
          "name": "stderr",
          "output_type": "stream",
          "text": [
            "Letters:  50%|█████     | 16/32 [46:21<58:56, 221.01s/it]"
          ]
        },
        {
          "name": "stdout",
          "output_type": "stream",
          "text": [
            "→ l p111: +25 entries (total 2775)\n"
          ]
        },
        {
          "name": "stderr",
          "output_type": "stream",
          "text": [
            "Letters:  50%|█████     | 16/32 [46:26<58:56, 221.01s/it]"
          ]
        },
        {
          "name": "stdout",
          "output_type": "stream",
          "text": [
            "→ l p112: +25 entries (total 2800)\n"
          ]
        },
        {
          "name": "stderr",
          "output_type": "stream",
          "text": [
            "Letters:  50%|█████     | 16/32 [46:30<58:56, 221.01s/it]"
          ]
        },
        {
          "name": "stdout",
          "output_type": "stream",
          "text": [
            "→ l p113: +25 entries (total 2825)\n"
          ]
        },
        {
          "name": "stderr",
          "output_type": "stream",
          "text": [
            "Letters:  50%|█████     | 16/32 [46:35<58:56, 221.01s/it]"
          ]
        },
        {
          "name": "stdout",
          "output_type": "stream",
          "text": [
            "→ l p114: +25 entries (total 2850)\n"
          ]
        },
        {
          "name": "stderr",
          "output_type": "stream",
          "text": [
            "Letters:  50%|█████     | 16/32 [46:40<58:56, 221.01s/it]"
          ]
        },
        {
          "name": "stdout",
          "output_type": "stream",
          "text": [
            "→ l p115: +25 entries (total 2875)\n"
          ]
        },
        {
          "name": "stderr",
          "output_type": "stream",
          "text": [
            "Letters:  50%|█████     | 16/32 [46:45<58:56, 221.01s/it]"
          ]
        },
        {
          "name": "stdout",
          "output_type": "stream",
          "text": [
            "→ l p116: +25 entries (total 2900)\n"
          ]
        },
        {
          "name": "stderr",
          "output_type": "stream",
          "text": [
            "Letters:  50%|█████     | 16/32 [46:49<58:56, 221.01s/it]"
          ]
        },
        {
          "name": "stdout",
          "output_type": "stream",
          "text": [
            "→ l p117: +25 entries (total 2925)\n"
          ]
        },
        {
          "name": "stderr",
          "output_type": "stream",
          "text": [
            "Letters:  50%|█████     | 16/32 [46:58<58:56, 221.01s/it]"
          ]
        },
        {
          "name": "stdout",
          "output_type": "stream",
          "text": [
            "→ l p118: +25 entries (total 2950)\n"
          ]
        },
        {
          "name": "stderr",
          "output_type": "stream",
          "text": [
            "Letters:  50%|█████     | 16/32 [47:07<58:56, 221.01s/it]"
          ]
        },
        {
          "name": "stdout",
          "output_type": "stream",
          "text": [
            "→ l p119: +25 entries (total 2975)\n"
          ]
        },
        {
          "name": "stderr",
          "output_type": "stream",
          "text": [
            "Letters:  50%|█████     | 16/32 [47:12<58:56, 221.01s/it]"
          ]
        },
        {
          "name": "stdout",
          "output_type": "stream",
          "text": [
            "→ l p120: +25 entries (total 3000)\n"
          ]
        },
        {
          "name": "stderr",
          "output_type": "stream",
          "text": [
            "Letters:  50%|█████     | 16/32 [47:23<58:56, 221.01s/it]"
          ]
        },
        {
          "name": "stdout",
          "output_type": "stream",
          "text": [
            "→ l p121: +25 entries (total 3025)\n"
          ]
        },
        {
          "name": "stderr",
          "output_type": "stream",
          "text": [
            "Letters:  50%|█████     | 16/32 [47:28<58:56, 221.01s/it]"
          ]
        },
        {
          "name": "stdout",
          "output_type": "stream",
          "text": [
            "→ l p122: +25 entries (total 3050)\n"
          ]
        },
        {
          "name": "stderr",
          "output_type": "stream",
          "text": [
            "Letters:  50%|█████     | 16/32 [47:34<58:56, 221.01s/it]"
          ]
        },
        {
          "name": "stdout",
          "output_type": "stream",
          "text": [
            "→ l p123: +25 entries (total 3075)\n"
          ]
        },
        {
          "name": "stderr",
          "output_type": "stream",
          "text": [
            "Letters:  50%|█████     | 16/32 [47:39<58:56, 221.01s/it]"
          ]
        },
        {
          "name": "stdout",
          "output_type": "stream",
          "text": [
            "→ l p124: +25 entries (total 3100)\n"
          ]
        },
        {
          "name": "stderr",
          "output_type": "stream",
          "text": [
            "Letters:  50%|█████     | 16/32 [47:42<58:56, 221.01s/it]"
          ]
        },
        {
          "name": "stdout",
          "output_type": "stream",
          "text": [
            "→ l p125: +8 entries (total 3108)\n"
          ]
        },
        {
          "name": "stderr",
          "output_type": "stream",
          "text": [
            "Letters:  53%|█████▎    | 17/32 [47:47<1:30:10, 360.70s/it]"
          ]
        },
        {
          "name": "stdout",
          "output_type": "stream",
          "text": [
            "→ m p1: +25 entries (total 25)\n"
          ]
        },
        {
          "name": "stderr",
          "output_type": "stream",
          "text": [
            "Letters:  53%|█████▎    | 17/32 [47:52<1:30:10, 360.70s/it]"
          ]
        },
        {
          "name": "stdout",
          "output_type": "stream",
          "text": [
            "→ m p2: +25 entries (total 50)\n"
          ]
        },
        {
          "name": "stderr",
          "output_type": "stream",
          "text": [
            "Letters:  53%|█████▎    | 17/32 [47:56<1:30:10, 360.70s/it]"
          ]
        },
        {
          "name": "stdout",
          "output_type": "stream",
          "text": [
            "→ m p3: +25 entries (total 75)\n"
          ]
        },
        {
          "name": "stderr",
          "output_type": "stream",
          "text": [
            "Letters:  53%|█████▎    | 17/32 [48:02<1:30:10, 360.70s/it]"
          ]
        },
        {
          "name": "stdout",
          "output_type": "stream",
          "text": [
            "→ m p4: +25 entries (total 100)\n"
          ]
        },
        {
          "name": "stderr",
          "output_type": "stream",
          "text": [
            "Letters:  53%|█████▎    | 17/32 [48:07<1:30:10, 360.70s/it]"
          ]
        },
        {
          "name": "stdout",
          "output_type": "stream",
          "text": [
            "→ m p5: +25 entries (total 125)\n"
          ]
        },
        {
          "name": "stderr",
          "output_type": "stream",
          "text": [
            "Letters:  53%|█████▎    | 17/32 [48:12<1:30:10, 360.70s/it]"
          ]
        },
        {
          "name": "stdout",
          "output_type": "stream",
          "text": [
            "→ m p6: +25 entries (total 150)\n"
          ]
        },
        {
          "name": "stderr",
          "output_type": "stream",
          "text": [
            "Letters:  53%|█████▎    | 17/32 [48:16<1:30:10, 360.70s/it]"
          ]
        },
        {
          "name": "stdout",
          "output_type": "stream",
          "text": [
            "→ m p7: +25 entries (total 175)\n"
          ]
        },
        {
          "name": "stderr",
          "output_type": "stream",
          "text": [
            "Letters:  53%|█████▎    | 17/32 [48:21<1:30:10, 360.70s/it]"
          ]
        },
        {
          "name": "stdout",
          "output_type": "stream",
          "text": [
            "→ m p8: +25 entries (total 200)\n"
          ]
        },
        {
          "name": "stderr",
          "output_type": "stream",
          "text": [
            "Letters:  53%|█████▎    | 17/32 [48:26<1:30:10, 360.70s/it]"
          ]
        },
        {
          "name": "stdout",
          "output_type": "stream",
          "text": [
            "→ m p9: +25 entries (total 225)\n"
          ]
        },
        {
          "name": "stderr",
          "output_type": "stream",
          "text": [
            "Letters:  53%|█████▎    | 17/32 [48:31<1:30:10, 360.70s/it]"
          ]
        },
        {
          "name": "stdout",
          "output_type": "stream",
          "text": [
            "→ m p10: +25 entries (total 250)\n"
          ]
        },
        {
          "name": "stderr",
          "output_type": "stream",
          "text": [
            "Letters:  53%|█████▎    | 17/32 [48:36<1:30:10, 360.70s/it]"
          ]
        },
        {
          "name": "stdout",
          "output_type": "stream",
          "text": [
            "→ m p11: +25 entries (total 275)\n"
          ]
        },
        {
          "name": "stderr",
          "output_type": "stream",
          "text": [
            "Letters:  53%|█████▎    | 17/32 [48:40<1:30:10, 360.70s/it]"
          ]
        },
        {
          "name": "stdout",
          "output_type": "stream",
          "text": [
            "→ m p12: +25 entries (total 300)\n"
          ]
        },
        {
          "name": "stderr",
          "output_type": "stream",
          "text": [
            "Letters:  53%|█████▎    | 17/32 [48:45<1:30:10, 360.70s/it]"
          ]
        },
        {
          "name": "stdout",
          "output_type": "stream",
          "text": [
            "→ m p13: +25 entries (total 325)\n"
          ]
        },
        {
          "name": "stderr",
          "output_type": "stream",
          "text": [
            "Letters:  53%|█████▎    | 17/32 [48:49<1:30:10, 360.70s/it]"
          ]
        },
        {
          "name": "stdout",
          "output_type": "stream",
          "text": [
            "→ m p14: +25 entries (total 350)\n"
          ]
        },
        {
          "name": "stderr",
          "output_type": "stream",
          "text": [
            "Letters:  53%|█████▎    | 17/32 [48:53<1:30:10, 360.70s/it]"
          ]
        },
        {
          "name": "stdout",
          "output_type": "stream",
          "text": [
            "→ m p15: +25 entries (total 375)\n"
          ]
        },
        {
          "name": "stderr",
          "output_type": "stream",
          "text": [
            "Letters:  53%|█████▎    | 17/32 [48:58<1:30:10, 360.70s/it]"
          ]
        },
        {
          "name": "stdout",
          "output_type": "stream",
          "text": [
            "→ m p16: +25 entries (total 400)\n"
          ]
        },
        {
          "name": "stderr",
          "output_type": "stream",
          "text": [
            "Letters:  53%|█████▎    | 17/32 [49:03<1:30:10, 360.70s/it]"
          ]
        },
        {
          "name": "stdout",
          "output_type": "stream",
          "text": [
            "→ m p17: +25 entries (total 425)\n"
          ]
        },
        {
          "name": "stderr",
          "output_type": "stream",
          "text": [
            "Letters:  53%|█████▎    | 17/32 [49:08<1:30:10, 360.70s/it]"
          ]
        },
        {
          "name": "stdout",
          "output_type": "stream",
          "text": [
            "→ m p18: +25 entries (total 450)\n"
          ]
        },
        {
          "name": "stderr",
          "output_type": "stream",
          "text": [
            "Letters:  53%|█████▎    | 17/32 [49:12<1:30:10, 360.70s/it]"
          ]
        },
        {
          "name": "stdout",
          "output_type": "stream",
          "text": [
            "→ m p19: +25 entries (total 475)\n"
          ]
        },
        {
          "name": "stderr",
          "output_type": "stream",
          "text": [
            "Letters:  53%|█████▎    | 17/32 [49:16<1:30:10, 360.70s/it]"
          ]
        },
        {
          "name": "stdout",
          "output_type": "stream",
          "text": [
            "→ m p20: +25 entries (total 500)\n"
          ]
        },
        {
          "name": "stderr",
          "output_type": "stream",
          "text": [
            "Letters:  53%|█████▎    | 17/32 [49:22<1:30:10, 360.70s/it]"
          ]
        },
        {
          "name": "stdout",
          "output_type": "stream",
          "text": [
            "→ m p21: +25 entries (total 525)\n"
          ]
        },
        {
          "name": "stderr",
          "output_type": "stream",
          "text": [
            "Letters:  53%|█████▎    | 17/32 [49:30<1:30:10, 360.70s/it]"
          ]
        },
        {
          "name": "stdout",
          "output_type": "stream",
          "text": [
            "→ m p22: +25 entries (total 550)\n"
          ]
        },
        {
          "name": "stderr",
          "output_type": "stream",
          "text": [
            "Letters:  53%|█████▎    | 17/32 [49:35<1:30:10, 360.70s/it]"
          ]
        },
        {
          "name": "stdout",
          "output_type": "stream",
          "text": [
            "→ m p23: +25 entries (total 575)\n"
          ]
        },
        {
          "name": "stderr",
          "output_type": "stream",
          "text": [
            "Letters:  53%|█████▎    | 17/32 [49:39<1:30:10, 360.70s/it]"
          ]
        },
        {
          "name": "stdout",
          "output_type": "stream",
          "text": [
            "→ m p24: +25 entries (total 600)\n"
          ]
        },
        {
          "name": "stderr",
          "output_type": "stream",
          "text": [
            "Letters:  53%|█████▎    | 17/32 [49:44<1:30:10, 360.70s/it]"
          ]
        },
        {
          "name": "stdout",
          "output_type": "stream",
          "text": [
            "→ m p25: +25 entries (total 625)\n"
          ]
        },
        {
          "name": "stderr",
          "output_type": "stream",
          "text": [
            "Letters:  53%|█████▎    | 17/32 [49:49<1:30:10, 360.70s/it]"
          ]
        },
        {
          "name": "stdout",
          "output_type": "stream",
          "text": [
            "→ m p26: +25 entries (total 650)\n"
          ]
        },
        {
          "name": "stderr",
          "output_type": "stream",
          "text": [
            "Letters:  53%|█████▎    | 17/32 [49:54<1:30:10, 360.70s/it]"
          ]
        },
        {
          "name": "stdout",
          "output_type": "stream",
          "text": [
            "→ m p27: +25 entries (total 675)\n"
          ]
        },
        {
          "name": "stderr",
          "output_type": "stream",
          "text": [
            "Letters:  53%|█████▎    | 17/32 [50:05<1:30:10, 360.70s/it]"
          ]
        },
        {
          "name": "stdout",
          "output_type": "stream",
          "text": [
            "→ m p28: +25 entries (total 700)\n"
          ]
        },
        {
          "name": "stderr",
          "output_type": "stream",
          "text": [
            "Letters:  53%|█████▎    | 17/32 [50:10<1:30:10, 360.70s/it]"
          ]
        },
        {
          "name": "stdout",
          "output_type": "stream",
          "text": [
            "→ m p29: +25 entries (total 725)\n"
          ]
        },
        {
          "name": "stderr",
          "output_type": "stream",
          "text": [
            "Letters:  53%|█████▎    | 17/32 [50:15<1:30:10, 360.70s/it]"
          ]
        },
        {
          "name": "stdout",
          "output_type": "stream",
          "text": [
            "→ m p30: +25 entries (total 750)\n"
          ]
        },
        {
          "name": "stderr",
          "output_type": "stream",
          "text": [
            "Letters:  53%|█████▎    | 17/32 [50:20<1:30:10, 360.70s/it]"
          ]
        },
        {
          "name": "stdout",
          "output_type": "stream",
          "text": [
            "→ m p31: +25 entries (total 775)\n"
          ]
        },
        {
          "name": "stderr",
          "output_type": "stream",
          "text": [
            "Letters:  53%|█████▎    | 17/32 [50:25<1:30:10, 360.70s/it]"
          ]
        },
        {
          "name": "stdout",
          "output_type": "stream",
          "text": [
            "→ m p32: +25 entries (total 800)\n"
          ]
        },
        {
          "name": "stderr",
          "output_type": "stream",
          "text": [
            "Letters:  53%|█████▎    | 17/32 [50:29<1:30:10, 360.70s/it]"
          ]
        },
        {
          "name": "stdout",
          "output_type": "stream",
          "text": [
            "→ m p33: +25 entries (total 825)\n"
          ]
        },
        {
          "name": "stderr",
          "output_type": "stream",
          "text": [
            "Letters:  53%|█████▎    | 17/32 [50:34<1:30:10, 360.70s/it]"
          ]
        },
        {
          "name": "stdout",
          "output_type": "stream",
          "text": [
            "→ m p34: +25 entries (total 850)\n"
          ]
        },
        {
          "name": "stderr",
          "output_type": "stream",
          "text": [
            "Letters:  53%|█████▎    | 17/32 [50:38<1:30:10, 360.70s/it]"
          ]
        },
        {
          "name": "stdout",
          "output_type": "stream",
          "text": [
            "→ m p35: +25 entries (total 875)\n"
          ]
        },
        {
          "name": "stderr",
          "output_type": "stream",
          "text": [
            "Letters:  53%|█████▎    | 17/32 [50:44<1:30:10, 360.70s/it]"
          ]
        },
        {
          "name": "stdout",
          "output_type": "stream",
          "text": [
            "→ m p36: +25 entries (total 900)\n"
          ]
        },
        {
          "name": "stderr",
          "output_type": "stream",
          "text": [
            "Letters:  53%|█████▎    | 17/32 [50:51<1:30:10, 360.70s/it]"
          ]
        },
        {
          "name": "stdout",
          "output_type": "stream",
          "text": [
            "→ m p37: +25 entries (total 925)\n"
          ]
        },
        {
          "name": "stderr",
          "output_type": "stream",
          "text": [
            "Letters:  53%|█████▎    | 17/32 [50:55<1:30:10, 360.70s/it]"
          ]
        },
        {
          "name": "stdout",
          "output_type": "stream",
          "text": [
            "→ m p38: +25 entries (total 950)\n"
          ]
        },
        {
          "name": "stderr",
          "output_type": "stream",
          "text": [
            "Letters:  53%|█████▎    | 17/32 [51:00<1:30:10, 360.70s/it]"
          ]
        },
        {
          "name": "stdout",
          "output_type": "stream",
          "text": [
            "→ m p39: +25 entries (total 975)\n"
          ]
        },
        {
          "name": "stderr",
          "output_type": "stream",
          "text": [
            "Letters:  53%|█████▎    | 17/32 [51:04<1:30:10, 360.70s/it]"
          ]
        },
        {
          "name": "stdout",
          "output_type": "stream",
          "text": [
            "→ m p40: +25 entries (total 1000)\n"
          ]
        },
        {
          "name": "stderr",
          "output_type": "stream",
          "text": [
            "Letters:  53%|█████▎    | 17/32 [51:10<1:30:10, 360.70s/it]"
          ]
        },
        {
          "name": "stdout",
          "output_type": "stream",
          "text": [
            "→ m p41: +25 entries (total 1025)\n"
          ]
        },
        {
          "name": "stderr",
          "output_type": "stream",
          "text": [
            "Letters:  53%|█████▎    | 17/32 [51:14<1:30:10, 360.70s/it]"
          ]
        },
        {
          "name": "stdout",
          "output_type": "stream",
          "text": [
            "→ m p42: +25 entries (total 1050)\n"
          ]
        },
        {
          "name": "stderr",
          "output_type": "stream",
          "text": [
            "Letters:  53%|█████▎    | 17/32 [51:19<1:30:10, 360.70s/it]"
          ]
        },
        {
          "name": "stdout",
          "output_type": "stream",
          "text": [
            "→ m p43: +25 entries (total 1075)\n"
          ]
        },
        {
          "name": "stderr",
          "output_type": "stream",
          "text": [
            "Letters:  53%|█████▎    | 17/32 [51:24<1:30:10, 360.70s/it]"
          ]
        },
        {
          "name": "stdout",
          "output_type": "stream",
          "text": [
            "→ m p44: +25 entries (total 1100)\n"
          ]
        },
        {
          "name": "stderr",
          "output_type": "stream",
          "text": [
            "Letters:  53%|█████▎    | 17/32 [51:28<1:30:10, 360.70s/it]"
          ]
        },
        {
          "name": "stdout",
          "output_type": "stream",
          "text": [
            "→ m p45: +25 entries (total 1125)\n"
          ]
        },
        {
          "name": "stderr",
          "output_type": "stream",
          "text": [
            "Letters:  53%|█████▎    | 17/32 [51:33<1:30:10, 360.70s/it]"
          ]
        },
        {
          "name": "stdout",
          "output_type": "stream",
          "text": [
            "→ m p46: +25 entries (total 1150)\n"
          ]
        },
        {
          "name": "stderr",
          "output_type": "stream",
          "text": [
            "Letters:  53%|█████▎    | 17/32 [51:37<1:30:10, 360.70s/it]"
          ]
        },
        {
          "name": "stdout",
          "output_type": "stream",
          "text": [
            "→ m p47: +25 entries (total 1175)\n"
          ]
        },
        {
          "name": "stderr",
          "output_type": "stream",
          "text": [
            "Letters:  53%|█████▎    | 17/32 [51:42<1:30:10, 360.70s/it]"
          ]
        },
        {
          "name": "stdout",
          "output_type": "stream",
          "text": [
            "→ m p48: +25 entries (total 1200)\n"
          ]
        },
        {
          "name": "stderr",
          "output_type": "stream",
          "text": [
            "Letters:  53%|█████▎    | 17/32 [51:47<1:30:10, 360.70s/it]"
          ]
        },
        {
          "name": "stdout",
          "output_type": "stream",
          "text": [
            "→ m p49: +25 entries (total 1225)\n"
          ]
        },
        {
          "name": "stderr",
          "output_type": "stream",
          "text": [
            "Letters:  53%|█████▎    | 17/32 [51:52<1:30:10, 360.70s/it]"
          ]
        },
        {
          "name": "stdout",
          "output_type": "stream",
          "text": [
            "→ m p50: +25 entries (total 1250)\n"
          ]
        },
        {
          "name": "stderr",
          "output_type": "stream",
          "text": [
            "Letters:  53%|█████▎    | 17/32 [51:56<1:30:10, 360.70s/it]"
          ]
        },
        {
          "name": "stdout",
          "output_type": "stream",
          "text": [
            "→ m p51: +25 entries (total 1275)\n"
          ]
        },
        {
          "name": "stderr",
          "output_type": "stream",
          "text": [
            "Letters:  53%|█████▎    | 17/32 [52:01<1:30:10, 360.70s/it]"
          ]
        },
        {
          "name": "stdout",
          "output_type": "stream",
          "text": [
            "→ m p52: +25 entries (total 1300)\n"
          ]
        },
        {
          "name": "stderr",
          "output_type": "stream",
          "text": [
            "Letters:  53%|█████▎    | 17/32 [52:05<1:30:10, 360.70s/it]"
          ]
        },
        {
          "name": "stdout",
          "output_type": "stream",
          "text": [
            "→ m p53: +25 entries (total 1325)\n"
          ]
        },
        {
          "name": "stderr",
          "output_type": "stream",
          "text": [
            "Letters:  53%|█████▎    | 17/32 [52:10<1:30:10, 360.70s/it]"
          ]
        },
        {
          "name": "stdout",
          "output_type": "stream",
          "text": [
            "→ m p54: +25 entries (total 1350)\n"
          ]
        },
        {
          "name": "stderr",
          "output_type": "stream",
          "text": [
            "Letters:  53%|█████▎    | 17/32 [52:15<1:30:10, 360.70s/it]"
          ]
        },
        {
          "name": "stdout",
          "output_type": "stream",
          "text": [
            "→ m p55: +25 entries (total 1375)\n"
          ]
        },
        {
          "name": "stderr",
          "output_type": "stream",
          "text": [
            "Letters:  53%|█████▎    | 17/32 [52:20<1:30:10, 360.70s/it]"
          ]
        },
        {
          "name": "stdout",
          "output_type": "stream",
          "text": [
            "→ m p56: +25 entries (total 1400)\n"
          ]
        },
        {
          "name": "stderr",
          "output_type": "stream",
          "text": [
            "Letters:  53%|█████▎    | 17/32 [52:24<1:30:10, 360.70s/it]"
          ]
        },
        {
          "name": "stdout",
          "output_type": "stream",
          "text": [
            "→ m p57: +25 entries (total 1425)\n"
          ]
        },
        {
          "name": "stderr",
          "output_type": "stream",
          "text": [
            "Letters:  53%|█████▎    | 17/32 [52:29<1:30:10, 360.70s/it]"
          ]
        },
        {
          "name": "stdout",
          "output_type": "stream",
          "text": [
            "→ m p58: +25 entries (total 1450)\n"
          ]
        },
        {
          "name": "stderr",
          "output_type": "stream",
          "text": [
            "Letters:  53%|█████▎    | 17/32 [52:34<1:30:10, 360.70s/it]"
          ]
        },
        {
          "name": "stdout",
          "output_type": "stream",
          "text": [
            "→ m p59: +25 entries (total 1475)\n"
          ]
        },
        {
          "name": "stderr",
          "output_type": "stream",
          "text": [
            "Letters:  53%|█████▎    | 17/32 [52:40<1:30:10, 360.70s/it]"
          ]
        },
        {
          "name": "stdout",
          "output_type": "stream",
          "text": [
            "→ m p60: +25 entries (total 1500)\n"
          ]
        },
        {
          "name": "stderr",
          "output_type": "stream",
          "text": [
            "Letters:  53%|█████▎    | 17/32 [52:45<1:30:10, 360.70s/it]"
          ]
        },
        {
          "name": "stdout",
          "output_type": "stream",
          "text": [
            "→ m p61: +25 entries (total 1525)\n"
          ]
        },
        {
          "name": "stderr",
          "output_type": "stream",
          "text": [
            "Letters:  53%|█████▎    | 17/32 [52:49<1:30:10, 360.70s/it]"
          ]
        },
        {
          "name": "stdout",
          "output_type": "stream",
          "text": [
            "→ m p62: +25 entries (total 1550)\n"
          ]
        },
        {
          "name": "stderr",
          "output_type": "stream",
          "text": [
            "Letters:  53%|█████▎    | 17/32 [52:54<1:30:10, 360.70s/it]"
          ]
        },
        {
          "name": "stdout",
          "output_type": "stream",
          "text": [
            "→ m p63: +25 entries (total 1575)\n"
          ]
        },
        {
          "name": "stderr",
          "output_type": "stream",
          "text": [
            "Letters:  53%|█████▎    | 17/32 [52:58<1:30:10, 360.70s/it]"
          ]
        },
        {
          "name": "stdout",
          "output_type": "stream",
          "text": [
            "→ m p64: +25 entries (total 1600)\n"
          ]
        },
        {
          "name": "stderr",
          "output_type": "stream",
          "text": [
            "Letters:  53%|█████▎    | 17/32 [53:03<1:30:10, 360.70s/it]"
          ]
        },
        {
          "name": "stdout",
          "output_type": "stream",
          "text": [
            "→ m p65: +25 entries (total 1625)\n"
          ]
        },
        {
          "name": "stderr",
          "output_type": "stream",
          "text": [
            "Letters:  53%|█████▎    | 17/32 [53:07<1:30:10, 360.70s/it]"
          ]
        },
        {
          "name": "stdout",
          "output_type": "stream",
          "text": [
            "→ m p66: +25 entries (total 1650)\n"
          ]
        },
        {
          "name": "stderr",
          "output_type": "stream",
          "text": [
            "Letters:  53%|█████▎    | 17/32 [53:12<1:30:10, 360.70s/it]"
          ]
        },
        {
          "name": "stdout",
          "output_type": "stream",
          "text": [
            "→ m p67: +25 entries (total 1675)\n"
          ]
        },
        {
          "name": "stderr",
          "output_type": "stream",
          "text": [
            "Letters:  53%|█████▎    | 17/32 [53:16<1:30:10, 360.70s/it]"
          ]
        },
        {
          "name": "stdout",
          "output_type": "stream",
          "text": [
            "→ m p68: +25 entries (total 1700)\n"
          ]
        },
        {
          "name": "stderr",
          "output_type": "stream",
          "text": [
            "Letters:  53%|█████▎    | 17/32 [53:21<1:30:10, 360.70s/it]"
          ]
        },
        {
          "name": "stdout",
          "output_type": "stream",
          "text": [
            "→ m p69: +25 entries (total 1725)\n"
          ]
        },
        {
          "name": "stderr",
          "output_type": "stream",
          "text": [
            "Letters:  53%|█████▎    | 17/32 [53:25<1:30:10, 360.70s/it]"
          ]
        },
        {
          "name": "stdout",
          "output_type": "stream",
          "text": [
            "→ m p70: +25 entries (total 1750)\n"
          ]
        },
        {
          "name": "stderr",
          "output_type": "stream",
          "text": [
            "Letters:  53%|█████▎    | 17/32 [53:30<1:30:10, 360.70s/it]"
          ]
        },
        {
          "name": "stdout",
          "output_type": "stream",
          "text": [
            "→ m p71: +25 entries (total 1775)\n"
          ]
        },
        {
          "name": "stderr",
          "output_type": "stream",
          "text": [
            "Letters:  53%|█████▎    | 17/32 [53:34<1:30:10, 360.70s/it]"
          ]
        },
        {
          "name": "stdout",
          "output_type": "stream",
          "text": [
            "→ m p72: +25 entries (total 1800)\n"
          ]
        },
        {
          "name": "stderr",
          "output_type": "stream",
          "text": [
            "Letters:  53%|█████▎    | 17/32 [53:41<1:30:10, 360.70s/it]"
          ]
        },
        {
          "name": "stdout",
          "output_type": "stream",
          "text": [
            "→ m p73: +25 entries (total 1825)\n"
          ]
        },
        {
          "name": "stderr",
          "output_type": "stream",
          "text": [
            "Letters:  53%|█████▎    | 17/32 [53:45<1:30:10, 360.70s/it]"
          ]
        },
        {
          "name": "stdout",
          "output_type": "stream",
          "text": [
            "→ m p74: +25 entries (total 1850)\n"
          ]
        },
        {
          "name": "stderr",
          "output_type": "stream",
          "text": [
            "Letters:  53%|█████▎    | 17/32 [53:49<1:30:10, 360.70s/it]"
          ]
        },
        {
          "name": "stdout",
          "output_type": "stream",
          "text": [
            "→ m p75: +25 entries (total 1875)\n"
          ]
        },
        {
          "name": "stderr",
          "output_type": "stream",
          "text": [
            "Letters:  53%|█████▎    | 17/32 [53:54<1:30:10, 360.70s/it]"
          ]
        },
        {
          "name": "stdout",
          "output_type": "stream",
          "text": [
            "→ m p76: +25 entries (total 1900)\n"
          ]
        },
        {
          "name": "stderr",
          "output_type": "stream",
          "text": [
            "Letters:  53%|█████▎    | 17/32 [53:58<1:30:10, 360.70s/it]"
          ]
        },
        {
          "name": "stdout",
          "output_type": "stream",
          "text": [
            "→ m p77: +25 entries (total 1925)\n"
          ]
        },
        {
          "name": "stderr",
          "output_type": "stream",
          "text": [
            "Letters:  53%|█████▎    | 17/32 [54:03<1:30:10, 360.70s/it]"
          ]
        },
        {
          "name": "stdout",
          "output_type": "stream",
          "text": [
            "→ m p78: +25 entries (total 1950)\n"
          ]
        },
        {
          "name": "stderr",
          "output_type": "stream",
          "text": [
            "Letters:  53%|█████▎    | 17/32 [54:08<1:30:10, 360.70s/it]"
          ]
        },
        {
          "name": "stdout",
          "output_type": "stream",
          "text": [
            "→ m p79: +25 entries (total 1975)\n"
          ]
        },
        {
          "name": "stderr",
          "output_type": "stream",
          "text": [
            "Letters:  53%|█████▎    | 17/32 [54:14<1:30:10, 360.70s/it]"
          ]
        },
        {
          "name": "stdout",
          "output_type": "stream",
          "text": [
            "→ m p80: +25 entries (total 2000)\n"
          ]
        },
        {
          "name": "stderr",
          "output_type": "stream",
          "text": [
            "Letters:  53%|█████▎    | 17/32 [54:18<1:30:10, 360.70s/it]"
          ]
        },
        {
          "name": "stdout",
          "output_type": "stream",
          "text": [
            "→ m p81: +25 entries (total 2025)\n"
          ]
        },
        {
          "name": "stderr",
          "output_type": "stream",
          "text": [
            "Letters:  53%|█████▎    | 17/32 [54:23<1:30:10, 360.70s/it]"
          ]
        },
        {
          "name": "stdout",
          "output_type": "stream",
          "text": [
            "→ m p82: +25 entries (total 2050)\n"
          ]
        },
        {
          "name": "stderr",
          "output_type": "stream",
          "text": [
            "Letters:  53%|█████▎    | 17/32 [54:28<1:30:10, 360.70s/it]"
          ]
        },
        {
          "name": "stdout",
          "output_type": "stream",
          "text": [
            "→ m p83: +25 entries (total 2075)\n"
          ]
        },
        {
          "name": "stderr",
          "output_type": "stream",
          "text": [
            "Letters:  53%|█████▎    | 17/32 [54:36<1:30:10, 360.70s/it]"
          ]
        },
        {
          "name": "stdout",
          "output_type": "stream",
          "text": [
            "→ m p84: +25 entries (total 2100)\n"
          ]
        },
        {
          "name": "stderr",
          "output_type": "stream",
          "text": [
            "Letters:  53%|█████▎    | 17/32 [54:41<1:30:10, 360.70s/it]"
          ]
        },
        {
          "name": "stdout",
          "output_type": "stream",
          "text": [
            "→ m p85: +25 entries (total 2125)\n"
          ]
        },
        {
          "name": "stderr",
          "output_type": "stream",
          "text": [
            "Letters:  53%|█████▎    | 17/32 [54:45<1:30:10, 360.70s/it]"
          ]
        },
        {
          "name": "stdout",
          "output_type": "stream",
          "text": [
            "→ m p86: +25 entries (total 2150)\n"
          ]
        },
        {
          "name": "stderr",
          "output_type": "stream",
          "text": [
            "Letters:  53%|█████▎    | 17/32 [54:52<1:30:10, 360.70s/it]"
          ]
        },
        {
          "name": "stdout",
          "output_type": "stream",
          "text": [
            "→ m p87: +25 entries (total 2175)\n"
          ]
        },
        {
          "name": "stderr",
          "output_type": "stream",
          "text": [
            "Letters:  53%|█████▎    | 17/32 [54:58<1:30:10, 360.70s/it]"
          ]
        },
        {
          "name": "stdout",
          "output_type": "stream",
          "text": [
            "→ m p88: +25 entries (total 2200)\n"
          ]
        },
        {
          "name": "stderr",
          "output_type": "stream",
          "text": [
            "Letters:  53%|█████▎    | 17/32 [55:02<1:30:10, 360.70s/it]"
          ]
        },
        {
          "name": "stdout",
          "output_type": "stream",
          "text": [
            "→ m p89: +25 entries (total 2225)\n"
          ]
        },
        {
          "name": "stderr",
          "output_type": "stream",
          "text": [
            "Letters:  53%|█████▎    | 17/32 [55:07<1:30:10, 360.70s/it]"
          ]
        },
        {
          "name": "stdout",
          "output_type": "stream",
          "text": [
            "→ m p90: +25 entries (total 2250)\n"
          ]
        },
        {
          "name": "stderr",
          "output_type": "stream",
          "text": [
            "Letters:  53%|█████▎    | 17/32 [55:11<1:30:10, 360.70s/it]"
          ]
        },
        {
          "name": "stdout",
          "output_type": "stream",
          "text": [
            "→ m p91: +25 entries (total 2275)\n"
          ]
        },
        {
          "name": "stderr",
          "output_type": "stream",
          "text": [
            "Letters:  53%|█████▎    | 17/32 [55:15<1:30:10, 360.70s/it]"
          ]
        },
        {
          "name": "stdout",
          "output_type": "stream",
          "text": [
            "→ m p92: +25 entries (total 2300)\n"
          ]
        },
        {
          "name": "stderr",
          "output_type": "stream",
          "text": [
            "Letters:  53%|█████▎    | 17/32 [55:19<1:30:10, 360.70s/it]"
          ]
        },
        {
          "name": "stdout",
          "output_type": "stream",
          "text": [
            "→ m p93: +25 entries (total 2325)\n"
          ]
        },
        {
          "name": "stderr",
          "output_type": "stream",
          "text": [
            "Letters:  53%|█████▎    | 17/32 [55:24<1:30:10, 360.70s/it]"
          ]
        },
        {
          "name": "stdout",
          "output_type": "stream",
          "text": [
            "→ m p94: +25 entries (total 2350)\n"
          ]
        },
        {
          "name": "stderr",
          "output_type": "stream",
          "text": [
            "Letters:  53%|█████▎    | 17/32 [55:29<1:30:10, 360.70s/it]"
          ]
        },
        {
          "name": "stdout",
          "output_type": "stream",
          "text": [
            "→ m p95: +25 entries (total 2375)\n"
          ]
        },
        {
          "name": "stderr",
          "output_type": "stream",
          "text": [
            "Letters:  53%|█████▎    | 17/32 [55:34<1:30:10, 360.70s/it]"
          ]
        },
        {
          "name": "stdout",
          "output_type": "stream",
          "text": [
            "→ m p96: +25 entries (total 2400)\n"
          ]
        },
        {
          "name": "stderr",
          "output_type": "stream",
          "text": [
            "Letters:  53%|█████▎    | 17/32 [55:38<1:30:10, 360.70s/it]"
          ]
        },
        {
          "name": "stdout",
          "output_type": "stream",
          "text": [
            "→ m p97: +25 entries (total 2425)\n"
          ]
        },
        {
          "name": "stderr",
          "output_type": "stream",
          "text": [
            "Letters:  53%|█████▎    | 17/32 [55:43<1:30:10, 360.70s/it]"
          ]
        },
        {
          "name": "stdout",
          "output_type": "stream",
          "text": [
            "→ m p98: +25 entries (total 2450)\n"
          ]
        },
        {
          "name": "stderr",
          "output_type": "stream",
          "text": [
            "Letters:  53%|█████▎    | 17/32 [55:50<1:30:10, 360.70s/it]"
          ]
        },
        {
          "name": "stdout",
          "output_type": "stream",
          "text": [
            "→ m p99: +25 entries (total 2475)\n"
          ]
        },
        {
          "name": "stderr",
          "output_type": "stream",
          "text": [
            "Letters:  53%|█████▎    | 17/32 [55:59<1:30:10, 360.70s/it]"
          ]
        },
        {
          "name": "stdout",
          "output_type": "stream",
          "text": [
            "→ m p100: +25 entries (total 2500)\n"
          ]
        },
        {
          "name": "stderr",
          "output_type": "stream",
          "text": [
            "Letters:  53%|█████▎    | 17/32 [56:03<1:30:10, 360.70s/it]"
          ]
        },
        {
          "name": "stdout",
          "output_type": "stream",
          "text": [
            "→ m p101: +25 entries (total 2525)\n"
          ]
        },
        {
          "name": "stderr",
          "output_type": "stream",
          "text": [
            "Letters:  53%|█████▎    | 17/32 [56:08<1:30:10, 360.70s/it]"
          ]
        },
        {
          "name": "stdout",
          "output_type": "stream",
          "text": [
            "→ m p102: +25 entries (total 2550)\n"
          ]
        },
        {
          "name": "stderr",
          "output_type": "stream",
          "text": [
            "Letters:  53%|█████▎    | 17/32 [56:12<1:30:10, 360.70s/it]"
          ]
        },
        {
          "name": "stdout",
          "output_type": "stream",
          "text": [
            "→ m p103: +25 entries (total 2575)\n"
          ]
        },
        {
          "name": "stderr",
          "output_type": "stream",
          "text": [
            "Letters:  53%|█████▎    | 17/32 [56:18<1:30:10, 360.70s/it]"
          ]
        },
        {
          "name": "stdout",
          "output_type": "stream",
          "text": [
            "→ m p104: +25 entries (total 2600)\n"
          ]
        },
        {
          "name": "stderr",
          "output_type": "stream",
          "text": [
            "Letters:  53%|█████▎    | 17/32 [56:23<1:30:10, 360.70s/it]"
          ]
        },
        {
          "name": "stdout",
          "output_type": "stream",
          "text": [
            "→ m p105: +25 entries (total 2625)\n"
          ]
        },
        {
          "name": "stderr",
          "output_type": "stream",
          "text": [
            "Letters:  53%|█████▎    | 17/32 [56:27<1:30:10, 360.70s/it]"
          ]
        },
        {
          "name": "stdout",
          "output_type": "stream",
          "text": [
            "→ m p106: +25 entries (total 2650)\n"
          ]
        },
        {
          "name": "stderr",
          "output_type": "stream",
          "text": [
            "Letters:  53%|█████▎    | 17/32 [56:31<1:30:10, 360.70s/it]"
          ]
        },
        {
          "name": "stdout",
          "output_type": "stream",
          "text": [
            "→ m p107: +12 entries (total 2662)\n"
          ]
        },
        {
          "name": "stderr",
          "output_type": "stream",
          "text": [
            "Letters:  56%|█████▋    | 18/32 [56:37<1:35:57, 411.23s/it]"
          ]
        },
        {
          "name": "stdout",
          "output_type": "stream",
          "text": [
            "→ n p1: +25 entries (total 25)\n"
          ]
        },
        {
          "name": "stderr",
          "output_type": "stream",
          "text": [
            "Letters:  56%|█████▋    | 18/32 [56:42<1:35:57, 411.23s/it]"
          ]
        },
        {
          "name": "stdout",
          "output_type": "stream",
          "text": [
            "→ n p2: +25 entries (total 50)\n"
          ]
        },
        {
          "name": "stderr",
          "output_type": "stream",
          "text": [
            "Letters:  56%|█████▋    | 18/32 [56:47<1:35:57, 411.23s/it]"
          ]
        },
        {
          "name": "stdout",
          "output_type": "stream",
          "text": [
            "→ n p3: +25 entries (total 75)\n"
          ]
        },
        {
          "name": "stderr",
          "output_type": "stream",
          "text": [
            "Letters:  56%|█████▋    | 18/32 [56:51<1:35:57, 411.23s/it]"
          ]
        },
        {
          "name": "stdout",
          "output_type": "stream",
          "text": [
            "→ n p4: +25 entries (total 100)\n"
          ]
        },
        {
          "name": "stderr",
          "output_type": "stream",
          "text": [
            "Letters:  56%|█████▋    | 18/32 [56:56<1:35:57, 411.23s/it]"
          ]
        },
        {
          "name": "stdout",
          "output_type": "stream",
          "text": [
            "→ n p5: +25 entries (total 125)\n"
          ]
        },
        {
          "name": "stderr",
          "output_type": "stream",
          "text": [
            "Letters:  56%|█████▋    | 18/32 [57:00<1:35:57, 411.23s/it]"
          ]
        },
        {
          "name": "stdout",
          "output_type": "stream",
          "text": [
            "→ n p6: +25 entries (total 150)\n"
          ]
        },
        {
          "name": "stderr",
          "output_type": "stream",
          "text": [
            "Letters:  56%|█████▋    | 18/32 [57:05<1:35:57, 411.23s/it]"
          ]
        },
        {
          "name": "stdout",
          "output_type": "stream",
          "text": [
            "→ n p7: +25 entries (total 175)\n"
          ]
        },
        {
          "name": "stderr",
          "output_type": "stream",
          "text": [
            "Letters:  56%|█████▋    | 18/32 [57:10<1:35:57, 411.23s/it]"
          ]
        },
        {
          "name": "stdout",
          "output_type": "stream",
          "text": [
            "→ n p8: +25 entries (total 200)\n"
          ]
        },
        {
          "name": "stderr",
          "output_type": "stream",
          "text": [
            "Letters:  56%|█████▋    | 18/32 [57:15<1:35:57, 411.23s/it]"
          ]
        },
        {
          "name": "stdout",
          "output_type": "stream",
          "text": [
            "→ n p9: +25 entries (total 225)\n"
          ]
        },
        {
          "name": "stderr",
          "output_type": "stream",
          "text": [
            "Letters:  56%|█████▋    | 18/32 [57:20<1:35:57, 411.23s/it]"
          ]
        },
        {
          "name": "stdout",
          "output_type": "stream",
          "text": [
            "→ n p10: +25 entries (total 250)\n"
          ]
        },
        {
          "name": "stderr",
          "output_type": "stream",
          "text": [
            "Letters:  56%|█████▋    | 18/32 [57:36<1:35:57, 411.23s/it]"
          ]
        },
        {
          "name": "stdout",
          "output_type": "stream",
          "text": [
            "→ n p11: +25 entries (total 275)\n"
          ]
        },
        {
          "name": "stderr",
          "output_type": "stream",
          "text": [
            "Letters:  56%|█████▋    | 18/32 [58:03<1:35:57, 411.23s/it]"
          ]
        },
        {
          "name": "stdout",
          "output_type": "stream",
          "text": [
            "→ n p12: +25 entries (total 300)\n"
          ]
        },
        {
          "name": "stderr",
          "output_type": "stream",
          "text": [
            "Letters:  56%|█████▋    | 18/32 [58:11<1:35:57, 411.23s/it]"
          ]
        },
        {
          "name": "stdout",
          "output_type": "stream",
          "text": [
            "→ n p13: +25 entries (total 325)\n"
          ]
        },
        {
          "name": "stderr",
          "output_type": "stream",
          "text": [
            "Letters:  56%|█████▋    | 18/32 [58:16<1:35:57, 411.23s/it]"
          ]
        },
        {
          "name": "stdout",
          "output_type": "stream",
          "text": [
            "→ n p14: +25 entries (total 350)\n"
          ]
        },
        {
          "name": "stderr",
          "output_type": "stream",
          "text": [
            "Letters:  56%|█████▋    | 18/32 [58:21<1:35:57, 411.23s/it]"
          ]
        },
        {
          "name": "stdout",
          "output_type": "stream",
          "text": [
            "→ n p15: +25 entries (total 375)\n"
          ]
        },
        {
          "name": "stderr",
          "output_type": "stream",
          "text": [
            "Letters:  56%|█████▋    | 18/32 [58:25<1:35:57, 411.23s/it]"
          ]
        },
        {
          "name": "stdout",
          "output_type": "stream",
          "text": [
            "→ n p16: +25 entries (total 400)\n"
          ]
        },
        {
          "name": "stderr",
          "output_type": "stream",
          "text": [
            "Letters:  56%|█████▋    | 18/32 [58:30<1:35:57, 411.23s/it]"
          ]
        },
        {
          "name": "stdout",
          "output_type": "stream",
          "text": [
            "→ n p17: +25 entries (total 425)\n"
          ]
        },
        {
          "name": "stderr",
          "output_type": "stream",
          "text": [
            "Letters:  56%|█████▋    | 18/32 [58:34<1:35:57, 411.23s/it]"
          ]
        },
        {
          "name": "stdout",
          "output_type": "stream",
          "text": [
            "→ n p18: +25 entries (total 450)\n"
          ]
        },
        {
          "name": "stderr",
          "output_type": "stream",
          "text": [
            "Letters:  56%|█████▋    | 18/32 [58:39<1:35:57, 411.23s/it]"
          ]
        },
        {
          "name": "stdout",
          "output_type": "stream",
          "text": [
            "→ n p19: +25 entries (total 475)\n"
          ]
        },
        {
          "name": "stderr",
          "output_type": "stream",
          "text": [
            "Letters:  56%|█████▋    | 18/32 [58:43<1:35:57, 411.23s/it]"
          ]
        },
        {
          "name": "stdout",
          "output_type": "stream",
          "text": [
            "→ n p20: +25 entries (total 500)\n"
          ]
        },
        {
          "name": "stderr",
          "output_type": "stream",
          "text": [
            "Letters:  56%|█████▋    | 18/32 [58:48<1:35:57, 411.23s/it]"
          ]
        },
        {
          "name": "stdout",
          "output_type": "stream",
          "text": [
            "→ n p21: +25 entries (total 525)\n"
          ]
        },
        {
          "name": "stderr",
          "output_type": "stream",
          "text": [
            "Letters:  56%|█████▋    | 18/32 [58:54<1:35:57, 411.23s/it]"
          ]
        },
        {
          "name": "stdout",
          "output_type": "stream",
          "text": [
            "→ n p22: +25 entries (total 550)\n"
          ]
        },
        {
          "name": "stderr",
          "output_type": "stream",
          "text": [
            "Letters:  56%|█████▋    | 18/32 [58:58<1:35:57, 411.23s/it]"
          ]
        },
        {
          "name": "stdout",
          "output_type": "stream",
          "text": [
            "→ n p23: +25 entries (total 575)\n"
          ]
        },
        {
          "name": "stderr",
          "output_type": "stream",
          "text": [
            "Letters:  56%|█████▋    | 18/32 [59:03<1:35:57, 411.23s/it]"
          ]
        },
        {
          "name": "stdout",
          "output_type": "stream",
          "text": [
            "→ n p24: +25 entries (total 600)\n"
          ]
        },
        {
          "name": "stderr",
          "output_type": "stream",
          "text": [
            "Letters:  56%|█████▋    | 18/32 [59:08<1:35:57, 411.23s/it]"
          ]
        },
        {
          "name": "stdout",
          "output_type": "stream",
          "text": [
            "→ n p25: +25 entries (total 625)\n"
          ]
        },
        {
          "name": "stderr",
          "output_type": "stream",
          "text": [
            "Letters:  56%|█████▋    | 18/32 [59:13<1:35:57, 411.23s/it]"
          ]
        },
        {
          "name": "stdout",
          "output_type": "stream",
          "text": [
            "→ n p26: +25 entries (total 650)\n"
          ]
        },
        {
          "name": "stderr",
          "output_type": "stream",
          "text": [
            "Letters:  56%|█████▋    | 18/32 [59:17<1:35:57, 411.23s/it]"
          ]
        },
        {
          "name": "stdout",
          "output_type": "stream",
          "text": [
            "→ n p27: +25 entries (total 675)\n"
          ]
        },
        {
          "name": "stderr",
          "output_type": "stream",
          "text": [
            "Letters:  56%|█████▋    | 18/32 [59:23<1:35:57, 411.23s/it]"
          ]
        },
        {
          "name": "stdout",
          "output_type": "stream",
          "text": [
            "→ n p28: +25 entries (total 700)\n"
          ]
        },
        {
          "name": "stderr",
          "output_type": "stream",
          "text": [
            "Letters:  56%|█████▋    | 18/32 [59:28<1:35:57, 411.23s/it]"
          ]
        },
        {
          "name": "stdout",
          "output_type": "stream",
          "text": [
            "→ n p29: +25 entries (total 725)\n"
          ]
        },
        {
          "name": "stderr",
          "output_type": "stream",
          "text": [
            "Letters:  56%|█████▋    | 18/32 [59:32<1:35:57, 411.23s/it]"
          ]
        },
        {
          "name": "stdout",
          "output_type": "stream",
          "text": [
            "→ n p30: +25 entries (total 750)\n"
          ]
        },
        {
          "name": "stderr",
          "output_type": "stream",
          "text": [
            "Letters:  56%|█████▋    | 18/32 [59:36<1:35:57, 411.23s/it]"
          ]
        },
        {
          "name": "stdout",
          "output_type": "stream",
          "text": [
            "→ n p31: +25 entries (total 775)\n"
          ]
        },
        {
          "name": "stderr",
          "output_type": "stream",
          "text": [
            "Letters:  56%|█████▋    | 18/32 [59:42<1:35:57, 411.23s/it]"
          ]
        },
        {
          "name": "stdout",
          "output_type": "stream",
          "text": [
            "→ n p32: +25 entries (total 800)\n"
          ]
        },
        {
          "name": "stderr",
          "output_type": "stream",
          "text": [
            "Letters:  56%|█████▋    | 18/32 [59:46<1:35:57, 411.23s/it]"
          ]
        },
        {
          "name": "stdout",
          "output_type": "stream",
          "text": [
            "→ n p33: +25 entries (total 825)\n"
          ]
        },
        {
          "name": "stderr",
          "output_type": "stream",
          "text": [
            "Letters:  56%|█████▋    | 18/32 [59:52<1:35:57, 411.23s/it]"
          ]
        },
        {
          "name": "stdout",
          "output_type": "stream",
          "text": [
            "→ n p34: +25 entries (total 850)\n"
          ]
        },
        {
          "name": "stderr",
          "output_type": "stream",
          "text": [
            "Letters:  56%|█████▋    | 18/32 [1:00:00<1:35:57, 411.23s/it]"
          ]
        },
        {
          "name": "stdout",
          "output_type": "stream",
          "text": [
            "→ n p35: +25 entries (total 875)\n"
          ]
        },
        {
          "name": "stderr",
          "output_type": "stream",
          "text": [
            "Letters:  56%|█████▋    | 18/32 [1:00:06<1:35:57, 411.23s/it]"
          ]
        },
        {
          "name": "stdout",
          "output_type": "stream",
          "text": [
            "→ n p36: +25 entries (total 900)\n"
          ]
        },
        {
          "name": "stderr",
          "output_type": "stream",
          "text": [
            "Letters:  56%|█████▋    | 18/32 [1:00:12<1:35:57, 411.23s/it]"
          ]
        },
        {
          "name": "stdout",
          "output_type": "stream",
          "text": [
            "→ n p37: +25 entries (total 925)\n"
          ]
        },
        {
          "name": "stderr",
          "output_type": "stream",
          "text": [
            "Letters:  56%|█████▋    | 18/32 [1:00:17<1:35:57, 411.23s/it]"
          ]
        },
        {
          "name": "stdout",
          "output_type": "stream",
          "text": [
            "→ n p38: +25 entries (total 950)\n"
          ]
        },
        {
          "name": "stderr",
          "output_type": "stream",
          "text": [
            "Letters:  56%|█████▋    | 18/32 [1:00:22<1:35:57, 411.23s/it]"
          ]
        },
        {
          "name": "stdout",
          "output_type": "stream",
          "text": [
            "→ n p39: +25 entries (total 975)\n"
          ]
        },
        {
          "name": "stderr",
          "output_type": "stream",
          "text": [
            "Letters:  56%|█████▋    | 18/32 [1:00:26<1:35:57, 411.23s/it]"
          ]
        },
        {
          "name": "stdout",
          "output_type": "stream",
          "text": [
            "→ n p40: +25 entries (total 1000)\n"
          ]
        },
        {
          "name": "stderr",
          "output_type": "stream",
          "text": [
            "Letters:  56%|█████▋    | 18/32 [1:00:31<1:35:57, 411.23s/it]"
          ]
        },
        {
          "name": "stdout",
          "output_type": "stream",
          "text": [
            "→ n p41: +25 entries (total 1025)\n"
          ]
        },
        {
          "name": "stderr",
          "output_type": "stream",
          "text": [
            "Letters:  56%|█████▋    | 18/32 [1:00:36<1:35:57, 411.23s/it]"
          ]
        },
        {
          "name": "stdout",
          "output_type": "stream",
          "text": [
            "→ n p42: +25 entries (total 1050)\n"
          ]
        },
        {
          "name": "stderr",
          "output_type": "stream",
          "text": [
            "Letters:  56%|█████▋    | 18/32 [1:00:41<1:35:57, 411.23s/it]"
          ]
        },
        {
          "name": "stdout",
          "output_type": "stream",
          "text": [
            "→ n p43: +25 entries (total 1075)\n"
          ]
        },
        {
          "name": "stderr",
          "output_type": "stream",
          "text": [
            "Letters:  56%|█████▋    | 18/32 [1:00:45<1:35:57, 411.23s/it]"
          ]
        },
        {
          "name": "stdout",
          "output_type": "stream",
          "text": [
            "→ n p44: +25 entries (total 1100)\n"
          ]
        },
        {
          "name": "stderr",
          "output_type": "stream",
          "text": [
            "Letters:  56%|█████▋    | 18/32 [1:00:50<1:35:57, 411.23s/it]"
          ]
        },
        {
          "name": "stdout",
          "output_type": "stream",
          "text": [
            "→ n p45: +25 entries (total 1125)\n"
          ]
        },
        {
          "name": "stderr",
          "output_type": "stream",
          "text": [
            "Letters:  56%|█████▋    | 18/32 [1:00:54<1:35:57, 411.23s/it]"
          ]
        },
        {
          "name": "stdout",
          "output_type": "stream",
          "text": [
            "→ n p46: +25 entries (total 1150)\n"
          ]
        },
        {
          "name": "stderr",
          "output_type": "stream",
          "text": [
            "Letters:  56%|█████▋    | 18/32 [1:00:58<1:35:57, 411.23s/it]"
          ]
        },
        {
          "name": "stdout",
          "output_type": "stream",
          "text": [
            "→ n p47: +25 entries (total 1175)\n"
          ]
        },
        {
          "name": "stderr",
          "output_type": "stream",
          "text": [
            "Letters:  56%|█████▋    | 18/32 [1:01:03<1:35:57, 411.23s/it]"
          ]
        },
        {
          "name": "stdout",
          "output_type": "stream",
          "text": [
            "→ n p48: +25 entries (total 1200)\n"
          ]
        },
        {
          "name": "stderr",
          "output_type": "stream",
          "text": [
            "Letters:  56%|█████▋    | 18/32 [1:01:07<1:35:57, 411.23s/it]"
          ]
        },
        {
          "name": "stdout",
          "output_type": "stream",
          "text": [
            "→ n p49: +25 entries (total 1225)\n"
          ]
        },
        {
          "name": "stderr",
          "output_type": "stream",
          "text": [
            "Letters:  56%|█████▋    | 18/32 [1:01:12<1:35:57, 411.23s/it]"
          ]
        },
        {
          "name": "stdout",
          "output_type": "stream",
          "text": [
            "→ n p50: +25 entries (total 1250)\n"
          ]
        },
        {
          "name": "stderr",
          "output_type": "stream",
          "text": [
            "Letters:  56%|█████▋    | 18/32 [1:01:17<1:35:57, 411.23s/it]"
          ]
        },
        {
          "name": "stdout",
          "output_type": "stream",
          "text": [
            "→ n p51: +25 entries (total 1275)\n"
          ]
        },
        {
          "name": "stderr",
          "output_type": "stream",
          "text": [
            "Letters:  56%|█████▋    | 18/32 [1:01:22<1:35:57, 411.23s/it]"
          ]
        },
        {
          "name": "stdout",
          "output_type": "stream",
          "text": [
            "→ n p52: +25 entries (total 1300)\n"
          ]
        },
        {
          "name": "stderr",
          "output_type": "stream",
          "text": [
            "Letters:  56%|█████▋    | 18/32 [1:01:26<1:35:57, 411.23s/it]"
          ]
        },
        {
          "name": "stdout",
          "output_type": "stream",
          "text": [
            "→ n p53: +25 entries (total 1325)\n"
          ]
        },
        {
          "name": "stderr",
          "output_type": "stream",
          "text": [
            "Letters:  56%|█████▋    | 18/32 [1:01:31<1:35:57, 411.23s/it]"
          ]
        },
        {
          "name": "stdout",
          "output_type": "stream",
          "text": [
            "→ n p54: +25 entries (total 1350)\n"
          ]
        },
        {
          "name": "stderr",
          "output_type": "stream",
          "text": [
            "Letters:  56%|█████▋    | 18/32 [1:01:35<1:35:57, 411.23s/it]"
          ]
        },
        {
          "name": "stdout",
          "output_type": "stream",
          "text": [
            "→ n p55: +25 entries (total 1375)\n"
          ]
        },
        {
          "name": "stderr",
          "output_type": "stream",
          "text": [
            "Letters:  56%|█████▋    | 18/32 [1:01:40<1:35:57, 411.23s/it]"
          ]
        },
        {
          "name": "stdout",
          "output_type": "stream",
          "text": [
            "→ n p56: +25 entries (total 1400)\n"
          ]
        },
        {
          "name": "stderr",
          "output_type": "stream",
          "text": [
            "Letters:  56%|█████▋    | 18/32 [1:01:44<1:35:57, 411.23s/it]"
          ]
        },
        {
          "name": "stdout",
          "output_type": "stream",
          "text": [
            "→ n p57: +25 entries (total 1425)\n"
          ]
        },
        {
          "name": "stderr",
          "output_type": "stream",
          "text": [
            "Letters:  56%|█████▋    | 18/32 [1:01:49<1:35:57, 411.23s/it]"
          ]
        },
        {
          "name": "stdout",
          "output_type": "stream",
          "text": [
            "→ n p58: +25 entries (total 1450)\n"
          ]
        },
        {
          "name": "stderr",
          "output_type": "stream",
          "text": [
            "Letters:  56%|█████▋    | 18/32 [1:01:53<1:35:57, 411.23s/it]"
          ]
        },
        {
          "name": "stdout",
          "output_type": "stream",
          "text": [
            "→ n p59: +25 entries (total 1475)\n"
          ]
        },
        {
          "name": "stderr",
          "output_type": "stream",
          "text": [
            "Letters:  56%|█████▋    | 18/32 [1:01:59<1:35:57, 411.23s/it]"
          ]
        },
        {
          "name": "stdout",
          "output_type": "stream",
          "text": [
            "→ n p60: +25 entries (total 1500)\n"
          ]
        },
        {
          "name": "stderr",
          "output_type": "stream",
          "text": [
            "Letters:  56%|█████▋    | 18/32 [1:02:03<1:35:57, 411.23s/it]"
          ]
        },
        {
          "name": "stdout",
          "output_type": "stream",
          "text": [
            "→ n p61: +25 entries (total 1525)\n"
          ]
        },
        {
          "name": "stderr",
          "output_type": "stream",
          "text": [
            "Letters:  56%|█████▋    | 18/32 [1:02:08<1:35:57, 411.23s/it]"
          ]
        },
        {
          "name": "stdout",
          "output_type": "stream",
          "text": [
            "→ n p62: +25 entries (total 1550)\n"
          ]
        },
        {
          "name": "stderr",
          "output_type": "stream",
          "text": [
            "Letters:  56%|█████▋    | 18/32 [1:02:13<1:35:57, 411.23s/it]"
          ]
        },
        {
          "name": "stdout",
          "output_type": "stream",
          "text": [
            "→ n p63: +25 entries (total 1575)\n"
          ]
        },
        {
          "name": "stderr",
          "output_type": "stream",
          "text": [
            "Letters:  56%|█████▋    | 18/32 [1:02:17<1:35:57, 411.23s/it]"
          ]
        },
        {
          "name": "stdout",
          "output_type": "stream",
          "text": [
            "→ n p64: +25 entries (total 1600)\n"
          ]
        },
        {
          "name": "stderr",
          "output_type": "stream",
          "text": [
            "Letters:  56%|█████▋    | 18/32 [1:02:22<1:35:57, 411.23s/it]"
          ]
        },
        {
          "name": "stdout",
          "output_type": "stream",
          "text": [
            "→ n p65: +25 entries (total 1625)\n"
          ]
        },
        {
          "name": "stderr",
          "output_type": "stream",
          "text": [
            "Letters:  56%|█████▋    | 18/32 [1:02:26<1:35:57, 411.23s/it]"
          ]
        },
        {
          "name": "stdout",
          "output_type": "stream",
          "text": [
            "→ n p66: +25 entries (total 1650)\n"
          ]
        },
        {
          "name": "stderr",
          "output_type": "stream",
          "text": [
            "Letters:  56%|█████▋    | 18/32 [1:02:31<1:35:57, 411.23s/it]"
          ]
        },
        {
          "name": "stdout",
          "output_type": "stream",
          "text": [
            "→ n p67: +25 entries (total 1675)\n"
          ]
        },
        {
          "name": "stderr",
          "output_type": "stream",
          "text": [
            "Letters:  56%|█████▋    | 18/32 [1:02:36<1:35:57, 411.23s/it]"
          ]
        },
        {
          "name": "stdout",
          "output_type": "stream",
          "text": [
            "→ n p68: +25 entries (total 1700)\n"
          ]
        },
        {
          "name": "stderr",
          "output_type": "stream",
          "text": [
            "Letters:  56%|█████▋    | 18/32 [1:02:41<1:35:57, 411.23s/it]"
          ]
        },
        {
          "name": "stdout",
          "output_type": "stream",
          "text": [
            "→ n p69: +25 entries (total 1725)\n"
          ]
        },
        {
          "name": "stderr",
          "output_type": "stream",
          "text": [
            "Letters:  56%|█████▋    | 18/32 [1:02:45<1:35:57, 411.23s/it]"
          ]
        },
        {
          "name": "stdout",
          "output_type": "stream",
          "text": [
            "→ n p70: +25 entries (total 1750)\n"
          ]
        },
        {
          "name": "stderr",
          "output_type": "stream",
          "text": [
            "Letters:  56%|█████▋    | 18/32 [1:02:49<1:35:57, 411.23s/it]"
          ]
        },
        {
          "name": "stdout",
          "output_type": "stream",
          "text": [
            "→ n p71: +25 entries (total 1775)\n"
          ]
        },
        {
          "name": "stderr",
          "output_type": "stream",
          "text": [
            "Letters:  56%|█████▋    | 18/32 [1:02:55<1:35:57, 411.23s/it]"
          ]
        },
        {
          "name": "stdout",
          "output_type": "stream",
          "text": [
            "→ n p72: +25 entries (total 1800)\n"
          ]
        },
        {
          "name": "stderr",
          "output_type": "stream",
          "text": [
            "Letters:  56%|█████▋    | 18/32 [1:02:59<1:35:57, 411.23s/it]"
          ]
        },
        {
          "name": "stdout",
          "output_type": "stream",
          "text": [
            "→ n p73: +25 entries (total 1825)\n"
          ]
        },
        {
          "name": "stderr",
          "output_type": "stream",
          "text": [
            "Letters:  56%|█████▋    | 18/32 [1:03:04<1:35:57, 411.23s/it]"
          ]
        },
        {
          "name": "stdout",
          "output_type": "stream",
          "text": [
            "→ n p74: +25 entries (total 1850)\n"
          ]
        },
        {
          "name": "stderr",
          "output_type": "stream",
          "text": [
            "Letters:  56%|█████▋    | 18/32 [1:03:09<1:35:57, 411.23s/it]"
          ]
        },
        {
          "name": "stdout",
          "output_type": "stream",
          "text": [
            "→ n p75: +25 entries (total 1875)\n"
          ]
        },
        {
          "name": "stderr",
          "output_type": "stream",
          "text": [
            "Letters:  56%|█████▋    | 18/32 [1:03:13<1:35:57, 411.23s/it]"
          ]
        },
        {
          "name": "stdout",
          "output_type": "stream",
          "text": [
            "→ n p76: +25 entries (total 1900)\n"
          ]
        },
        {
          "name": "stderr",
          "output_type": "stream",
          "text": [
            "Letters:  56%|█████▋    | 18/32 [1:03:17<1:35:57, 411.23s/it]"
          ]
        },
        {
          "name": "stdout",
          "output_type": "stream",
          "text": [
            "→ n p77: +25 entries (total 1925)\n"
          ]
        },
        {
          "name": "stderr",
          "output_type": "stream",
          "text": [
            "Letters:  56%|█████▋    | 18/32 [1:03:22<1:35:57, 411.23s/it]"
          ]
        },
        {
          "name": "stdout",
          "output_type": "stream",
          "text": [
            "→ n p78: +25 entries (total 1950)\n"
          ]
        },
        {
          "name": "stderr",
          "output_type": "stream",
          "text": [
            "Letters:  56%|█████▋    | 18/32 [1:03:27<1:35:57, 411.23s/it]"
          ]
        },
        {
          "name": "stdout",
          "output_type": "stream",
          "text": [
            "→ n p79: +25 entries (total 1975)\n"
          ]
        },
        {
          "name": "stderr",
          "output_type": "stream",
          "text": [
            "Letters:  56%|█████▋    | 18/32 [1:03:31<1:35:57, 411.23s/it]"
          ]
        },
        {
          "name": "stdout",
          "output_type": "stream",
          "text": [
            "→ n p80: +25 entries (total 2000)\n"
          ]
        },
        {
          "name": "stderr",
          "output_type": "stream",
          "text": [
            "Letters:  56%|█████▋    | 18/32 [1:03:36<1:35:57, 411.23s/it]"
          ]
        },
        {
          "name": "stdout",
          "output_type": "stream",
          "text": [
            "→ n p81: +25 entries (total 2025)\n"
          ]
        },
        {
          "name": "stderr",
          "output_type": "stream",
          "text": [
            "Letters:  56%|█████▋    | 18/32 [1:03:40<1:35:57, 411.23s/it]"
          ]
        },
        {
          "name": "stdout",
          "output_type": "stream",
          "text": [
            "→ n p82: +25 entries (total 2050)\n"
          ]
        },
        {
          "name": "stderr",
          "output_type": "stream",
          "text": [
            "Letters:  56%|█████▋    | 18/32 [1:03:46<1:35:57, 411.23s/it]"
          ]
        },
        {
          "name": "stdout",
          "output_type": "stream",
          "text": [
            "→ n p83: +25 entries (total 2075)\n"
          ]
        },
        {
          "name": "stderr",
          "output_type": "stream",
          "text": [
            "Letters:  56%|█████▋    | 18/32 [1:03:50<1:35:57, 411.23s/it]"
          ]
        },
        {
          "name": "stdout",
          "output_type": "stream",
          "text": [
            "→ n p84: +25 entries (total 2100)\n"
          ]
        },
        {
          "name": "stderr",
          "output_type": "stream",
          "text": [
            "Letters:  56%|█████▋    | 18/32 [1:03:55<1:35:57, 411.23s/it]"
          ]
        },
        {
          "name": "stdout",
          "output_type": "stream",
          "text": [
            "→ n p85: +25 entries (total 2125)\n"
          ]
        },
        {
          "name": "stderr",
          "output_type": "stream",
          "text": [
            "Letters:  56%|█████▋    | 18/32 [1:03:59<1:35:57, 411.23s/it]"
          ]
        },
        {
          "name": "stdout",
          "output_type": "stream",
          "text": [
            "→ n p86: +25 entries (total 2150)\n"
          ]
        },
        {
          "name": "stderr",
          "output_type": "stream",
          "text": [
            "Letters:  56%|█████▋    | 18/32 [1:04:03<1:35:57, 411.23s/it]"
          ]
        },
        {
          "name": "stdout",
          "output_type": "stream",
          "text": [
            "→ n p87: +25 entries (total 2175)\n"
          ]
        },
        {
          "name": "stderr",
          "output_type": "stream",
          "text": [
            "Letters:  56%|█████▋    | 18/32 [1:04:08<1:35:57, 411.23s/it]"
          ]
        },
        {
          "name": "stdout",
          "output_type": "stream",
          "text": [
            "→ n p88: +25 entries (total 2200)\n"
          ]
        },
        {
          "name": "stderr",
          "output_type": "stream",
          "text": [
            "Letters:  56%|█████▋    | 18/32 [1:04:12<1:35:57, 411.23s/it]"
          ]
        },
        {
          "name": "stdout",
          "output_type": "stream",
          "text": [
            "→ n p89: +25 entries (total 2225)\n"
          ]
        },
        {
          "name": "stderr",
          "output_type": "stream",
          "text": [
            "Letters:  56%|█████▋    | 18/32 [1:04:17<1:35:57, 411.23s/it]"
          ]
        },
        {
          "name": "stdout",
          "output_type": "stream",
          "text": [
            "→ n p90: +25 entries (total 2250)\n"
          ]
        },
        {
          "name": "stderr",
          "output_type": "stream",
          "text": [
            "Letters:  56%|█████▋    | 18/32 [1:04:21<1:35:57, 411.23s/it]"
          ]
        },
        {
          "name": "stdout",
          "output_type": "stream",
          "text": [
            "→ n p91: +25 entries (total 2275)\n"
          ]
        },
        {
          "name": "stderr",
          "output_type": "stream",
          "text": [
            "Letters:  56%|█████▋    | 18/32 [1:04:26<1:35:57, 411.23s/it]"
          ]
        },
        {
          "name": "stdout",
          "output_type": "stream",
          "text": [
            "→ n p92: +25 entries (total 2300)\n"
          ]
        },
        {
          "name": "stderr",
          "output_type": "stream",
          "text": [
            "Letters:  56%|█████▋    | 18/32 [1:04:31<1:35:57, 411.23s/it]"
          ]
        },
        {
          "name": "stdout",
          "output_type": "stream",
          "text": [
            "→ n p93: +25 entries (total 2325)\n"
          ]
        },
        {
          "name": "stderr",
          "output_type": "stream",
          "text": [
            "Letters:  56%|█████▋    | 18/32 [1:04:35<1:35:57, 411.23s/it]"
          ]
        },
        {
          "name": "stdout",
          "output_type": "stream",
          "text": [
            "→ n p94: +25 entries (total 2350)\n"
          ]
        },
        {
          "name": "stderr",
          "output_type": "stream",
          "text": [
            "Letters:  56%|█████▋    | 18/32 [1:04:39<1:35:57, 411.23s/it]"
          ]
        },
        {
          "name": "stdout",
          "output_type": "stream",
          "text": [
            "→ n p95: +25 entries (total 2375)\n"
          ]
        },
        {
          "name": "stderr",
          "output_type": "stream",
          "text": [
            "Letters:  56%|█████▋    | 18/32 [1:04:45<1:35:57, 411.23s/it]"
          ]
        },
        {
          "name": "stdout",
          "output_type": "stream",
          "text": [
            "→ n p96: +25 entries (total 2400)\n"
          ]
        },
        {
          "name": "stderr",
          "output_type": "stream",
          "text": [
            "Letters:  56%|█████▋    | 18/32 [1:04:50<1:35:57, 411.23s/it]"
          ]
        },
        {
          "name": "stdout",
          "output_type": "stream",
          "text": [
            "→ n p97: +25 entries (total 2425)\n"
          ]
        },
        {
          "name": "stderr",
          "output_type": "stream",
          "text": [
            "Letters:  56%|█████▋    | 18/32 [1:04:54<1:35:57, 411.23s/it]"
          ]
        },
        {
          "name": "stdout",
          "output_type": "stream",
          "text": [
            "→ n p98: +25 entries (total 2450)\n"
          ]
        },
        {
          "name": "stderr",
          "output_type": "stream",
          "text": [
            "Letters:  56%|█████▋    | 18/32 [1:04:59<1:35:57, 411.23s/it]"
          ]
        },
        {
          "name": "stdout",
          "output_type": "stream",
          "text": [
            "→ n p99: +25 entries (total 2475)\n"
          ]
        },
        {
          "name": "stderr",
          "output_type": "stream",
          "text": [
            "Letters:  56%|█████▋    | 18/32 [1:05:03<1:35:57, 411.23s/it]"
          ]
        },
        {
          "name": "stdout",
          "output_type": "stream",
          "text": [
            "→ n p100: +25 entries (total 2500)\n"
          ]
        },
        {
          "name": "stderr",
          "output_type": "stream",
          "text": [
            "Letters:  56%|█████▋    | 18/32 [1:05:08<1:35:57, 411.23s/it]"
          ]
        },
        {
          "name": "stdout",
          "output_type": "stream",
          "text": [
            "→ n p101: +25 entries (total 2525)\n"
          ]
        },
        {
          "name": "stderr",
          "output_type": "stream",
          "text": [
            "Letters:  56%|█████▋    | 18/32 [1:05:12<1:35:57, 411.23s/it]"
          ]
        },
        {
          "name": "stdout",
          "output_type": "stream",
          "text": [
            "→ n p102: +25 entries (total 2550)\n"
          ]
        },
        {
          "name": "stderr",
          "output_type": "stream",
          "text": [
            "Letters:  56%|█████▋    | 18/32 [1:05:16<1:35:57, 411.23s/it]"
          ]
        },
        {
          "name": "stdout",
          "output_type": "stream",
          "text": [
            "→ n p103: +13 entries (total 2563)\n"
          ]
        },
        {
          "name": "stderr",
          "output_type": "stream",
          "text": [
            "Letters:  59%|█████▉    | 19/32 [1:05:19<1:36:30, 445.43s/it]"
          ]
        },
        {
          "name": "stdout",
          "output_type": "stream",
          "text": [
            "→ ́ p1: +1 entries (total 1)\n"
          ]
        },
        {
          "name": "stderr",
          "output_type": "stream",
          "text": [
            "Letters:  62%|██████▎   | 20/32 [1:05:25<1:02:33, 312.76s/it]"
          ]
        },
        {
          "name": "stdout",
          "output_type": "stream",
          "text": [
            "→ ŋ p1: +25 entries (total 25)\n"
          ]
        },
        {
          "name": "stderr",
          "output_type": "stream",
          "text": [
            "Letters:  62%|██████▎   | 20/32 [1:05:29<1:02:33, 312.76s/it]"
          ]
        },
        {
          "name": "stdout",
          "output_type": "stream",
          "text": [
            "→ ŋ p2: +25 entries (total 50)\n"
          ]
        },
        {
          "name": "stderr",
          "output_type": "stream",
          "text": [
            "Letters:  62%|██████▎   | 20/32 [1:05:34<1:02:33, 312.76s/it]"
          ]
        },
        {
          "name": "stdout",
          "output_type": "stream",
          "text": [
            "→ ŋ p3: +25 entries (total 75)\n"
          ]
        },
        {
          "name": "stderr",
          "output_type": "stream",
          "text": [
            "Letters:  62%|██████▎   | 20/32 [1:05:40<1:02:33, 312.76s/it]"
          ]
        },
        {
          "name": "stdout",
          "output_type": "stream",
          "text": [
            "→ ŋ p4: +25 entries (total 100)\n"
          ]
        },
        {
          "name": "stderr",
          "output_type": "stream",
          "text": [
            "Letters:  62%|██████▎   | 20/32 [1:05:44<1:02:33, 312.76s/it]"
          ]
        },
        {
          "name": "stdout",
          "output_type": "stream",
          "text": [
            "→ ŋ p5: +25 entries (total 125)\n"
          ]
        },
        {
          "name": "stderr",
          "output_type": "stream",
          "text": [
            "Letters:  62%|██████▎   | 20/32 [1:05:49<1:02:33, 312.76s/it]"
          ]
        },
        {
          "name": "stdout",
          "output_type": "stream",
          "text": [
            "→ ŋ p6: +25 entries (total 150)\n"
          ]
        },
        {
          "name": "stderr",
          "output_type": "stream",
          "text": [
            "Letters:  62%|██████▎   | 20/32 [1:05:54<1:02:33, 312.76s/it]"
          ]
        },
        {
          "name": "stdout",
          "output_type": "stream",
          "text": [
            "→ ŋ p7: +25 entries (total 175)\n"
          ]
        },
        {
          "name": "stderr",
          "output_type": "stream",
          "text": [
            "Letters:  62%|██████▎   | 20/32 [1:05:58<1:02:33, 312.76s/it]"
          ]
        },
        {
          "name": "stdout",
          "output_type": "stream",
          "text": [
            "→ ŋ p8: +25 entries (total 200)\n"
          ]
        },
        {
          "name": "stderr",
          "output_type": "stream",
          "text": [
            "Letters:  62%|██████▎   | 20/32 [1:06:02<1:02:33, 312.76s/it]"
          ]
        },
        {
          "name": "stdout",
          "output_type": "stream",
          "text": [
            "→ ŋ p9: +25 entries (total 225)\n"
          ]
        },
        {
          "name": "stderr",
          "output_type": "stream",
          "text": [
            "Letters:  62%|██████▎   | 20/32 [1:06:07<1:02:33, 312.76s/it]"
          ]
        },
        {
          "name": "stdout",
          "output_type": "stream",
          "text": [
            "→ ŋ p10: +25 entries (total 250)\n"
          ]
        },
        {
          "name": "stderr",
          "output_type": "stream",
          "text": [
            "Letters:  62%|██████▎   | 20/32 [1:06:11<1:02:33, 312.76s/it]"
          ]
        },
        {
          "name": "stdout",
          "output_type": "stream",
          "text": [
            "→ ŋ p11: +25 entries (total 275)\n"
          ]
        },
        {
          "name": "stderr",
          "output_type": "stream",
          "text": [
            "Letters:  62%|██████▎   | 20/32 [1:06:15<1:02:33, 312.76s/it]"
          ]
        },
        {
          "name": "stdout",
          "output_type": "stream",
          "text": [
            "→ ŋ p12: +25 entries (total 300)\n"
          ]
        },
        {
          "name": "stderr",
          "output_type": "stream",
          "text": [
            "Letters:  62%|██████▎   | 20/32 [1:06:21<1:02:33, 312.76s/it]"
          ]
        },
        {
          "name": "stdout",
          "output_type": "stream",
          "text": [
            "→ ŋ p13: +25 entries (total 325)\n"
          ]
        },
        {
          "name": "stderr",
          "output_type": "stream",
          "text": [
            "Letters:  62%|██████▎   | 20/32 [1:06:26<1:02:33, 312.76s/it]"
          ]
        },
        {
          "name": "stdout",
          "output_type": "stream",
          "text": [
            "→ ŋ p14: +25 entries (total 350)\n"
          ]
        },
        {
          "name": "stderr",
          "output_type": "stream",
          "text": [
            "Letters:  62%|██████▎   | 20/32 [1:06:30<1:02:33, 312.76s/it]"
          ]
        },
        {
          "name": "stdout",
          "output_type": "stream",
          "text": [
            "→ ŋ p15: +25 entries (total 375)\n"
          ]
        },
        {
          "name": "stderr",
          "output_type": "stream",
          "text": [
            "Letters:  62%|██████▎   | 20/32 [1:06:35<1:02:33, 312.76s/it]"
          ]
        },
        {
          "name": "stdout",
          "output_type": "stream",
          "text": [
            "→ ŋ p16: +25 entries (total 400)\n"
          ]
        },
        {
          "name": "stderr",
          "output_type": "stream",
          "text": [
            "Letters:  62%|██████▎   | 20/32 [1:06:41<1:02:33, 312.76s/it]"
          ]
        },
        {
          "name": "stdout",
          "output_type": "stream",
          "text": [
            "→ ŋ p17: +25 entries (total 425)\n"
          ]
        },
        {
          "name": "stderr",
          "output_type": "stream",
          "text": [
            "Letters:  62%|██████▎   | 20/32 [1:06:46<1:02:33, 312.76s/it]"
          ]
        },
        {
          "name": "stdout",
          "output_type": "stream",
          "text": [
            "→ ŋ p18: +25 entries (total 450)\n"
          ]
        },
        {
          "name": "stderr",
          "output_type": "stream",
          "text": [
            "Letters:  62%|██████▎   | 20/32 [1:06:50<1:02:33, 312.76s/it]"
          ]
        },
        {
          "name": "stdout",
          "output_type": "stream",
          "text": [
            "→ ŋ p19: +25 entries (total 475)\n"
          ]
        },
        {
          "name": "stderr",
          "output_type": "stream",
          "text": [
            "Letters:  62%|██████▎   | 20/32 [1:06:55<1:02:33, 312.76s/it]"
          ]
        },
        {
          "name": "stdout",
          "output_type": "stream",
          "text": [
            "→ ŋ p20: +25 entries (total 500)\n"
          ]
        },
        {
          "name": "stderr",
          "output_type": "stream",
          "text": [
            "Letters:  62%|██████▎   | 20/32 [1:06:59<1:02:33, 312.76s/it]"
          ]
        },
        {
          "name": "stdout",
          "output_type": "stream",
          "text": [
            "→ ŋ p21: +25 entries (total 525)\n"
          ]
        },
        {
          "name": "stderr",
          "output_type": "stream",
          "text": [
            "Letters:  62%|██████▎   | 20/32 [1:07:04<1:02:33, 312.76s/it]"
          ]
        },
        {
          "name": "stdout",
          "output_type": "stream",
          "text": [
            "→ ŋ p22: +25 entries (total 550)\n"
          ]
        },
        {
          "name": "stderr",
          "output_type": "stream",
          "text": [
            "Letters:  62%|██████▎   | 20/32 [1:07:09<1:02:33, 312.76s/it]"
          ]
        },
        {
          "name": "stdout",
          "output_type": "stream",
          "text": [
            "→ ŋ p23: +25 entries (total 575)\n"
          ]
        },
        {
          "name": "stderr",
          "output_type": "stream",
          "text": [
            "Letters:  62%|██████▎   | 20/32 [1:07:14<1:02:33, 312.76s/it]"
          ]
        },
        {
          "name": "stdout",
          "output_type": "stream",
          "text": [
            "→ ŋ p24: +25 entries (total 600)\n"
          ]
        },
        {
          "name": "stderr",
          "output_type": "stream",
          "text": [
            "Letters:  62%|██████▎   | 20/32 [1:07:18<1:02:33, 312.76s/it]"
          ]
        },
        {
          "name": "stdout",
          "output_type": "stream",
          "text": [
            "→ ŋ p25: +25 entries (total 625)\n"
          ]
        },
        {
          "name": "stderr",
          "output_type": "stream",
          "text": [
            "Letters:  62%|██████▎   | 20/32 [1:07:22<1:02:33, 312.76s/it]"
          ]
        },
        {
          "name": "stdout",
          "output_type": "stream",
          "text": [
            "→ ŋ p26: +25 entries (total 650)\n"
          ]
        },
        {
          "name": "stderr",
          "output_type": "stream",
          "text": [
            "Letters:  62%|██████▎   | 20/32 [1:07:26<1:02:33, 312.76s/it]"
          ]
        },
        {
          "name": "stdout",
          "output_type": "stream",
          "text": [
            "→ ŋ p27: +25 entries (total 675)\n"
          ]
        },
        {
          "name": "stderr",
          "output_type": "stream",
          "text": [
            "Letters:  62%|██████▎   | 20/32 [1:07:31<1:02:33, 312.76s/it]"
          ]
        },
        {
          "name": "stdout",
          "output_type": "stream",
          "text": [
            "→ ŋ p28: +25 entries (total 700)\n"
          ]
        },
        {
          "name": "stderr",
          "output_type": "stream",
          "text": [
            "Letters:  62%|██████▎   | 20/32 [1:07:36<1:02:33, 312.76s/it]"
          ]
        },
        {
          "name": "stdout",
          "output_type": "stream",
          "text": [
            "→ ŋ p29: +25 entries (total 725)\n"
          ]
        },
        {
          "name": "stderr",
          "output_type": "stream",
          "text": [
            "Letters:  62%|██████▎   | 20/32 [1:07:40<1:02:33, 312.76s/it]"
          ]
        },
        {
          "name": "stdout",
          "output_type": "stream",
          "text": [
            "→ ŋ p30: +25 entries (total 750)\n"
          ]
        },
        {
          "name": "stderr",
          "output_type": "stream",
          "text": [
            "Letters:  62%|██████▎   | 20/32 [1:07:45<1:02:33, 312.76s/it]"
          ]
        },
        {
          "name": "stdout",
          "output_type": "stream",
          "text": [
            "→ ŋ p31: +25 entries (total 775)\n"
          ]
        },
        {
          "name": "stderr",
          "output_type": "stream",
          "text": [
            "Letters:  62%|██████▎   | 20/32 [1:07:49<1:02:33, 312.76s/it]"
          ]
        },
        {
          "name": "stdout",
          "output_type": "stream",
          "text": [
            "→ ŋ p32: +25 entries (total 800)\n"
          ]
        },
        {
          "name": "stderr",
          "output_type": "stream",
          "text": [
            "Letters:  62%|██████▎   | 20/32 [1:07:54<1:02:33, 312.76s/it]"
          ]
        },
        {
          "name": "stdout",
          "output_type": "stream",
          "text": [
            "→ ŋ p33: +25 entries (total 825)\n"
          ]
        },
        {
          "name": "stderr",
          "output_type": "stream",
          "text": [
            "Letters:  62%|██████▎   | 20/32 [1:07:58<1:02:33, 312.76s/it]"
          ]
        },
        {
          "name": "stdout",
          "output_type": "stream",
          "text": [
            "→ ŋ p34: +25 entries (total 850)\n"
          ]
        },
        {
          "name": "stderr",
          "output_type": "stream",
          "text": [
            "Letters:  62%|██████▎   | 20/32 [1:08:03<1:02:33, 312.76s/it]"
          ]
        },
        {
          "name": "stdout",
          "output_type": "stream",
          "text": [
            "→ ŋ p35: +25 entries (total 875)\n"
          ]
        },
        {
          "name": "stderr",
          "output_type": "stream",
          "text": [
            "Letters:  62%|██████▎   | 20/32 [1:08:08<1:02:33, 312.76s/it]"
          ]
        },
        {
          "name": "stdout",
          "output_type": "stream",
          "text": [
            "→ ŋ p36: +25 entries (total 900)\n"
          ]
        },
        {
          "name": "stderr",
          "output_type": "stream",
          "text": [
            "Letters:  62%|██████▎   | 20/32 [1:08:12<1:02:33, 312.76s/it]"
          ]
        },
        {
          "name": "stdout",
          "output_type": "stream",
          "text": [
            "→ ŋ p37: +25 entries (total 925)\n"
          ]
        },
        {
          "name": "stderr",
          "output_type": "stream",
          "text": [
            "Letters:  62%|██████▎   | 20/32 [1:08:16<1:02:33, 312.76s/it]"
          ]
        },
        {
          "name": "stdout",
          "output_type": "stream",
          "text": [
            "→ ŋ p38: +25 entries (total 950)\n"
          ]
        },
        {
          "name": "stderr",
          "output_type": "stream",
          "text": [
            "Letters:  62%|██████▎   | 20/32 [1:08:27<1:02:33, 312.76s/it]"
          ]
        },
        {
          "name": "stdout",
          "output_type": "stream",
          "text": [
            "→ ŋ p39: +25 entries (total 975)\n"
          ]
        },
        {
          "name": "stderr",
          "output_type": "stream",
          "text": [
            "Letters:  62%|██████▎   | 20/32 [1:08:44<1:02:33, 312.76s/it]"
          ]
        },
        {
          "name": "stdout",
          "output_type": "stream",
          "text": [
            "→ ŋ p40: +25 entries (total 1000)\n"
          ]
        },
        {
          "name": "stderr",
          "output_type": "stream",
          "text": [
            "Letters:  62%|██████▎   | 20/32 [1:08:51<1:02:33, 312.76s/it]"
          ]
        },
        {
          "name": "stdout",
          "output_type": "stream",
          "text": [
            "→ ŋ p41: +25 entries (total 1025)\n"
          ]
        },
        {
          "name": "stderr",
          "output_type": "stream",
          "text": [
            "Letters:  62%|██████▎   | 20/32 [1:08:58<1:02:33, 312.76s/it]"
          ]
        },
        {
          "name": "stdout",
          "output_type": "stream",
          "text": [
            "→ ŋ p42: +25 entries (total 1050)\n"
          ]
        },
        {
          "name": "stderr",
          "output_type": "stream",
          "text": [
            "Letters:  62%|██████▎   | 20/32 [1:09:03<1:02:33, 312.76s/it]"
          ]
        },
        {
          "name": "stdout",
          "output_type": "stream",
          "text": [
            "→ ŋ p43: +25 entries (total 1075)\n"
          ]
        },
        {
          "name": "stderr",
          "output_type": "stream",
          "text": [
            "Letters:  62%|██████▎   | 20/32 [1:09:08<1:02:33, 312.76s/it]"
          ]
        },
        {
          "name": "stdout",
          "output_type": "stream",
          "text": [
            "→ ŋ p44: +25 entries (total 1100)\n"
          ]
        },
        {
          "name": "stderr",
          "output_type": "stream",
          "text": [
            "Letters:  62%|██████▎   | 20/32 [1:09:12<1:02:33, 312.76s/it]"
          ]
        },
        {
          "name": "stdout",
          "output_type": "stream",
          "text": [
            "→ ŋ p45: +25 entries (total 1125)\n"
          ]
        },
        {
          "name": "stderr",
          "output_type": "stream",
          "text": [
            "Letters:  62%|██████▎   | 20/32 [1:09:17<1:02:33, 312.76s/it]"
          ]
        },
        {
          "name": "stdout",
          "output_type": "stream",
          "text": [
            "→ ŋ p46: +25 entries (total 1150)\n"
          ]
        },
        {
          "name": "stderr",
          "output_type": "stream",
          "text": [
            "Letters:  62%|██████▎   | 20/32 [1:09:22<1:02:33, 312.76s/it]"
          ]
        },
        {
          "name": "stdout",
          "output_type": "stream",
          "text": [
            "→ ŋ p47: +25 entries (total 1175)\n"
          ]
        },
        {
          "name": "stderr",
          "output_type": "stream",
          "text": [
            "Letters:  62%|██████▎   | 20/32 [1:09:27<1:02:33, 312.76s/it]"
          ]
        },
        {
          "name": "stdout",
          "output_type": "stream",
          "text": [
            "→ ŋ p48: +25 entries (total 1200)\n"
          ]
        },
        {
          "name": "stderr",
          "output_type": "stream",
          "text": [
            "Letters:  62%|██████▎   | 20/32 [1:09:32<1:02:33, 312.76s/it]"
          ]
        },
        {
          "name": "stdout",
          "output_type": "stream",
          "text": [
            "→ ŋ p49: +25 entries (total 1225)\n"
          ]
        },
        {
          "name": "stderr",
          "output_type": "stream",
          "text": [
            "Letters:  62%|██████▎   | 20/32 [1:09:39<1:02:33, 312.76s/it]"
          ]
        },
        {
          "name": "stdout",
          "output_type": "stream",
          "text": [
            "→ ŋ p50: +25 entries (total 1250)\n"
          ]
        },
        {
          "name": "stderr",
          "output_type": "stream",
          "text": [
            "Letters:  62%|██████▎   | 20/32 [1:09:45<1:02:33, 312.76s/it]"
          ]
        },
        {
          "name": "stdout",
          "output_type": "stream",
          "text": [
            "→ ŋ p51: +25 entries (total 1275)\n"
          ]
        },
        {
          "name": "stderr",
          "output_type": "stream",
          "text": [
            "Letters:  62%|██████▎   | 20/32 [1:09:50<1:02:33, 312.76s/it]"
          ]
        },
        {
          "name": "stdout",
          "output_type": "stream",
          "text": [
            "→ ŋ p52: +25 entries (total 1300)\n"
          ]
        },
        {
          "name": "stderr",
          "output_type": "stream",
          "text": [
            "Letters:  62%|██████▎   | 20/32 [1:09:55<1:02:33, 312.76s/it]"
          ]
        },
        {
          "name": "stdout",
          "output_type": "stream",
          "text": [
            "→ ŋ p53: +25 entries (total 1325)\n"
          ]
        },
        {
          "name": "stderr",
          "output_type": "stream",
          "text": [
            "Letters:  62%|██████▎   | 20/32 [1:10:00<1:02:33, 312.76s/it]"
          ]
        },
        {
          "name": "stdout",
          "output_type": "stream",
          "text": [
            "→ ŋ p54: +25 entries (total 1350)\n"
          ]
        },
        {
          "name": "stderr",
          "output_type": "stream",
          "text": [
            "Letters:  62%|██████▎   | 20/32 [1:10:05<1:02:33, 312.76s/it]"
          ]
        },
        {
          "name": "stdout",
          "output_type": "stream",
          "text": [
            "→ ŋ p55: +25 entries (total 1375)\n"
          ]
        },
        {
          "name": "stderr",
          "output_type": "stream",
          "text": [
            "Letters:  62%|██████▎   | 20/32 [1:10:09<1:02:33, 312.76s/it]"
          ]
        },
        {
          "name": "stdout",
          "output_type": "stream",
          "text": [
            "→ ŋ p56: +25 entries (total 1400)\n"
          ]
        },
        {
          "name": "stderr",
          "output_type": "stream",
          "text": [
            "Letters:  62%|██████▎   | 20/32 [1:10:13<1:02:33, 312.76s/it]"
          ]
        },
        {
          "name": "stdout",
          "output_type": "stream",
          "text": [
            "→ ŋ p57: +25 entries (total 1425)\n"
          ]
        },
        {
          "name": "stderr",
          "output_type": "stream",
          "text": [
            "Letters:  62%|██████▎   | 20/32 [1:10:19<1:02:33, 312.76s/it]"
          ]
        },
        {
          "name": "stdout",
          "output_type": "stream",
          "text": [
            "→ ŋ p58: +25 entries (total 1450)\n"
          ]
        },
        {
          "name": "stderr",
          "output_type": "stream",
          "text": [
            "Letters:  62%|██████▎   | 20/32 [1:10:23<1:02:33, 312.76s/it]"
          ]
        },
        {
          "name": "stdout",
          "output_type": "stream",
          "text": [
            "→ ŋ p59: +25 entries (total 1475)\n"
          ]
        },
        {
          "name": "stderr",
          "output_type": "stream",
          "text": [
            "Letters:  62%|██████▎   | 20/32 [1:10:28<1:02:33, 312.76s/it]"
          ]
        },
        {
          "name": "stdout",
          "output_type": "stream",
          "text": [
            "→ ŋ p60: +25 entries (total 1500)\n"
          ]
        },
        {
          "name": "stderr",
          "output_type": "stream",
          "text": [
            "Letters:  62%|██████▎   | 20/32 [1:10:33<1:02:33, 312.76s/it]"
          ]
        },
        {
          "name": "stdout",
          "output_type": "stream",
          "text": [
            "→ ŋ p61: +25 entries (total 1525)\n"
          ]
        },
        {
          "name": "stderr",
          "output_type": "stream",
          "text": [
            "Letters:  62%|██████▎   | 20/32 [1:10:38<1:02:33, 312.76s/it]"
          ]
        },
        {
          "name": "stdout",
          "output_type": "stream",
          "text": [
            "→ ŋ p62: +25 entries (total 1550)\n"
          ]
        },
        {
          "name": "stderr",
          "output_type": "stream",
          "text": [
            "Letters:  62%|██████▎   | 20/32 [1:10:44<1:02:33, 312.76s/it]"
          ]
        },
        {
          "name": "stdout",
          "output_type": "stream",
          "text": [
            "→ ŋ p63: +25 entries (total 1575)\n"
          ]
        },
        {
          "name": "stderr",
          "output_type": "stream",
          "text": [
            "Letters:  62%|██████▎   | 20/32 [1:10:49<1:02:33, 312.76s/it]"
          ]
        },
        {
          "name": "stdout",
          "output_type": "stream",
          "text": [
            "→ ŋ p64: +25 entries (total 1600)\n"
          ]
        },
        {
          "name": "stderr",
          "output_type": "stream",
          "text": [
            "Letters:  62%|██████▎   | 20/32 [1:10:54<1:02:33, 312.76s/it]"
          ]
        },
        {
          "name": "stdout",
          "output_type": "stream",
          "text": [
            "→ ŋ p65: +25 entries (total 1625)\n"
          ]
        },
        {
          "name": "stderr",
          "output_type": "stream",
          "text": [
            "Letters:  62%|██████▎   | 20/32 [1:10:59<1:02:33, 312.76s/it]"
          ]
        },
        {
          "name": "stdout",
          "output_type": "stream",
          "text": [
            "→ ŋ p66: +25 entries (total 1650)\n"
          ]
        },
        {
          "name": "stderr",
          "output_type": "stream",
          "text": [
            "Letters:  62%|██████▎   | 20/32 [1:11:03<1:02:33, 312.76s/it]"
          ]
        },
        {
          "name": "stdout",
          "output_type": "stream",
          "text": [
            "→ ŋ p67: +25 entries (total 1675)\n"
          ]
        },
        {
          "name": "stderr",
          "output_type": "stream",
          "text": [
            "Letters:  62%|██████▎   | 20/32 [1:11:06<1:02:33, 312.76s/it]"
          ]
        },
        {
          "name": "stdout",
          "output_type": "stream",
          "text": [
            "→ ŋ p68: +5 entries (total 1680)\n"
          ]
        },
        {
          "name": "stderr",
          "output_type": "stream",
          "text": [
            "Letters:  66%|██████▌   | 21/32 [1:11:12<59:11, 322.84s/it]"
          ]
        },
        {
          "name": "stdout",
          "output_type": "stream",
          "text": [
            "→ o p1: +25 entries (total 25)\n"
          ]
        },
        {
          "name": "stderr",
          "output_type": "stream",
          "text": [
            "Letters:  66%|██████▌   | 21/32 [1:11:16<59:11, 322.84s/it]"
          ]
        },
        {
          "name": "stdout",
          "output_type": "stream",
          "text": [
            "→ o p2: +25 entries (total 50)\n"
          ]
        },
        {
          "name": "stderr",
          "output_type": "stream",
          "text": [
            "Letters:  66%|██████▌   | 21/32 [1:11:22<59:11, 322.84s/it]"
          ]
        },
        {
          "name": "stdout",
          "output_type": "stream",
          "text": [
            "→ o p3: +25 entries (total 75)\n"
          ]
        },
        {
          "name": "stderr",
          "output_type": "stream",
          "text": [
            "Letters:  66%|██████▌   | 21/32 [1:11:28<59:11, 322.84s/it]"
          ]
        },
        {
          "name": "stdout",
          "output_type": "stream",
          "text": [
            "→ o p4: +25 entries (total 100)\n"
          ]
        },
        {
          "name": "stderr",
          "output_type": "stream",
          "text": [
            "Letters:  66%|██████▌   | 21/32 [1:11:33<59:11, 322.84s/it]"
          ]
        },
        {
          "name": "stdout",
          "output_type": "stream",
          "text": [
            "→ o p5: +25 entries (total 125)\n"
          ]
        },
        {
          "name": "stderr",
          "output_type": "stream",
          "text": [
            "Letters:  66%|██████▌   | 21/32 [1:11:37<59:11, 322.84s/it]"
          ]
        },
        {
          "name": "stdout",
          "output_type": "stream",
          "text": [
            "→ o p6: +22 entries (total 147)\n"
          ]
        },
        {
          "name": "stderr",
          "output_type": "stream",
          "text": [
            "Letters:  69%|██████▉   | 22/32 [1:11:44<39:15, 235.55s/it]"
          ]
        },
        {
          "name": "stdout",
          "output_type": "stream",
          "text": [
            "→ ɔ p1: +25 entries (total 25)\n"
          ]
        },
        {
          "name": "stderr",
          "output_type": "stream",
          "text": [
            "Letters:  69%|██████▉   | 22/32 [1:11:49<39:15, 235.55s/it]"
          ]
        },
        {
          "name": "stdout",
          "output_type": "stream",
          "text": [
            "→ ɔ p2: +25 entries (total 50)\n"
          ]
        },
        {
          "name": "stderr",
          "output_type": "stream",
          "text": [
            "Letters:  69%|██████▉   | 22/32 [1:11:52<39:15, 235.55s/it]"
          ]
        },
        {
          "name": "stdout",
          "output_type": "stream",
          "text": [
            "→ ɔ p3: +9 entries (total 59)\n"
          ]
        },
        {
          "name": "stderr",
          "output_type": "stream",
          "text": [
            "Letters:  72%|███████▏  | 23/32 [1:11:58<25:22, 169.19s/it]"
          ]
        },
        {
          "name": "stdout",
          "output_type": "stream",
          "text": [
            "→ p p1: +25 entries (total 25)\n"
          ]
        },
        {
          "name": "stderr",
          "output_type": "stream",
          "text": [
            "Letters:  72%|███████▏  | 23/32 [1:12:03<25:22, 169.19s/it]"
          ]
        },
        {
          "name": "stdout",
          "output_type": "stream",
          "text": [
            "→ p p2: +25 entries (total 50)\n"
          ]
        },
        {
          "name": "stderr",
          "output_type": "stream",
          "text": [
            "Letters:  72%|███████▏  | 23/32 [1:12:08<25:22, 169.19s/it]"
          ]
        },
        {
          "name": "stdout",
          "output_type": "stream",
          "text": [
            "→ p p3: +25 entries (total 75)\n"
          ]
        },
        {
          "name": "stderr",
          "output_type": "stream",
          "text": [
            "Letters:  72%|███████▏  | 23/32 [1:12:12<25:22, 169.19s/it]"
          ]
        },
        {
          "name": "stdout",
          "output_type": "stream",
          "text": [
            "→ p p4: +25 entries (total 100)\n"
          ]
        },
        {
          "name": "stderr",
          "output_type": "stream",
          "text": [
            "Letters:  72%|███████▏  | 23/32 [1:12:17<25:22, 169.19s/it]"
          ]
        },
        {
          "name": "stdout",
          "output_type": "stream",
          "text": [
            "→ p p5: +25 entries (total 125)\n"
          ]
        },
        {
          "name": "stderr",
          "output_type": "stream",
          "text": [
            "Letters:  72%|███████▏  | 23/32 [1:12:23<25:22, 169.19s/it]"
          ]
        },
        {
          "name": "stdout",
          "output_type": "stream",
          "text": [
            "→ p p6: +25 entries (total 150)\n"
          ]
        },
        {
          "name": "stderr",
          "output_type": "stream",
          "text": [
            "Letters:  72%|███████▏  | 23/32 [1:12:27<25:22, 169.19s/it]"
          ]
        },
        {
          "name": "stdout",
          "output_type": "stream",
          "text": [
            "→ p p7: +25 entries (total 175)\n"
          ]
        },
        {
          "name": "stderr",
          "output_type": "stream",
          "text": [
            "Letters:  72%|███████▏  | 23/32 [1:12:32<25:22, 169.19s/it]"
          ]
        },
        {
          "name": "stdout",
          "output_type": "stream",
          "text": [
            "→ p p8: +25 entries (total 200)\n"
          ]
        },
        {
          "name": "stderr",
          "output_type": "stream",
          "text": [
            "Letters:  72%|███████▏  | 23/32 [1:12:37<25:22, 169.19s/it]"
          ]
        },
        {
          "name": "stdout",
          "output_type": "stream",
          "text": [
            "→ p p9: +25 entries (total 225)\n"
          ]
        },
        {
          "name": "stderr",
          "output_type": "stream",
          "text": [
            "Letters:  72%|███████▏  | 23/32 [1:12:42<25:22, 169.19s/it]"
          ]
        },
        {
          "name": "stdout",
          "output_type": "stream",
          "text": [
            "→ p p10: +25 entries (total 250)\n"
          ]
        },
        {
          "name": "stderr",
          "output_type": "stream",
          "text": [
            "Letters:  72%|███████▏  | 23/32 [1:12:47<25:22, 169.19s/it]"
          ]
        },
        {
          "name": "stdout",
          "output_type": "stream",
          "text": [
            "→ p p11: +25 entries (total 275)\n"
          ]
        },
        {
          "name": "stderr",
          "output_type": "stream",
          "text": [
            "Letters:  72%|███████▏  | 23/32 [1:12:52<25:22, 169.19s/it]"
          ]
        },
        {
          "name": "stdout",
          "output_type": "stream",
          "text": [
            "→ p p12: +25 entries (total 300)\n"
          ]
        },
        {
          "name": "stderr",
          "output_type": "stream",
          "text": [
            "Letters:  72%|███████▏  | 23/32 [1:12:56<25:22, 169.19s/it]"
          ]
        },
        {
          "name": "stdout",
          "output_type": "stream",
          "text": [
            "→ p p13: +25 entries (total 325)\n"
          ]
        },
        {
          "name": "stderr",
          "output_type": "stream",
          "text": [
            "Letters:  72%|███████▏  | 23/32 [1:13:01<25:22, 169.19s/it]"
          ]
        },
        {
          "name": "stdout",
          "output_type": "stream",
          "text": [
            "→ p p14: +25 entries (total 350)\n"
          ]
        },
        {
          "name": "stderr",
          "output_type": "stream",
          "text": [
            "Letters:  72%|███████▏  | 23/32 [1:13:07<25:22, 169.19s/it]"
          ]
        },
        {
          "name": "stdout",
          "output_type": "stream",
          "text": [
            "→ p p15: +25 entries (total 375)\n"
          ]
        },
        {
          "name": "stderr",
          "output_type": "stream",
          "text": [
            "Letters:  72%|███████▏  | 23/32 [1:13:11<25:22, 169.19s/it]"
          ]
        },
        {
          "name": "stdout",
          "output_type": "stream",
          "text": [
            "→ p p16: +25 entries (total 400)\n"
          ]
        },
        {
          "name": "stderr",
          "output_type": "stream",
          "text": [
            "Letters:  72%|███████▏  | 23/32 [1:13:18<25:22, 169.19s/it]"
          ]
        },
        {
          "name": "stdout",
          "output_type": "stream",
          "text": [
            "→ p p17: +25 entries (total 425)\n"
          ]
        },
        {
          "name": "stderr",
          "output_type": "stream",
          "text": [
            "Letters:  72%|███████▏  | 23/32 [1:13:22<25:22, 169.19s/it]"
          ]
        },
        {
          "name": "stdout",
          "output_type": "stream",
          "text": [
            "→ p p18: +25 entries (total 450)\n"
          ]
        },
        {
          "name": "stderr",
          "output_type": "stream",
          "text": [
            "Letters:  72%|███████▏  | 23/32 [1:13:27<25:22, 169.19s/it]"
          ]
        },
        {
          "name": "stdout",
          "output_type": "stream",
          "text": [
            "→ p p19: +25 entries (total 475)\n"
          ]
        },
        {
          "name": "stderr",
          "output_type": "stream",
          "text": [
            "Letters:  72%|███████▏  | 23/32 [1:13:31<25:22, 169.19s/it]"
          ]
        },
        {
          "name": "stdout",
          "output_type": "stream",
          "text": [
            "→ p p20: +25 entries (total 500)\n"
          ]
        },
        {
          "name": "stderr",
          "output_type": "stream",
          "text": [
            "Letters:  72%|███████▏  | 23/32 [1:13:37<25:22, 169.19s/it]"
          ]
        },
        {
          "name": "stdout",
          "output_type": "stream",
          "text": [
            "→ p p21: +25 entries (total 525)\n"
          ]
        },
        {
          "name": "stderr",
          "output_type": "stream",
          "text": [
            "Letters:  72%|███████▏  | 23/32 [1:13:47<25:22, 169.19s/it]"
          ]
        },
        {
          "name": "stdout",
          "output_type": "stream",
          "text": [
            "→ p p22: +25 entries (total 550)\n"
          ]
        },
        {
          "name": "stderr",
          "output_type": "stream",
          "text": [
            "Letters:  72%|███████▏  | 23/32 [1:13:52<25:22, 169.19s/it]"
          ]
        },
        {
          "name": "stdout",
          "output_type": "stream",
          "text": [
            "→ p p23: +25 entries (total 575)\n"
          ]
        },
        {
          "name": "stderr",
          "output_type": "stream",
          "text": [
            "Letters:  72%|███████▏  | 23/32 [1:13:57<25:22, 169.19s/it]"
          ]
        },
        {
          "name": "stdout",
          "output_type": "stream",
          "text": [
            "→ p p24: +25 entries (total 600)\n"
          ]
        },
        {
          "name": "stderr",
          "output_type": "stream",
          "text": [
            "Letters:  72%|███████▏  | 23/32 [1:14:02<25:22, 169.19s/it]"
          ]
        },
        {
          "name": "stdout",
          "output_type": "stream",
          "text": [
            "→ p p25: +25 entries (total 625)\n"
          ]
        },
        {
          "name": "stderr",
          "output_type": "stream",
          "text": [
            "Letters:  72%|███████▏  | 23/32 [1:14:05<25:22, 169.19s/it]"
          ]
        },
        {
          "name": "stdout",
          "output_type": "stream",
          "text": [
            "→ p p26: +7 entries (total 632)\n"
          ]
        },
        {
          "name": "stderr",
          "output_type": "stream",
          "text": [
            "Letters:  75%|███████▌  | 24/32 [1:14:10<21:06, 158.27s/it]"
          ]
        },
        {
          "name": "stdout",
          "output_type": "stream",
          "text": [
            "→ r p1: +16 entries (total 16)\n"
          ]
        },
        {
          "name": "stderr",
          "output_type": "stream",
          "text": [
            "Letters:  78%|███████▊  | 25/32 [1:14:16<13:06, 112.33s/it]"
          ]
        },
        {
          "name": "stdout",
          "output_type": "stream",
          "text": [
            "→ s p1: +25 entries (total 25)\n"
          ]
        },
        {
          "name": "stderr",
          "output_type": "stream",
          "text": [
            "Letters:  78%|███████▊  | 25/32 [1:14:20<13:06, 112.33s/it]"
          ]
        },
        {
          "name": "stdout",
          "output_type": "stream",
          "text": [
            "→ s p2: +25 entries (total 50)\n"
          ]
        },
        {
          "name": "stderr",
          "output_type": "stream",
          "text": [
            "Letters:  78%|███████▊  | 25/32 [1:14:25<13:06, 112.33s/it]"
          ]
        },
        {
          "name": "stdout",
          "output_type": "stream",
          "text": [
            "→ s p3: +25 entries (total 75)\n"
          ]
        },
        {
          "name": "stderr",
          "output_type": "stream",
          "text": [
            "Letters:  78%|███████▊  | 25/32 [1:14:30<13:06, 112.33s/it]"
          ]
        },
        {
          "name": "stdout",
          "output_type": "stream",
          "text": [
            "→ s p4: +25 entries (total 100)\n"
          ]
        },
        {
          "name": "stderr",
          "output_type": "stream",
          "text": [
            "Letters:  78%|███████▊  | 25/32 [1:14:34<13:06, 112.33s/it]"
          ]
        },
        {
          "name": "stdout",
          "output_type": "stream",
          "text": [
            "→ s p5: +25 entries (total 125)\n"
          ]
        },
        {
          "name": "stderr",
          "output_type": "stream",
          "text": [
            "Letters:  78%|███████▊  | 25/32 [1:14:40<13:06, 112.33s/it]"
          ]
        },
        {
          "name": "stdout",
          "output_type": "stream",
          "text": [
            "→ s p6: +25 entries (total 150)\n"
          ]
        },
        {
          "name": "stderr",
          "output_type": "stream",
          "text": [
            "Letters:  78%|███████▊  | 25/32 [1:14:44<13:06, 112.33s/it]"
          ]
        },
        {
          "name": "stdout",
          "output_type": "stream",
          "text": [
            "→ s p7: +25 entries (total 175)\n"
          ]
        },
        {
          "name": "stderr",
          "output_type": "stream",
          "text": [
            "Letters:  78%|███████▊  | 25/32 [1:14:48<13:06, 112.33s/it]"
          ]
        },
        {
          "name": "stdout",
          "output_type": "stream",
          "text": [
            "→ s p8: +25 entries (total 200)\n"
          ]
        },
        {
          "name": "stderr",
          "output_type": "stream",
          "text": [
            "Letters:  78%|███████▊  | 25/32 [1:14:53<13:06, 112.33s/it]"
          ]
        },
        {
          "name": "stdout",
          "output_type": "stream",
          "text": [
            "→ s p9: +25 entries (total 225)\n"
          ]
        },
        {
          "name": "stderr",
          "output_type": "stream",
          "text": [
            "Letters:  78%|███████▊  | 25/32 [1:14:58<13:06, 112.33s/it]"
          ]
        },
        {
          "name": "stdout",
          "output_type": "stream",
          "text": [
            "→ s p10: +25 entries (total 250)\n"
          ]
        },
        {
          "name": "stderr",
          "output_type": "stream",
          "text": [
            "Letters:  78%|███████▊  | 25/32 [1:15:03<13:06, 112.33s/it]"
          ]
        },
        {
          "name": "stdout",
          "output_type": "stream",
          "text": [
            "→ s p11: +25 entries (total 275)\n"
          ]
        },
        {
          "name": "stderr",
          "output_type": "stream",
          "text": [
            "Letters:  78%|███████▊  | 25/32 [1:15:07<13:06, 112.33s/it]"
          ]
        },
        {
          "name": "stdout",
          "output_type": "stream",
          "text": [
            "→ s p12: +25 entries (total 300)\n"
          ]
        },
        {
          "name": "stderr",
          "output_type": "stream",
          "text": [
            "Letters:  78%|███████▊  | 25/32 [1:15:12<13:06, 112.33s/it]"
          ]
        },
        {
          "name": "stdout",
          "output_type": "stream",
          "text": [
            "→ s p13: +25 entries (total 325)\n"
          ]
        },
        {
          "name": "stderr",
          "output_type": "stream",
          "text": [
            "Letters:  78%|███████▊  | 25/32 [1:15:16<13:06, 112.33s/it]"
          ]
        },
        {
          "name": "stdout",
          "output_type": "stream",
          "text": [
            "→ s p14: +25 entries (total 350)\n"
          ]
        },
        {
          "name": "stderr",
          "output_type": "stream",
          "text": [
            "Letters:  78%|███████▊  | 25/32 [1:15:21<13:06, 112.33s/it]"
          ]
        },
        {
          "name": "stdout",
          "output_type": "stream",
          "text": [
            "→ s p15: +25 entries (total 375)\n"
          ]
        },
        {
          "name": "stderr",
          "output_type": "stream",
          "text": [
            "Letters:  78%|███████▊  | 25/32 [1:15:25<13:06, 112.33s/it]"
          ]
        },
        {
          "name": "stdout",
          "output_type": "stream",
          "text": [
            "→ s p16: +25 entries (total 400)\n"
          ]
        },
        {
          "name": "stderr",
          "output_type": "stream",
          "text": [
            "Letters:  78%|███████▊  | 25/32 [1:15:30<13:06, 112.33s/it]"
          ]
        },
        {
          "name": "stdout",
          "output_type": "stream",
          "text": [
            "→ s p17: +25 entries (total 425)\n"
          ]
        },
        {
          "name": "stderr",
          "output_type": "stream",
          "text": [
            "Letters:  78%|███████▊  | 25/32 [1:15:35<13:06, 112.33s/it]"
          ]
        },
        {
          "name": "stdout",
          "output_type": "stream",
          "text": [
            "→ s p18: +25 entries (total 450)\n"
          ]
        },
        {
          "name": "stderr",
          "output_type": "stream",
          "text": [
            "Letters:  78%|███████▊  | 25/32 [1:15:39<13:06, 112.33s/it]"
          ]
        },
        {
          "name": "stdout",
          "output_type": "stream",
          "text": [
            "→ s p19: +25 entries (total 475)\n"
          ]
        },
        {
          "name": "stderr",
          "output_type": "stream",
          "text": [
            "Letters:  78%|███████▊  | 25/32 [1:15:44<13:06, 112.33s/it]"
          ]
        },
        {
          "name": "stdout",
          "output_type": "stream",
          "text": [
            "→ s p20: +25 entries (total 500)\n"
          ]
        },
        {
          "name": "stderr",
          "output_type": "stream",
          "text": [
            "Letters:  78%|███████▊  | 25/32 [1:15:48<13:06, 112.33s/it]"
          ]
        },
        {
          "name": "stdout",
          "output_type": "stream",
          "text": [
            "→ s p21: +25 entries (total 525)\n"
          ]
        },
        {
          "name": "stderr",
          "output_type": "stream",
          "text": [
            "Letters:  78%|███████▊  | 25/32 [1:15:54<13:06, 112.33s/it]"
          ]
        },
        {
          "name": "stdout",
          "output_type": "stream",
          "text": [
            "→ s p22: +25 entries (total 550)\n"
          ]
        },
        {
          "name": "stderr",
          "output_type": "stream",
          "text": [
            "Letters:  78%|███████▊  | 25/32 [1:16:00<13:06, 112.33s/it]"
          ]
        },
        {
          "name": "stdout",
          "output_type": "stream",
          "text": [
            "→ s p23: +25 entries (total 575)\n"
          ]
        },
        {
          "name": "stderr",
          "output_type": "stream",
          "text": [
            "Letters:  78%|███████▊  | 25/32 [1:16:05<13:06, 112.33s/it]"
          ]
        },
        {
          "name": "stdout",
          "output_type": "stream",
          "text": [
            "→ s p24: +25 entries (total 600)\n"
          ]
        },
        {
          "name": "stderr",
          "output_type": "stream",
          "text": [
            "Letters:  78%|███████▊  | 25/32 [1:16:10<13:06, 112.33s/it]"
          ]
        },
        {
          "name": "stdout",
          "output_type": "stream",
          "text": [
            "→ s p25: +25 entries (total 625)\n"
          ]
        },
        {
          "name": "stderr",
          "output_type": "stream",
          "text": [
            "Letters:  78%|███████▊  | 25/32 [1:16:16<13:06, 112.33s/it]"
          ]
        },
        {
          "name": "stdout",
          "output_type": "stream",
          "text": [
            "→ s p26: +25 entries (total 650)\n"
          ]
        },
        {
          "name": "stderr",
          "output_type": "stream",
          "text": [
            "Letters:  78%|███████▊  | 25/32 [1:16:21<13:06, 112.33s/it]"
          ]
        },
        {
          "name": "stdout",
          "output_type": "stream",
          "text": [
            "→ s p27: +25 entries (total 675)\n"
          ]
        },
        {
          "name": "stderr",
          "output_type": "stream",
          "text": [
            "Letters:  78%|███████▊  | 25/32 [1:16:26<13:06, 112.33s/it]"
          ]
        },
        {
          "name": "stdout",
          "output_type": "stream",
          "text": [
            "→ s p28: +25 entries (total 700)\n"
          ]
        },
        {
          "name": "stderr",
          "output_type": "stream",
          "text": [
            "Letters:  78%|███████▊  | 25/32 [1:16:30<13:06, 112.33s/it]"
          ]
        },
        {
          "name": "stdout",
          "output_type": "stream",
          "text": [
            "→ s p29: +25 entries (total 725)\n"
          ]
        },
        {
          "name": "stderr",
          "output_type": "stream",
          "text": [
            "Letters:  78%|███████▊  | 25/32 [1:16:34<13:06, 112.33s/it]"
          ]
        },
        {
          "name": "stdout",
          "output_type": "stream",
          "text": [
            "→ s p30: +25 entries (total 750)\n"
          ]
        },
        {
          "name": "stderr",
          "output_type": "stream",
          "text": [
            "Letters:  78%|███████▊  | 25/32 [1:16:39<13:06, 112.33s/it]"
          ]
        },
        {
          "name": "stdout",
          "output_type": "stream",
          "text": [
            "→ s p31: +25 entries (total 775)\n"
          ]
        },
        {
          "name": "stderr",
          "output_type": "stream",
          "text": [
            "Letters:  78%|███████▊  | 25/32 [1:16:44<13:06, 112.33s/it]"
          ]
        },
        {
          "name": "stdout",
          "output_type": "stream",
          "text": [
            "→ s p32: +25 entries (total 800)\n"
          ]
        },
        {
          "name": "stderr",
          "output_type": "stream",
          "text": [
            "Letters:  78%|███████▊  | 25/32 [1:16:49<13:06, 112.33s/it]"
          ]
        },
        {
          "name": "stdout",
          "output_type": "stream",
          "text": [
            "→ s p33: +25 entries (total 825)\n"
          ]
        },
        {
          "name": "stderr",
          "output_type": "stream",
          "text": [
            "Letters:  78%|███████▊  | 25/32 [1:16:53<13:06, 112.33s/it]"
          ]
        },
        {
          "name": "stdout",
          "output_type": "stream",
          "text": [
            "→ s p34: +25 entries (total 850)\n"
          ]
        },
        {
          "name": "stderr",
          "output_type": "stream",
          "text": [
            "Letters:  78%|███████▊  | 25/32 [1:16:58<13:06, 112.33s/it]"
          ]
        },
        {
          "name": "stdout",
          "output_type": "stream",
          "text": [
            "→ s p35: +25 entries (total 875)\n"
          ]
        },
        {
          "name": "stderr",
          "output_type": "stream",
          "text": [
            "Letters:  78%|███████▊  | 25/32 [1:17:03<13:06, 112.33s/it]"
          ]
        },
        {
          "name": "stdout",
          "output_type": "stream",
          "text": [
            "→ s p36: +25 entries (total 900)\n"
          ]
        },
        {
          "name": "stderr",
          "output_type": "stream",
          "text": [
            "Letters:  78%|███████▊  | 25/32 [1:17:07<13:06, 112.33s/it]"
          ]
        },
        {
          "name": "stdout",
          "output_type": "stream",
          "text": [
            "→ s p37: +25 entries (total 925)\n"
          ]
        },
        {
          "name": "stderr",
          "output_type": "stream",
          "text": [
            "Letters:  78%|███████▊  | 25/32 [1:17:12<13:06, 112.33s/it]"
          ]
        },
        {
          "name": "stdout",
          "output_type": "stream",
          "text": [
            "→ s p38: +25 entries (total 950)\n"
          ]
        },
        {
          "name": "stderr",
          "output_type": "stream",
          "text": [
            "Letters:  78%|███████▊  | 25/32 [1:17:16<13:06, 112.33s/it]"
          ]
        },
        {
          "name": "stdout",
          "output_type": "stream",
          "text": [
            "→ s p39: +18 entries (total 968)\n"
          ]
        },
        {
          "name": "stderr",
          "output_type": "stream",
          "text": [
            "Letters:  81%|████████▏ | 26/32 [1:17:23<13:26, 134.44s/it]"
          ]
        },
        {
          "name": "stdout",
          "output_type": "stream",
          "text": [
            "→ t p1: +25 entries (total 25)\n"
          ]
        },
        {
          "name": "stderr",
          "output_type": "stream",
          "text": [
            "Letters:  81%|████████▏ | 26/32 [1:17:28<13:26, 134.44s/it]"
          ]
        },
        {
          "name": "stdout",
          "output_type": "stream",
          "text": [
            "→ t p2: +25 entries (total 50)\n"
          ]
        },
        {
          "name": "stderr",
          "output_type": "stream",
          "text": [
            "Letters:  81%|████████▏ | 26/32 [1:17:32<13:26, 134.44s/it]"
          ]
        },
        {
          "name": "stdout",
          "output_type": "stream",
          "text": [
            "→ t p3: +25 entries (total 75)\n"
          ]
        },
        {
          "name": "stderr",
          "output_type": "stream",
          "text": [
            "Letters:  81%|████████▏ | 26/32 [1:17:42<13:26, 134.44s/it]"
          ]
        },
        {
          "name": "stdout",
          "output_type": "stream",
          "text": [
            "→ t p4: +25 entries (total 100)\n"
          ]
        },
        {
          "name": "stderr",
          "output_type": "stream",
          "text": [
            "Letters:  81%|████████▏ | 26/32 [1:17:59<13:26, 134.44s/it]"
          ]
        },
        {
          "name": "stdout",
          "output_type": "stream",
          "text": [
            "→ t p5: +25 entries (total 125)\n"
          ]
        },
        {
          "name": "stderr",
          "output_type": "stream",
          "text": [
            "Letters:  81%|████████▏ | 26/32 [1:18:12<13:26, 134.44s/it]"
          ]
        },
        {
          "name": "stdout",
          "output_type": "stream",
          "text": [
            "→ t p6: +25 entries (total 150)\n"
          ]
        },
        {
          "name": "stderr",
          "output_type": "stream",
          "text": [
            "Letters:  81%|████████▏ | 26/32 [1:18:16<13:26, 134.44s/it]"
          ]
        },
        {
          "name": "stdout",
          "output_type": "stream",
          "text": [
            "→ t p7: +25 entries (total 175)\n"
          ]
        },
        {
          "name": "stderr",
          "output_type": "stream",
          "text": [
            "Letters:  81%|████████▏ | 26/32 [1:18:22<13:26, 134.44s/it]"
          ]
        },
        {
          "name": "stdout",
          "output_type": "stream",
          "text": [
            "→ t p8: +25 entries (total 200)\n"
          ]
        },
        {
          "name": "stderr",
          "output_type": "stream",
          "text": [
            "Letters:  81%|████████▏ | 26/32 [1:18:26<13:26, 134.44s/it]"
          ]
        },
        {
          "name": "stdout",
          "output_type": "stream",
          "text": [
            "→ t p9: +25 entries (total 225)\n"
          ]
        },
        {
          "name": "stderr",
          "output_type": "stream",
          "text": [
            "Letters:  81%|████████▏ | 26/32 [1:18:30<13:26, 134.44s/it]"
          ]
        },
        {
          "name": "stdout",
          "output_type": "stream",
          "text": [
            "→ t p10: +25 entries (total 250)\n"
          ]
        },
        {
          "name": "stderr",
          "output_type": "stream",
          "text": [
            "Letters:  81%|████████▏ | 26/32 [1:18:35<13:26, 134.44s/it]"
          ]
        },
        {
          "name": "stdout",
          "output_type": "stream",
          "text": [
            "→ t p11: +25 entries (total 275)\n"
          ]
        },
        {
          "name": "stderr",
          "output_type": "stream",
          "text": [
            "Letters:  81%|████████▏ | 26/32 [1:18:39<13:26, 134.44s/it]"
          ]
        },
        {
          "name": "stdout",
          "output_type": "stream",
          "text": [
            "→ t p12: +25 entries (total 300)\n"
          ]
        },
        {
          "name": "stderr",
          "output_type": "stream",
          "text": [
            "Letters:  81%|████████▏ | 26/32 [1:18:44<13:26, 134.44s/it]"
          ]
        },
        {
          "name": "stdout",
          "output_type": "stream",
          "text": [
            "→ t p13: +25 entries (total 325)\n"
          ]
        },
        {
          "name": "stderr",
          "output_type": "stream",
          "text": [
            "Letters:  81%|████████▏ | 26/32 [1:18:49<13:26, 134.44s/it]"
          ]
        },
        {
          "name": "stdout",
          "output_type": "stream",
          "text": [
            "→ t p14: +25 entries (total 350)\n"
          ]
        },
        {
          "name": "stderr",
          "output_type": "stream",
          "text": [
            "Letters:  81%|████████▏ | 26/32 [1:18:53<13:26, 134.44s/it]"
          ]
        },
        {
          "name": "stdout",
          "output_type": "stream",
          "text": [
            "→ t p15: +25 entries (total 375)\n"
          ]
        },
        {
          "name": "stderr",
          "output_type": "stream",
          "text": [
            "Letters:  81%|████████▏ | 26/32 [1:18:58<13:26, 134.44s/it]"
          ]
        },
        {
          "name": "stdout",
          "output_type": "stream",
          "text": [
            "→ t p16: +25 entries (total 400)\n"
          ]
        },
        {
          "name": "stderr",
          "output_type": "stream",
          "text": [
            "Letters:  81%|████████▏ | 26/32 [1:19:02<13:26, 134.44s/it]"
          ]
        },
        {
          "name": "stdout",
          "output_type": "stream",
          "text": [
            "→ t p17: +25 entries (total 425)\n"
          ]
        },
        {
          "name": "stderr",
          "output_type": "stream",
          "text": [
            "Letters:  81%|████████▏ | 26/32 [1:19:09<13:26, 134.44s/it]"
          ]
        },
        {
          "name": "stdout",
          "output_type": "stream",
          "text": [
            "→ t p18: +25 entries (total 450)\n"
          ]
        },
        {
          "name": "stderr",
          "output_type": "stream",
          "text": [
            "Letters:  81%|████████▏ | 26/32 [1:19:13<13:26, 134.44s/it]"
          ]
        },
        {
          "name": "stdout",
          "output_type": "stream",
          "text": [
            "→ t p19: +25 entries (total 475)\n"
          ]
        },
        {
          "name": "stderr",
          "output_type": "stream",
          "text": [
            "Letters:  81%|████████▏ | 26/32 [1:19:18<13:26, 134.44s/it]"
          ]
        },
        {
          "name": "stdout",
          "output_type": "stream",
          "text": [
            "→ t p20: +25 entries (total 500)\n"
          ]
        },
        {
          "name": "stderr",
          "output_type": "stream",
          "text": [
            "Letters:  81%|████████▏ | 26/32 [1:19:22<13:26, 134.44s/it]"
          ]
        },
        {
          "name": "stdout",
          "output_type": "stream",
          "text": [
            "→ t p21: +25 entries (total 525)\n"
          ]
        },
        {
          "name": "stderr",
          "output_type": "stream",
          "text": [
            "Letters:  81%|████████▏ | 26/32 [1:19:27<13:26, 134.44s/it]"
          ]
        },
        {
          "name": "stdout",
          "output_type": "stream",
          "text": [
            "→ t p22: +25 entries (total 550)\n"
          ]
        },
        {
          "name": "stderr",
          "output_type": "stream",
          "text": [
            "Letters:  81%|████████▏ | 26/32 [1:19:31<13:26, 134.44s/it]"
          ]
        },
        {
          "name": "stdout",
          "output_type": "stream",
          "text": [
            "→ t p23: +25 entries (total 575)\n"
          ]
        },
        {
          "name": "stderr",
          "output_type": "stream",
          "text": [
            "Letters:  81%|████████▏ | 26/32 [1:19:41<13:26, 134.44s/it]"
          ]
        },
        {
          "name": "stdout",
          "output_type": "stream",
          "text": [
            "→ t p24: +25 entries (total 600)\n"
          ]
        },
        {
          "name": "stderr",
          "output_type": "stream",
          "text": [
            "Letters:  81%|████████▏ | 26/32 [1:19:53<13:26, 134.44s/it]"
          ]
        },
        {
          "name": "stdout",
          "output_type": "stream",
          "text": [
            "→ t p25: +25 entries (total 625)\n"
          ]
        },
        {
          "name": "stderr",
          "output_type": "stream",
          "text": [
            "Letters:  81%|████████▏ | 26/32 [1:19:59<13:26, 134.44s/it]"
          ]
        },
        {
          "name": "stdout",
          "output_type": "stream",
          "text": [
            "→ t p26: +25 entries (total 650)\n"
          ]
        },
        {
          "name": "stderr",
          "output_type": "stream",
          "text": [
            "Letters:  81%|████████▏ | 26/32 [1:20:03<13:26, 134.44s/it]"
          ]
        },
        {
          "name": "stdout",
          "output_type": "stream",
          "text": [
            "→ t p27: +25 entries (total 675)\n"
          ]
        },
        {
          "name": "stderr",
          "output_type": "stream",
          "text": [
            "Letters:  81%|████████▏ | 26/32 [1:20:08<13:26, 134.44s/it]"
          ]
        },
        {
          "name": "stdout",
          "output_type": "stream",
          "text": [
            "→ t p28: +25 entries (total 700)\n"
          ]
        },
        {
          "name": "stderr",
          "output_type": "stream",
          "text": [
            "Letters:  81%|████████▏ | 26/32 [1:20:12<13:26, 134.44s/it]"
          ]
        },
        {
          "name": "stdout",
          "output_type": "stream",
          "text": [
            "→ t p29: +25 entries (total 725)\n"
          ]
        },
        {
          "name": "stderr",
          "output_type": "stream",
          "text": [
            "Letters:  81%|████████▏ | 26/32 [1:20:18<13:26, 134.44s/it]"
          ]
        },
        {
          "name": "stdout",
          "output_type": "stream",
          "text": [
            "→ t p30: +25 entries (total 750)\n"
          ]
        },
        {
          "name": "stderr",
          "output_type": "stream",
          "text": [
            "Letters:  81%|████████▏ | 26/32 [1:20:22<13:26, 134.44s/it]"
          ]
        },
        {
          "name": "stdout",
          "output_type": "stream",
          "text": [
            "→ t p31: +25 entries (total 775)\n"
          ]
        },
        {
          "name": "stderr",
          "output_type": "stream",
          "text": [
            "Letters:  81%|████████▏ | 26/32 [1:20:27<13:26, 134.44s/it]"
          ]
        },
        {
          "name": "stdout",
          "output_type": "stream",
          "text": [
            "→ t p32: +25 entries (total 800)\n"
          ]
        },
        {
          "name": "stderr",
          "output_type": "stream",
          "text": [
            "Letters:  81%|████████▏ | 26/32 [1:20:33<13:26, 134.44s/it]"
          ]
        },
        {
          "name": "stdout",
          "output_type": "stream",
          "text": [
            "→ t p33: +25 entries (total 825)\n"
          ]
        },
        {
          "name": "stderr",
          "output_type": "stream",
          "text": [
            "Letters:  81%|████████▏ | 26/32 [1:20:40<13:26, 134.44s/it]"
          ]
        },
        {
          "name": "stdout",
          "output_type": "stream",
          "text": [
            "→ t p34: +25 entries (total 850)\n"
          ]
        },
        {
          "name": "stderr",
          "output_type": "stream",
          "text": [
            "Letters:  81%|████████▏ | 26/32 [1:20:44<13:26, 134.44s/it]"
          ]
        },
        {
          "name": "stdout",
          "output_type": "stream",
          "text": [
            "→ t p35: +25 entries (total 875)\n"
          ]
        },
        {
          "name": "stderr",
          "output_type": "stream",
          "text": [
            "Letters:  81%|████████▏ | 26/32 [1:20:49<13:26, 134.44s/it]"
          ]
        },
        {
          "name": "stdout",
          "output_type": "stream",
          "text": [
            "→ t p36: +25 entries (total 900)\n"
          ]
        },
        {
          "name": "stderr",
          "output_type": "stream",
          "text": [
            "Letters:  81%|████████▏ | 26/32 [1:20:53<13:26, 134.44s/it]"
          ]
        },
        {
          "name": "stdout",
          "output_type": "stream",
          "text": [
            "→ t p37: +25 entries (total 925)\n"
          ]
        },
        {
          "name": "stderr",
          "output_type": "stream",
          "text": [
            "Letters:  81%|████████▏ | 26/32 [1:20:56<13:26, 134.44s/it]"
          ]
        },
        {
          "name": "stdout",
          "output_type": "stream",
          "text": [
            "→ t p38: +7 entries (total 932)\n"
          ]
        },
        {
          "name": "stderr",
          "output_type": "stream",
          "text": [
            "Letters:  84%|████████▍ | 27/32 [1:21:04<13:22, 160.42s/it]"
          ]
        },
        {
          "name": "stdout",
          "output_type": "stream",
          "text": [
            "→ u p1: +25 entries (total 25)\n"
          ]
        },
        {
          "name": "stderr",
          "output_type": "stream",
          "text": [
            "Letters:  84%|████████▍ | 27/32 [1:21:08<13:22, 160.42s/it]"
          ]
        },
        {
          "name": "stdout",
          "output_type": "stream",
          "text": [
            "→ u p2: +25 entries (total 50)\n"
          ]
        },
        {
          "name": "stderr",
          "output_type": "stream",
          "text": [
            "Letters:  84%|████████▍ | 27/32 [1:21:12<13:22, 160.42s/it]"
          ]
        },
        {
          "name": "stdout",
          "output_type": "stream",
          "text": [
            "→ u p3: +25 entries (total 75)\n"
          ]
        },
        {
          "name": "stderr",
          "output_type": "stream",
          "text": [
            "Letters:  84%|████████▍ | 27/32 [1:21:17<13:22, 160.42s/it]"
          ]
        },
        {
          "name": "stdout",
          "output_type": "stream",
          "text": [
            "→ u p4: +25 entries (total 100)\n"
          ]
        },
        {
          "name": "stderr",
          "output_type": "stream",
          "text": [
            "Letters:  84%|████████▍ | 27/32 [1:21:21<13:22, 160.42s/it]"
          ]
        },
        {
          "name": "stdout",
          "output_type": "stream",
          "text": [
            "→ u p5: +25 entries (total 125)\n"
          ]
        },
        {
          "name": "stderr",
          "output_type": "stream",
          "text": [
            "Letters:  84%|████████▍ | 27/32 [1:21:24<13:22, 160.42s/it]"
          ]
        },
        {
          "name": "stdout",
          "output_type": "stream",
          "text": [
            "→ u p6: +10 entries (total 135)\n"
          ]
        },
        {
          "name": "stderr",
          "output_type": "stream",
          "text": [
            "Letters:  88%|████████▊ | 28/32 [1:21:31<08:02, 120.71s/it]"
          ]
        },
        {
          "name": "stdout",
          "output_type": "stream",
          "text": [
            "→ v p1: +19 entries (total 19)\n"
          ]
        },
        {
          "name": "stderr",
          "output_type": "stream",
          "text": [
            "Letters:  91%|█████████ | 29/32 [1:21:37<04:18, 86.19s/it]"
          ]
        },
        {
          "name": "stdout",
          "output_type": "stream",
          "text": [
            "→ w p1: +25 entries (total 25)\n"
          ]
        },
        {
          "name": "stderr",
          "output_type": "stream",
          "text": [
            "Letters:  91%|█████████ | 29/32 [1:21:42<04:18, 86.19s/it]"
          ]
        },
        {
          "name": "stdout",
          "output_type": "stream",
          "text": [
            "→ w p2: +25 entries (total 50)\n"
          ]
        },
        {
          "name": "stderr",
          "output_type": "stream",
          "text": [
            "Letters:  91%|█████████ | 29/32 [1:21:46<04:18, 86.19s/it]"
          ]
        },
        {
          "name": "stdout",
          "output_type": "stream",
          "text": [
            "→ w p3: +25 entries (total 75)\n"
          ]
        },
        {
          "name": "stderr",
          "output_type": "stream",
          "text": [
            "Letters:  91%|█████████ | 29/32 [1:21:50<04:18, 86.19s/it]"
          ]
        },
        {
          "name": "stdout",
          "output_type": "stream",
          "text": [
            "→ w p4: +25 entries (total 100)\n"
          ]
        },
        {
          "name": "stderr",
          "output_type": "stream",
          "text": [
            "Letters:  91%|█████████ | 29/32 [1:21:55<04:18, 86.19s/it]"
          ]
        },
        {
          "name": "stdout",
          "output_type": "stream",
          "text": [
            "→ w p5: +25 entries (total 125)\n"
          ]
        },
        {
          "name": "stderr",
          "output_type": "stream",
          "text": [
            "Letters:  91%|█████████ | 29/32 [1:22:00<04:18, 86.19s/it]"
          ]
        },
        {
          "name": "stdout",
          "output_type": "stream",
          "text": [
            "→ w p6: +25 entries (total 150)\n"
          ]
        },
        {
          "name": "stderr",
          "output_type": "stream",
          "text": [
            "Letters:  91%|█████████ | 29/32 [1:22:05<04:18, 86.19s/it]"
          ]
        },
        {
          "name": "stdout",
          "output_type": "stream",
          "text": [
            "→ w p7: +25 entries (total 175)\n"
          ]
        },
        {
          "name": "stderr",
          "output_type": "stream",
          "text": [
            "Letters:  91%|█████████ | 29/32 [1:22:09<04:18, 86.19s/it]"
          ]
        },
        {
          "name": "stdout",
          "output_type": "stream",
          "text": [
            "→ w p8: +25 entries (total 200)\n"
          ]
        },
        {
          "name": "stderr",
          "output_type": "stream",
          "text": [
            "Letters:  91%|█████████ | 29/32 [1:22:12<04:18, 86.19s/it]"
          ]
        },
        {
          "name": "stdout",
          "output_type": "stream",
          "text": [
            "→ w p9: +12 entries (total 212)\n"
          ]
        },
        {
          "name": "stderr",
          "output_type": "stream",
          "text": [
            "Letters:  94%|█████████▍| 30/32 [1:22:18<02:25, 72.69s/it]"
          ]
        },
        {
          "name": "stdout",
          "output_type": "stream",
          "text": [
            "→ y p1: +25 entries (total 25)\n"
          ]
        },
        {
          "name": "stderr",
          "output_type": "stream",
          "text": [
            "Letters:  94%|█████████▍| 30/32 [1:22:23<02:25, 72.69s/it]"
          ]
        },
        {
          "name": "stdout",
          "output_type": "stream",
          "text": [
            "→ y p2: +25 entries (total 50)\n"
          ]
        },
        {
          "name": "stderr",
          "output_type": "stream",
          "text": [
            "Letters:  94%|█████████▍| 30/32 [1:22:27<02:25, 72.69s/it]"
          ]
        },
        {
          "name": "stdout",
          "output_type": "stream",
          "text": [
            "→ y p3: +25 entries (total 75)\n"
          ]
        },
        {
          "name": "stderr",
          "output_type": "stream",
          "text": [
            "Letters:  94%|█████████▍| 30/32 [1:22:32<02:25, 72.69s/it]"
          ]
        },
        {
          "name": "stdout",
          "output_type": "stream",
          "text": [
            "→ y p4: +25 entries (total 100)\n"
          ]
        },
        {
          "name": "stderr",
          "output_type": "stream",
          "text": [
            "Letters:  94%|█████████▍| 30/32 [1:22:36<02:25, 72.69s/it]"
          ]
        },
        {
          "name": "stdout",
          "output_type": "stream",
          "text": [
            "→ y p5: +25 entries (total 125)\n"
          ]
        },
        {
          "name": "stderr",
          "output_type": "stream",
          "text": [
            "Letters:  94%|█████████▍| 30/32 [1:22:41<02:25, 72.69s/it]"
          ]
        },
        {
          "name": "stdout",
          "output_type": "stream",
          "text": [
            "→ y p6: +25 entries (total 150)\n"
          ]
        },
        {
          "name": "stderr",
          "output_type": "stream",
          "text": [
            "Letters:  94%|█████████▍| 30/32 [1:22:46<02:25, 72.69s/it]"
          ]
        },
        {
          "name": "stdout",
          "output_type": "stream",
          "text": [
            "→ y p7: +25 entries (total 175)\n"
          ]
        },
        {
          "name": "stderr",
          "output_type": "stream",
          "text": [
            "Letters:  94%|█████████▍| 30/32 [1:22:53<02:25, 72.69s/it]"
          ]
        },
        {
          "name": "stdout",
          "output_type": "stream",
          "text": [
            "→ y p8: +25 entries (total 200)\n"
          ]
        },
        {
          "name": "stderr",
          "output_type": "stream",
          "text": [
            "Letters:  94%|█████████▍| 30/32 [1:22:57<02:25, 72.69s/it]"
          ]
        },
        {
          "name": "stdout",
          "output_type": "stream",
          "text": [
            "→ y p9: +25 entries (total 225)\n"
          ]
        },
        {
          "name": "stderr",
          "output_type": "stream",
          "text": [
            "Letters:  94%|█████████▍| 30/32 [1:23:02<02:25, 72.69s/it]"
          ]
        },
        {
          "name": "stdout",
          "output_type": "stream",
          "text": [
            "→ y p10: +25 entries (total 250)\n"
          ]
        },
        {
          "name": "stderr",
          "output_type": "stream",
          "text": [
            "Letters:  94%|█████████▍| 30/32 [1:23:06<02:25, 72.69s/it]"
          ]
        },
        {
          "name": "stdout",
          "output_type": "stream",
          "text": [
            "→ y p11: +25 entries (total 275)\n"
          ]
        },
        {
          "name": "stderr",
          "output_type": "stream",
          "text": [
            "Letters:  94%|█████████▍| 30/32 [1:23:10<02:25, 72.69s/it]"
          ]
        },
        {
          "name": "stdout",
          "output_type": "stream",
          "text": [
            "→ y p12: +25 entries (total 300)\n"
          ]
        },
        {
          "name": "stderr",
          "output_type": "stream",
          "text": [
            "Letters:  94%|█████████▍| 30/32 [1:23:15<02:25, 72.69s/it]"
          ]
        },
        {
          "name": "stdout",
          "output_type": "stream",
          "text": [
            "→ y p13: +25 entries (total 325)\n"
          ]
        },
        {
          "name": "stderr",
          "output_type": "stream",
          "text": [
            "Letters:  94%|█████████▍| 30/32 [1:23:20<02:25, 72.69s/it]"
          ]
        },
        {
          "name": "stdout",
          "output_type": "stream",
          "text": [
            "→ y p14: +25 entries (total 350)\n"
          ]
        },
        {
          "name": "stderr",
          "output_type": "stream",
          "text": [
            "Letters:  94%|█████████▍| 30/32 [1:23:25<02:25, 72.69s/it]"
          ]
        },
        {
          "name": "stdout",
          "output_type": "stream",
          "text": [
            "→ y p15: +25 entries (total 375)\n"
          ]
        },
        {
          "name": "stderr",
          "output_type": "stream",
          "text": [
            "Letters:  94%|█████████▍| 30/32 [1:23:29<02:25, 72.69s/it]"
          ]
        },
        {
          "name": "stdout",
          "output_type": "stream",
          "text": [
            "→ y p16: +25 entries (total 400)\n"
          ]
        },
        {
          "name": "stderr",
          "output_type": "stream",
          "text": [
            "Letters:  94%|█████████▍| 30/32 [1:23:34<02:25, 72.69s/it]"
          ]
        },
        {
          "name": "stdout",
          "output_type": "stream",
          "text": [
            "→ y p17: +25 entries (total 425)\n"
          ]
        },
        {
          "name": "stderr",
          "output_type": "stream",
          "text": [
            "Letters:  94%|█████████▍| 30/32 [1:23:38<02:25, 72.69s/it]"
          ]
        },
        {
          "name": "stdout",
          "output_type": "stream",
          "text": [
            "→ y p18: +25 entries (total 450)\n"
          ]
        },
        {
          "name": "stderr",
          "output_type": "stream",
          "text": [
            "Letters:  94%|█████████▍| 30/32 [1:23:43<02:25, 72.69s/it]"
          ]
        },
        {
          "name": "stdout",
          "output_type": "stream",
          "text": [
            "→ y p19: +25 entries (total 475)\n"
          ]
        },
        {
          "name": "stderr",
          "output_type": "stream",
          "text": [
            "Letters:  94%|█████████▍| 30/32 [1:23:47<02:25, 72.69s/it]"
          ]
        },
        {
          "name": "stdout",
          "output_type": "stream",
          "text": [
            "→ y p20: +25 entries (total 500)\n"
          ]
        },
        {
          "name": "stderr",
          "output_type": "stream",
          "text": [
            "Letters:  94%|█████████▍| 30/32 [1:23:52<02:25, 72.69s/it]"
          ]
        },
        {
          "name": "stdout",
          "output_type": "stream",
          "text": [
            "→ y p21: +25 entries (total 525)\n"
          ]
        },
        {
          "name": "stderr",
          "output_type": "stream",
          "text": [
            "Letters:  94%|█████████▍| 30/32 [1:23:57<02:25, 72.69s/it]"
          ]
        },
        {
          "name": "stdout",
          "output_type": "stream",
          "text": [
            "→ y p22: +25 entries (total 550)\n"
          ]
        },
        {
          "name": "stderr",
          "output_type": "stream",
          "text": [
            "Letters:  94%|█████████▍| 30/32 [1:24:01<02:25, 72.69s/it]"
          ]
        },
        {
          "name": "stdout",
          "output_type": "stream",
          "text": [
            "→ y p23: +25 entries (total 575)\n"
          ]
        },
        {
          "name": "stderr",
          "output_type": "stream",
          "text": [
            "Letters:  94%|█████████▍| 30/32 [1:24:06<02:25, 72.69s/it]"
          ]
        },
        {
          "name": "stdout",
          "output_type": "stream",
          "text": [
            "→ y p24: +25 entries (total 600)\n"
          ]
        },
        {
          "name": "stderr",
          "output_type": "stream",
          "text": [
            "Letters:  94%|█████████▍| 30/32 [1:24:11<02:25, 72.69s/it]"
          ]
        },
        {
          "name": "stdout",
          "output_type": "stream",
          "text": [
            "→ y p25: +25 entries (total 625)\n"
          ]
        },
        {
          "name": "stderr",
          "output_type": "stream",
          "text": [
            "Letters:  94%|█████████▍| 30/32 [1:24:15<02:25, 72.69s/it]"
          ]
        },
        {
          "name": "stdout",
          "output_type": "stream",
          "text": [
            "→ y p26: +25 entries (total 650)\n"
          ]
        },
        {
          "name": "stderr",
          "output_type": "stream",
          "text": [
            "Letters:  94%|█████████▍| 30/32 [1:24:21<02:25, 72.69s/it]"
          ]
        },
        {
          "name": "stdout",
          "output_type": "stream",
          "text": [
            "→ y p27: +25 entries (total 675)\n"
          ]
        },
        {
          "name": "stderr",
          "output_type": "stream",
          "text": [
            "Letters:  94%|█████████▍| 30/32 [1:24:25<02:25, 72.69s/it]"
          ]
        },
        {
          "name": "stdout",
          "output_type": "stream",
          "text": [
            "→ y p28: +25 entries (total 700)\n"
          ]
        },
        {
          "name": "stderr",
          "output_type": "stream",
          "text": [
            "Letters:  94%|█████████▍| 30/32 [1:24:31<02:25, 72.69s/it]"
          ]
        },
        {
          "name": "stdout",
          "output_type": "stream",
          "text": [
            "→ y p29: +25 entries (total 725)\n"
          ]
        },
        {
          "name": "stderr",
          "output_type": "stream",
          "text": [
            "Letters:  94%|█████████▍| 30/32 [1:24:38<02:25, 72.69s/it]"
          ]
        },
        {
          "name": "stdout",
          "output_type": "stream",
          "text": [
            "→ y p30: +25 entries (total 750)\n"
          ]
        },
        {
          "name": "stderr",
          "output_type": "stream",
          "text": [
            "Letters:  94%|█████████▍| 30/32 [1:24:43<02:25, 72.69s/it]"
          ]
        },
        {
          "name": "stdout",
          "output_type": "stream",
          "text": [
            "→ y p31: +25 entries (total 775)\n"
          ]
        },
        {
          "name": "stderr",
          "output_type": "stream",
          "text": [
            "Letters:  94%|█████████▍| 30/32 [1:24:48<02:25, 72.69s/it]"
          ]
        },
        {
          "name": "stdout",
          "output_type": "stream",
          "text": [
            "→ y p32: +25 entries (total 800)\n"
          ]
        },
        {
          "name": "stderr",
          "output_type": "stream",
          "text": [
            "Letters:  97%|█████████▋| 31/32 [1:24:53<01:37, 97.80s/it]"
          ]
        },
        {
          "name": "stdout",
          "output_type": "stream",
          "text": [
            "→ z p1: +13 entries (total 13)\n"
          ]
        },
        {
          "name": "stderr",
          "output_type": "stream",
          "text": [
            "Letters: 100%|██████████| 32/32 [1:24:55<00:00, 159.25s/it]"
          ]
        },
        {
          "name": "stdout",
          "output_type": "stream",
          "text": [
            "Done scraping all letters.\n"
          ]
        },
        {
          "name": "stderr",
          "output_type": "stream",
          "text": [
            "\n"
          ]
        }
      ],
      "source": [
        "from bs4 import BeautifulSoup\n",
        "import requests\n",
        "import json\n",
        "import os\n",
        "import time\n",
        "from tqdm import tqdm\n",
        "\n",
        "# ─── 1. Try loading existing data ────────────────────────────────\n",
        "DATA_PATH = \"/content/drive/MyDrive/data_bas_fr_en_du.json\"\n",
        "if os.path.exists(DATA_PATH):\n",
        "    with open(DATA_PATH, \"r\", encoding=\"utf-8\") as f:\n",
        "        dataset = json.load(f)\n",
        "else:\n",
        "    dataset = {}\n",
        "\n",
        "# ─── 2. Set up letters and headers ───────────────────────────────\n",
        "chars = \"abɓ*cdeɛf᷇gh̀ijklmńŋoɔprstuvwyz\"\n",
        "headers = {\"User-Agent\": \"Mozilla/5.0\"}\n",
        "\n",
        "# ─── 3. Main loop ─────────────────────────────────────────────────\n",
        "for letter in tqdm(chars, desc=\"Letters\"):\n",
        "    # Skip if already scraped\n",
        "    if letter in dataset and dataset[letter]:\n",
        "        continue\n",
        "\n",
        "    dataset[letter] = []\n",
        "    page = 1\n",
        "\n",
        "    while True:\n",
        "        url = (\n",
        "            \"https://www.webonary.org/basaa/\"\n",
        "            f\"browse/browse-vernacular-french/\"\n",
        "            f\"?letter={letter}&key=bas&pagenr={page}&lang=en\"\n",
        "        )\n",
        "\n",
        "        # ─── 4. Retry loop for this page ─────────────────────────\n",
        "        while True:\n",
        "            try:\n",
        "                resp = requests.get(url, headers=headers)\n",
        "                html = resp.text\n",
        "            except Exception as e:\n",
        "                print(f\"[{letter} p{page}] Request error: {e}. Retrying in 10s…\")\n",
        "                time.sleep(10)\n",
        "                continue\n",
        "\n",
        "            # Block detection\n",
        "            if resp.status_code != 200:\n",
        "                print(f\"[{letter} p{page}] HTTP {resp.status_code}. Retrying in 10s…\")\n",
        "                time.sleep(10)\n",
        "                continue\n",
        "\n",
        "            # Parse\n",
        "            soup = BeautifulSoup(html, \"html.parser\")\n",
        "            text = soup.get_text()\n",
        "\n",
        "            # End-of-letter condition\n",
        "            if \"No reversal entries imported.\" in text or \"No entries\" in text:\n",
        "                done = True\n",
        "                break\n",
        "\n",
        "            results = soup.find(id=\"searchresults\")\n",
        "            if results is None:\n",
        "                print(f\"[{letter} p{page}] No #searchresults. Possibly blocked. Retrying in 10s…\")\n",
        "                time.sleep(10)\n",
        "                continue\n",
        "\n",
        "            done = False\n",
        "            break\n",
        "\n",
        "        # If no more entries, exit page loop\n",
        "        if done:\n",
        "            break\n",
        "\n",
        "        # ─── 5. Extract entries ────────────────────────────────\n",
        "        entries = []\n",
        "        for post in results.find_all(\"div\", class_=\"post\"):\n",
        "            e = {}\n",
        "            # Headword & plural\n",
        "            e[\"headword\"] = post.select_one(\".mainheadword span[lang='bas']\").get_text(strip=True) if post.select_one(\".mainheadword span[lang='bas']\") else \"\"\n",
        "            e[\"plural\"]   = post.select_one(\".plural span[lang='bas']\").get_text(strip=True)      if post.select_one(\".plural span[lang='bas']\")   else \"\"\n",
        "\n",
        "            # Senses\n",
        "            e[\"senses\"] = []\n",
        "            for sense in post.select(\"span.sense\"):\n",
        "                sd = {\n",
        "                    \"fr\": sense.select_one(\"span.definitionorgloss > span[lang='fr']\").get_text(strip=True) if sense.select_one(\"span.definitionorgloss > span[lang='fr']\") else \"\",\n",
        "                    \"en\": sense.select_one(\"span.definitionorgloss_1 > span[lang='en']\").get_text(strip=True) if sense.select_one(\"span.definitionorgloss_1 > span[lang='en']\") else \"\",\n",
        "                    \"de\": sense.select_one(\"span.definitionorgloss_2 > span[lang='de']\").get_text(strip=True) if sense.select_one(\"span.definitionorgloss_2 > span[lang='de']\") else \"\",\n",
        "                    \"examples\": []\n",
        "                }\n",
        "                for ex in sense.select(\".examplescontent\"):\n",
        "                    sd[\"examples\"].append({\n",
        "                        \"bas\": ex.select_one(\"span.example > span[lang='bas']\").get_text(strip=True) if ex.select_one(\"span.example > span[lang='bas']\") else \"\",\n",
        "                        \"fr\": ex.select_one(\"span.translation span[lang='fr']\").get_text(strip=True) if ex.select_one(\"span.translation span[lang='fr']\") else \"\",\n",
        "                        \"en\": ex.select_one(\"span.translation_3 span[lang='en']\").get_text(strip=True) if ex.select_one(\"span.translation_3 span[lang='en']\") else \"\",\n",
        "                    })\n",
        "                e[\"senses\"].append(sd)\n",
        "\n",
        "            # Variants/synonyms/compare\n",
        "            e[\"variant\"] = post.select_one(\".va span[lang='bas']\").get_text(strip=True) if post.select_one(\".va span[lang='bas']\") else \"\"\n",
        "            e[\"synonym\"] = post.select_one(\".synonym span[lang='bas']\").get_text(strip=True) if post.select_one(\".synonym span[lang='bas']\") else \"\"\n",
        "            e[\"compare\"] = post.select_one(\".compare span[lang='bas']\").get_text(strip=True) if post.select_one(\".compare span[lang='bas']\") else \"\"\n",
        "            entries.append(e)\n",
        "\n",
        "        dataset[letter].extend(entries)\n",
        "        tqdm.write(f\"→ {letter} p{page}: +{len(entries)} entries (total {len(dataset[letter])})\")\n",
        "\n",
        "        page += 1\n",
        "        time.sleep(1)  # be polite\n",
        "\n",
        "    # ─── 6. Save after finishing each letter ───────────────\n",
        "    with open(DATA_PATH, \"w\", encoding=\"utf-8\") as f:\n",
        "        json.dump(dataset, f, ensure_ascii=False, indent=2)\n",
        "\n",
        "print(\"Done scraping all letters.\")"
      ]
    },
    {
      "cell_type": "code",
      "execution_count": null,
      "metadata": {
        "colab": {
          "background_save": true
        },
        "id": "Ks7TLpmGwwKb",
        "outputId": "26d8b398-81a2-432a-9f8e-4cacb9c01d3c"
      },
      "outputs": [],
      "source": []
    }
  ],
  "metadata": {
    "colab": {
      "provenance": []
    },
    "kernelspec": {
      "display_name": "Python 3",
      "name": "python3"
    },
    "language_info": {
      "name": "python"
    }
  },
  "nbformat": 4,
  "nbformat_minor": 0
}