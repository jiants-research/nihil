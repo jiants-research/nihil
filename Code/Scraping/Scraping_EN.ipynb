{
  "nbformat": 4,
  "nbformat_minor": 0,
  "metadata": {
    "colab": {
      "provenance": []
    },
    "kernelspec": {
      "name": "python3",
      "display_name": "Python 3"
    },
    "language_info": {
      "name": "python"
    }
  },
  "cells": [
    {
      "cell_type": "code",
      "execution_count": null,
      "metadata": {
        "id": "eEmvD3GoPni2"
      },
      "outputs": [],
      "source": [
        "https://www.webonary.org/basaa/browse/browse-english/?letter=w&key=en&totalEntries=499&pagenr=20&lang=en"
      ]
    },
    {
      "cell_type": "code",
      "source": [
        "dataset = dict()"
      ],
      "metadata": {
        "id": "KuCQXw86VBYy"
      },
      "execution_count": null,
      "outputs": []
    },
    {
      "cell_type": "code",
      "source": [
        "import requests\n",
        "import json\n",
        "from bs4 import BeautifulSoup\n",
        "\n",
        "headers = {\n",
        "      \"User-Agent\": \"Mozilla/5.0 (Windows NT 10.0; Win64; x64) AppleWebKit/537.36 \"\n",
        "                    \"(KHTML, like Gecko) Chrome/114.0.0.0 Safari/537.36\",\n",
        "      \"Accept\": \"text/html,application/xhtml+xml,application/xml;q=0.9,*/*;q=0.8\",\n",
        "      \"Accept-Language\": \"en-US,en;q=0.5\",\n",
        "      \"Referer\": \"https://www.webonary.org\",\n",
        "      \"Connection\": \"keep-alive\"\n",
        "  }\n",
        "\n",
        "session = requests.Session()\n",
        "session.headers.update(headers)\n",
        "\n",
        "def scrape_website_fr(i, letter):\n",
        "  url = f\"https://www.webonary.org/basaa/browse/browse-francais/?letter={letter}&key=en-Qaaa-x-Scie&pagenr={i}&lang=en\"\n",
        "  url = f\"https://www.webonary.org/basaa/browse/english-browse-scientific-names/?letter={letter}&key=fr&pagenr={i}&lang=en\"\n",
        "\n",
        "  # Step 1: Send HTTP request\n",
        "\n",
        "  response = session.get(url)\n",
        "\n",
        "  # Step 2: Parse HTML content\n",
        "  soup = BeautifulSoup(response.content, \"html.parser\")\n",
        "\n",
        "  # Step 3: Find the element with id=\"searchresults\"\n",
        "  search_results = soup.find(id=\"searchresults\")\n",
        "  pairs = list()\n",
        "  if search_results:\n",
        "      posts = search_results.find_all(\"div\", class_=\"post\")\n",
        "      for post in posts:\n",
        "        en_word = post.find(\"span\", attrs={\"lang\": \"fr\"}).text\n",
        "        bas_words = post.find_all(\"span\", attrs={\"lang\": \"bas\"})\n",
        "        bas_word_list = list(set([bas_word.find(\"a\").text.strip() for bas_word in bas_words]))\n",
        "        pairs.append((en_word, bas_word_list))\n",
        "        #print(f\"English Word: {en_word}\")\n",
        "        #print(f\"Basaa Words: {', '.join(bas_word_list)}\")\n",
        "        #print()\n",
        "  elif \"No reversal entries imported.\" in soup.text:\n",
        "      return []\n",
        "  else:\n",
        "      print(\"BLOCKED\")\n",
        "      return -1\n",
        "  return pairs\n",
        "\n",
        "scrape_website_fr(40, 'p')"
      ],
      "metadata": {
        "colab": {
          "base_uri": "https://localhost:8080/"
        },
        "id": "eu7xgxqqQhV3",
        "outputId": "160839e2-b5b3-4302-cbda-074f5780b8a7"
      },
      "execution_count": null,
      "outputs": [
        {
          "output_type": "execute_result",
          "data": {
            "text/plain": [
              "[('personne f, vieille', ['maŋ']),\n",
              " ('personne grossière f', ['mùt njoo']),\n",
              " ('personne honnête', ['ǹsàsàyà']),\n",
              " ('personnel', ['i mût nyɛmɛ̀dɛ']),\n",
              " ('personne, la', ['mùt']),\n",
              " ('personnel m', ['ɓàɓòŋòl']),\n",
              " ('personnel m enseignant', ['ǹsumbi']),\n",
              " ('personne mis(e) à part, une', ['nàzîr']),\n",
              " ('personne (ou qc) qui fait demander qc', ['m̀ɓèdhà']),\n",
              " ('personne (ou qc)  qui fait monter qn ou qc', ['m̀ɓedhà']),\n",
              " ('personne (ou qc) qui lève, élève ou soulève qn ou qc', ['m̀ɓedhà']),\n",
              " ('personne qui administre les prises', ['ǹsɔ̀n']),\n",
              " ('personne qui aiguise qc', ['ǹhol']),\n",
              " ('personne qui arrache qc à l’aide de qn/qc d’autre', ['ŋ̀ààɛ̀nɛ̀']),\n",
              " ('personne qui arrache qc à un moment', ['ŋ̀ààɛ̀nɛ̀']),\n",
              " ('personne qui arrache qc dans un endroit', ['ŋ̀ààɛ̀nɛ̀']),\n",
              " ('personne qui arrache qc pour qn d’autre', ['ŋ̀ààɛ̀nɛ̀']),\n",
              " ('personne qui arrache qc pour une raison', ['ŋ̀ààɛ̀nɛ̀']),\n",
              " ('personne qui broit', ['ǹsàŋ']),\n",
              " ('personne qui coupe en petits morceaux', ['ǹsàŋ']),\n",
              " ('personne qui décolle qc à l’aide de qc d’autre', ['ŋ̀adlɛ̀nɛ̀']),\n",
              " ('personne qui décolle qc à un moment', ['ŋ̀adlɛ̀nɛ̀']),\n",
              " ('personne qui décolle qc dans un endroit', ['ŋ̀adlɛ̀nɛ̀']),\n",
              " ('personne qui décolle qc pour qn d’autre', ['ŋ̀adlɛ̀nɛ̀']),\n",
              " ('personne qui décolle qc pour une raison', ['ŋ̀adlɛ̀nɛ̀'])]"
            ]
          },
          "metadata": {},
          "execution_count": 8
        }
      ]
    },
    {
      "cell_type": "code",
      "source": [
        "chars = \"abɓcdefghijklmnŋopqrstuvwyz\""
      ],
      "metadata": {
        "id": "eL1s2Axv-P2R"
      },
      "execution_count": null,
      "outputs": []
    },
    {
      "cell_type": "code",
      "source": [
        "import string\n",
        "import time\n",
        "from tqdm import tqdm\n",
        "\n",
        "dataset[\"fr\"] = dataset.get(\"fr\", dict())\n",
        "loop = tqdm(chars)\n",
        "for letter in loop:\n",
        "  dataset[\"fr\"][\"letters\"] = dataset[\"fr\"].get(\"letters\", list())\n",
        "  i = 1\n",
        "\n",
        "  while True:\n",
        "    #\n",
        "    loop.set_postfix_str(f\"Letter: {letter}, Page: {i}\")\n",
        "    #\n",
        "    pairs = scrape_website_fr(i, letter)\n",
        "    time.sleep(0.7) # Wait a second please to avoid being blocked\n",
        "    if isinstance(pairs, list):\n",
        "      if pairs == []:\n",
        "        break\n",
        "      dataset[\"fr\"][letter].extend(pairs)\n",
        "      i += 1\n",
        "    else: #  if pair is -1\n",
        "      time.sleep(3)\n",
        "  print(f\"\\nLetter {letter}, {i-1} pages\")\n",
        "\n",
        "  with open(\"drive/MyDrive/data_fr_bas.json\", \"w\") as json_file:\n",
        "      print(f\"\\nSaving with letter {letter}...\")\n",
        "      json.dump(dataset, json_file, indent=4)\n",
        "\n",
        "dataset[\"fr\"].keys()"
      ],
      "metadata": {
        "colab": {
          "base_uri": "https://localhost:8080/",
          "height": 1000
        },
        "id": "-ZeYFKnzRpf1",
        "outputId": "39a9189b-95de-4744-a359-6f4e8ef43fb2"
      },
      "execution_count": null,
      "outputs": [
        {
          "metadata": {
            "tags": null
          },
          "name": "stderr",
          "output_type": "stream",
          "text": [
            "  0%|          | 0/27 [00:42<?, ?it/s, Letter: a, Page: 32]"
          ]
        },
        {
          "metadata": {
            "tags": null
          },
          "name": "stdout",
          "output_type": "stream",
          "text": [
            "BLOCKED\n"
          ]
        },
        {
          "metadata": {
            "tags": null
          },
          "name": "stderr",
          "output_type": "stream",
          "text": [
            "\r  0%|          | 0/27 [00:46<?, ?it/s, Letter: a, Page: 32]"
          ]
        },
        {
          "metadata": {
            "tags": null
          },
          "name": "stdout",
          "output_type": "stream",
          "text": [
            "BLOCKED\n"
          ]
        },
        {
          "metadata": {
            "tags": null
          },
          "name": "stderr",
          "output_type": "stream",
          "text": [
            "\r  0%|          | 0/27 [00:50<?, ?it/s, Letter: a, Page: 32]"
          ]
        },
        {
          "metadata": {
            "tags": null
          },
          "name": "stdout",
          "output_type": "stream",
          "text": [
            "BLOCKED\n"
          ]
        },
        {
          "metadata": {
            "tags": null
          },
          "name": "stderr",
          "output_type": "stream",
          "text": [
            "\r  0%|          | 0/27 [00:54<?, ?it/s, Letter: a, Page: 32]"
          ]
        },
        {
          "metadata": {
            "tags": null
          },
          "name": "stdout",
          "output_type": "stream",
          "text": [
            "BLOCKED\n"
          ]
        },
        {
          "metadata": {
            "tags": null
          },
          "name": "stderr",
          "output_type": "stream",
          "text": [
            "\r  0%|          | 0/27 [00:58<?, ?it/s, Letter: a, Page: 32]"
          ]
        },
        {
          "metadata": {
            "tags": null
          },
          "name": "stdout",
          "output_type": "stream",
          "text": [
            "BLOCKED\n"
          ]
        },
        {
          "metadata": {
            "tags": null
          },
          "name": "stderr",
          "output_type": "stream",
          "text": [
            "\r  0%|          | 0/27 [01:02<?, ?it/s, Letter: a, Page: 32]"
          ]
        },
        {
          "metadata": {
            "tags": null
          },
          "name": "stdout",
          "output_type": "stream",
          "text": [
            "BLOCKED\n"
          ]
        },
        {
          "metadata": {
            "tags": null
          },
          "name": "stderr",
          "output_type": "stream",
          "text": [
            "\r  0%|          | 0/27 [01:06<?, ?it/s, Letter: a, Page: 32]"
          ]
        },
        {
          "metadata": {
            "tags": null
          },
          "name": "stdout",
          "output_type": "stream",
          "text": [
            "BLOCKED\n"
          ]
        },
        {
          "metadata": {
            "tags": null
          },
          "name": "stderr",
          "output_type": "stream",
          "text": [
            "\r  0%|          | 0/27 [01:09<?, ?it/s, Letter: a, Page: 32]"
          ]
        },
        {
          "metadata": {
            "tags": null
          },
          "name": "stdout",
          "output_type": "stream",
          "text": [
            "BLOCKED\n"
          ]
        },
        {
          "metadata": {
            "tags": null
          },
          "name": "stderr",
          "output_type": "stream",
          "text": [
            "\r  0%|          | 0/27 [01:13<?, ?it/s, Letter: a, Page: 32]"
          ]
        },
        {
          "metadata": {
            "tags": null
          },
          "name": "stdout",
          "output_type": "stream",
          "text": [
            "BLOCKED\n"
          ]
        },
        {
          "metadata": {
            "tags": null
          },
          "name": "stderr",
          "output_type": "stream",
          "text": [
            "\r  0%|          | 0/27 [01:17<?, ?it/s, Letter: a, Page: 32]"
          ]
        },
        {
          "metadata": {
            "tags": null
          },
          "name": "stdout",
          "output_type": "stream",
          "text": [
            "BLOCKED\n"
          ]
        },
        {
          "metadata": {
            "tags": null
          },
          "name": "stderr",
          "output_type": "stream",
          "text": [
            "\r  0%|          | 0/27 [01:21<?, ?it/s, Letter: a, Page: 32]"
          ]
        },
        {
          "metadata": {
            "tags": null
          },
          "name": "stdout",
          "output_type": "stream",
          "text": [
            "BLOCKED\n"
          ]
        },
        {
          "metadata": {
            "tags": null
          },
          "name": "stderr",
          "output_type": "stream",
          "text": [
            "\r  0%|          | 0/27 [01:25<?, ?it/s, Letter: a, Page: 32]"
          ]
        },
        {
          "metadata": {
            "tags": null
          },
          "name": "stdout",
          "output_type": "stream",
          "text": [
            "BLOCKED\n"
          ]
        },
        {
          "metadata": {
            "tags": null
          },
          "name": "stderr",
          "output_type": "stream",
          "text": [
            "\r  0%|          | 0/27 [01:29<?, ?it/s, Letter: a, Page: 32]"
          ]
        },
        {
          "metadata": {
            "tags": null
          },
          "name": "stdout",
          "output_type": "stream",
          "text": [
            "BLOCKED\n"
          ]
        },
        {
          "metadata": {
            "tags": null
          },
          "name": "stderr",
          "output_type": "stream",
          "text": [
            "\r  0%|          | 0/27 [01:33<?, ?it/s, Letter: a, Page: 32]"
          ]
        },
        {
          "metadata": {
            "tags": null
          },
          "name": "stdout",
          "output_type": "stream",
          "text": [
            "BLOCKED\n"
          ]
        },
        {
          "metadata": {
            "tags": null
          },
          "name": "stderr",
          "output_type": "stream",
          "text": [
            "\r  0%|          | 0/27 [01:37<?, ?it/s, Letter: a, Page: 32]"
          ]
        },
        {
          "metadata": {
            "tags": null
          },
          "name": "stdout",
          "output_type": "stream",
          "text": [
            "BLOCKED\n"
          ]
        },
        {
          "metadata": {
            "tags": null
          },
          "name": "stderr",
          "output_type": "stream",
          "text": [
            "\r  0%|          | 0/27 [01:41<?, ?it/s, Letter: a, Page: 32]"
          ]
        },
        {
          "metadata": {
            "tags": null
          },
          "name": "stdout",
          "output_type": "stream",
          "text": [
            "BLOCKED\n"
          ]
        },
        {
          "metadata": {
            "tags": null
          },
          "name": "stderr",
          "output_type": "stream",
          "text": [
            "  0%|          | 0/27 [02:50<?, ?it/s, Letter: a, Page: 73]"
          ]
        },
        {
          "metadata": {
            "tags": null
          },
          "name": "stdout",
          "output_type": "stream",
          "text": [
            "BLOCKED\n"
          ]
        },
        {
          "metadata": {
            "tags": null
          },
          "name": "stderr",
          "output_type": "stream",
          "text": [
            "\r  0%|          | 0/27 [02:54<?, ?it/s, Letter: a, Page: 73]"
          ]
        },
        {
          "metadata": {
            "tags": null
          },
          "name": "stdout",
          "output_type": "stream",
          "text": [
            "BLOCKED\n"
          ]
        },
        {
          "metadata": {
            "tags": null
          },
          "name": "stderr",
          "output_type": "stream",
          "text": [
            "\r  0%|          | 0/27 [02:58<?, ?it/s, Letter: a, Page: 73]"
          ]
        },
        {
          "metadata": {
            "tags": null
          },
          "name": "stdout",
          "output_type": "stream",
          "text": [
            "BLOCKED\n"
          ]
        },
        {
          "metadata": {
            "tags": null
          },
          "name": "stderr",
          "output_type": "stream",
          "text": [
            "\r  0%|          | 0/27 [03:02<?, ?it/s, Letter: a, Page: 73]"
          ]
        },
        {
          "metadata": {
            "tags": null
          },
          "name": "stdout",
          "output_type": "stream",
          "text": [
            "BLOCKED\n"
          ]
        },
        {
          "metadata": {
            "tags": null
          },
          "name": "stderr",
          "output_type": "stream",
          "text": [
            "\r  0%|          | 0/27 [03:06<?, ?it/s, Letter: a, Page: 73]"
          ]
        },
        {
          "metadata": {
            "tags": null
          },
          "name": "stdout",
          "output_type": "stream",
          "text": [
            "BLOCKED\n"
          ]
        },
        {
          "metadata": {
            "tags": null
          },
          "name": "stderr",
          "output_type": "stream",
          "text": [
            "\r  0%|          | 0/27 [03:09<?, ?it/s, Letter: a, Page: 73]"
          ]
        },
        {
          "metadata": {
            "tags": null
          },
          "name": "stdout",
          "output_type": "stream",
          "text": [
            "BLOCKED\n"
          ]
        },
        {
          "metadata": {
            "tags": null
          },
          "name": "stderr",
          "output_type": "stream",
          "text": [
            "\r  0%|          | 0/27 [03:13<?, ?it/s, Letter: a, Page: 73]"
          ]
        },
        {
          "metadata": {
            "tags": null
          },
          "name": "stdout",
          "output_type": "stream",
          "text": [
            "BLOCKED\n"
          ]
        },
        {
          "metadata": {
            "tags": null
          },
          "name": "stderr",
          "output_type": "stream",
          "text": [
            "\r  0%|          | 0/27 [03:17<?, ?it/s, Letter: a, Page: 73]"
          ]
        },
        {
          "metadata": {
            "tags": null
          },
          "name": "stdout",
          "output_type": "stream",
          "text": [
            "BLOCKED\n"
          ]
        },
        {
          "metadata": {
            "tags": null
          },
          "name": "stderr",
          "output_type": "stream",
          "text": [
            "\r  0%|          | 0/27 [03:21<?, ?it/s, Letter: a, Page: 73]"
          ]
        },
        {
          "metadata": {
            "tags": null
          },
          "name": "stdout",
          "output_type": "stream",
          "text": [
            "BLOCKED\n"
          ]
        },
        {
          "metadata": {
            "tags": null
          },
          "name": "stderr",
          "output_type": "stream",
          "text": [
            "\r  0%|          | 0/27 [03:25<?, ?it/s, Letter: a, Page: 73]"
          ]
        },
        {
          "metadata": {
            "tags": null
          },
          "name": "stdout",
          "output_type": "stream",
          "text": [
            "BLOCKED\n"
          ]
        },
        {
          "metadata": {
            "tags": null
          },
          "name": "stderr",
          "output_type": "stream",
          "text": [
            "\r  0%|          | 0/27 [03:29<?, ?it/s, Letter: a, Page: 73]"
          ]
        },
        {
          "metadata": {
            "tags": null
          },
          "name": "stdout",
          "output_type": "stream",
          "text": [
            "BLOCKED\n"
          ]
        },
        {
          "metadata": {
            "tags": null
          },
          "name": "stderr",
          "output_type": "stream",
          "text": [
            "\r  0%|          | 0/27 [03:33<?, ?it/s, Letter: a, Page: 73]"
          ]
        },
        {
          "metadata": {
            "tags": null
          },
          "name": "stdout",
          "output_type": "stream",
          "text": [
            "BLOCKED\n"
          ]
        },
        {
          "metadata": {
            "tags": null
          },
          "name": "stderr",
          "output_type": "stream",
          "text": [
            "\r  0%|          | 0/27 [03:37<?, ?it/s, Letter: a, Page: 73]"
          ]
        },
        {
          "metadata": {
            "tags": null
          },
          "name": "stdout",
          "output_type": "stream",
          "text": [
            "BLOCKED\n"
          ]
        },
        {
          "metadata": {
            "tags": null
          },
          "name": "stderr",
          "output_type": "stream",
          "text": [
            "\r  0%|          | 0/27 [03:40<?, ?it/s, Letter: a, Page: 73]"
          ]
        },
        {
          "metadata": {
            "tags": null
          },
          "name": "stdout",
          "output_type": "stream",
          "text": [
            "BLOCKED\n"
          ]
        },
        {
          "metadata": {
            "tags": null
          },
          "name": "stderr",
          "output_type": "stream",
          "text": [
            "\r  0%|          | 0/27 [03:44<?, ?it/s, Letter: a, Page: 73]"
          ]
        },
        {
          "metadata": {
            "tags": null
          },
          "name": "stdout",
          "output_type": "stream",
          "text": [
            "BLOCKED\n"
          ]
        },
        {
          "metadata": {
            "tags": null
          },
          "name": "stderr",
          "output_type": "stream",
          "text": [
            "\r  0%|          | 0/27 [03:48<?, ?it/s, Letter: a, Page: 73]"
          ]
        },
        {
          "metadata": {
            "tags": null
          },
          "name": "stdout",
          "output_type": "stream",
          "text": [
            "BLOCKED\n"
          ]
        },
        {
          "metadata": {
            "tags": null
          },
          "name": "stderr",
          "output_type": "stream",
          "text": [
            "  4%|▎         | 1/27 [04:29<1:56:39, 269.20s/it, Letter: b, Page: 1] "
          ]
        },
        {
          "metadata": {
            "tags": null
          },
          "name": "stdout",
          "output_type": "stream",
          "text": [
            "\n",
            "Letter a, 96 pages\n",
            "\n",
            "Saving with letter a...\n"
          ]
        },
        {
          "metadata": {
            "tags": null
          },
          "name": "stderr",
          "output_type": "stream",
          "text": [
            "  4%|▎         | 1/27 [04:46<1:56:39, 269.20s/it, Letter: b, Page: 12]"
          ]
        },
        {
          "metadata": {
            "tags": null
          },
          "name": "stdout",
          "output_type": "stream",
          "text": [
            "BLOCKED\n"
          ]
        },
        {
          "metadata": {
            "tags": null
          },
          "name": "stderr",
          "output_type": "stream",
          "text": [
            "\r  4%|▎         | 1/27 [04:49<1:56:39, 269.20s/it, Letter: b, Page: 12]"
          ]
        },
        {
          "metadata": {
            "tags": null
          },
          "name": "stdout",
          "output_type": "stream",
          "text": [
            "BLOCKED\n"
          ]
        },
        {
          "metadata": {
            "tags": null
          },
          "name": "stderr",
          "output_type": "stream",
          "text": [
            "\r  4%|▎         | 1/27 [04:53<1:56:39, 269.20s/it, Letter: b, Page: 12]"
          ]
        },
        {
          "metadata": {
            "tags": null
          },
          "name": "stdout",
          "output_type": "stream",
          "text": [
            "BLOCKED\n"
          ]
        },
        {
          "metadata": {
            "tags": null
          },
          "name": "stderr",
          "output_type": "stream",
          "text": [
            "\r  4%|▎         | 1/27 [04:57<1:56:39, 269.20s/it, Letter: b, Page: 12]"
          ]
        },
        {
          "metadata": {
            "tags": null
          },
          "name": "stdout",
          "output_type": "stream",
          "text": [
            "BLOCKED\n"
          ]
        },
        {
          "metadata": {
            "tags": null
          },
          "name": "stderr",
          "output_type": "stream",
          "text": [
            "\r  4%|▎         | 1/27 [05:01<1:56:39, 269.20s/it, Letter: b, Page: 12]"
          ]
        },
        {
          "metadata": {
            "tags": null
          },
          "name": "stdout",
          "output_type": "stream",
          "text": [
            "BLOCKED\n"
          ]
        },
        {
          "metadata": {
            "tags": null
          },
          "name": "stderr",
          "output_type": "stream",
          "text": [
            "\r  4%|▎         | 1/27 [05:05<1:56:39, 269.20s/it, Letter: b, Page: 12]"
          ]
        },
        {
          "metadata": {
            "tags": null
          },
          "name": "stdout",
          "output_type": "stream",
          "text": [
            "BLOCKED\n"
          ]
        },
        {
          "metadata": {
            "tags": null
          },
          "name": "stderr",
          "output_type": "stream",
          "text": [
            "\r  4%|▎         | 1/27 [05:09<1:56:39, 269.20s/it, Letter: b, Page: 12]"
          ]
        },
        {
          "metadata": {
            "tags": null
          },
          "name": "stdout",
          "output_type": "stream",
          "text": [
            "BLOCKED\n"
          ]
        },
        {
          "metadata": {
            "tags": null
          },
          "name": "stderr",
          "output_type": "stream",
          "text": [
            "\r  4%|▎         | 1/27 [05:13<1:56:39, 269.20s/it, Letter: b, Page: 12]"
          ]
        },
        {
          "metadata": {
            "tags": null
          },
          "name": "stdout",
          "output_type": "stream",
          "text": [
            "BLOCKED\n"
          ]
        },
        {
          "metadata": {
            "tags": null
          },
          "name": "stderr",
          "output_type": "stream",
          "text": [
            "\r  4%|▎         | 1/27 [05:16<1:56:39, 269.20s/it, Letter: b, Page: 12]"
          ]
        },
        {
          "metadata": {
            "tags": null
          },
          "name": "stdout",
          "output_type": "stream",
          "text": [
            "BLOCKED\n"
          ]
        },
        {
          "metadata": {
            "tags": null
          },
          "name": "stderr",
          "output_type": "stream",
          "text": [
            "\r  4%|▎         | 1/27 [05:20<1:56:39, 269.20s/it, Letter: b, Page: 12]"
          ]
        },
        {
          "metadata": {
            "tags": null
          },
          "name": "stdout",
          "output_type": "stream",
          "text": [
            "BLOCKED\n"
          ]
        },
        {
          "metadata": {
            "tags": null
          },
          "name": "stderr",
          "output_type": "stream",
          "text": [
            "\r  4%|▎         | 1/27 [05:24<1:56:39, 269.20s/it, Letter: b, Page: 12]"
          ]
        },
        {
          "metadata": {
            "tags": null
          },
          "name": "stdout",
          "output_type": "stream",
          "text": [
            "BLOCKED\n"
          ]
        },
        {
          "metadata": {
            "tags": null
          },
          "name": "stderr",
          "output_type": "stream",
          "text": [
            "\r  4%|▎         | 1/27 [05:28<1:56:39, 269.20s/it, Letter: b, Page: 12]"
          ]
        },
        {
          "metadata": {
            "tags": null
          },
          "name": "stdout",
          "output_type": "stream",
          "text": [
            "BLOCKED\n"
          ]
        },
        {
          "metadata": {
            "tags": null
          },
          "name": "stderr",
          "output_type": "stream",
          "text": [
            "\r  4%|▎         | 1/27 [05:32<1:56:39, 269.20s/it, Letter: b, Page: 12]"
          ]
        },
        {
          "metadata": {
            "tags": null
          },
          "name": "stdout",
          "output_type": "stream",
          "text": [
            "BLOCKED\n"
          ]
        },
        {
          "metadata": {
            "tags": null
          },
          "name": "stderr",
          "output_type": "stream",
          "text": [
            "\r  4%|▎         | 1/27 [05:36<1:56:39, 269.20s/it, Letter: b, Page: 12]"
          ]
        },
        {
          "metadata": {
            "tags": null
          },
          "name": "stdout",
          "output_type": "stream",
          "text": [
            "BLOCKED\n"
          ]
        },
        {
          "metadata": {
            "tags": null
          },
          "name": "stderr",
          "output_type": "stream",
          "text": [
            "\r  4%|▎         | 1/27 [05:40<1:56:39, 269.20s/it, Letter: b, Page: 12]"
          ]
        },
        {
          "metadata": {
            "tags": null
          },
          "name": "stdout",
          "output_type": "stream",
          "text": [
            "BLOCKED\n"
          ]
        },
        {
          "metadata": {
            "tags": null
          },
          "name": "stderr",
          "output_type": "stream",
          "text": [
            "\r  4%|▎         | 1/27 [05:43<1:56:39, 269.20s/it, Letter: b, Page: 12]"
          ]
        },
        {
          "metadata": {
            "tags": null
          },
          "name": "stdout",
          "output_type": "stream",
          "text": [
            "BLOCKED\n"
          ]
        },
        {
          "metadata": {
            "tags": null
          },
          "name": "stderr",
          "output_type": "stream",
          "text": [
            "  4%|▎         | 1/27 [06:44<1:56:39, 269.20s/it, Letter: b, Page: 50]"
          ]
        },
        {
          "metadata": {
            "tags": null
          },
          "name": "stdout",
          "output_type": "stream",
          "text": [
            "BLOCKED\n"
          ]
        },
        {
          "metadata": {
            "tags": null
          },
          "name": "stderr",
          "output_type": "stream",
          "text": [
            "\r  4%|▎         | 1/27 [06:48<1:56:39, 269.20s/it, Letter: b, Page: 50]"
          ]
        },
        {
          "metadata": {
            "tags": null
          },
          "name": "stdout",
          "output_type": "stream",
          "text": [
            "BLOCKED\n"
          ]
        },
        {
          "metadata": {
            "tags": null
          },
          "name": "stderr",
          "output_type": "stream",
          "text": [
            "\r  4%|▎         | 1/27 [06:52<1:56:39, 269.20s/it, Letter: b, Page: 50]"
          ]
        },
        {
          "metadata": {
            "tags": null
          },
          "name": "stdout",
          "output_type": "stream",
          "text": [
            "BLOCKED\n"
          ]
        },
        {
          "metadata": {
            "tags": null
          },
          "name": "stderr",
          "output_type": "stream",
          "text": [
            "\r  4%|▎         | 1/27 [06:56<1:56:39, 269.20s/it, Letter: b, Page: 50]"
          ]
        },
        {
          "metadata": {
            "tags": null
          },
          "name": "stdout",
          "output_type": "stream",
          "text": [
            "BLOCKED\n"
          ]
        },
        {
          "metadata": {
            "tags": null
          },
          "name": "stderr",
          "output_type": "stream",
          "text": [
            "\r  4%|▎         | 1/27 [07:00<1:56:39, 269.20s/it, Letter: b, Page: 50]"
          ]
        },
        {
          "metadata": {
            "tags": null
          },
          "name": "stdout",
          "output_type": "stream",
          "text": [
            "BLOCKED\n"
          ]
        },
        {
          "metadata": {
            "tags": null
          },
          "name": "stderr",
          "output_type": "stream",
          "text": [
            "\r  4%|▎         | 1/27 [07:03<1:56:39, 269.20s/it, Letter: b, Page: 50]"
          ]
        },
        {
          "metadata": {
            "tags": null
          },
          "name": "stdout",
          "output_type": "stream",
          "text": [
            "BLOCKED\n"
          ]
        },
        {
          "metadata": {
            "tags": null
          },
          "name": "stderr",
          "output_type": "stream",
          "text": [
            "\r  4%|▎         | 1/27 [07:08<1:56:39, 269.20s/it, Letter: b, Page: 50]"
          ]
        },
        {
          "metadata": {
            "tags": null
          },
          "name": "stdout",
          "output_type": "stream",
          "text": [
            "BLOCKED\n"
          ]
        },
        {
          "metadata": {
            "tags": null
          },
          "name": "stderr",
          "output_type": "stream",
          "text": [
            "\r  4%|▎         | 1/27 [07:12<1:56:39, 269.20s/it, Letter: b, Page: 50]"
          ]
        },
        {
          "metadata": {
            "tags": null
          },
          "name": "stdout",
          "output_type": "stream",
          "text": [
            "BLOCKED\n"
          ]
        },
        {
          "metadata": {
            "tags": null
          },
          "name": "stderr",
          "output_type": "stream",
          "text": [
            "\r  4%|▎         | 1/27 [07:15<1:56:39, 269.20s/it, Letter: b, Page: 50]"
          ]
        },
        {
          "metadata": {
            "tags": null
          },
          "name": "stdout",
          "output_type": "stream",
          "text": [
            "BLOCKED\n"
          ]
        },
        {
          "metadata": {
            "tags": null
          },
          "name": "stderr",
          "output_type": "stream",
          "text": [
            "\r  4%|▎         | 1/27 [07:19<1:56:39, 269.20s/it, Letter: b, Page: 50]"
          ]
        },
        {
          "metadata": {
            "tags": null
          },
          "name": "stdout",
          "output_type": "stream",
          "text": [
            "BLOCKED\n"
          ]
        },
        {
          "metadata": {
            "tags": null
          },
          "name": "stderr",
          "output_type": "stream",
          "text": [
            "\r  4%|▎         | 1/27 [07:23<1:56:39, 269.20s/it, Letter: b, Page: 50]"
          ]
        },
        {
          "metadata": {
            "tags": null
          },
          "name": "stdout",
          "output_type": "stream",
          "text": [
            "BLOCKED\n"
          ]
        },
        {
          "metadata": {
            "tags": null
          },
          "name": "stderr",
          "output_type": "stream",
          "text": [
            "\r  4%|▎         | 1/27 [07:27<1:56:39, 269.20s/it, Letter: b, Page: 50]"
          ]
        },
        {
          "metadata": {
            "tags": null
          },
          "name": "stdout",
          "output_type": "stream",
          "text": [
            "BLOCKED\n"
          ]
        },
        {
          "metadata": {
            "tags": null
          },
          "name": "stderr",
          "output_type": "stream",
          "text": [
            "\r  4%|▎         | 1/27 [07:31<1:56:39, 269.20s/it, Letter: b, Page: 50]"
          ]
        },
        {
          "metadata": {
            "tags": null
          },
          "name": "stdout",
          "output_type": "stream",
          "text": [
            "BLOCKED\n"
          ]
        },
        {
          "metadata": {
            "tags": null
          },
          "name": "stderr",
          "output_type": "stream",
          "text": [
            "\r  4%|▎         | 1/27 [07:35<1:56:39, 269.20s/it, Letter: b, Page: 50]"
          ]
        },
        {
          "metadata": {
            "tags": null
          },
          "name": "stdout",
          "output_type": "stream",
          "text": [
            "BLOCKED\n"
          ]
        },
        {
          "metadata": {
            "tags": null
          },
          "name": "stderr",
          "output_type": "stream",
          "text": [
            "\r  4%|▎         | 1/27 [07:39<1:56:39, 269.20s/it, Letter: b, Page: 50]"
          ]
        },
        {
          "metadata": {
            "tags": null
          },
          "name": "stdout",
          "output_type": "stream",
          "text": [
            "BLOCKED\n"
          ]
        },
        {
          "metadata": {
            "tags": null
          },
          "name": "stderr",
          "output_type": "stream",
          "text": [
            "\r  4%|▎         | 1/27 [07:43<1:56:39, 269.20s/it, Letter: b, Page: 50]"
          ]
        },
        {
          "metadata": {
            "tags": null
          },
          "name": "stdout",
          "output_type": "stream",
          "text": [
            "BLOCKED\n"
          ]
        },
        {
          "metadata": {
            "tags": null
          },
          "name": "stderr",
          "output_type": "stream",
          "text": [
            "  7%|▋         | 2/27 [07:52<1:36:05, 230.64s/it, Letter: ɓ, Page: 1] "
          ]
        },
        {
          "metadata": {
            "tags": null
          },
          "name": "stdout",
          "output_type": "stream",
          "text": [
            "\n",
            "Letter b, 52 pages\n",
            "\n",
            "Saving with letter b...\n"
          ]
        },
        {
          "metadata": {
            "tags": null
          },
          "name": "stderr",
          "output_type": "stream",
          "text": [
            " 11%|█         | 3/27 [07:57<51:02, 127.61s/it, Letter: c, Page: 1]"
          ]
        },
        {
          "metadata": {
            "tags": null
          },
          "name": "stdout",
          "output_type": "stream",
          "text": [
            "\n",
            "Letter ɓ, 1 pages\n",
            "\n",
            "Saving with letter ɓ...\n"
          ]
        },
        {
          "metadata": {
            "tags": null
          },
          "name": "stderr",
          "output_type": "stream",
          "text": [
            " 11%|█         | 3/27 [08:45<51:02, 127.61s/it, Letter: c, Page: 33]"
          ]
        },
        {
          "metadata": {
            "tags": null
          },
          "name": "stdout",
          "output_type": "stream",
          "text": [
            "BLOCKED\n"
          ]
        },
        {
          "metadata": {
            "tags": null
          },
          "name": "stderr",
          "output_type": "stream",
          "text": [
            "\r 11%|█         | 3/27 [08:49<51:02, 127.61s/it, Letter: c, Page: 33]"
          ]
        },
        {
          "metadata": {
            "tags": null
          },
          "name": "stdout",
          "output_type": "stream",
          "text": [
            "BLOCKED\n"
          ]
        },
        {
          "metadata": {
            "tags": null
          },
          "name": "stderr",
          "output_type": "stream",
          "text": [
            "\r 11%|█         | 3/27 [08:53<51:02, 127.61s/it, Letter: c, Page: 33]"
          ]
        },
        {
          "metadata": {
            "tags": null
          },
          "name": "stdout",
          "output_type": "stream",
          "text": [
            "BLOCKED\n"
          ]
        },
        {
          "metadata": {
            "tags": null
          },
          "name": "stderr",
          "output_type": "stream",
          "text": [
            "\r 11%|█         | 3/27 [08:56<51:02, 127.61s/it, Letter: c, Page: 33]"
          ]
        },
        {
          "metadata": {
            "tags": null
          },
          "name": "stdout",
          "output_type": "stream",
          "text": [
            "BLOCKED\n"
          ]
        },
        {
          "metadata": {
            "tags": null
          },
          "name": "stderr",
          "output_type": "stream",
          "text": [
            "\r 11%|█         | 3/27 [09:00<51:02, 127.61s/it, Letter: c, Page: 33]"
          ]
        },
        {
          "metadata": {
            "tags": null
          },
          "name": "stdout",
          "output_type": "stream",
          "text": [
            "BLOCKED\n"
          ]
        },
        {
          "metadata": {
            "tags": null
          },
          "name": "stderr",
          "output_type": "stream",
          "text": [
            "\r 11%|█         | 3/27 [09:04<51:02, 127.61s/it, Letter: c, Page: 33]"
          ]
        },
        {
          "metadata": {
            "tags": null
          },
          "name": "stdout",
          "output_type": "stream",
          "text": [
            "BLOCKED\n"
          ]
        },
        {
          "metadata": {
            "tags": null
          },
          "name": "stderr",
          "output_type": "stream",
          "text": [
            "\r 11%|█         | 3/27 [09:08<51:02, 127.61s/it, Letter: c, Page: 33]"
          ]
        },
        {
          "metadata": {
            "tags": null
          },
          "name": "stdout",
          "output_type": "stream",
          "text": [
            "BLOCKED\n"
          ]
        },
        {
          "metadata": {
            "tags": null
          },
          "name": "stderr",
          "output_type": "stream",
          "text": [
            "\r 11%|█         | 3/27 [09:12<51:02, 127.61s/it, Letter: c, Page: 33]"
          ]
        },
        {
          "metadata": {
            "tags": null
          },
          "name": "stdout",
          "output_type": "stream",
          "text": [
            "BLOCKED\n"
          ]
        },
        {
          "metadata": {
            "tags": null
          },
          "name": "stderr",
          "output_type": "stream",
          "text": [
            "\r 11%|█         | 3/27 [09:16<51:02, 127.61s/it, Letter: c, Page: 33]"
          ]
        },
        {
          "metadata": {
            "tags": null
          },
          "name": "stdout",
          "output_type": "stream",
          "text": [
            "BLOCKED\n"
          ]
        },
        {
          "metadata": {
            "tags": null
          },
          "name": "stderr",
          "output_type": "stream",
          "text": [
            "\r 11%|█         | 3/27 [09:20<51:02, 127.61s/it, Letter: c, Page: 33]"
          ]
        },
        {
          "metadata": {
            "tags": null
          },
          "name": "stdout",
          "output_type": "stream",
          "text": [
            "BLOCKED\n"
          ]
        },
        {
          "metadata": {
            "tags": null
          },
          "name": "stderr",
          "output_type": "stream",
          "text": [
            "\r 11%|█         | 3/27 [09:23<51:02, 127.61s/it, Letter: c, Page: 33]"
          ]
        },
        {
          "metadata": {
            "tags": null
          },
          "name": "stdout",
          "output_type": "stream",
          "text": [
            "BLOCKED\n"
          ]
        },
        {
          "metadata": {
            "tags": null
          },
          "name": "stderr",
          "output_type": "stream",
          "text": [
            "\r 11%|█         | 3/27 [09:27<51:02, 127.61s/it, Letter: c, Page: 33]"
          ]
        },
        {
          "metadata": {
            "tags": null
          },
          "name": "stdout",
          "output_type": "stream",
          "text": [
            "BLOCKED\n"
          ]
        },
        {
          "metadata": {
            "tags": null
          },
          "name": "stderr",
          "output_type": "stream",
          "text": [
            "\r 11%|█         | 3/27 [09:31<51:02, 127.61s/it, Letter: c, Page: 33]"
          ]
        },
        {
          "metadata": {
            "tags": null
          },
          "name": "stdout",
          "output_type": "stream",
          "text": [
            "BLOCKED\n"
          ]
        },
        {
          "metadata": {
            "tags": null
          },
          "name": "stderr",
          "output_type": "stream",
          "text": [
            "\r 11%|█         | 3/27 [09:35<51:02, 127.61s/it, Letter: c, Page: 33]"
          ]
        },
        {
          "metadata": {
            "tags": null
          },
          "name": "stdout",
          "output_type": "stream",
          "text": [
            "BLOCKED\n"
          ]
        },
        {
          "metadata": {
            "tags": null
          },
          "name": "stderr",
          "output_type": "stream",
          "text": [
            "\r 11%|█         | 3/27 [09:39<51:02, 127.61s/it, Letter: c, Page: 33]"
          ]
        },
        {
          "metadata": {
            "tags": null
          },
          "name": "stdout",
          "output_type": "stream",
          "text": [
            "BLOCKED\n"
          ]
        },
        {
          "metadata": {
            "tags": null
          },
          "name": "stderr",
          "output_type": "stream",
          "text": [
            "\r 11%|█         | 3/27 [09:43<51:02, 127.61s/it, Letter: c, Page: 33]"
          ]
        },
        {
          "metadata": {
            "tags": null
          },
          "name": "stdout",
          "output_type": "stream",
          "text": [
            "BLOCKED\n"
          ]
        },
        {
          "metadata": {
            "tags": null
          },
          "name": "stderr",
          "output_type": "stream",
          "text": [
            " 11%|█         | 3/27 [10:47<51:02, 127.61s/it, Letter: c, Page: 72]"
          ]
        },
        {
          "metadata": {
            "tags": null
          },
          "name": "stdout",
          "output_type": "stream",
          "text": [
            "BLOCKED\n"
          ]
        },
        {
          "metadata": {
            "tags": null
          },
          "name": "stderr",
          "output_type": "stream",
          "text": [
            "\r 11%|█         | 3/27 [10:51<51:02, 127.61s/it, Letter: c, Page: 72]"
          ]
        },
        {
          "metadata": {
            "tags": null
          },
          "name": "stdout",
          "output_type": "stream",
          "text": [
            "BLOCKED\n"
          ]
        },
        {
          "metadata": {
            "tags": null
          },
          "name": "stderr",
          "output_type": "stream",
          "text": [
            "\r 11%|█         | 3/27 [10:55<51:02, 127.61s/it, Letter: c, Page: 72]"
          ]
        },
        {
          "metadata": {
            "tags": null
          },
          "name": "stdout",
          "output_type": "stream",
          "text": [
            "BLOCKED\n"
          ]
        },
        {
          "metadata": {
            "tags": null
          },
          "name": "stderr",
          "output_type": "stream",
          "text": [
            "\r 11%|█         | 3/27 [10:59<51:02, 127.61s/it, Letter: c, Page: 72]"
          ]
        },
        {
          "metadata": {
            "tags": null
          },
          "name": "stdout",
          "output_type": "stream",
          "text": [
            "BLOCKED\n"
          ]
        },
        {
          "metadata": {
            "tags": null
          },
          "name": "stderr",
          "output_type": "stream",
          "text": [
            "\r 11%|█         | 3/27 [11:03<51:02, 127.61s/it, Letter: c, Page: 72]"
          ]
        },
        {
          "metadata": {
            "tags": null
          },
          "name": "stdout",
          "output_type": "stream",
          "text": [
            "BLOCKED\n"
          ]
        },
        {
          "metadata": {
            "tags": null
          },
          "name": "stderr",
          "output_type": "stream",
          "text": [
            "\r 11%|█         | 3/27 [11:07<51:02, 127.61s/it, Letter: c, Page: 72]"
          ]
        },
        {
          "metadata": {
            "tags": null
          },
          "name": "stdout",
          "output_type": "stream",
          "text": [
            "BLOCKED\n"
          ]
        },
        {
          "metadata": {
            "tags": null
          },
          "name": "stderr",
          "output_type": "stream",
          "text": [
            "\r 11%|█         | 3/27 [11:10<51:02, 127.61s/it, Letter: c, Page: 72]"
          ]
        },
        {
          "metadata": {
            "tags": null
          },
          "name": "stdout",
          "output_type": "stream",
          "text": [
            "BLOCKED\n"
          ]
        },
        {
          "metadata": {
            "tags": null
          },
          "name": "stderr",
          "output_type": "stream",
          "text": [
            "\r 11%|█         | 3/27 [11:14<51:02, 127.61s/it, Letter: c, Page: 72]"
          ]
        },
        {
          "metadata": {
            "tags": null
          },
          "name": "stdout",
          "output_type": "stream",
          "text": [
            "BLOCKED\n"
          ]
        },
        {
          "metadata": {
            "tags": null
          },
          "name": "stderr",
          "output_type": "stream",
          "text": [
            "\r 11%|█         | 3/27 [11:18<51:02, 127.61s/it, Letter: c, Page: 72]"
          ]
        },
        {
          "metadata": {
            "tags": null
          },
          "name": "stdout",
          "output_type": "stream",
          "text": [
            "BLOCKED\n"
          ]
        },
        {
          "metadata": {
            "tags": null
          },
          "name": "stderr",
          "output_type": "stream",
          "text": [
            "\r 11%|█         | 3/27 [11:22<51:02, 127.61s/it, Letter: c, Page: 72]"
          ]
        },
        {
          "metadata": {
            "tags": null
          },
          "name": "stdout",
          "output_type": "stream",
          "text": [
            "BLOCKED\n"
          ]
        },
        {
          "metadata": {
            "tags": null
          },
          "name": "stderr",
          "output_type": "stream",
          "text": [
            "\r 11%|█         | 3/27 [11:26<51:02, 127.61s/it, Letter: c, Page: 72]"
          ]
        },
        {
          "metadata": {
            "tags": null
          },
          "name": "stdout",
          "output_type": "stream",
          "text": [
            "BLOCKED\n"
          ]
        },
        {
          "metadata": {
            "tags": null
          },
          "name": "stderr",
          "output_type": "stream",
          "text": [
            "\r 11%|█         | 3/27 [11:30<51:02, 127.61s/it, Letter: c, Page: 72]"
          ]
        },
        {
          "metadata": {
            "tags": null
          },
          "name": "stdout",
          "output_type": "stream",
          "text": [
            "BLOCKED\n"
          ]
        },
        {
          "metadata": {
            "tags": null
          },
          "name": "stderr",
          "output_type": "stream",
          "text": [
            "\r 11%|█         | 3/27 [11:34<51:02, 127.61s/it, Letter: c, Page: 72]"
          ]
        },
        {
          "metadata": {
            "tags": null
          },
          "name": "stdout",
          "output_type": "stream",
          "text": [
            "BLOCKED\n"
          ]
        },
        {
          "metadata": {
            "tags": null
          },
          "name": "stderr",
          "output_type": "stream",
          "text": [
            "\r 11%|█         | 3/27 [11:38<51:02, 127.61s/it, Letter: c, Page: 72]"
          ]
        },
        {
          "metadata": {
            "tags": null
          },
          "name": "stdout",
          "output_type": "stream",
          "text": [
            "BLOCKED\n"
          ]
        },
        {
          "metadata": {
            "tags": null
          },
          "name": "stderr",
          "output_type": "stream",
          "text": [
            "\r 11%|█         | 3/27 [11:42<51:02, 127.61s/it, Letter: c, Page: 72]"
          ]
        },
        {
          "metadata": {
            "tags": null
          },
          "name": "stdout",
          "output_type": "stream",
          "text": [
            "BLOCKED\n"
          ]
        },
        {
          "metadata": {
            "tags": null
          },
          "name": "stderr",
          "output_type": "stream",
          "text": [
            "\r 11%|█         | 3/27 [11:46<51:02, 127.61s/it, Letter: c, Page: 72]"
          ]
        },
        {
          "metadata": {
            "tags": null
          },
          "name": "stdout",
          "output_type": "stream",
          "text": [
            "BLOCKED\n"
          ]
        },
        {
          "metadata": {
            "tags": null
          },
          "name": "stderr",
          "output_type": "stream",
          "text": [
            " 11%|█         | 3/27 [12:48<51:02, 127.61s/it, Letter: c, Page: 109]"
          ]
        },
        {
          "metadata": {
            "tags": null
          },
          "name": "stdout",
          "output_type": "stream",
          "text": [
            "BLOCKED\n"
          ]
        },
        {
          "metadata": {
            "tags": null
          },
          "name": "stderr",
          "output_type": "stream",
          "text": [
            "\r 11%|█         | 3/27 [12:52<51:02, 127.61s/it, Letter: c, Page: 109]"
          ]
        },
        {
          "metadata": {
            "tags": null
          },
          "name": "stdout",
          "output_type": "stream",
          "text": [
            "BLOCKED\n"
          ]
        },
        {
          "metadata": {
            "tags": null
          },
          "name": "stderr",
          "output_type": "stream",
          "text": [
            "\r 11%|█         | 3/27 [12:56<51:02, 127.61s/it, Letter: c, Page: 109]"
          ]
        },
        {
          "metadata": {
            "tags": null
          },
          "name": "stdout",
          "output_type": "stream",
          "text": [
            "BLOCKED\n"
          ]
        },
        {
          "metadata": {
            "tags": null
          },
          "name": "stderr",
          "output_type": "stream",
          "text": [
            "\r 11%|█         | 3/27 [13:00<51:02, 127.61s/it, Letter: c, Page: 109]"
          ]
        },
        {
          "metadata": {
            "tags": null
          },
          "name": "stdout",
          "output_type": "stream",
          "text": [
            "BLOCKED\n"
          ]
        },
        {
          "metadata": {
            "tags": null
          },
          "name": "stderr",
          "output_type": "stream",
          "text": [
            "\r 11%|█         | 3/27 [13:04<51:02, 127.61s/it, Letter: c, Page: 109]"
          ]
        },
        {
          "metadata": {
            "tags": null
          },
          "name": "stdout",
          "output_type": "stream",
          "text": [
            "BLOCKED\n"
          ]
        },
        {
          "metadata": {
            "tags": null
          },
          "name": "stderr",
          "output_type": "stream",
          "text": [
            "\r 11%|█         | 3/27 [13:08<51:02, 127.61s/it, Letter: c, Page: 109]"
          ]
        },
        {
          "metadata": {
            "tags": null
          },
          "name": "stdout",
          "output_type": "stream",
          "text": [
            "BLOCKED\n"
          ]
        },
        {
          "metadata": {
            "tags": null
          },
          "name": "stderr",
          "output_type": "stream",
          "text": [
            "\r 11%|█         | 3/27 [13:12<51:02, 127.61s/it, Letter: c, Page: 109]"
          ]
        },
        {
          "metadata": {
            "tags": null
          },
          "name": "stdout",
          "output_type": "stream",
          "text": [
            "BLOCKED\n"
          ]
        },
        {
          "metadata": {
            "tags": null
          },
          "name": "stderr",
          "output_type": "stream",
          "text": [
            "\r 11%|█         | 3/27 [13:16<51:02, 127.61s/it, Letter: c, Page: 109]"
          ]
        },
        {
          "metadata": {
            "tags": null
          },
          "name": "stdout",
          "output_type": "stream",
          "text": [
            "BLOCKED\n"
          ]
        },
        {
          "metadata": {
            "tags": null
          },
          "name": "stderr",
          "output_type": "stream",
          "text": [
            "\r 11%|█         | 3/27 [13:20<51:02, 127.61s/it, Letter: c, Page: 109]"
          ]
        },
        {
          "metadata": {
            "tags": null
          },
          "name": "stdout",
          "output_type": "stream",
          "text": [
            "BLOCKED\n"
          ]
        },
        {
          "metadata": {
            "tags": null
          },
          "name": "stderr",
          "output_type": "stream",
          "text": [
            "\r 11%|█         | 3/27 [13:24<51:02, 127.61s/it, Letter: c, Page: 109]"
          ]
        },
        {
          "metadata": {
            "tags": null
          },
          "name": "stdout",
          "output_type": "stream",
          "text": [
            "BLOCKED\n"
          ]
        },
        {
          "metadata": {
            "tags": null
          },
          "name": "stderr",
          "output_type": "stream",
          "text": [
            "\r 11%|█         | 3/27 [13:30<51:02, 127.61s/it, Letter: c, Page: 109]"
          ]
        },
        {
          "metadata": {
            "tags": null
          },
          "name": "stdout",
          "output_type": "stream",
          "text": [
            "BLOCKED\n"
          ]
        },
        {
          "metadata": {
            "tags": null
          },
          "name": "stderr",
          "output_type": "stream",
          "text": [
            "\r 11%|█         | 3/27 [13:40<51:02, 127.61s/it, Letter: c, Page: 109]"
          ]
        },
        {
          "metadata": {
            "tags": null
          },
          "name": "stdout",
          "output_type": "stream",
          "text": [
            "BLOCKED\n"
          ]
        },
        {
          "metadata": {
            "tags": null
          },
          "name": "stderr",
          "output_type": "stream",
          "text": [
            " 15%|█▍        | 4/27 [17:58<2:00:28, 314.29s/it, Letter: d, Page: 1]  "
          ]
        },
        {
          "metadata": {
            "tags": null
          },
          "name": "stdout",
          "output_type": "stream",
          "text": [
            "\n",
            "Letter c, 150 pages\n",
            "\n",
            "Saving with letter c...\n"
          ]
        },
        {
          "metadata": {
            "tags": null
          },
          "name": "stderr",
          "output_type": "stream",
          "text": [
            " 15%|█▍        | 4/27 [19:48<2:00:28, 314.29s/it, Letter: d, Page: 62]"
          ]
        },
        {
          "metadata": {
            "tags": null
          },
          "name": "stdout",
          "output_type": "stream",
          "text": [
            "BLOCKED\n"
          ]
        },
        {
          "metadata": {
            "tags": null
          },
          "name": "stderr",
          "output_type": "stream",
          "text": [
            "\r 15%|█▍        | 4/27 [19:52<2:00:28, 314.29s/it, Letter: d, Page: 62]"
          ]
        },
        {
          "metadata": {
            "tags": null
          },
          "name": "stdout",
          "output_type": "stream",
          "text": [
            "BLOCKED\n"
          ]
        },
        {
          "metadata": {
            "tags": null
          },
          "name": "stderr",
          "output_type": "stream",
          "text": [
            "\r 15%|█▍        | 4/27 [19:56<2:00:28, 314.29s/it, Letter: d, Page: 62]"
          ]
        },
        {
          "metadata": {
            "tags": null
          },
          "name": "stdout",
          "output_type": "stream",
          "text": [
            "BLOCKED\n"
          ]
        },
        {
          "metadata": {
            "tags": null
          },
          "name": "stderr",
          "output_type": "stream",
          "text": [
            "\r 15%|█▍        | 4/27 [20:00<2:00:28, 314.29s/it, Letter: d, Page: 62]"
          ]
        },
        {
          "metadata": {
            "tags": null
          },
          "name": "stdout",
          "output_type": "stream",
          "text": [
            "BLOCKED\n"
          ]
        },
        {
          "metadata": {
            "tags": null
          },
          "name": "stderr",
          "output_type": "stream",
          "text": [
            "\r 15%|█▍        | 4/27 [20:04<2:00:28, 314.29s/it, Letter: d, Page: 62]"
          ]
        },
        {
          "metadata": {
            "tags": null
          },
          "name": "stdout",
          "output_type": "stream",
          "text": [
            "BLOCKED\n"
          ]
        },
        {
          "metadata": {
            "tags": null
          },
          "name": "stderr",
          "output_type": "stream",
          "text": [
            "\r 15%|█▍        | 4/27 [20:07<2:00:28, 314.29s/it, Letter: d, Page: 62]"
          ]
        },
        {
          "metadata": {
            "tags": null
          },
          "name": "stdout",
          "output_type": "stream",
          "text": [
            "BLOCKED\n"
          ]
        },
        {
          "metadata": {
            "tags": null
          },
          "name": "stderr",
          "output_type": "stream",
          "text": [
            "\r 15%|█▍        | 4/27 [20:11<2:00:28, 314.29s/it, Letter: d, Page: 62]"
          ]
        },
        {
          "metadata": {
            "tags": null
          },
          "name": "stdout",
          "output_type": "stream",
          "text": [
            "BLOCKED\n"
          ]
        },
        {
          "metadata": {
            "tags": null
          },
          "name": "stderr",
          "output_type": "stream",
          "text": [
            "\r 15%|█▍        | 4/27 [20:15<2:00:28, 314.29s/it, Letter: d, Page: 62]"
          ]
        },
        {
          "metadata": {
            "tags": null
          },
          "name": "stdout",
          "output_type": "stream",
          "text": [
            "BLOCKED\n"
          ]
        },
        {
          "metadata": {
            "tags": null
          },
          "name": "stderr",
          "output_type": "stream",
          "text": [
            "\r 15%|█▍        | 4/27 [20:19<2:00:28, 314.29s/it, Letter: d, Page: 62]"
          ]
        },
        {
          "metadata": {
            "tags": null
          },
          "name": "stdout",
          "output_type": "stream",
          "text": [
            "BLOCKED\n"
          ]
        },
        {
          "metadata": {
            "tags": null
          },
          "name": "stderr",
          "output_type": "stream",
          "text": [
            "\r 15%|█▍        | 4/27 [20:23<2:00:28, 314.29s/it, Letter: d, Page: 62]"
          ]
        },
        {
          "metadata": {
            "tags": null
          },
          "name": "stdout",
          "output_type": "stream",
          "text": [
            "BLOCKED\n"
          ]
        },
        {
          "metadata": {
            "tags": null
          },
          "name": "stderr",
          "output_type": "stream",
          "text": [
            "\r 15%|█▍        | 4/27 [20:27<2:00:28, 314.29s/it, Letter: d, Page: 62]"
          ]
        },
        {
          "metadata": {
            "tags": null
          },
          "name": "stdout",
          "output_type": "stream",
          "text": [
            "BLOCKED\n"
          ]
        },
        {
          "metadata": {
            "tags": null
          },
          "name": "stderr",
          "output_type": "stream",
          "text": [
            "\r 15%|█▍        | 4/27 [20:31<2:00:28, 314.29s/it, Letter: d, Page: 62]"
          ]
        },
        {
          "metadata": {
            "tags": null
          },
          "name": "stdout",
          "output_type": "stream",
          "text": [
            "BLOCKED\n"
          ]
        },
        {
          "metadata": {
            "tags": null
          },
          "name": "stderr",
          "output_type": "stream",
          "text": [
            "\r 15%|█▍        | 4/27 [20:35<2:00:28, 314.29s/it, Letter: d, Page: 62]"
          ]
        },
        {
          "metadata": {
            "tags": null
          },
          "name": "stdout",
          "output_type": "stream",
          "text": [
            "BLOCKED\n"
          ]
        },
        {
          "metadata": {
            "tags": null
          },
          "name": "stderr",
          "output_type": "stream",
          "text": [
            "\r 15%|█▍        | 4/27 [20:39<2:00:28, 314.29s/it, Letter: d, Page: 62]"
          ]
        },
        {
          "metadata": {
            "tags": null
          },
          "name": "stdout",
          "output_type": "stream",
          "text": [
            "BLOCKED\n"
          ]
        },
        {
          "metadata": {
            "tags": null
          },
          "name": "stderr",
          "output_type": "stream",
          "text": [
            "\r 15%|█▍        | 4/27 [20:42<2:00:28, 314.29s/it, Letter: d, Page: 62]"
          ]
        },
        {
          "metadata": {
            "tags": null
          },
          "name": "stdout",
          "output_type": "stream",
          "text": [
            "BLOCKED\n"
          ]
        },
        {
          "metadata": {
            "tags": null
          },
          "name": "stderr",
          "output_type": "stream",
          "text": [
            "\r 15%|█▍        | 4/27 [20:46<2:00:28, 314.29s/it, Letter: d, Page: 62]"
          ]
        },
        {
          "metadata": {
            "tags": null
          },
          "name": "stdout",
          "output_type": "stream",
          "text": [
            "BLOCKED\n"
          ]
        },
        {
          "metadata": {
            "tags": null
          },
          "name": "stderr",
          "output_type": "stream",
          "text": [
            " 19%|█▊        | 5/27 [21:14<1:39:37, 271.71s/it, Letter: e, Page: 1] "
          ]
        },
        {
          "metadata": {
            "tags": null
          },
          "name": "stdout",
          "output_type": "stream",
          "text": [
            "\n",
            "Letter d, 76 pages\n",
            "\n",
            "Saving with letter d...\n"
          ]
        },
        {
          "metadata": {
            "tags": null
          },
          "name": "stderr",
          "output_type": "stream",
          "text": [
            " 19%|█▊        | 5/27 [21:46<1:39:37, 271.71s/it, Letter: e, Page: 22]"
          ]
        },
        {
          "metadata": {
            "tags": null
          },
          "name": "stdout",
          "output_type": "stream",
          "text": [
            "BLOCKED\n"
          ]
        },
        {
          "metadata": {
            "tags": null
          },
          "name": "stderr",
          "output_type": "stream",
          "text": [
            "\r 19%|█▊        | 5/27 [21:50<1:39:37, 271.71s/it, Letter: e, Page: 22]"
          ]
        },
        {
          "metadata": {
            "tags": null
          },
          "name": "stdout",
          "output_type": "stream",
          "text": [
            "BLOCKED\n"
          ]
        },
        {
          "metadata": {
            "tags": null
          },
          "name": "stderr",
          "output_type": "stream",
          "text": [
            "\r 19%|█▊        | 5/27 [21:54<1:39:37, 271.71s/it, Letter: e, Page: 22]"
          ]
        },
        {
          "metadata": {
            "tags": null
          },
          "name": "stdout",
          "output_type": "stream",
          "text": [
            "BLOCKED\n"
          ]
        },
        {
          "metadata": {
            "tags": null
          },
          "name": "stderr",
          "output_type": "stream",
          "text": [
            "\r 19%|█▊        | 5/27 [21:58<1:39:37, 271.71s/it, Letter: e, Page: 22]"
          ]
        },
        {
          "metadata": {
            "tags": null
          },
          "name": "stdout",
          "output_type": "stream",
          "text": [
            "BLOCKED\n"
          ]
        },
        {
          "metadata": {
            "tags": null
          },
          "name": "stderr",
          "output_type": "stream",
          "text": [
            "\r 19%|█▊        | 5/27 [22:02<1:39:37, 271.71s/it, Letter: e, Page: 22]"
          ]
        },
        {
          "metadata": {
            "tags": null
          },
          "name": "stdout",
          "output_type": "stream",
          "text": [
            "BLOCKED\n"
          ]
        },
        {
          "metadata": {
            "tags": null
          },
          "name": "stderr",
          "output_type": "stream",
          "text": [
            "\r 19%|█▊        | 5/27 [22:05<1:39:37, 271.71s/it, Letter: e, Page: 22]"
          ]
        },
        {
          "metadata": {
            "tags": null
          },
          "name": "stdout",
          "output_type": "stream",
          "text": [
            "BLOCKED\n"
          ]
        },
        {
          "metadata": {
            "tags": null
          },
          "name": "stderr",
          "output_type": "stream",
          "text": [
            "\r 19%|█▊        | 5/27 [22:09<1:39:37, 271.71s/it, Letter: e, Page: 22]"
          ]
        },
        {
          "metadata": {
            "tags": null
          },
          "name": "stdout",
          "output_type": "stream",
          "text": [
            "BLOCKED\n"
          ]
        },
        {
          "metadata": {
            "tags": null
          },
          "name": "stderr",
          "output_type": "stream",
          "text": [
            "\r 19%|█▊        | 5/27 [22:13<1:39:37, 271.71s/it, Letter: e, Page: 22]"
          ]
        },
        {
          "metadata": {
            "tags": null
          },
          "name": "stdout",
          "output_type": "stream",
          "text": [
            "BLOCKED\n"
          ]
        },
        {
          "metadata": {
            "tags": null
          },
          "name": "stderr",
          "output_type": "stream",
          "text": [
            "\r 19%|█▊        | 5/27 [22:18<1:39:37, 271.71s/it, Letter: e, Page: 22]"
          ]
        },
        {
          "metadata": {
            "tags": null
          },
          "name": "stdout",
          "output_type": "stream",
          "text": [
            "BLOCKED\n"
          ]
        },
        {
          "metadata": {
            "tags": null
          },
          "name": "stderr",
          "output_type": "stream",
          "text": [
            "\r 19%|█▊        | 5/27 [22:21<1:39:37, 271.71s/it, Letter: e, Page: 22]"
          ]
        },
        {
          "metadata": {
            "tags": null
          },
          "name": "stdout",
          "output_type": "stream",
          "text": [
            "BLOCKED\n"
          ]
        },
        {
          "metadata": {
            "tags": null
          },
          "name": "stderr",
          "output_type": "stream",
          "text": [
            "\r 19%|█▊        | 5/27 [22:26<1:39:37, 271.71s/it, Letter: e, Page: 22]"
          ]
        },
        {
          "metadata": {
            "tags": null
          },
          "name": "stdout",
          "output_type": "stream",
          "text": [
            "BLOCKED\n"
          ]
        },
        {
          "metadata": {
            "tags": null
          },
          "name": "stderr",
          "output_type": "stream",
          "text": [
            "\r 19%|█▊        | 5/27 [22:31<1:39:37, 271.71s/it, Letter: e, Page: 22]"
          ]
        },
        {
          "metadata": {
            "tags": null
          },
          "name": "stdout",
          "output_type": "stream",
          "text": [
            "BLOCKED\n"
          ]
        },
        {
          "metadata": {
            "tags": null
          },
          "name": "stderr",
          "output_type": "stream",
          "text": [
            "\r 19%|█▊        | 5/27 [22:34<1:39:37, 271.71s/it, Letter: e, Page: 22]"
          ]
        },
        {
          "metadata": {
            "tags": null
          },
          "name": "stdout",
          "output_type": "stream",
          "text": [
            "BLOCKED\n"
          ]
        },
        {
          "metadata": {
            "tags": null
          },
          "name": "stderr",
          "output_type": "stream",
          "text": [
            "\r 19%|█▊        | 5/27 [22:38<1:39:37, 271.71s/it, Letter: e, Page: 22]"
          ]
        },
        {
          "metadata": {
            "tags": null
          },
          "name": "stdout",
          "output_type": "stream",
          "text": [
            "BLOCKED\n"
          ]
        },
        {
          "metadata": {
            "tags": null
          },
          "name": "stderr",
          "output_type": "stream",
          "text": [
            " 19%|█▊        | 5/27 [24:50<1:39:37, 271.71s/it, Letter: e, Page: 86]"
          ]
        },
        {
          "metadata": {
            "tags": null
          },
          "name": "stdout",
          "output_type": "stream",
          "text": [
            "BLOCKED\n"
          ]
        },
        {
          "metadata": {
            "tags": null
          },
          "name": "stderr",
          "output_type": "stream",
          "text": [
            "\r 19%|█▊        | 5/27 [24:55<1:39:37, 271.71s/it, Letter: e, Page: 86]"
          ]
        },
        {
          "metadata": {
            "tags": null
          },
          "name": "stdout",
          "output_type": "stream",
          "text": [
            "BLOCKED\n"
          ]
        },
        {
          "metadata": {
            "tags": null
          },
          "name": "stderr",
          "output_type": "stream",
          "text": [
            "\r 19%|█▊        | 5/27 [24:59<1:39:37, 271.71s/it, Letter: e, Page: 86]"
          ]
        },
        {
          "metadata": {
            "tags": null
          },
          "name": "stdout",
          "output_type": "stream",
          "text": [
            "BLOCKED\n"
          ]
        },
        {
          "metadata": {
            "tags": null
          },
          "name": "stderr",
          "output_type": "stream",
          "text": [
            "\r 19%|█▊        | 5/27 [25:03<1:39:37, 271.71s/it, Letter: e, Page: 86]"
          ]
        },
        {
          "metadata": {
            "tags": null
          },
          "name": "stdout",
          "output_type": "stream",
          "text": [
            "BLOCKED\n"
          ]
        },
        {
          "metadata": {
            "tags": null
          },
          "name": "stderr",
          "output_type": "stream",
          "text": [
            "\r 19%|█▊        | 5/27 [25:07<1:39:37, 271.71s/it, Letter: e, Page: 86]"
          ]
        },
        {
          "metadata": {
            "tags": null
          },
          "name": "stdout",
          "output_type": "stream",
          "text": [
            "BLOCKED\n"
          ]
        },
        {
          "metadata": {
            "tags": null
          },
          "name": "stderr",
          "output_type": "stream",
          "text": [
            "\r 19%|█▊        | 5/27 [25:11<1:39:37, 271.71s/it, Letter: e, Page: 86]"
          ]
        },
        {
          "metadata": {
            "tags": null
          },
          "name": "stdout",
          "output_type": "stream",
          "text": [
            "BLOCKED\n"
          ]
        },
        {
          "metadata": {
            "tags": null
          },
          "name": "stderr",
          "output_type": "stream",
          "text": [
            "\r 19%|█▊        | 5/27 [25:15<1:39:37, 271.71s/it, Letter: e, Page: 86]"
          ]
        },
        {
          "metadata": {
            "tags": null
          },
          "name": "stdout",
          "output_type": "stream",
          "text": [
            "BLOCKED\n"
          ]
        },
        {
          "metadata": {
            "tags": null
          },
          "name": "stderr",
          "output_type": "stream",
          "text": [
            "\r 19%|█▊        | 5/27 [25:19<1:39:37, 271.71s/it, Letter: e, Page: 86]"
          ]
        },
        {
          "metadata": {
            "tags": null
          },
          "name": "stdout",
          "output_type": "stream",
          "text": [
            "BLOCKED\n"
          ]
        },
        {
          "metadata": {
            "tags": null
          },
          "name": "stderr",
          "output_type": "stream",
          "text": [
            "\r 19%|█▊        | 5/27 [25:23<1:39:37, 271.71s/it, Letter: e, Page: 86]"
          ]
        },
        {
          "metadata": {
            "tags": null
          },
          "name": "stdout",
          "output_type": "stream",
          "text": [
            "BLOCKED\n"
          ]
        },
        {
          "metadata": {
            "tags": null
          },
          "name": "stderr",
          "output_type": "stream",
          "text": [
            "\r 19%|█▊        | 5/27 [25:27<1:39:37, 271.71s/it, Letter: e, Page: 86]"
          ]
        },
        {
          "metadata": {
            "tags": null
          },
          "name": "stdout",
          "output_type": "stream",
          "text": [
            "BLOCKED\n"
          ]
        },
        {
          "metadata": {
            "tags": null
          },
          "name": "stderr",
          "output_type": "stream",
          "text": [
            "\r 19%|█▊        | 5/27 [25:31<1:39:37, 271.71s/it, Letter: e, Page: 86]"
          ]
        },
        {
          "metadata": {
            "tags": null
          },
          "name": "stdout",
          "output_type": "stream",
          "text": [
            "BLOCKED\n"
          ]
        },
        {
          "metadata": {
            "tags": null
          },
          "name": "stderr",
          "output_type": "stream",
          "text": [
            "\r 19%|█▊        | 5/27 [25:35<1:39:37, 271.71s/it, Letter: e, Page: 86]"
          ]
        },
        {
          "metadata": {
            "tags": null
          },
          "name": "stdout",
          "output_type": "stream",
          "text": [
            "BLOCKED\n"
          ]
        },
        {
          "metadata": {
            "tags": null
          },
          "name": "stderr",
          "output_type": "stream",
          "text": [
            "\r 19%|█▊        | 5/27 [25:39<1:39:37, 271.71s/it, Letter: e, Page: 86]"
          ]
        },
        {
          "metadata": {
            "tags": null
          },
          "name": "stdout",
          "output_type": "stream",
          "text": [
            "BLOCKED\n"
          ]
        },
        {
          "metadata": {
            "tags": null
          },
          "name": "stderr",
          "output_type": "stream",
          "text": [
            "\r 19%|█▊        | 5/27 [25:42<1:39:37, 271.71s/it, Letter: e, Page: 86]"
          ]
        },
        {
          "metadata": {
            "tags": null
          },
          "name": "stdout",
          "output_type": "stream",
          "text": [
            "BLOCKED\n"
          ]
        },
        {
          "metadata": {
            "tags": null
          },
          "name": "stderr",
          "output_type": "stream",
          "text": [
            "\r 19%|█▊        | 5/27 [25:46<1:39:37, 271.71s/it, Letter: e, Page: 86]"
          ]
        },
        {
          "metadata": {
            "tags": null
          },
          "name": "stdout",
          "output_type": "stream",
          "text": [
            "BLOCKED\n"
          ]
        },
        {
          "metadata": {
            "tags": null
          },
          "name": "stderr",
          "output_type": "stream",
          "text": [
            " 22%|██▏       | 6/27 [26:17<1:38:52, 282.49s/it, Letter: f, Page: 1]  "
          ]
        },
        {
          "metadata": {
            "tags": null
          },
          "name": "stdout",
          "output_type": "stream",
          "text": [
            "\n",
            "Letter e, 101 pages\n",
            "\n",
            "Saving with letter e...\n"
          ]
        },
        {
          "metadata": {
            "tags": null
          },
          "name": "stderr",
          "output_type": "stream",
          "text": [
            " 22%|██▏       | 6/27 [26:47<1:38:52, 282.49s/it, Letter: f, Page: 20]"
          ]
        },
        {
          "metadata": {
            "tags": null
          },
          "name": "stdout",
          "output_type": "stream",
          "text": [
            "BLOCKED\n"
          ]
        },
        {
          "metadata": {
            "tags": null
          },
          "name": "stderr",
          "output_type": "stream",
          "text": [
            "\r 22%|██▏       | 6/27 [26:51<1:38:52, 282.49s/it, Letter: f, Page: 20]"
          ]
        },
        {
          "metadata": {
            "tags": null
          },
          "name": "stdout",
          "output_type": "stream",
          "text": [
            "BLOCKED\n"
          ]
        },
        {
          "metadata": {
            "tags": null
          },
          "name": "stderr",
          "output_type": "stream",
          "text": [
            "\r 22%|██▏       | 6/27 [26:55<1:38:52, 282.49s/it, Letter: f, Page: 20]"
          ]
        },
        {
          "metadata": {
            "tags": null
          },
          "name": "stdout",
          "output_type": "stream",
          "text": [
            "BLOCKED\n"
          ]
        },
        {
          "metadata": {
            "tags": null
          },
          "name": "stderr",
          "output_type": "stream",
          "text": [
            "\r 22%|██▏       | 6/27 [26:59<1:38:52, 282.49s/it, Letter: f, Page: 20]"
          ]
        },
        {
          "metadata": {
            "tags": null
          },
          "name": "stdout",
          "output_type": "stream",
          "text": [
            "BLOCKED\n"
          ]
        },
        {
          "metadata": {
            "tags": null
          },
          "name": "stderr",
          "output_type": "stream",
          "text": [
            "\r 22%|██▏       | 6/27 [27:03<1:38:52, 282.49s/it, Letter: f, Page: 20]"
          ]
        },
        {
          "metadata": {
            "tags": null
          },
          "name": "stdout",
          "output_type": "stream",
          "text": [
            "BLOCKED\n"
          ]
        },
        {
          "metadata": {
            "tags": null
          },
          "name": "stderr",
          "output_type": "stream",
          "text": [
            "\r 22%|██▏       | 6/27 [27:07<1:38:52, 282.49s/it, Letter: f, Page: 20]"
          ]
        },
        {
          "metadata": {
            "tags": null
          },
          "name": "stdout",
          "output_type": "stream",
          "text": [
            "BLOCKED\n"
          ]
        },
        {
          "metadata": {
            "tags": null
          },
          "name": "stderr",
          "output_type": "stream",
          "text": [
            "\r 22%|██▏       | 6/27 [27:10<1:38:52, 282.49s/it, Letter: f, Page: 20]"
          ]
        },
        {
          "metadata": {
            "tags": null
          },
          "name": "stdout",
          "output_type": "stream",
          "text": [
            "BLOCKED\n"
          ]
        },
        {
          "metadata": {
            "tags": null
          },
          "name": "stderr",
          "output_type": "stream",
          "text": [
            "\r 22%|██▏       | 6/27 [27:14<1:38:52, 282.49s/it, Letter: f, Page: 20]"
          ]
        },
        {
          "metadata": {
            "tags": null
          },
          "name": "stdout",
          "output_type": "stream",
          "text": [
            "BLOCKED\n"
          ]
        },
        {
          "metadata": {
            "tags": null
          },
          "name": "stderr",
          "output_type": "stream",
          "text": [
            "\r 22%|██▏       | 6/27 [27:18<1:38:52, 282.49s/it, Letter: f, Page: 20]"
          ]
        },
        {
          "metadata": {
            "tags": null
          },
          "name": "stdout",
          "output_type": "stream",
          "text": [
            "BLOCKED\n"
          ]
        },
        {
          "metadata": {
            "tags": null
          },
          "name": "stderr",
          "output_type": "stream",
          "text": [
            "\r 22%|██▏       | 6/27 [27:22<1:38:52, 282.49s/it, Letter: f, Page: 20]"
          ]
        },
        {
          "metadata": {
            "tags": null
          },
          "name": "stdout",
          "output_type": "stream",
          "text": [
            "BLOCKED\n"
          ]
        },
        {
          "metadata": {
            "tags": null
          },
          "name": "stderr",
          "output_type": "stream",
          "text": [
            "\r 22%|██▏       | 6/27 [27:26<1:38:52, 282.49s/it, Letter: f, Page: 20]"
          ]
        },
        {
          "metadata": {
            "tags": null
          },
          "name": "stdout",
          "output_type": "stream",
          "text": [
            "BLOCKED\n"
          ]
        },
        {
          "metadata": {
            "tags": null
          },
          "name": "stderr",
          "output_type": "stream",
          "text": [
            "\r 22%|██▏       | 6/27 [27:30<1:38:52, 282.49s/it, Letter: f, Page: 20]"
          ]
        },
        {
          "metadata": {
            "tags": null
          },
          "name": "stdout",
          "output_type": "stream",
          "text": [
            "BLOCKED\n"
          ]
        },
        {
          "metadata": {
            "tags": null
          },
          "name": "stderr",
          "output_type": "stream",
          "text": [
            "\r 22%|██▏       | 6/27 [27:34<1:38:52, 282.49s/it, Letter: f, Page: 20]"
          ]
        },
        {
          "metadata": {
            "tags": null
          },
          "name": "stdout",
          "output_type": "stream",
          "text": [
            "BLOCKED\n"
          ]
        },
        {
          "metadata": {
            "tags": null
          },
          "name": "stderr",
          "output_type": "stream",
          "text": [
            "\r 22%|██▏       | 6/27 [27:37<1:38:52, 282.49s/it, Letter: f, Page: 20]"
          ]
        },
        {
          "metadata": {
            "tags": null
          },
          "name": "stdout",
          "output_type": "stream",
          "text": [
            "BLOCKED\n"
          ]
        },
        {
          "metadata": {
            "tags": null
          },
          "name": "stderr",
          "output_type": "stream",
          "text": [
            "\r 22%|██▏       | 6/27 [27:41<1:38:52, 282.49s/it, Letter: f, Page: 20]"
          ]
        },
        {
          "metadata": {
            "tags": null
          },
          "name": "stdout",
          "output_type": "stream",
          "text": [
            "BLOCKED\n"
          ]
        },
        {
          "metadata": {
            "tags": null
          },
          "name": "stderr",
          "output_type": "stream",
          "text": [
            "\r 22%|██▏       | 6/27 [27:45<1:38:52, 282.49s/it, Letter: f, Page: 20]"
          ]
        },
        {
          "metadata": {
            "tags": null
          },
          "name": "stdout",
          "output_type": "stream",
          "text": [
            "BLOCKED\n"
          ]
        },
        {
          "metadata": {
            "tags": null
          },
          "name": "stderr",
          "output_type": "stream",
          "text": [
            " 22%|██▏       | 6/27 [28:45<1:38:52, 282.49s/it, Letter: f, Page: 58]"
          ]
        },
        {
          "metadata": {
            "tags": null
          },
          "name": "stdout",
          "output_type": "stream",
          "text": [
            "BLOCKED\n"
          ]
        },
        {
          "metadata": {
            "tags": null
          },
          "name": "stderr",
          "output_type": "stream",
          "text": [
            "\r 22%|██▏       | 6/27 [28:49<1:38:52, 282.49s/it, Letter: f, Page: 58]"
          ]
        },
        {
          "metadata": {
            "tags": null
          },
          "name": "stdout",
          "output_type": "stream",
          "text": [
            "BLOCKED\n"
          ]
        },
        {
          "metadata": {
            "tags": null
          },
          "name": "stderr",
          "output_type": "stream",
          "text": [
            "\r 22%|██▏       | 6/27 [28:53<1:38:52, 282.49s/it, Letter: f, Page: 58]"
          ]
        },
        {
          "metadata": {
            "tags": null
          },
          "name": "stdout",
          "output_type": "stream",
          "text": [
            "BLOCKED\n"
          ]
        },
        {
          "metadata": {
            "tags": null
          },
          "name": "stderr",
          "output_type": "stream",
          "text": [
            "\r 22%|██▏       | 6/27 [28:56<1:38:52, 282.49s/it, Letter: f, Page: 58]"
          ]
        },
        {
          "metadata": {
            "tags": null
          },
          "name": "stdout",
          "output_type": "stream",
          "text": [
            "BLOCKED\n"
          ]
        },
        {
          "metadata": {
            "tags": null
          },
          "name": "stderr",
          "output_type": "stream",
          "text": [
            "\r 22%|██▏       | 6/27 [29:00<1:38:52, 282.49s/it, Letter: f, Page: 58]"
          ]
        },
        {
          "metadata": {
            "tags": null
          },
          "name": "stdout",
          "output_type": "stream",
          "text": [
            "BLOCKED\n"
          ]
        },
        {
          "metadata": {
            "tags": null
          },
          "name": "stderr",
          "output_type": "stream",
          "text": [
            "\r 22%|██▏       | 6/27 [29:04<1:38:52, 282.49s/it, Letter: f, Page: 58]"
          ]
        },
        {
          "metadata": {
            "tags": null
          },
          "name": "stdout",
          "output_type": "stream",
          "text": [
            "BLOCKED\n"
          ]
        },
        {
          "metadata": {
            "tags": null
          },
          "name": "stderr",
          "output_type": "stream",
          "text": [
            "\r 22%|██▏       | 6/27 [29:08<1:38:52, 282.49s/it, Letter: f, Page: 58]"
          ]
        },
        {
          "metadata": {
            "tags": null
          },
          "name": "stdout",
          "output_type": "stream",
          "text": [
            "BLOCKED\n"
          ]
        },
        {
          "metadata": {
            "tags": null
          },
          "name": "stderr",
          "output_type": "stream",
          "text": [
            "\r 22%|██▏       | 6/27 [29:12<1:38:52, 282.49s/it, Letter: f, Page: 58]"
          ]
        },
        {
          "metadata": {
            "tags": null
          },
          "name": "stdout",
          "output_type": "stream",
          "text": [
            "BLOCKED\n"
          ]
        },
        {
          "metadata": {
            "tags": null
          },
          "name": "stderr",
          "output_type": "stream",
          "text": [
            "\r 22%|██▏       | 6/27 [29:17<1:38:52, 282.49s/it, Letter: f, Page: 58]"
          ]
        },
        {
          "metadata": {
            "tags": null
          },
          "name": "stdout",
          "output_type": "stream",
          "text": [
            "BLOCKED\n"
          ]
        },
        {
          "metadata": {
            "tags": null
          },
          "name": "stderr",
          "output_type": "stream",
          "text": [
            "\r 22%|██▏       | 6/27 [29:22<1:38:52, 282.49s/it, Letter: f, Page: 58]"
          ]
        },
        {
          "metadata": {
            "tags": null
          },
          "name": "stdout",
          "output_type": "stream",
          "text": [
            "BLOCKED\n"
          ]
        },
        {
          "metadata": {
            "tags": null
          },
          "name": "stderr",
          "output_type": "stream",
          "text": [
            "\r 22%|██▏       | 6/27 [29:26<1:38:52, 282.49s/it, Letter: f, Page: 58]"
          ]
        },
        {
          "metadata": {
            "tags": null
          },
          "name": "stdout",
          "output_type": "stream",
          "text": [
            "BLOCKED\n"
          ]
        },
        {
          "metadata": {
            "tags": null
          },
          "name": "stderr",
          "output_type": "stream",
          "text": [
            "\r 22%|██▏       | 6/27 [29:29<1:38:52, 282.49s/it, Letter: f, Page: 58]"
          ]
        },
        {
          "metadata": {
            "tags": null
          },
          "name": "stdout",
          "output_type": "stream",
          "text": [
            "BLOCKED\n"
          ]
        },
        {
          "metadata": {
            "tags": null
          },
          "name": "stderr",
          "output_type": "stream",
          "text": [
            "\r 22%|██▏       | 6/27 [29:34<1:38:52, 282.49s/it, Letter: f, Page: 58]"
          ]
        },
        {
          "metadata": {
            "tags": null
          },
          "name": "stdout",
          "output_type": "stream",
          "text": [
            "BLOCKED\n"
          ]
        },
        {
          "metadata": {
            "tags": null
          },
          "name": "stderr",
          "output_type": "stream",
          "text": [
            "\r 22%|██▏       | 6/27 [29:38<1:38:52, 282.49s/it, Letter: f, Page: 58]"
          ]
        },
        {
          "metadata": {
            "tags": null
          },
          "name": "stdout",
          "output_type": "stream",
          "text": [
            "BLOCKED\n"
          ]
        },
        {
          "metadata": {
            "tags": null
          },
          "name": "stderr",
          "output_type": "stream",
          "text": [
            "\r 22%|██▏       | 6/27 [29:41<1:38:52, 282.49s/it, Letter: f, Page: 58]"
          ]
        },
        {
          "metadata": {
            "tags": null
          },
          "name": "stdout",
          "output_type": "stream",
          "text": [
            "BLOCKED\n"
          ]
        },
        {
          "metadata": {
            "tags": null
          },
          "name": "stderr",
          "output_type": "stream",
          "text": [
            " 26%|██▌       | 7/27 [30:11<1:28:49, 266.50s/it, Letter: g, Page: 1] "
          ]
        },
        {
          "metadata": {
            "tags": null
          },
          "name": "stdout",
          "output_type": "stream",
          "text": [
            "\n",
            "Letter f, 70 pages\n",
            "\n",
            "Saving with letter f...\n"
          ]
        },
        {
          "metadata": {
            "tags": null
          },
          "name": "stderr",
          "output_type": "stream",
          "text": [
            " 26%|██▌       | 7/27 [30:52<1:28:49, 266.50s/it, Letter: g, Page: 26]"
          ]
        },
        {
          "metadata": {
            "tags": null
          },
          "name": "stdout",
          "output_type": "stream",
          "text": [
            "BLOCKED\n"
          ]
        },
        {
          "metadata": {
            "tags": null
          },
          "name": "stderr",
          "output_type": "stream",
          "text": [
            "\r 26%|██▌       | 7/27 [30:56<1:28:49, 266.50s/it, Letter: g, Page: 26]"
          ]
        },
        {
          "metadata": {
            "tags": null
          },
          "name": "stdout",
          "output_type": "stream",
          "text": [
            "BLOCKED\n"
          ]
        },
        {
          "metadata": {
            "tags": null
          },
          "name": "stderr",
          "output_type": "stream",
          "text": [
            "\r 26%|██▌       | 7/27 [31:00<1:28:49, 266.50s/it, Letter: g, Page: 26]"
          ]
        },
        {
          "metadata": {
            "tags": null
          },
          "name": "stdout",
          "output_type": "stream",
          "text": [
            "BLOCKED\n"
          ]
        },
        {
          "metadata": {
            "tags": null
          },
          "name": "stderr",
          "output_type": "stream",
          "text": [
            "\r 26%|██▌       | 7/27 [31:04<1:28:49, 266.50s/it, Letter: g, Page: 26]"
          ]
        },
        {
          "metadata": {
            "tags": null
          },
          "name": "stdout",
          "output_type": "stream",
          "text": [
            "BLOCKED\n"
          ]
        },
        {
          "metadata": {
            "tags": null
          },
          "name": "stderr",
          "output_type": "stream",
          "text": [
            "\r 26%|██▌       | 7/27 [31:08<1:28:49, 266.50s/it, Letter: g, Page: 26]"
          ]
        },
        {
          "metadata": {
            "tags": null
          },
          "name": "stdout",
          "output_type": "stream",
          "text": [
            "BLOCKED\n"
          ]
        },
        {
          "metadata": {
            "tags": null
          },
          "name": "stderr",
          "output_type": "stream",
          "text": [
            "\r 26%|██▌       | 7/27 [31:11<1:28:49, 266.50s/it, Letter: g, Page: 26]"
          ]
        },
        {
          "metadata": {
            "tags": null
          },
          "name": "stdout",
          "output_type": "stream",
          "text": [
            "BLOCKED\n"
          ]
        },
        {
          "metadata": {
            "tags": null
          },
          "name": "stderr",
          "output_type": "stream",
          "text": [
            "\r 26%|██▌       | 7/27 [31:15<1:28:49, 266.50s/it, Letter: g, Page: 26]"
          ]
        },
        {
          "metadata": {
            "tags": null
          },
          "name": "stdout",
          "output_type": "stream",
          "text": [
            "BLOCKED\n"
          ]
        },
        {
          "metadata": {
            "tags": null
          },
          "name": "stderr",
          "output_type": "stream",
          "text": [
            "\r 26%|██▌       | 7/27 [31:19<1:28:49, 266.50s/it, Letter: g, Page: 26]"
          ]
        },
        {
          "metadata": {
            "tags": null
          },
          "name": "stdout",
          "output_type": "stream",
          "text": [
            "BLOCKED\n"
          ]
        },
        {
          "metadata": {
            "tags": null
          },
          "name": "stderr",
          "output_type": "stream",
          "text": [
            "\r 26%|██▌       | 7/27 [31:23<1:28:49, 266.50s/it, Letter: g, Page: 26]"
          ]
        },
        {
          "metadata": {
            "tags": null
          },
          "name": "stdout",
          "output_type": "stream",
          "text": [
            "BLOCKED\n"
          ]
        },
        {
          "metadata": {
            "tags": null
          },
          "name": "stderr",
          "output_type": "stream",
          "text": [
            "\r 26%|██▌       | 7/27 [31:27<1:28:49, 266.50s/it, Letter: g, Page: 26]"
          ]
        },
        {
          "metadata": {
            "tags": null
          },
          "name": "stdout",
          "output_type": "stream",
          "text": [
            "BLOCKED\n"
          ]
        },
        {
          "metadata": {
            "tags": null
          },
          "name": "stderr",
          "output_type": "stream",
          "text": [
            "\r 26%|██▌       | 7/27 [31:31<1:28:49, 266.50s/it, Letter: g, Page: 26]"
          ]
        },
        {
          "metadata": {
            "tags": null
          },
          "name": "stdout",
          "output_type": "stream",
          "text": [
            "BLOCKED\n"
          ]
        },
        {
          "metadata": {
            "tags": null
          },
          "name": "stderr",
          "output_type": "stream",
          "text": [
            "\r 26%|██▌       | 7/27 [31:35<1:28:49, 266.50s/it, Letter: g, Page: 26]"
          ]
        },
        {
          "metadata": {
            "tags": null
          },
          "name": "stdout",
          "output_type": "stream",
          "text": [
            "BLOCKED\n"
          ]
        },
        {
          "metadata": {
            "tags": null
          },
          "name": "stderr",
          "output_type": "stream",
          "text": [
            "\r 26%|██▌       | 7/27 [31:39<1:28:49, 266.50s/it, Letter: g, Page: 26]"
          ]
        },
        {
          "metadata": {
            "tags": null
          },
          "name": "stdout",
          "output_type": "stream",
          "text": [
            "BLOCKED\n"
          ]
        },
        {
          "metadata": {
            "tags": null
          },
          "name": "stderr",
          "output_type": "stream",
          "text": [
            "\r 26%|██▌       | 7/27 [31:42<1:28:49, 266.50s/it, Letter: g, Page: 26]"
          ]
        },
        {
          "metadata": {
            "tags": null
          },
          "name": "stdout",
          "output_type": "stream",
          "text": [
            "BLOCKED\n"
          ]
        },
        {
          "metadata": {
            "tags": null
          },
          "name": "stderr",
          "output_type": "stream",
          "text": [
            "\r 26%|██▌       | 7/27 [31:46<1:28:49, 266.50s/it, Letter: g, Page: 26]"
          ]
        },
        {
          "metadata": {
            "tags": null
          },
          "name": "stdout",
          "output_type": "stream",
          "text": [
            "BLOCKED\n"
          ]
        },
        {
          "metadata": {
            "tags": null
          },
          "name": "stderr",
          "output_type": "stream",
          "text": [
            "\r 26%|██▌       | 7/27 [31:50<1:28:49, 266.50s/it, Letter: g, Page: 26]"
          ]
        },
        {
          "metadata": {
            "tags": null
          },
          "name": "stdout",
          "output_type": "stream",
          "text": [
            "BLOCKED\n"
          ]
        },
        {
          "metadata": {
            "tags": null
          },
          "name": "stderr",
          "output_type": "stream",
          "text": [
            " 30%|██▉       | 8/27 [32:09<1:09:27, 219.34s/it, Letter: h, Page: 1] "
          ]
        },
        {
          "metadata": {
            "tags": null
          },
          "name": "stdout",
          "output_type": "stream",
          "text": [
            "\n",
            "Letter g, 33 pages\n",
            "\n",
            "Saving with letter g...\n"
          ]
        },
        {
          "metadata": {
            "tags": null
          },
          "name": "stderr",
          "output_type": "stream",
          "text": [
            " 33%|███▎      | 9/27 [32:37<47:50, 159.45s/it, Letter: i, Page: 1] "
          ]
        },
        {
          "metadata": {
            "tags": null
          },
          "name": "stdout",
          "output_type": "stream",
          "text": [
            "\n",
            "Letter h, 17 pages\n",
            "\n",
            "Saving with letter h...\n"
          ]
        },
        {
          "metadata": {
            "tags": null
          },
          "name": "stderr",
          "output_type": "stream",
          "text": [
            " 33%|███▎      | 9/27 [32:48<47:50, 159.45s/it, Letter: i, Page: 8]"
          ]
        },
        {
          "metadata": {
            "tags": null
          },
          "name": "stdout",
          "output_type": "stream",
          "text": [
            "BLOCKED\n"
          ]
        },
        {
          "metadata": {
            "tags": null
          },
          "name": "stderr",
          "output_type": "stream",
          "text": [
            "\r 33%|███▎      | 9/27 [32:52<47:50, 159.45s/it, Letter: i, Page: 8]"
          ]
        },
        {
          "metadata": {
            "tags": null
          },
          "name": "stdout",
          "output_type": "stream",
          "text": [
            "BLOCKED\n"
          ]
        },
        {
          "metadata": {
            "tags": null
          },
          "name": "stderr",
          "output_type": "stream",
          "text": [
            "\r 33%|███▎      | 9/27 [32:56<47:50, 159.45s/it, Letter: i, Page: 8]"
          ]
        },
        {
          "metadata": {
            "tags": null
          },
          "name": "stdout",
          "output_type": "stream",
          "text": [
            "BLOCKED\n"
          ]
        },
        {
          "metadata": {
            "tags": null
          },
          "name": "stderr",
          "output_type": "stream",
          "text": [
            "\r 33%|███▎      | 9/27 [33:00<47:50, 159.45s/it, Letter: i, Page: 8]"
          ]
        },
        {
          "metadata": {
            "tags": null
          },
          "name": "stdout",
          "output_type": "stream",
          "text": [
            "BLOCKED\n"
          ]
        },
        {
          "metadata": {
            "tags": null
          },
          "name": "stderr",
          "output_type": "stream",
          "text": [
            "\r 33%|███▎      | 9/27 [33:04<47:50, 159.45s/it, Letter: i, Page: 8]"
          ]
        },
        {
          "metadata": {
            "tags": null
          },
          "name": "stdout",
          "output_type": "stream",
          "text": [
            "BLOCKED\n"
          ]
        },
        {
          "metadata": {
            "tags": null
          },
          "name": "stderr",
          "output_type": "stream",
          "text": [
            "\r 33%|███▎      | 9/27 [33:08<47:50, 159.45s/it, Letter: i, Page: 8]"
          ]
        },
        {
          "metadata": {
            "tags": null
          },
          "name": "stdout",
          "output_type": "stream",
          "text": [
            "BLOCKED\n"
          ]
        },
        {
          "metadata": {
            "tags": null
          },
          "name": "stderr",
          "output_type": "stream",
          "text": [
            "\r 33%|███▎      | 9/27 [33:11<47:50, 159.45s/it, Letter: i, Page: 8]"
          ]
        },
        {
          "metadata": {
            "tags": null
          },
          "name": "stdout",
          "output_type": "stream",
          "text": [
            "BLOCKED\n"
          ]
        },
        {
          "metadata": {
            "tags": null
          },
          "name": "stderr",
          "output_type": "stream",
          "text": [
            "\r 33%|███▎      | 9/27 [33:15<47:50, 159.45s/it, Letter: i, Page: 8]"
          ]
        },
        {
          "metadata": {
            "tags": null
          },
          "name": "stdout",
          "output_type": "stream",
          "text": [
            "BLOCKED\n"
          ]
        },
        {
          "metadata": {
            "tags": null
          },
          "name": "stderr",
          "output_type": "stream",
          "text": [
            "\r 33%|███▎      | 9/27 [33:19<47:50, 159.45s/it, Letter: i, Page: 8]"
          ]
        },
        {
          "metadata": {
            "tags": null
          },
          "name": "stdout",
          "output_type": "stream",
          "text": [
            "BLOCKED\n"
          ]
        },
        {
          "metadata": {
            "tags": null
          },
          "name": "stderr",
          "output_type": "stream",
          "text": [
            "\r 33%|███▎      | 9/27 [33:23<47:50, 159.45s/it, Letter: i, Page: 8]"
          ]
        },
        {
          "metadata": {
            "tags": null
          },
          "name": "stdout",
          "output_type": "stream",
          "text": [
            "BLOCKED\n"
          ]
        },
        {
          "metadata": {
            "tags": null
          },
          "name": "stderr",
          "output_type": "stream",
          "text": [
            "\r 33%|███▎      | 9/27 [33:27<47:50, 159.45s/it, Letter: i, Page: 8]"
          ]
        },
        {
          "metadata": {
            "tags": null
          },
          "name": "stdout",
          "output_type": "stream",
          "text": [
            "BLOCKED\n"
          ]
        },
        {
          "metadata": {
            "tags": null
          },
          "name": "stderr",
          "output_type": "stream",
          "text": [
            "\r 33%|███▎      | 9/27 [33:31<47:50, 159.45s/it, Letter: i, Page: 8]"
          ]
        },
        {
          "metadata": {
            "tags": null
          },
          "name": "stdout",
          "output_type": "stream",
          "text": [
            "BLOCKED\n"
          ]
        },
        {
          "metadata": {
            "tags": null
          },
          "name": "stderr",
          "output_type": "stream",
          "text": [
            "\r 33%|███▎      | 9/27 [33:35<47:50, 159.45s/it, Letter: i, Page: 8]"
          ]
        },
        {
          "metadata": {
            "tags": null
          },
          "name": "stdout",
          "output_type": "stream",
          "text": [
            "BLOCKED\n"
          ]
        },
        {
          "metadata": {
            "tags": null
          },
          "name": "stderr",
          "output_type": "stream",
          "text": [
            "\r 33%|███▎      | 9/27 [33:39<47:50, 159.45s/it, Letter: i, Page: 8]"
          ]
        },
        {
          "metadata": {
            "tags": null
          },
          "name": "stdout",
          "output_type": "stream",
          "text": [
            "BLOCKED\n"
          ]
        },
        {
          "metadata": {
            "tags": null
          },
          "name": "stderr",
          "output_type": "stream",
          "text": [
            "\r 33%|███▎      | 9/27 [33:42<47:50, 159.45s/it, Letter: i, Page: 8]"
          ]
        },
        {
          "metadata": {
            "tags": null
          },
          "name": "stdout",
          "output_type": "stream",
          "text": [
            "BLOCKED\n"
          ]
        },
        {
          "metadata": {
            "tags": null
          },
          "name": "stderr",
          "output_type": "stream",
          "text": [
            "\r 33%|███▎      | 9/27 [33:46<47:50, 159.45s/it, Letter: i, Page: 8]"
          ]
        },
        {
          "metadata": {
            "tags": null
          },
          "name": "stdout",
          "output_type": "stream",
          "text": [
            "BLOCKED\n"
          ]
        },
        {
          "metadata": {
            "tags": null
          },
          "name": "stderr",
          "output_type": "stream",
          "text": [
            " 37%|███▋      | 10/27 [36:07<49:37, 175.16s/it, Letter: j, Page: 1] "
          ]
        },
        {
          "metadata": {
            "tags": null
          },
          "name": "stdout",
          "output_type": "stream",
          "text": [
            "\n",
            "Letter i, 32 pages\n",
            "\n",
            "Saving with letter i...\n"
          ]
        },
        {
          "metadata": {
            "tags": null
          },
          "name": "stderr",
          "output_type": "stream",
          "text": [
            " 41%|████      | 11/27 [36:30<34:14, 128.38s/it, Letter: k, Page: 1] "
          ]
        },
        {
          "metadata": {
            "tags": null
          },
          "name": "stdout",
          "output_type": "stream",
          "text": [
            "\n",
            "Letter j, 13 pages\n",
            "\n",
            "Saving with letter j...\n"
          ]
        },
        {
          "metadata": {
            "tags": null
          },
          "name": "stderr",
          "output_type": "stream",
          "text": [
            " 44%|████▍     | 12/27 [36:36<22:46, 91.10s/it, Letter: l, Page: 1]"
          ]
        },
        {
          "metadata": {
            "tags": null
          },
          "name": "stdout",
          "output_type": "stream",
          "text": [
            "\n",
            "Letter k, 3 pages\n",
            "\n",
            "Saving with letter k...\n"
          ]
        },
        {
          "metadata": {
            "tags": null
          },
          "name": "stderr",
          "output_type": "stream",
          "text": [
            " 44%|████▍     | 12/27 [36:47<22:46, 91.10s/it, Letter: l, Page: 9]"
          ]
        },
        {
          "metadata": {
            "tags": null
          },
          "name": "stdout",
          "output_type": "stream",
          "text": [
            "BLOCKED\n"
          ]
        },
        {
          "metadata": {
            "tags": null
          },
          "name": "stderr",
          "output_type": "stream",
          "text": [
            "\r 44%|████▍     | 12/27 [36:51<22:46, 91.10s/it, Letter: l, Page: 9]"
          ]
        },
        {
          "metadata": {
            "tags": null
          },
          "name": "stdout",
          "output_type": "stream",
          "text": [
            "BLOCKED\n"
          ]
        },
        {
          "metadata": {
            "tags": null
          },
          "name": "stderr",
          "output_type": "stream",
          "text": [
            "\r 44%|████▍     | 12/27 [36:55<22:46, 91.10s/it, Letter: l, Page: 9]"
          ]
        },
        {
          "metadata": {
            "tags": null
          },
          "name": "stdout",
          "output_type": "stream",
          "text": [
            "BLOCKED\n"
          ]
        },
        {
          "metadata": {
            "tags": null
          },
          "name": "stderr",
          "output_type": "stream",
          "text": [
            "\r 44%|████▍     | 12/27 [36:59<22:46, 91.10s/it, Letter: l, Page: 9]"
          ]
        },
        {
          "metadata": {
            "tags": null
          },
          "name": "stdout",
          "output_type": "stream",
          "text": [
            "BLOCKED\n"
          ]
        },
        {
          "metadata": {
            "tags": null
          },
          "name": "stderr",
          "output_type": "stream",
          "text": [
            "\r 44%|████▍     | 12/27 [37:03<22:46, 91.10s/it, Letter: l, Page: 9]"
          ]
        },
        {
          "metadata": {
            "tags": null
          },
          "name": "stdout",
          "output_type": "stream",
          "text": [
            "BLOCKED\n"
          ]
        },
        {
          "metadata": {
            "tags": null
          },
          "name": "stderr",
          "output_type": "stream",
          "text": [
            "\r 44%|████▍     | 12/27 [37:07<22:46, 91.10s/it, Letter: l, Page: 9]"
          ]
        },
        {
          "metadata": {
            "tags": null
          },
          "name": "stdout",
          "output_type": "stream",
          "text": [
            "BLOCKED\n"
          ]
        },
        {
          "metadata": {
            "tags": null
          },
          "name": "stderr",
          "output_type": "stream",
          "text": [
            "\r 44%|████▍     | 12/27 [37:11<22:46, 91.10s/it, Letter: l, Page: 9]"
          ]
        },
        {
          "metadata": {
            "tags": null
          },
          "name": "stdout",
          "output_type": "stream",
          "text": [
            "BLOCKED\n"
          ]
        },
        {
          "metadata": {
            "tags": null
          },
          "name": "stderr",
          "output_type": "stream",
          "text": [
            "\r 44%|████▍     | 12/27 [37:14<22:46, 91.10s/it, Letter: l, Page: 9]"
          ]
        },
        {
          "metadata": {
            "tags": null
          },
          "name": "stdout",
          "output_type": "stream",
          "text": [
            "BLOCKED\n"
          ]
        },
        {
          "metadata": {
            "tags": null
          },
          "name": "stderr",
          "output_type": "stream",
          "text": [
            "\r 44%|████▍     | 12/27 [37:18<22:46, 91.10s/it, Letter: l, Page: 9]"
          ]
        },
        {
          "metadata": {
            "tags": null
          },
          "name": "stdout",
          "output_type": "stream",
          "text": [
            "BLOCKED\n"
          ]
        },
        {
          "metadata": {
            "tags": null
          },
          "name": "stderr",
          "output_type": "stream",
          "text": [
            "\r 44%|████▍     | 12/27 [37:22<22:46, 91.10s/it, Letter: l, Page: 9]"
          ]
        },
        {
          "metadata": {
            "tags": null
          },
          "name": "stdout",
          "output_type": "stream",
          "text": [
            "BLOCKED\n"
          ]
        },
        {
          "metadata": {
            "tags": null
          },
          "name": "stderr",
          "output_type": "stream",
          "text": [
            "\r 44%|████▍     | 12/27 [37:26<22:46, 91.10s/it, Letter: l, Page: 9]"
          ]
        },
        {
          "metadata": {
            "tags": null
          },
          "name": "stdout",
          "output_type": "stream",
          "text": [
            "BLOCKED\n"
          ]
        },
        {
          "metadata": {
            "tags": null
          },
          "name": "stderr",
          "output_type": "stream",
          "text": [
            "\r 44%|████▍     | 12/27 [37:30<22:46, 91.10s/it, Letter: l, Page: 9]"
          ]
        },
        {
          "metadata": {
            "tags": null
          },
          "name": "stdout",
          "output_type": "stream",
          "text": [
            "BLOCKED\n"
          ]
        },
        {
          "metadata": {
            "tags": null
          },
          "name": "stderr",
          "output_type": "stream",
          "text": [
            "\r 44%|████▍     | 12/27 [37:35<22:46, 91.10s/it, Letter: l, Page: 9]"
          ]
        },
        {
          "metadata": {
            "tags": null
          },
          "name": "stdout",
          "output_type": "stream",
          "text": [
            "BLOCKED\n"
          ]
        },
        {
          "metadata": {
            "tags": null
          },
          "name": "stderr",
          "output_type": "stream",
          "text": [
            "\r 44%|████▍     | 12/27 [37:40<22:46, 91.10s/it, Letter: l, Page: 9]"
          ]
        },
        {
          "metadata": {
            "tags": null
          },
          "name": "stdout",
          "output_type": "stream",
          "text": [
            "BLOCKED\n"
          ]
        },
        {
          "metadata": {
            "tags": null
          },
          "name": "stderr",
          "output_type": "stream",
          "text": [
            "\r 44%|████▍     | 12/27 [37:45<22:46, 91.10s/it, Letter: l, Page: 9]"
          ]
        },
        {
          "metadata": {
            "tags": null
          },
          "name": "stdout",
          "output_type": "stream",
          "text": [
            "BLOCKED\n"
          ]
        },
        {
          "output_type": "stream",
          "name": "stderr",
          "text": [
            " 48%|████▊     | 13/27 [39:20<26:27, 113.39s/it, Letter: m, Page: 1] "
          ]
        },
        {
          "output_type": "stream",
          "name": "stdout",
          "text": [
            "\n",
            "Letter l, 34 pages\n",
            "\n",
            "Saving with letter l...\n"
          ]
        },
        {
          "output_type": "stream",
          "name": "stderr",
          "text": [
            " 48%|████▊     | 13/27 [48:46<26:27, 113.39s/it, Letter: m, Page: 88]"
          ]
        },
        {
          "output_type": "stream",
          "name": "stdout",
          "text": [
            "BLOCKED\n"
          ]
        },
        {
          "output_type": "stream",
          "name": "stderr",
          "text": [
            "\r 48%|████▊     | 13/27 [48:50<26:27, 113.39s/it, Letter: m, Page: 88]"
          ]
        },
        {
          "output_type": "stream",
          "name": "stdout",
          "text": [
            "BLOCKED\n"
          ]
        },
        {
          "output_type": "stream",
          "name": "stderr",
          "text": [
            "\r 48%|████▊     | 13/27 [48:54<26:27, 113.39s/it, Letter: m, Page: 88]"
          ]
        },
        {
          "output_type": "stream",
          "name": "stdout",
          "text": [
            "BLOCKED\n"
          ]
        },
        {
          "output_type": "stream",
          "name": "stderr",
          "text": [
            "\r 48%|████▊     | 13/27 [48:58<26:27, 113.39s/it, Letter: m, Page: 88]"
          ]
        },
        {
          "output_type": "stream",
          "name": "stdout",
          "text": [
            "BLOCKED\n"
          ]
        },
        {
          "output_type": "stream",
          "name": "stderr",
          "text": [
            "\r 48%|████▊     | 13/27 [49:02<26:27, 113.39s/it, Letter: m, Page: 88]"
          ]
        },
        {
          "output_type": "stream",
          "name": "stdout",
          "text": [
            "BLOCKED\n"
          ]
        },
        {
          "output_type": "stream",
          "name": "stderr",
          "text": [
            "\r 48%|████▊     | 13/27 [49:06<26:27, 113.39s/it, Letter: m, Page: 88]"
          ]
        },
        {
          "output_type": "stream",
          "name": "stdout",
          "text": [
            "BLOCKED\n"
          ]
        },
        {
          "output_type": "stream",
          "name": "stderr",
          "text": [
            "\r 48%|████▊     | 13/27 [49:10<26:27, 113.39s/it, Letter: m, Page: 88]"
          ]
        },
        {
          "output_type": "stream",
          "name": "stdout",
          "text": [
            "BLOCKED\n"
          ]
        },
        {
          "output_type": "stream",
          "name": "stderr",
          "text": [
            "\r 48%|████▊     | 13/27 [49:14<26:27, 113.39s/it, Letter: m, Page: 88]"
          ]
        },
        {
          "output_type": "stream",
          "name": "stdout",
          "text": [
            "BLOCKED\n"
          ]
        },
        {
          "output_type": "stream",
          "name": "stderr",
          "text": [
            "\r 48%|████▊     | 13/27 [49:18<26:27, 113.39s/it, Letter: m, Page: 88]"
          ]
        },
        {
          "output_type": "stream",
          "name": "stdout",
          "text": [
            "BLOCKED\n"
          ]
        },
        {
          "output_type": "stream",
          "name": "stderr",
          "text": [
            "\r 48%|████▊     | 13/27 [49:22<26:27, 113.39s/it, Letter: m, Page: 88]"
          ]
        },
        {
          "output_type": "stream",
          "name": "stdout",
          "text": [
            "BLOCKED\n"
          ]
        },
        {
          "output_type": "stream",
          "name": "stderr",
          "text": [
            "\r 48%|████▊     | 13/27 [49:26<26:27, 113.39s/it, Letter: m, Page: 88]"
          ]
        },
        {
          "output_type": "stream",
          "name": "stdout",
          "text": [
            "BLOCKED\n"
          ]
        },
        {
          "output_type": "stream",
          "name": "stderr",
          "text": [
            "\r 48%|████▊     | 13/27 [49:30<26:27, 113.39s/it, Letter: m, Page: 88]"
          ]
        },
        {
          "output_type": "stream",
          "name": "stdout",
          "text": [
            "BLOCKED\n"
          ]
        },
        {
          "output_type": "stream",
          "name": "stderr",
          "text": [
            "\r 48%|████▊     | 13/27 [49:34<26:27, 113.39s/it, Letter: m, Page: 88]"
          ]
        },
        {
          "output_type": "stream",
          "name": "stdout",
          "text": [
            "BLOCKED\n"
          ]
        },
        {
          "output_type": "stream",
          "name": "stderr",
          "text": [
            "\r 48%|████▊     | 13/27 [49:37<26:27, 113.39s/it, Letter: m, Page: 88]"
          ]
        },
        {
          "output_type": "stream",
          "name": "stdout",
          "text": [
            "BLOCKED\n"
          ]
        },
        {
          "output_type": "stream",
          "name": "stderr",
          "text": [
            "\r 48%|████▊     | 13/27 [49:41<26:27, 113.39s/it, Letter: m, Page: 88]"
          ]
        },
        {
          "output_type": "stream",
          "name": "stdout",
          "text": [
            "BLOCKED\n"
          ]
        },
        {
          "output_type": "stream",
          "name": "stderr",
          "text": [
            "\r 48%|████▊     | 13/27 [49:45<26:27, 113.39s/it, Letter: m, Page: 88]"
          ]
        },
        {
          "output_type": "stream",
          "name": "stdout",
          "text": [
            "BLOCKED\n"
          ]
        },
        {
          "output_type": "stream",
          "name": "stderr",
          "text": [
            " 52%|█████▏    | 14/27 [50:02<59:08, 272.96s/it, Letter: n, Page: 1] "
          ]
        },
        {
          "output_type": "stream",
          "name": "stdout",
          "text": [
            "\n",
            "Letter m, 94 pages\n",
            "\n",
            "Saving with letter m...\n"
          ]
        },
        {
          "output_type": "stream",
          "name": "stderr",
          "text": [
            " 56%|█████▌    | 15/27 [50:40<40:24, 202.02s/it, Letter: ŋ, Page: 1] "
          ]
        },
        {
          "output_type": "stream",
          "name": "stdout",
          "text": [
            "\n",
            "Letter n, 24 pages\n",
            "\n",
            "Saving with letter n...\n"
          ]
        },
        {
          "output_type": "stream",
          "name": "stderr",
          "text": [
            " 59%|█████▉    | 16/27 [50:43<26:02, 142.09s/it, Letter: o, Page: 1]"
          ]
        },
        {
          "output_type": "stream",
          "name": "stdout",
          "text": [
            "\n",
            "Letter ŋ, 1 pages\n",
            "\n",
            "Saving with letter ŋ...\n"
          ]
        },
        {
          "output_type": "stream",
          "name": "stderr",
          "text": [
            " 59%|█████▉    | 16/27 [50:46<26:02, 142.09s/it, Letter: o, Page: 3]"
          ]
        },
        {
          "output_type": "stream",
          "name": "stdout",
          "text": [
            "BLOCKED\n"
          ]
        },
        {
          "output_type": "stream",
          "name": "stderr",
          "text": [
            "\r 59%|█████▉    | 16/27 [50:49<26:02, 142.09s/it, Letter: o, Page: 3]"
          ]
        },
        {
          "output_type": "stream",
          "name": "stdout",
          "text": [
            "BLOCKED\n"
          ]
        },
        {
          "output_type": "stream",
          "name": "stderr",
          "text": [
            "\r 59%|█████▉    | 16/27 [50:53<26:02, 142.09s/it, Letter: o, Page: 3]"
          ]
        },
        {
          "output_type": "stream",
          "name": "stdout",
          "text": [
            "BLOCKED\n"
          ]
        },
        {
          "output_type": "stream",
          "name": "stderr",
          "text": [
            "\r 59%|█████▉    | 16/27 [50:57<26:02, 142.09s/it, Letter: o, Page: 3]"
          ]
        },
        {
          "output_type": "stream",
          "name": "stdout",
          "text": [
            "BLOCKED\n"
          ]
        },
        {
          "output_type": "stream",
          "name": "stderr",
          "text": [
            "\r 59%|█████▉    | 16/27 [51:01<26:02, 142.09s/it, Letter: o, Page: 3]"
          ]
        },
        {
          "output_type": "stream",
          "name": "stdout",
          "text": [
            "BLOCKED\n"
          ]
        },
        {
          "output_type": "stream",
          "name": "stderr",
          "text": [
            "\r 59%|█████▉    | 16/27 [51:05<26:02, 142.09s/it, Letter: o, Page: 3]"
          ]
        },
        {
          "output_type": "stream",
          "name": "stdout",
          "text": [
            "BLOCKED\n"
          ]
        },
        {
          "output_type": "stream",
          "name": "stderr",
          "text": [
            "\r 59%|█████▉    | 16/27 [51:09<26:02, 142.09s/it, Letter: o, Page: 3]"
          ]
        },
        {
          "output_type": "stream",
          "name": "stdout",
          "text": [
            "BLOCKED\n"
          ]
        },
        {
          "output_type": "stream",
          "name": "stderr",
          "text": [
            "\r 59%|█████▉    | 16/27 [51:12<26:02, 142.09s/it, Letter: o, Page: 3]"
          ]
        },
        {
          "output_type": "stream",
          "name": "stdout",
          "text": [
            "BLOCKED\n"
          ]
        },
        {
          "output_type": "stream",
          "name": "stderr",
          "text": [
            "\r 59%|█████▉    | 16/27 [51:16<26:02, 142.09s/it, Letter: o, Page: 3]"
          ]
        },
        {
          "output_type": "stream",
          "name": "stdout",
          "text": [
            "BLOCKED\n"
          ]
        },
        {
          "output_type": "stream",
          "name": "stderr",
          "text": [
            "\r 59%|█████▉    | 16/27 [51:20<26:02, 142.09s/it, Letter: o, Page: 3]"
          ]
        },
        {
          "output_type": "stream",
          "name": "stdout",
          "text": [
            "BLOCKED\n"
          ]
        },
        {
          "output_type": "stream",
          "name": "stderr",
          "text": [
            "\r 59%|█████▉    | 16/27 [51:24<26:02, 142.09s/it, Letter: o, Page: 3]"
          ]
        },
        {
          "output_type": "stream",
          "name": "stdout",
          "text": [
            "BLOCKED\n"
          ]
        },
        {
          "output_type": "stream",
          "name": "stderr",
          "text": [
            "\r 59%|█████▉    | 16/27 [51:28<26:02, 142.09s/it, Letter: o, Page: 3]"
          ]
        },
        {
          "output_type": "stream",
          "name": "stdout",
          "text": [
            "BLOCKED\n"
          ]
        },
        {
          "output_type": "stream",
          "name": "stderr",
          "text": [
            "\r 59%|█████▉    | 16/27 [51:32<26:02, 142.09s/it, Letter: o, Page: 3]"
          ]
        },
        {
          "output_type": "stream",
          "name": "stdout",
          "text": [
            "BLOCKED\n"
          ]
        },
        {
          "output_type": "stream",
          "name": "stderr",
          "text": [
            "\r 59%|█████▉    | 16/27 [51:36<26:02, 142.09s/it, Letter: o, Page: 3]"
          ]
        },
        {
          "output_type": "stream",
          "name": "stdout",
          "text": [
            "BLOCKED\n"
          ]
        },
        {
          "output_type": "stream",
          "name": "stderr",
          "text": [
            "\r 59%|█████▉    | 16/27 [51:40<26:02, 142.09s/it, Letter: o, Page: 3]"
          ]
        },
        {
          "output_type": "stream",
          "name": "stdout",
          "text": [
            "BLOCKED\n"
          ]
        },
        {
          "output_type": "stream",
          "name": "stderr",
          "text": [
            "\r 59%|█████▉    | 16/27 [51:43<26:02, 142.09s/it, Letter: o, Page: 3]"
          ]
        },
        {
          "output_type": "stream",
          "name": "stdout",
          "text": [
            "BLOCKED\n"
          ]
        },
        {
          "output_type": "stream",
          "name": "stderr",
          "text": [
            " 63%|██████▎   | 17/27 [52:25<21:40, 130.03s/it, Letter: p, Page: 1] "
          ]
        },
        {
          "output_type": "stream",
          "name": "stdout",
          "text": [
            "\n",
            "Letter o, 26 pages\n",
            "\n",
            "Saving with letter o...\n"
          ]
        },
        {
          "output_type": "stream",
          "name": "stderr",
          "text": [
            " 63%|██████▎   | 17/27 [52:45<21:40, 130.03s/it, Letter: p, Page: 15]"
          ]
        },
        {
          "output_type": "stream",
          "name": "stdout",
          "text": [
            "BLOCKED\n"
          ]
        },
        {
          "output_type": "stream",
          "name": "stderr",
          "text": [
            "\r 63%|██████▎   | 17/27 [52:49<21:40, 130.03s/it, Letter: p, Page: 15]"
          ]
        },
        {
          "output_type": "stream",
          "name": "stdout",
          "text": [
            "BLOCKED\n"
          ]
        },
        {
          "output_type": "stream",
          "name": "stderr",
          "text": [
            "\r 63%|██████▎   | 17/27 [52:53<21:40, 130.03s/it, Letter: p, Page: 15]"
          ]
        },
        {
          "output_type": "stream",
          "name": "stdout",
          "text": [
            "BLOCKED\n"
          ]
        },
        {
          "output_type": "stream",
          "name": "stderr",
          "text": [
            "\r 63%|██████▎   | 17/27 [52:57<21:40, 130.03s/it, Letter: p, Page: 15]"
          ]
        },
        {
          "output_type": "stream",
          "name": "stdout",
          "text": [
            "BLOCKED\n"
          ]
        },
        {
          "output_type": "stream",
          "name": "stderr",
          "text": [
            "\r 63%|██████▎   | 17/27 [53:01<21:40, 130.03s/it, Letter: p, Page: 15]"
          ]
        },
        {
          "output_type": "stream",
          "name": "stdout",
          "text": [
            "BLOCKED\n"
          ]
        },
        {
          "output_type": "stream",
          "name": "stderr",
          "text": [
            "\r 63%|██████▎   | 17/27 [53:05<21:40, 130.03s/it, Letter: p, Page: 15]"
          ]
        },
        {
          "output_type": "stream",
          "name": "stdout",
          "text": [
            "BLOCKED\n"
          ]
        },
        {
          "output_type": "stream",
          "name": "stderr",
          "text": [
            "\r 63%|██████▎   | 17/27 [53:08<21:40, 130.03s/it, Letter: p, Page: 15]"
          ]
        },
        {
          "output_type": "stream",
          "name": "stdout",
          "text": [
            "BLOCKED\n"
          ]
        },
        {
          "output_type": "stream",
          "name": "stderr",
          "text": [
            "\r 63%|██████▎   | 17/27 [53:12<21:40, 130.03s/it, Letter: p, Page: 15]"
          ]
        },
        {
          "output_type": "stream",
          "name": "stdout",
          "text": [
            "BLOCKED\n"
          ]
        },
        {
          "output_type": "stream",
          "name": "stderr",
          "text": [
            "\r 63%|██████▎   | 17/27 [53:16<21:40, 130.03s/it, Letter: p, Page: 15]"
          ]
        },
        {
          "output_type": "stream",
          "name": "stdout",
          "text": [
            "BLOCKED\n"
          ]
        },
        {
          "output_type": "stream",
          "name": "stderr",
          "text": [
            "\r 63%|██████▎   | 17/27 [53:20<21:40, 130.03s/it, Letter: p, Page: 15]"
          ]
        },
        {
          "output_type": "stream",
          "name": "stdout",
          "text": [
            "BLOCKED\n"
          ]
        },
        {
          "output_type": "stream",
          "name": "stderr",
          "text": [
            "\r 63%|██████▎   | 17/27 [53:24<21:40, 130.03s/it, Letter: p, Page: 15]"
          ]
        },
        {
          "output_type": "stream",
          "name": "stdout",
          "text": [
            "BLOCKED\n"
          ]
        },
        {
          "output_type": "stream",
          "name": "stderr",
          "text": [
            "\r 63%|██████▎   | 17/27 [53:28<21:40, 130.03s/it, Letter: p, Page: 15]"
          ]
        },
        {
          "output_type": "stream",
          "name": "stdout",
          "text": [
            "BLOCKED\n"
          ]
        },
        {
          "output_type": "stream",
          "name": "stderr",
          "text": [
            "\r 63%|██████▎   | 17/27 [53:32<21:40, 130.03s/it, Letter: p, Page: 15]"
          ]
        },
        {
          "output_type": "stream",
          "name": "stdout",
          "text": [
            "BLOCKED\n"
          ]
        },
        {
          "output_type": "stream",
          "name": "stderr",
          "text": [
            "\r 63%|██████▎   | 17/27 [53:35<21:40, 130.03s/it, Letter: p, Page: 15]"
          ]
        },
        {
          "output_type": "stream",
          "name": "stdout",
          "text": [
            "BLOCKED\n"
          ]
        },
        {
          "output_type": "stream",
          "name": "stderr",
          "text": [
            "\r 63%|██████▎   | 17/27 [53:39<21:40, 130.03s/it, Letter: p, Page: 15]"
          ]
        },
        {
          "output_type": "stream",
          "name": "stdout",
          "text": [
            "BLOCKED\n"
          ]
        },
        {
          "output_type": "stream",
          "name": "stderr",
          "text": [
            "\r 63%|██████▎   | 17/27 [53:43<21:40, 130.03s/it, Letter: p, Page: 15]"
          ]
        },
        {
          "output_type": "stream",
          "name": "stdout",
          "text": [
            "BLOCKED\n"
          ]
        },
        {
          "output_type": "stream",
          "name": "stderr",
          "text": [
            " 63%|██████▎   | 17/27 [54:46<21:40, 130.03s/it, Letter: p, Page: 54]"
          ]
        },
        {
          "output_type": "stream",
          "name": "stdout",
          "text": [
            "BLOCKED\n"
          ]
        },
        {
          "output_type": "stream",
          "name": "stderr",
          "text": [
            "\r 63%|██████▎   | 17/27 [54:49<21:40, 130.03s/it, Letter: p, Page: 54]"
          ]
        },
        {
          "output_type": "stream",
          "name": "stdout",
          "text": [
            "BLOCKED\n"
          ]
        },
        {
          "output_type": "stream",
          "name": "stderr",
          "text": [
            "\r 63%|██████▎   | 17/27 [54:53<21:40, 130.03s/it, Letter: p, Page: 54]"
          ]
        },
        {
          "output_type": "stream",
          "name": "stdout",
          "text": [
            "BLOCKED\n"
          ]
        },
        {
          "output_type": "stream",
          "name": "stderr",
          "text": [
            "\r 63%|██████▎   | 17/27 [54:57<21:40, 130.03s/it, Letter: p, Page: 54]"
          ]
        },
        {
          "output_type": "stream",
          "name": "stdout",
          "text": [
            "BLOCKED\n"
          ]
        },
        {
          "output_type": "stream",
          "name": "stderr",
          "text": [
            "\r 63%|██████▎   | 17/27 [55:01<21:40, 130.03s/it, Letter: p, Page: 54]"
          ]
        },
        {
          "output_type": "stream",
          "name": "stdout",
          "text": [
            "BLOCKED\n"
          ]
        },
        {
          "output_type": "stream",
          "name": "stderr",
          "text": [
            "\r 63%|██████▎   | 17/27 [55:05<21:40, 130.03s/it, Letter: p, Page: 54]"
          ]
        },
        {
          "output_type": "stream",
          "name": "stdout",
          "text": [
            "BLOCKED\n"
          ]
        },
        {
          "output_type": "stream",
          "name": "stderr",
          "text": [
            "\r 63%|██████▎   | 17/27 [55:09<21:40, 130.03s/it, Letter: p, Page: 54]"
          ]
        },
        {
          "output_type": "stream",
          "name": "stdout",
          "text": [
            "BLOCKED\n"
          ]
        },
        {
          "output_type": "stream",
          "name": "stderr",
          "text": [
            "\r 63%|██████▎   | 17/27 [55:13<21:40, 130.03s/it, Letter: p, Page: 54]"
          ]
        },
        {
          "output_type": "stream",
          "name": "stdout",
          "text": [
            "BLOCKED\n"
          ]
        },
        {
          "output_type": "stream",
          "name": "stderr",
          "text": [
            "\r 63%|██████▎   | 17/27 [55:17<21:40, 130.03s/it, Letter: p, Page: 54]"
          ]
        },
        {
          "output_type": "stream",
          "name": "stdout",
          "text": [
            "BLOCKED\n"
          ]
        },
        {
          "output_type": "stream",
          "name": "stderr",
          "text": [
            "\r 63%|██████▎   | 17/27 [55:21<21:40, 130.03s/it, Letter: p, Page: 54]"
          ]
        },
        {
          "output_type": "stream",
          "name": "stdout",
          "text": [
            "BLOCKED\n"
          ]
        },
        {
          "output_type": "stream",
          "name": "stderr",
          "text": [
            "\r 63%|██████▎   | 17/27 [55:24<21:40, 130.03s/it, Letter: p, Page: 54]"
          ]
        },
        {
          "output_type": "stream",
          "name": "stdout",
          "text": [
            "BLOCKED\n"
          ]
        },
        {
          "output_type": "stream",
          "name": "stderr",
          "text": [
            "\r 63%|██████▎   | 17/27 [55:28<21:40, 130.03s/it, Letter: p, Page: 54]"
          ]
        },
        {
          "output_type": "stream",
          "name": "stdout",
          "text": [
            "BLOCKED\n"
          ]
        },
        {
          "output_type": "stream",
          "name": "stderr",
          "text": [
            "\r 63%|██████▎   | 17/27 [55:32<21:40, 130.03s/it, Letter: p, Page: 54]"
          ]
        },
        {
          "output_type": "stream",
          "name": "stdout",
          "text": [
            "BLOCKED\n"
          ]
        },
        {
          "output_type": "stream",
          "name": "stderr",
          "text": [
            "\r 63%|██████▎   | 17/27 [55:36<21:40, 130.03s/it, Letter: p, Page: 54]"
          ]
        },
        {
          "output_type": "stream",
          "name": "stdout",
          "text": [
            "BLOCKED\n"
          ]
        },
        {
          "output_type": "stream",
          "name": "stderr",
          "text": [
            "\r 63%|██████▎   | 17/27 [55:40<21:40, 130.03s/it, Letter: p, Page: 54]"
          ]
        },
        {
          "output_type": "stream",
          "name": "stdout",
          "text": [
            "BLOCKED\n"
          ]
        },
        {
          "output_type": "stream",
          "name": "stderr",
          "text": [
            "\r 63%|██████▎   | 17/27 [55:44<21:40, 130.03s/it, Letter: p, Page: 54]"
          ]
        },
        {
          "output_type": "stream",
          "name": "stdout",
          "text": [
            "BLOCKED\n"
          ]
        },
        {
          "output_type": "stream",
          "name": "stderr",
          "text": [
            " 63%|██████▎   | 17/27 [56:46<21:40, 130.03s/it, Letter: p, Page: 93]"
          ]
        },
        {
          "output_type": "stream",
          "name": "stdout",
          "text": [
            "BLOCKED\n"
          ]
        },
        {
          "output_type": "stream",
          "name": "stderr",
          "text": [
            "\r 63%|██████▎   | 17/27 [56:50<21:40, 130.03s/it, Letter: p, Page: 93]"
          ]
        },
        {
          "output_type": "stream",
          "name": "stdout",
          "text": [
            "BLOCKED\n"
          ]
        },
        {
          "output_type": "stream",
          "name": "stderr",
          "text": [
            "\r 63%|██████▎   | 17/27 [56:54<21:40, 130.03s/it, Letter: p, Page: 93]"
          ]
        },
        {
          "output_type": "stream",
          "name": "stdout",
          "text": [
            "BLOCKED\n"
          ]
        },
        {
          "output_type": "stream",
          "name": "stderr",
          "text": [
            "\r 63%|██████▎   | 17/27 [56:58<21:40, 130.03s/it, Letter: p, Page: 93]"
          ]
        },
        {
          "output_type": "stream",
          "name": "stdout",
          "text": [
            "BLOCKED\n"
          ]
        },
        {
          "output_type": "stream",
          "name": "stderr",
          "text": [
            "\r 63%|██████▎   | 17/27 [57:02<21:40, 130.03s/it, Letter: p, Page: 93]"
          ]
        },
        {
          "output_type": "stream",
          "name": "stdout",
          "text": [
            "BLOCKED\n"
          ]
        },
        {
          "output_type": "stream",
          "name": "stderr",
          "text": [
            "\r 63%|██████▎   | 17/27 [57:06<21:40, 130.03s/it, Letter: p, Page: 93]"
          ]
        },
        {
          "output_type": "stream",
          "name": "stdout",
          "text": [
            "BLOCKED\n"
          ]
        },
        {
          "output_type": "stream",
          "name": "stderr",
          "text": [
            "\r 63%|██████▎   | 17/27 [57:10<21:40, 130.03s/it, Letter: p, Page: 93]"
          ]
        },
        {
          "output_type": "stream",
          "name": "stdout",
          "text": [
            "BLOCKED\n"
          ]
        },
        {
          "output_type": "stream",
          "name": "stderr",
          "text": [
            "\r 63%|██████▎   | 17/27 [57:13<21:40, 130.03s/it, Letter: p, Page: 93]"
          ]
        },
        {
          "output_type": "stream",
          "name": "stdout",
          "text": [
            "BLOCKED\n"
          ]
        },
        {
          "output_type": "stream",
          "name": "stderr",
          "text": [
            "\r 63%|██████▎   | 17/27 [57:17<21:40, 130.03s/it, Letter: p, Page: 93]"
          ]
        },
        {
          "output_type": "stream",
          "name": "stdout",
          "text": [
            "BLOCKED\n"
          ]
        },
        {
          "output_type": "stream",
          "name": "stderr",
          "text": [
            "\r 63%|██████▎   | 17/27 [57:21<21:40, 130.03s/it, Letter: p, Page: 93]"
          ]
        },
        {
          "output_type": "stream",
          "name": "stdout",
          "text": [
            "BLOCKED\n"
          ]
        },
        {
          "output_type": "stream",
          "name": "stderr",
          "text": [
            "\r 63%|██████▎   | 17/27 [57:25<21:40, 130.03s/it, Letter: p, Page: 93]"
          ]
        },
        {
          "output_type": "stream",
          "name": "stdout",
          "text": [
            "BLOCKED\n"
          ]
        },
        {
          "output_type": "stream",
          "name": "stderr",
          "text": [
            "\r 63%|██████▎   | 17/27 [57:29<21:40, 130.03s/it, Letter: p, Page: 93]"
          ]
        },
        {
          "output_type": "stream",
          "name": "stdout",
          "text": [
            "BLOCKED\n"
          ]
        },
        {
          "output_type": "stream",
          "name": "stderr",
          "text": [
            "\r 63%|██████▎   | 17/27 [57:33<21:40, 130.03s/it, Letter: p, Page: 93]"
          ]
        },
        {
          "output_type": "stream",
          "name": "stdout",
          "text": [
            "BLOCKED\n"
          ]
        },
        {
          "output_type": "stream",
          "name": "stderr",
          "text": [
            "\r 63%|██████▎   | 17/27 [57:37<21:40, 130.03s/it, Letter: p, Page: 93]"
          ]
        },
        {
          "output_type": "stream",
          "name": "stdout",
          "text": [
            "BLOCKED\n"
          ]
        },
        {
          "output_type": "stream",
          "name": "stderr",
          "text": [
            "\r 63%|██████▎   | 17/27 [57:41<21:40, 130.03s/it, Letter: p, Page: 93]"
          ]
        },
        {
          "output_type": "stream",
          "name": "stdout",
          "text": [
            "BLOCKED\n"
          ]
        },
        {
          "output_type": "stream",
          "name": "stderr",
          "text": [
            "\r 63%|██████▎   | 17/27 [57:44<21:40, 130.03s/it, Letter: p, Page: 93]"
          ]
        },
        {
          "output_type": "stream",
          "name": "stdout",
          "text": [
            "BLOCKED\n"
          ]
        },
        {
          "output_type": "stream",
          "name": "stderr",
          "text": [
            " 67%|██████▋   | 18/27 [58:31<30:09, 201.09s/it, Letter: q, Page: 1]  "
          ]
        },
        {
          "output_type": "stream",
          "name": "stdout",
          "text": [
            "\n",
            "Letter p, 119 pages\n",
            "\n",
            "Saving with letter p...\n"
          ]
        },
        {
          "output_type": "stream",
          "name": "stderr",
          "text": [
            " 70%|███████   | 19/27 [58:46<19:21, 145.16s/it, Letter: r, Page: 1]"
          ]
        },
        {
          "output_type": "stream",
          "name": "stdout",
          "text": [
            "\n",
            "Letter q, 8 pages\n",
            "\n",
            "Saving with letter q...\n"
          ]
        },
        {
          "output_type": "stream",
          "name": "stderr",
          "text": [
            "\r 70%|███████   | 19/27 [58:47<19:21, 145.16s/it, Letter: r, Page: 2]"
          ]
        },
        {
          "output_type": "stream",
          "name": "stdout",
          "text": [
            "BLOCKED\n"
          ]
        },
        {
          "output_type": "stream",
          "name": "stderr",
          "text": [
            "\r 70%|███████   | 19/27 [58:51<19:21, 145.16s/it, Letter: r, Page: 2]"
          ]
        },
        {
          "output_type": "stream",
          "name": "stdout",
          "text": [
            "BLOCKED\n"
          ]
        },
        {
          "output_type": "stream",
          "name": "stderr",
          "text": [
            "\r 70%|███████   | 19/27 [58:55<19:21, 145.16s/it, Letter: r, Page: 2]"
          ]
        },
        {
          "output_type": "stream",
          "name": "stdout",
          "text": [
            "BLOCKED\n"
          ]
        },
        {
          "output_type": "stream",
          "name": "stderr",
          "text": [
            "\r 70%|███████   | 19/27 [58:59<19:21, 145.16s/it, Letter: r, Page: 2]"
          ]
        },
        {
          "output_type": "stream",
          "name": "stdout",
          "text": [
            "BLOCKED\n"
          ]
        },
        {
          "output_type": "stream",
          "name": "stderr",
          "text": [
            "\r 70%|███████   | 19/27 [59:03<19:21, 145.16s/it, Letter: r, Page: 2]"
          ]
        },
        {
          "output_type": "stream",
          "name": "stdout",
          "text": [
            "BLOCKED\n"
          ]
        },
        {
          "output_type": "stream",
          "name": "stderr",
          "text": [
            "\r 70%|███████   | 19/27 [59:07<19:21, 145.16s/it, Letter: r, Page: 2]"
          ]
        },
        {
          "output_type": "stream",
          "name": "stdout",
          "text": [
            "BLOCKED\n"
          ]
        },
        {
          "output_type": "stream",
          "name": "stderr",
          "text": [
            "\r 70%|███████   | 19/27 [59:11<19:21, 145.16s/it, Letter: r, Page: 2]"
          ]
        },
        {
          "output_type": "stream",
          "name": "stdout",
          "text": [
            "BLOCKED\n"
          ]
        },
        {
          "output_type": "stream",
          "name": "stderr",
          "text": [
            "\r 70%|███████   | 19/27 [59:14<19:21, 145.16s/it, Letter: r, Page: 2]"
          ]
        },
        {
          "output_type": "stream",
          "name": "stdout",
          "text": [
            "BLOCKED\n"
          ]
        },
        {
          "output_type": "stream",
          "name": "stderr",
          "text": [
            "\r 70%|███████   | 19/27 [59:18<19:21, 145.16s/it, Letter: r, Page: 2]"
          ]
        },
        {
          "output_type": "stream",
          "name": "stdout",
          "text": [
            "BLOCKED\n"
          ]
        },
        {
          "output_type": "stream",
          "name": "stderr",
          "text": [
            "\r 70%|███████   | 19/27 [59:22<19:21, 145.16s/it, Letter: r, Page: 2]"
          ]
        },
        {
          "output_type": "stream",
          "name": "stdout",
          "text": [
            "BLOCKED\n"
          ]
        },
        {
          "output_type": "stream",
          "name": "stderr",
          "text": [
            "\r 70%|███████   | 19/27 [59:26<19:21, 145.16s/it, Letter: r, Page: 2]"
          ]
        },
        {
          "output_type": "stream",
          "name": "stdout",
          "text": [
            "BLOCKED\n"
          ]
        },
        {
          "output_type": "stream",
          "name": "stderr",
          "text": [
            "\r 70%|███████   | 19/27 [59:30<19:21, 145.16s/it, Letter: r, Page: 2]"
          ]
        },
        {
          "output_type": "stream",
          "name": "stdout",
          "text": [
            "BLOCKED\n"
          ]
        },
        {
          "output_type": "stream",
          "name": "stderr",
          "text": [
            "\r 70%|███████   | 19/27 [59:34<19:21, 145.16s/it, Letter: r, Page: 2]"
          ]
        },
        {
          "output_type": "stream",
          "name": "stdout",
          "text": [
            "BLOCKED\n"
          ]
        },
        {
          "output_type": "stream",
          "name": "stderr",
          "text": [
            "\r 70%|███████   | 19/27 [59:37<19:21, 145.16s/it, Letter: r, Page: 2]"
          ]
        },
        {
          "output_type": "stream",
          "name": "stdout",
          "text": [
            "BLOCKED\n"
          ]
        },
        {
          "output_type": "stream",
          "name": "stderr",
          "text": [
            "\r 70%|███████   | 19/27 [59:41<19:21, 145.16s/it, Letter: r, Page: 2]"
          ]
        },
        {
          "output_type": "stream",
          "name": "stdout",
          "text": [
            "BLOCKED\n"
          ]
        },
        {
          "output_type": "stream",
          "name": "stderr",
          "text": [
            "\r 70%|███████   | 19/27 [59:45<19:21, 145.16s/it, Letter: r, Page: 2]"
          ]
        },
        {
          "output_type": "stream",
          "name": "stdout",
          "text": [
            "BLOCKED\n"
          ]
        },
        {
          "output_type": "stream",
          "name": "stderr",
          "text": [
            " 70%|███████   | 19/27 [1:00:47<19:21, 145.16s/it, Letter: r, Page: 40]"
          ]
        },
        {
          "output_type": "stream",
          "name": "stdout",
          "text": [
            "BLOCKED\n"
          ]
        },
        {
          "output_type": "stream",
          "name": "stderr",
          "text": [
            "\r 70%|███████   | 19/27 [1:00:50<19:21, 145.16s/it, Letter: r, Page: 40]"
          ]
        },
        {
          "output_type": "stream",
          "name": "stdout",
          "text": [
            "BLOCKED\n"
          ]
        },
        {
          "output_type": "stream",
          "name": "stderr",
          "text": [
            "\r 70%|███████   | 19/27 [1:00:54<19:21, 145.16s/it, Letter: r, Page: 40]"
          ]
        },
        {
          "output_type": "stream",
          "name": "stdout",
          "text": [
            "BLOCKED\n"
          ]
        },
        {
          "output_type": "stream",
          "name": "stderr",
          "text": [
            "\r 70%|███████   | 19/27 [1:00:58<19:21, 145.16s/it, Letter: r, Page: 40]"
          ]
        },
        {
          "output_type": "stream",
          "name": "stdout",
          "text": [
            "BLOCKED\n"
          ]
        },
        {
          "output_type": "stream",
          "name": "stderr",
          "text": [
            "\r 70%|███████   | 19/27 [1:01:02<19:21, 145.16s/it, Letter: r, Page: 40]"
          ]
        },
        {
          "output_type": "stream",
          "name": "stdout",
          "text": [
            "BLOCKED\n"
          ]
        },
        {
          "output_type": "stream",
          "name": "stderr",
          "text": [
            "\r 70%|███████   | 19/27 [1:01:06<19:21, 145.16s/it, Letter: r, Page: 40]"
          ]
        },
        {
          "output_type": "stream",
          "name": "stdout",
          "text": [
            "BLOCKED\n"
          ]
        },
        {
          "output_type": "stream",
          "name": "stderr",
          "text": [
            "\r 70%|███████   | 19/27 [1:01:10<19:21, 145.16s/it, Letter: r, Page: 40]"
          ]
        },
        {
          "output_type": "stream",
          "name": "stdout",
          "text": [
            "BLOCKED\n"
          ]
        },
        {
          "output_type": "stream",
          "name": "stderr",
          "text": [
            "\r 70%|███████   | 19/27 [1:01:14<19:21, 145.16s/it, Letter: r, Page: 40]"
          ]
        },
        {
          "output_type": "stream",
          "name": "stdout",
          "text": [
            "BLOCKED\n"
          ]
        },
        {
          "output_type": "stream",
          "name": "stderr",
          "text": [
            "\r 70%|███████   | 19/27 [1:01:18<19:21, 145.16s/it, Letter: r, Page: 40]"
          ]
        },
        {
          "output_type": "stream",
          "name": "stdout",
          "text": [
            "BLOCKED\n"
          ]
        },
        {
          "output_type": "stream",
          "name": "stderr",
          "text": [
            "\r 70%|███████   | 19/27 [1:01:21<19:21, 145.16s/it, Letter: r, Page: 40]"
          ]
        },
        {
          "output_type": "stream",
          "name": "stdout",
          "text": [
            "BLOCKED\n"
          ]
        },
        {
          "output_type": "stream",
          "name": "stderr",
          "text": [
            "\r 70%|███████   | 19/27 [1:01:25<19:21, 145.16s/it, Letter: r, Page: 40]"
          ]
        },
        {
          "output_type": "stream",
          "name": "stdout",
          "text": [
            "BLOCKED\n"
          ]
        },
        {
          "output_type": "stream",
          "name": "stderr",
          "text": [
            "\r 70%|███████   | 19/27 [1:01:29<19:21, 145.16s/it, Letter: r, Page: 40]"
          ]
        },
        {
          "output_type": "stream",
          "name": "stdout",
          "text": [
            "BLOCKED\n"
          ]
        },
        {
          "output_type": "stream",
          "name": "stderr",
          "text": [
            "\r 70%|███████   | 19/27 [1:01:33<19:21, 145.16s/it, Letter: r, Page: 40]"
          ]
        },
        {
          "output_type": "stream",
          "name": "stdout",
          "text": [
            "BLOCKED\n"
          ]
        },
        {
          "output_type": "stream",
          "name": "stderr",
          "text": [
            "\r 70%|███████   | 19/27 [1:01:37<19:21, 145.16s/it, Letter: r, Page: 40]"
          ]
        },
        {
          "output_type": "stream",
          "name": "stdout",
          "text": [
            "BLOCKED\n"
          ]
        },
        {
          "output_type": "stream",
          "name": "stderr",
          "text": [
            "\r 70%|███████   | 19/27 [1:01:41<19:21, 145.16s/it, Letter: r, Page: 40]"
          ]
        },
        {
          "output_type": "stream",
          "name": "stdout",
          "text": [
            "BLOCKED\n"
          ]
        },
        {
          "output_type": "stream",
          "name": "stderr",
          "text": [
            "\r 70%|███████   | 19/27 [1:01:45<19:21, 145.16s/it, Letter: r, Page: 40]"
          ]
        },
        {
          "output_type": "stream",
          "name": "stdout",
          "text": [
            "BLOCKED\n"
          ]
        },
        {
          "output_type": "stream",
          "name": "stderr",
          "text": [
            " 70%|███████   | 19/27 [1:02:44<19:21, 145.16s/it, Letter: r, Page: 75]"
          ]
        },
        {
          "output_type": "stream",
          "name": "stdout",
          "text": [
            "\n",
            "Letter r, 74 pages\n",
            "\n",
            "Saving with letter r...\n"
          ]
        },
        {
          "output_type": "stream",
          "name": "stderr",
          "text": [
            " 74%|███████▍  | 20/27 [1:02:49<20:14, 173.56s/it, Letter: s, Page: 3]"
          ]
        },
        {
          "output_type": "stream",
          "name": "stdout",
          "text": [
            "BLOCKED\n"
          ]
        },
        {
          "output_type": "stream",
          "name": "stderr",
          "text": [
            "\r 74%|███████▍  | 20/27 [1:02:52<20:14, 173.56s/it, Letter: s, Page: 3]"
          ]
        },
        {
          "output_type": "stream",
          "name": "stdout",
          "text": [
            "BLOCKED\n"
          ]
        },
        {
          "output_type": "stream",
          "name": "stderr",
          "text": [
            "\r 74%|███████▍  | 20/27 [1:02:56<20:14, 173.56s/it, Letter: s, Page: 3]"
          ]
        },
        {
          "output_type": "stream",
          "name": "stdout",
          "text": [
            "BLOCKED\n"
          ]
        },
        {
          "output_type": "stream",
          "name": "stderr",
          "text": [
            "\r 74%|███████▍  | 20/27 [1:03:00<20:14, 173.56s/it, Letter: s, Page: 3]"
          ]
        },
        {
          "output_type": "stream",
          "name": "stdout",
          "text": [
            "BLOCKED\n"
          ]
        },
        {
          "output_type": "stream",
          "name": "stderr",
          "text": [
            "\r 74%|███████▍  | 20/27 [1:03:04<20:14, 173.56s/it, Letter: s, Page: 3]"
          ]
        },
        {
          "output_type": "stream",
          "name": "stdout",
          "text": [
            "BLOCKED\n"
          ]
        },
        {
          "output_type": "stream",
          "name": "stderr",
          "text": [
            "\r 74%|███████▍  | 20/27 [1:03:08<20:14, 173.56s/it, Letter: s, Page: 3]"
          ]
        },
        {
          "output_type": "stream",
          "name": "stdout",
          "text": [
            "BLOCKED\n"
          ]
        },
        {
          "output_type": "stream",
          "name": "stderr",
          "text": [
            "\r 74%|███████▍  | 20/27 [1:03:12<20:14, 173.56s/it, Letter: s, Page: 3]"
          ]
        },
        {
          "output_type": "stream",
          "name": "stdout",
          "text": [
            "BLOCKED\n"
          ]
        },
        {
          "output_type": "stream",
          "name": "stderr",
          "text": [
            "\r 74%|███████▍  | 20/27 [1:03:16<20:14, 173.56s/it, Letter: s, Page: 3]"
          ]
        },
        {
          "output_type": "stream",
          "name": "stdout",
          "text": [
            "BLOCKED\n"
          ]
        },
        {
          "output_type": "stream",
          "name": "stderr",
          "text": [
            "\r 74%|███████▍  | 20/27 [1:03:20<20:14, 173.56s/it, Letter: s, Page: 3]"
          ]
        },
        {
          "output_type": "stream",
          "name": "stdout",
          "text": [
            "BLOCKED\n"
          ]
        },
        {
          "output_type": "stream",
          "name": "stderr",
          "text": [
            "\r 74%|███████▍  | 20/27 [1:03:23<20:14, 173.56s/it, Letter: s, Page: 3]"
          ]
        },
        {
          "output_type": "stream",
          "name": "stdout",
          "text": [
            "BLOCKED\n"
          ]
        },
        {
          "output_type": "stream",
          "name": "stderr",
          "text": [
            "\r 74%|███████▍  | 20/27 [1:03:27<20:14, 173.56s/it, Letter: s, Page: 3]"
          ]
        },
        {
          "output_type": "stream",
          "name": "stdout",
          "text": [
            "BLOCKED\n"
          ]
        },
        {
          "output_type": "stream",
          "name": "stderr",
          "text": [
            "\r 74%|███████▍  | 20/27 [1:03:31<20:14, 173.56s/it, Letter: s, Page: 3]"
          ]
        },
        {
          "output_type": "stream",
          "name": "stdout",
          "text": [
            "BLOCKED\n"
          ]
        },
        {
          "output_type": "stream",
          "name": "stderr",
          "text": [
            "\r 74%|███████▍  | 20/27 [1:03:35<20:14, 173.56s/it, Letter: s, Page: 3]"
          ]
        },
        {
          "output_type": "stream",
          "name": "stdout",
          "text": [
            "BLOCKED\n"
          ]
        },
        {
          "output_type": "stream",
          "name": "stderr",
          "text": [
            "\r 74%|███████▍  | 20/27 [1:03:39<20:14, 173.56s/it, Letter: s, Page: 3]"
          ]
        },
        {
          "output_type": "stream",
          "name": "stdout",
          "text": [
            "BLOCKED\n"
          ]
        },
        {
          "output_type": "stream",
          "name": "stderr",
          "text": [
            "\r 74%|███████▍  | 20/27 [1:03:43<20:14, 173.56s/it, Letter: s, Page: 3]"
          ]
        },
        {
          "output_type": "stream",
          "name": "stdout",
          "text": [
            "BLOCKED\n"
          ]
        },
        {
          "output_type": "stream",
          "name": "stderr",
          "text": [
            "\r 74%|███████▍  | 20/27 [1:03:47<20:14, 173.56s/it, Letter: s, Page: 3]"
          ]
        },
        {
          "output_type": "stream",
          "name": "stdout",
          "text": [
            "BLOCKED\n"
          ]
        },
        {
          "output_type": "stream",
          "name": "stderr",
          "text": [
            " 74%|███████▍  | 20/27 [1:04:44<20:14, 173.56s/it, Letter: s, Page: 39]"
          ]
        },
        {
          "output_type": "stream",
          "name": "stdout",
          "text": [
            "BLOCKED\n"
          ]
        },
        {
          "output_type": "stream",
          "name": "stderr",
          "text": [
            "\r 74%|███████▍  | 20/27 [1:04:48<20:14, 173.56s/it, Letter: s, Page: 39]"
          ]
        },
        {
          "output_type": "stream",
          "name": "stdout",
          "text": [
            "BLOCKED\n"
          ]
        },
        {
          "output_type": "stream",
          "name": "stderr",
          "text": [
            "\r 74%|███████▍  | 20/27 [1:04:51<20:14, 173.56s/it, Letter: s, Page: 39]"
          ]
        },
        {
          "output_type": "stream",
          "name": "stdout",
          "text": [
            "BLOCKED\n"
          ]
        },
        {
          "output_type": "stream",
          "name": "stderr",
          "text": [
            "\r 74%|███████▍  | 20/27 [1:04:55<20:14, 173.56s/it, Letter: s, Page: 39]"
          ]
        },
        {
          "output_type": "stream",
          "name": "stdout",
          "text": [
            "BLOCKED\n"
          ]
        },
        {
          "output_type": "stream",
          "name": "stderr",
          "text": [
            "\r 74%|███████▍  | 20/27 [1:04:59<20:14, 173.56s/it, Letter: s, Page: 39]"
          ]
        },
        {
          "output_type": "stream",
          "name": "stdout",
          "text": [
            "BLOCKED\n"
          ]
        },
        {
          "output_type": "stream",
          "name": "stderr",
          "text": [
            "\r 74%|███████▍  | 20/27 [1:05:03<20:14, 173.56s/it, Letter: s, Page: 39]"
          ]
        },
        {
          "output_type": "stream",
          "name": "stdout",
          "text": [
            "BLOCKED\n"
          ]
        },
        {
          "output_type": "stream",
          "name": "stderr",
          "text": [
            "\r 74%|███████▍  | 20/27 [1:05:07<20:14, 173.56s/it, Letter: s, Page: 39]"
          ]
        },
        {
          "output_type": "stream",
          "name": "stdout",
          "text": [
            "BLOCKED\n"
          ]
        },
        {
          "output_type": "stream",
          "name": "stderr",
          "text": [
            "\r 74%|███████▍  | 20/27 [1:05:11<20:14, 173.56s/it, Letter: s, Page: 39]"
          ]
        },
        {
          "output_type": "stream",
          "name": "stdout",
          "text": [
            "BLOCKED\n"
          ]
        },
        {
          "output_type": "stream",
          "name": "stderr",
          "text": [
            "\r 74%|███████▍  | 20/27 [1:05:15<20:14, 173.56s/it, Letter: s, Page: 39]"
          ]
        },
        {
          "output_type": "stream",
          "name": "stdout",
          "text": [
            "BLOCKED\n"
          ]
        },
        {
          "output_type": "stream",
          "name": "stderr",
          "text": [
            "\r 74%|███████▍  | 20/27 [1:05:18<20:14, 173.56s/it, Letter: s, Page: 39]"
          ]
        },
        {
          "output_type": "stream",
          "name": "stdout",
          "text": [
            "BLOCKED\n"
          ]
        },
        {
          "output_type": "stream",
          "name": "stderr",
          "text": [
            "\r 74%|███████▍  | 20/27 [1:05:22<20:14, 173.56s/it, Letter: s, Page: 39]"
          ]
        },
        {
          "output_type": "stream",
          "name": "stdout",
          "text": [
            "BLOCKED\n"
          ]
        },
        {
          "output_type": "stream",
          "name": "stderr",
          "text": [
            "\r 74%|███████▍  | 20/27 [1:05:26<20:14, 173.56s/it, Letter: s, Page: 39]"
          ]
        },
        {
          "output_type": "stream",
          "name": "stdout",
          "text": [
            "BLOCKED\n"
          ]
        },
        {
          "output_type": "stream",
          "name": "stderr",
          "text": [
            "\r 74%|███████▍  | 20/27 [1:05:30<20:14, 173.56s/it, Letter: s, Page: 39]"
          ]
        },
        {
          "output_type": "stream",
          "name": "stdout",
          "text": [
            "BLOCKED\n"
          ]
        },
        {
          "output_type": "stream",
          "name": "stderr",
          "text": [
            "\r 74%|███████▍  | 20/27 [1:05:34<20:14, 173.56s/it, Letter: s, Page: 39]"
          ]
        },
        {
          "output_type": "stream",
          "name": "stdout",
          "text": [
            "BLOCKED\n"
          ]
        },
        {
          "output_type": "stream",
          "name": "stderr",
          "text": [
            "\r 74%|███████▍  | 20/27 [1:05:38<20:14, 173.56s/it, Letter: s, Page: 39]"
          ]
        },
        {
          "output_type": "stream",
          "name": "stdout",
          "text": [
            "BLOCKED\n"
          ]
        },
        {
          "output_type": "stream",
          "name": "stderr",
          "text": [
            "\r 74%|███████▍  | 20/27 [1:05:42<20:14, 173.56s/it, Letter: s, Page: 39]"
          ]
        },
        {
          "output_type": "stream",
          "name": "stdout",
          "text": [
            "BLOCKED\n"
          ]
        },
        {
          "output_type": "stream",
          "name": "stderr",
          "text": [
            " 78%|███████▊  | 21/27 [1:06:31<18:53, 188.99s/it, Letter: t, Page: 1] "
          ]
        },
        {
          "output_type": "stream",
          "name": "stdout",
          "text": [
            "\n",
            "Letter s, 67 pages\n",
            "\n",
            "Saving with letter s...\n"
          ]
        },
        {
          "output_type": "stream",
          "name": "stderr",
          "text": [
            " 78%|███████▊  | 21/27 [1:06:46<18:53, 188.99s/it, Letter: t, Page: 11]"
          ]
        },
        {
          "output_type": "stream",
          "name": "stdout",
          "text": [
            "BLOCKED\n"
          ]
        },
        {
          "output_type": "stream",
          "name": "stderr",
          "text": [
            "\r 78%|███████▊  | 21/27 [1:06:49<18:53, 188.99s/it, Letter: t, Page: 11]"
          ]
        },
        {
          "output_type": "stream",
          "name": "stdout",
          "text": [
            "BLOCKED\n"
          ]
        },
        {
          "output_type": "stream",
          "name": "stderr",
          "text": [
            "\r 78%|███████▊  | 21/27 [1:06:53<18:53, 188.99s/it, Letter: t, Page: 11]"
          ]
        },
        {
          "output_type": "stream",
          "name": "stdout",
          "text": [
            "BLOCKED\n"
          ]
        },
        {
          "output_type": "stream",
          "name": "stderr",
          "text": [
            "\r 78%|███████▊  | 21/27 [1:06:57<18:53, 188.99s/it, Letter: t, Page: 11]"
          ]
        },
        {
          "output_type": "stream",
          "name": "stdout",
          "text": [
            "BLOCKED\n"
          ]
        },
        {
          "output_type": "stream",
          "name": "stderr",
          "text": [
            "\r 78%|███████▊  | 21/27 [1:07:01<18:53, 188.99s/it, Letter: t, Page: 11]"
          ]
        },
        {
          "output_type": "stream",
          "name": "stdout",
          "text": [
            "BLOCKED\n"
          ]
        },
        {
          "output_type": "stream",
          "name": "stderr",
          "text": [
            "\r 78%|███████▊  | 21/27 [1:07:05<18:53, 188.99s/it, Letter: t, Page: 11]"
          ]
        },
        {
          "output_type": "stream",
          "name": "stdout",
          "text": [
            "BLOCKED\n"
          ]
        },
        {
          "output_type": "stream",
          "name": "stderr",
          "text": [
            "\r 78%|███████▊  | 21/27 [1:07:09<18:53, 188.99s/it, Letter: t, Page: 11]"
          ]
        },
        {
          "output_type": "stream",
          "name": "stdout",
          "text": [
            "BLOCKED\n"
          ]
        },
        {
          "output_type": "stream",
          "name": "stderr",
          "text": [
            "\r 78%|███████▊  | 21/27 [1:07:12<18:53, 188.99s/it, Letter: t, Page: 11]"
          ]
        },
        {
          "output_type": "stream",
          "name": "stdout",
          "text": [
            "BLOCKED\n"
          ]
        },
        {
          "output_type": "stream",
          "name": "stderr",
          "text": [
            "\r 78%|███████▊  | 21/27 [1:07:16<18:53, 188.99s/it, Letter: t, Page: 11]"
          ]
        },
        {
          "output_type": "stream",
          "name": "stdout",
          "text": [
            "BLOCKED\n"
          ]
        },
        {
          "output_type": "stream",
          "name": "stderr",
          "text": [
            "\r 78%|███████▊  | 21/27 [1:07:20<18:53, 188.99s/it, Letter: t, Page: 11]"
          ]
        },
        {
          "output_type": "stream",
          "name": "stdout",
          "text": [
            "BLOCKED\n"
          ]
        },
        {
          "output_type": "stream",
          "name": "stderr",
          "text": [
            "\r 78%|███████▊  | 21/27 [1:07:24<18:53, 188.99s/it, Letter: t, Page: 11]"
          ]
        },
        {
          "output_type": "stream",
          "name": "stdout",
          "text": [
            "BLOCKED\n"
          ]
        },
        {
          "output_type": "stream",
          "name": "stderr",
          "text": [
            "\r 78%|███████▊  | 21/27 [1:07:28<18:53, 188.99s/it, Letter: t, Page: 11]"
          ]
        },
        {
          "output_type": "stream",
          "name": "stdout",
          "text": [
            "BLOCKED\n"
          ]
        },
        {
          "output_type": "stream",
          "name": "stderr",
          "text": [
            "\r 78%|███████▊  | 21/27 [1:07:32<18:53, 188.99s/it, Letter: t, Page: 11]"
          ]
        },
        {
          "output_type": "stream",
          "name": "stdout",
          "text": [
            "BLOCKED\n"
          ]
        },
        {
          "output_type": "stream",
          "name": "stderr",
          "text": [
            "\r 78%|███████▊  | 21/27 [1:07:36<18:53, 188.99s/it, Letter: t, Page: 11]"
          ]
        },
        {
          "output_type": "stream",
          "name": "stdout",
          "text": [
            "BLOCKED\n"
          ]
        },
        {
          "output_type": "stream",
          "name": "stderr",
          "text": [
            "\r 78%|███████▊  | 21/27 [1:07:39<18:53, 188.99s/it, Letter: t, Page: 11]"
          ]
        },
        {
          "output_type": "stream",
          "name": "stdout",
          "text": [
            "BLOCKED\n"
          ]
        },
        {
          "output_type": "stream",
          "name": "stderr",
          "text": [
            "\r 78%|███████▊  | 21/27 [1:07:43<18:53, 188.99s/it, Letter: t, Page: 11]"
          ]
        },
        {
          "output_type": "stream",
          "name": "stdout",
          "text": [
            "BLOCKED\n"
          ]
        },
        {
          "output_type": "stream",
          "name": "stderr",
          "text": [
            " 78%|███████▊  | 21/27 [1:08:46<18:53, 188.99s/it, Letter: t, Page: 50]"
          ]
        },
        {
          "output_type": "stream",
          "name": "stdout",
          "text": [
            "BLOCKED\n"
          ]
        },
        {
          "output_type": "stream",
          "name": "stderr",
          "text": [
            "\r 78%|███████▊  | 21/27 [1:08:50<18:53, 188.99s/it, Letter: t, Page: 50]"
          ]
        },
        {
          "output_type": "stream",
          "name": "stdout",
          "text": [
            "BLOCKED\n"
          ]
        },
        {
          "output_type": "stream",
          "name": "stderr",
          "text": [
            "\r 78%|███████▊  | 21/27 [1:08:53<18:53, 188.99s/it, Letter: t, Page: 50]"
          ]
        },
        {
          "output_type": "stream",
          "name": "stdout",
          "text": [
            "BLOCKED\n"
          ]
        },
        {
          "output_type": "stream",
          "name": "stderr",
          "text": [
            "\r 78%|███████▊  | 21/27 [1:08:57<18:53, 188.99s/it, Letter: t, Page: 50]"
          ]
        },
        {
          "output_type": "stream",
          "name": "stdout",
          "text": [
            "BLOCKED\n"
          ]
        },
        {
          "output_type": "stream",
          "name": "stderr",
          "text": [
            "\r 78%|███████▊  | 21/27 [1:09:01<18:53, 188.99s/it, Letter: t, Page: 50]"
          ]
        },
        {
          "output_type": "stream",
          "name": "stdout",
          "text": [
            "BLOCKED\n"
          ]
        },
        {
          "output_type": "stream",
          "name": "stderr",
          "text": [
            "\r 78%|███████▊  | 21/27 [1:09:05<18:53, 188.99s/it, Letter: t, Page: 50]"
          ]
        },
        {
          "output_type": "stream",
          "name": "stdout",
          "text": [
            "BLOCKED\n"
          ]
        },
        {
          "output_type": "stream",
          "name": "stderr",
          "text": [
            "\r 78%|███████▊  | 21/27 [1:09:09<18:53, 188.99s/it, Letter: t, Page: 50]"
          ]
        },
        {
          "output_type": "stream",
          "name": "stdout",
          "text": [
            "BLOCKED\n"
          ]
        },
        {
          "output_type": "stream",
          "name": "stderr",
          "text": [
            "\r 78%|███████▊  | 21/27 [1:09:13<18:53, 188.99s/it, Letter: t, Page: 50]"
          ]
        },
        {
          "output_type": "stream",
          "name": "stdout",
          "text": [
            "BLOCKED\n"
          ]
        },
        {
          "output_type": "stream",
          "name": "stderr",
          "text": [
            "\r 78%|███████▊  | 21/27 [1:09:17<18:53, 188.99s/it, Letter: t, Page: 50]"
          ]
        },
        {
          "output_type": "stream",
          "name": "stdout",
          "text": [
            "BLOCKED\n"
          ]
        },
        {
          "output_type": "stream",
          "name": "stderr",
          "text": [
            "\r 78%|███████▊  | 21/27 [1:09:20<18:53, 188.99s/it, Letter: t, Page: 50]"
          ]
        },
        {
          "output_type": "stream",
          "name": "stdout",
          "text": [
            "BLOCKED\n"
          ]
        },
        {
          "output_type": "stream",
          "name": "stderr",
          "text": [
            "\r 78%|███████▊  | 21/27 [1:09:24<18:53, 188.99s/it, Letter: t, Page: 50]"
          ]
        },
        {
          "output_type": "stream",
          "name": "stdout",
          "text": [
            "BLOCKED\n"
          ]
        },
        {
          "output_type": "stream",
          "name": "stderr",
          "text": [
            "\r 78%|███████▊  | 21/27 [1:09:28<18:53, 188.99s/it, Letter: t, Page: 50]"
          ]
        },
        {
          "output_type": "stream",
          "name": "stdout",
          "text": [
            "BLOCKED\n"
          ]
        },
        {
          "output_type": "stream",
          "name": "stderr",
          "text": [
            "\r 78%|███████▊  | 21/27 [1:09:32<18:53, 188.99s/it, Letter: t, Page: 50]"
          ]
        },
        {
          "output_type": "stream",
          "name": "stdout",
          "text": [
            "BLOCKED\n"
          ]
        },
        {
          "output_type": "stream",
          "name": "stderr",
          "text": [
            "\r 78%|███████▊  | 21/27 [1:09:36<18:53, 188.99s/it, Letter: t, Page: 50]"
          ]
        },
        {
          "output_type": "stream",
          "name": "stdout",
          "text": [
            "BLOCKED\n"
          ]
        },
        {
          "output_type": "stream",
          "name": "stderr",
          "text": [
            "\r 78%|███████▊  | 21/27 [1:09:40<18:53, 188.99s/it, Letter: t, Page: 50]"
          ]
        },
        {
          "output_type": "stream",
          "name": "stdout",
          "text": [
            "BLOCKED\n"
          ]
        },
        {
          "output_type": "stream",
          "name": "stderr",
          "text": [
            "\r 78%|███████▊  | 21/27 [1:09:44<18:53, 188.99s/it, Letter: t, Page: 50]"
          ]
        },
        {
          "output_type": "stream",
          "name": "stdout",
          "text": [
            "BLOCKED\n"
          ]
        },
        {
          "output_type": "stream",
          "name": "stderr",
          "text": [
            " 78%|███████▊  | 21/27 [1:10:10<18:53, 188.99s/it, Letter: t, Page: 65]"
          ]
        },
        {
          "output_type": "stream",
          "name": "stdout",
          "text": [
            "\n",
            "Letter t, 64 pages\n",
            "\n",
            "Saving with letter t...\n"
          ]
        },
        {
          "output_type": "stream",
          "name": "stderr",
          "text": [
            " 81%|████████▏ | 22/27 [1:10:24<16:33, 198.72s/it, Letter: u, Page: 9]"
          ]
        },
        {
          "output_type": "stream",
          "name": "stdout",
          "text": [
            "\n",
            "Letter u, 8 pages\n",
            "\n",
            "Saving with letter u...\n"
          ]
        },
        {
          "output_type": "stream",
          "name": "stderr",
          "text": [
            " 85%|████████▌ | 23/27 [1:10:47<09:32, 143.14s/it, Letter: v, Page: 15]"
          ]
        },
        {
          "output_type": "stream",
          "name": "stdout",
          "text": [
            "BLOCKED\n"
          ]
        },
        {
          "output_type": "stream",
          "name": "stderr",
          "text": [
            "\r 85%|████████▌ | 23/27 [1:10:52<09:32, 143.14s/it, Letter: v, Page: 15]"
          ]
        },
        {
          "output_type": "stream",
          "name": "stdout",
          "text": [
            "BLOCKED\n"
          ]
        },
        {
          "output_type": "stream",
          "name": "stderr",
          "text": [
            "\r 85%|████████▌ | 23/27 [1:10:55<09:32, 143.14s/it, Letter: v, Page: 15]"
          ]
        },
        {
          "output_type": "stream",
          "name": "stdout",
          "text": [
            "BLOCKED\n"
          ]
        },
        {
          "output_type": "stream",
          "name": "stderr",
          "text": [
            "\r 85%|████████▌ | 23/27 [1:10:59<09:32, 143.14s/it, Letter: v, Page: 15]"
          ]
        },
        {
          "output_type": "stream",
          "name": "stdout",
          "text": [
            "BLOCKED\n"
          ]
        },
        {
          "output_type": "stream",
          "name": "stderr",
          "text": [
            "\r 85%|████████▌ | 23/27 [1:11:03<09:32, 143.14s/it, Letter: v, Page: 15]"
          ]
        },
        {
          "output_type": "stream",
          "name": "stdout",
          "text": [
            "BLOCKED\n"
          ]
        },
        {
          "output_type": "stream",
          "name": "stderr",
          "text": [
            "\r 85%|████████▌ | 23/27 [1:11:07<09:32, 143.14s/it, Letter: v, Page: 15]"
          ]
        },
        {
          "output_type": "stream",
          "name": "stdout",
          "text": [
            "BLOCKED\n"
          ]
        },
        {
          "output_type": "stream",
          "name": "stderr",
          "text": [
            "\r 85%|████████▌ | 23/27 [1:11:11<09:32, 143.14s/it, Letter: v, Page: 15]"
          ]
        },
        {
          "output_type": "stream",
          "name": "stdout",
          "text": [
            "BLOCKED\n"
          ]
        },
        {
          "output_type": "stream",
          "name": "stderr",
          "text": [
            "\r 85%|████████▌ | 23/27 [1:11:15<09:32, 143.14s/it, Letter: v, Page: 15]"
          ]
        },
        {
          "output_type": "stream",
          "name": "stdout",
          "text": [
            "BLOCKED\n"
          ]
        },
        {
          "output_type": "stream",
          "name": "stderr",
          "text": [
            "\r 85%|████████▌ | 23/27 [1:11:19<09:32, 143.14s/it, Letter: v, Page: 15]"
          ]
        },
        {
          "output_type": "stream",
          "name": "stdout",
          "text": [
            "BLOCKED\n"
          ]
        },
        {
          "output_type": "stream",
          "name": "stderr",
          "text": [
            "\r 85%|████████▌ | 23/27 [1:11:22<09:32, 143.14s/it, Letter: v, Page: 15]"
          ]
        },
        {
          "output_type": "stream",
          "name": "stdout",
          "text": [
            "BLOCKED\n"
          ]
        },
        {
          "output_type": "stream",
          "name": "stderr",
          "text": [
            "\r 85%|████████▌ | 23/27 [1:11:26<09:32, 143.14s/it, Letter: v, Page: 15]"
          ]
        },
        {
          "output_type": "stream",
          "name": "stdout",
          "text": [
            "BLOCKED\n"
          ]
        },
        {
          "output_type": "stream",
          "name": "stderr",
          "text": [
            "\r 85%|████████▌ | 23/27 [1:11:30<09:32, 143.14s/it, Letter: v, Page: 15]"
          ]
        },
        {
          "output_type": "stream",
          "name": "stdout",
          "text": [
            "BLOCKED\n"
          ]
        },
        {
          "output_type": "stream",
          "name": "stderr",
          "text": [
            "\r 85%|████████▌ | 23/27 [1:11:34<09:32, 143.14s/it, Letter: v, Page: 15]"
          ]
        },
        {
          "output_type": "stream",
          "name": "stdout",
          "text": [
            "BLOCKED\n"
          ]
        },
        {
          "output_type": "stream",
          "name": "stderr",
          "text": [
            "\r 85%|████████▌ | 23/27 [1:11:38<09:32, 143.14s/it, Letter: v, Page: 15]"
          ]
        },
        {
          "output_type": "stream",
          "name": "stdout",
          "text": [
            "BLOCKED\n"
          ]
        },
        {
          "output_type": "stream",
          "name": "stderr",
          "text": [
            "\r 85%|████████▌ | 23/27 [1:11:42<09:32, 143.14s/it, Letter: v, Page: 15]"
          ]
        },
        {
          "output_type": "stream",
          "name": "stdout",
          "text": [
            "BLOCKED\n"
          ]
        },
        {
          "output_type": "stream",
          "name": "stderr",
          "text": [
            "\r 85%|████████▌ | 23/27 [1:11:46<09:32, 143.14s/it, Letter: v, Page: 15]"
          ]
        },
        {
          "output_type": "stream",
          "name": "stdout",
          "text": [
            "BLOCKED\n"
          ]
        },
        {
          "output_type": "stream",
          "name": "stderr",
          "text": [
            " 85%|████████▌ | 23/27 [1:12:14<09:32, 143.14s/it, Letter: v, Page: 30]"
          ]
        },
        {
          "output_type": "stream",
          "name": "stdout",
          "text": [
            "\n",
            "Letter v, 29 pages\n",
            "\n",
            "Saving with letter v...\n"
          ]
        },
        {
          "output_type": "stream",
          "name": "stderr",
          "text": [
            " 89%|████████▉ | 24/27 [1:12:17<06:40, 133.34s/it, Letter: w, Page: 2]"
          ]
        },
        {
          "output_type": "stream",
          "name": "stdout",
          "text": [
            "\n",
            "Letter w, 1 pages\n",
            "\n",
            "Saving with letter w...\n"
          ]
        },
        {
          "output_type": "stream",
          "name": "stderr",
          "text": [
            " 93%|█████████▎| 25/27 [1:12:21<03:08, 94.26s/it, Letter: y, Page: 2]"
          ]
        },
        {
          "output_type": "stream",
          "name": "stdout",
          "text": [
            "\n",
            "Letter y, 1 pages\n",
            "\n",
            "Saving with letter y...\n"
          ]
        },
        {
          "output_type": "stream",
          "name": "stderr",
          "text": [
            " 96%|█████████▋| 26/27 [1:12:25<01:06, 66.86s/it, Letter: z, Page: 3]"
          ]
        },
        {
          "output_type": "stream",
          "name": "stdout",
          "text": [
            "\n",
            "Letter z, 2 pages\n",
            "\n",
            "Saving with letter z...\n"
          ]
        },
        {
          "output_type": "stream",
          "name": "stderr",
          "text": [
            "100%|██████████| 27/27 [1:12:26<00:00, 160.99s/it, Letter: z, Page: 3]\n"
          ]
        },
        {
          "output_type": "error",
          "ename": "KeyError",
          "evalue": "'en'",
          "traceback": [
            "\u001b[0;31m---------------------------------------------------------------------------\u001b[0m",
            "\u001b[0;31mKeyError\u001b[0m                                  Traceback (most recent call last)",
            "\u001b[0;32m/tmp/ipython-input-12-4240227612.py\u001b[0m in \u001b[0;36m<cell line: 0>\u001b[0;34m()\u001b[0m\n\u001b[1;32m     28\u001b[0m       \u001b[0mjson\u001b[0m\u001b[0;34m.\u001b[0m\u001b[0mdump\u001b[0m\u001b[0;34m(\u001b[0m\u001b[0mdataset\u001b[0m\u001b[0;34m,\u001b[0m \u001b[0mjson_file\u001b[0m\u001b[0;34m,\u001b[0m \u001b[0mindent\u001b[0m\u001b[0;34m=\u001b[0m\u001b[0;36m4\u001b[0m\u001b[0;34m)\u001b[0m\u001b[0;34m\u001b[0m\u001b[0;34m\u001b[0m\u001b[0m\n\u001b[1;32m     29\u001b[0m \u001b[0;34m\u001b[0m\u001b[0m\n\u001b[0;32m---> 30\u001b[0;31m \u001b[0mdataset\u001b[0m\u001b[0;34m[\u001b[0m\u001b[0;34m\"en\"\u001b[0m\u001b[0;34m]\u001b[0m\u001b[0;34m[\u001b[0m\u001b[0;34m-\u001b[0m\u001b[0;36m5\u001b[0m\u001b[0;34m:\u001b[0m\u001b[0;34m]\u001b[0m\u001b[0;34m\u001b[0m\u001b[0;34m\u001b[0m\u001b[0m\n\u001b[0m",
            "\u001b[0;31mKeyError\u001b[0m: 'en'"
          ]
        }
      ]
    },
    {
      "cell_type": "code",
      "source": [
        "from google.colab import drive\n",
        "drive.mount('/content/drive')"
      ],
      "metadata": {
        "colab": {
          "base_uri": "https://localhost:8080/"
        },
        "id": "_aMCa1n2-7lz",
        "outputId": "87e1f019-6be0-46e7-f747-ad5fdc49b336"
      },
      "execution_count": null,
      "outputs": [
        {
          "output_type": "stream",
          "name": "stdout",
          "text": [
            "Mounted at /content/drive\n"
          ]
        }
      ]
    },
    {
      "cell_type": "code",
      "source": [],
      "metadata": {
        "id": "P2Jgmd9w33V8"
      },
      "execution_count": null,
      "outputs": []
    },
    {
      "cell_type": "code",
      "source": [
        "def scrape_website(i):\n",
        "  url = f\"https://www.webonary.org/basaa/browse/browse-english/?letter=w&key=en&totalEntries=499&pagenr={i}&lang=en\"\n",
        "\n",
        "  # Step 1: Send HTTP request\n",
        "  headers = {\n",
        "      \"User-Agent\": \"Mozilla/5.0\"\n",
        "  }\n",
        "  response = requests.get(url, headers=headers)\n",
        "\n",
        "  # Step 2: Parse HTML content\n",
        "  soup = BeautifulSoup(response.content, \"html.parser\")\n",
        "\n",
        "  # Step 3: Find the element with id=\"searchresults\"\n",
        "  search_results = soup.find(id=\"searchresults\")\n",
        "  pairs = list()\n",
        "  if search_results:\n",
        "      posts = search_results.find_all(\"div\", class_=\"post\")\n",
        "      for post in posts:\n",
        "        en_word = post.find(\"span\", attrs={\"lang\": \"en\"}).text\n",
        "        bas_words = post.find_all(\"span\", attrs={\"lang\": \"bas\"})\n",
        "        bas_word_list = list(set([bas_word.find(\"a\").text.strip() for bas_word in bas_words]))\n",
        "        pairs.append((en_word, bas_word_list))\n",
        "        print(f\"English Word: {en_word}\")\n",
        "        print(f\"Basaa Words: {', '.join(bas_word_list)}\")\n",
        "        print()\n",
        "  else:\n",
        "      print(\"Element with id 'searchresults' not found.\")\n",
        "  return pairs\n",
        "\n",
        "scrape_website(1)"
      ],
      "metadata": {
        "colab": {
          "base_uri": "https://localhost:8080/",
          "height": 35
        },
        "id": "-xnSMb7YSs_k",
        "outputId": "cb98982c-fd3e-487b-e0cb-06a15e7cda0f"
      },
      "execution_count": null,
      "outputs": [
        {
          "output_type": "execute_result",
          "data": {
            "text/plain": [
              "'ɓɔblà'"
            ],
            "application/vnd.google.colaboratory.intrinsic+json": {
              "type": "string"
            }
          },
          "metadata": {},
          "execution_count": 15
        }
      ]
    },
    {
      "cell_type": "code",
      "source": [
        "scrape_website(20)"
      ],
      "metadata": {
        "colab": {
          "base_uri": "https://localhost:8080/"
        },
        "id": "FzINHp5iX0a0",
        "outputId": "6fb8af7a-a493-4f19-b5d2-67cd97dc111f"
      },
      "execution_count": null,
      "outputs": [
        {
          "output_type": "stream",
          "name": "stdout",
          "text": [
            "English Word: woven bed\n",
            "Basaa Words: kàgà\n",
            "\n",
            "English Word: wrapping paper\n",
            "Basaa Words: pebà\n",
            "\n",
            "English Word: wrath\n",
            "Basaa Words: nyay, hìun\n",
            "\n",
            "English Word: wreath\n",
            "Basaa Words: ǹtut\n",
            "\n",
            "English Word: wrestle\n",
            "Basaa Words: ɓɔblà, sìŋ\n",
            "\n",
            "English Word: wrestle for/with/at\n",
            "Basaa Words: sìŋìl\n",
            "\n",
            "English Word: wrestle soe or with soe\n",
            "Basaa Words: sìŋìs\n",
            "\n",
            "English Word: wrestling\n",
            "Basaa Words: màsìŋ\n",
            "\n",
            "English Word: wretchedness\n",
            "Basaa Words: bìyɛndɛ\n",
            "\n",
            "English Word: wriggle\n",
            "Basaa Words: nyɔ̀glà, wàghà\n",
            "\n",
            "English Word: wring\n",
            "Basaa Words: kèp\n",
            "\n",
            "English Word: wrinkle\n",
            "Basaa Words: ǹhɔ̀r, gwɔ̀t, nyɛ̀dà\n",
            "\n",
            "English Word: wrinkle (animals)\n",
            "Basaa Words: ŋwɔ̀r\n",
            "\n",
            "English Word: wrinkle in skin, or cloth\n",
            "Basaa Words: lìnyɛ̀dà\n",
            "\n",
            "English Word: wrinkles\n",
            "Basaa Words: m̀ɓɔ̀t\n",
            "\n",
            "English Word: wrist\n",
            "Basaa Words: lìɓɔŋga li wɔɔ, lìɓeŋga, jòŋgà\n",
            "\n",
            "English Word: write\n",
            "Basaa Words: kedêl, kɛp, kedêl kààt, tìlà\n",
            "\n",
            "English Word: writer\n",
            "Basaa Words: ǹtìlà, ǹtìlà bìkààt, ŋ̀kedêl, mùt màtìlà\n",
            "\n",
            "English Word: writhe\n",
            "Basaa Words: kiidà, kɔɔŋà\n",
            "\n",
            "English Word: writhe as snake\n",
            "Basaa Words: ɓiŋlà\n",
            "\n",
            "English Word: writing\n",
            "Basaa Words: lìtìlà, sɔŋdatìla, màtìlà, bìtìlna\n",
            "\n",
            "English Word: writing system\n",
            "Basaa Words: bìtìlna\n",
            "\n",
            "English Word: wrong\n",
            "Basaa Words: ɓeba jâm\n",
            "\n",
            "English Word: wrong, to be\n",
            "Basaa Words: kwèhà\n",
            "\n"
          ]
        },
        {
          "output_type": "execute_result",
          "data": {
            "text/plain": [
              "[('woven bed', ['kàgà']),\n",
              " ('wrapping paper', ['pebà']),\n",
              " ('wrath', ['nyay', 'hìun']),\n",
              " ('wreath', ['ǹtut']),\n",
              " ('wrestle', ['ɓɔblà', 'sìŋ']),\n",
              " ('wrestle for/with/at', ['sìŋìl']),\n",
              " ('wrestle soe or with soe', ['sìŋìs']),\n",
              " ('wrestling', ['màsìŋ']),\n",
              " ('wretchedness', ['bìyɛndɛ']),\n",
              " ('wriggle', ['nyɔ̀glà', 'wàghà']),\n",
              " ('wring', ['kèp']),\n",
              " ('wrinkle', ['ǹhɔ̀r', 'gwɔ̀t', 'nyɛ̀dà']),\n",
              " ('wrinkle (animals)', ['ŋwɔ̀r']),\n",
              " ('wrinkle in skin, or cloth', ['lìnyɛ̀dà']),\n",
              " ('wrinkles', ['m̀ɓɔ̀t']),\n",
              " ('wrist', ['lìɓɔŋga li wɔɔ', 'lìɓeŋga', 'jòŋgà']),\n",
              " ('write', ['kedêl', 'kɛp', 'kedêl kààt', 'tìlà']),\n",
              " ('writer', ['ǹtìlà', 'ǹtìlà bìkààt', 'ŋ̀kedêl', 'mùt màtìlà']),\n",
              " ('writhe', ['kiidà', 'kɔɔŋà']),\n",
              " ('writhe as snake', ['ɓiŋlà']),\n",
              " ('writing', ['lìtìlà', 'sɔŋdatìla', 'màtìlà', 'bìtìlna']),\n",
              " ('writing system', ['bìtìlna']),\n",
              " ('wrong', ['ɓeba jâm']),\n",
              " ('wrong, to be', ['kwèhà'])]"
            ]
          },
          "metadata": {},
          "execution_count": 31
        }
      ]
    },
    {
      "cell_type": "code",
      "source": [
        "import json\n",
        "\n",
        "with open(\"drive/MyDrive/data_fr_bas.json\", \"r\") as json_file:\n",
        "    db = json.loads(json_file.read())"
      ],
      "metadata": {
        "id": "vg779YGPfW1t"
      },
      "execution_count": null,
      "outputs": []
    },
    {
      "cell_type": "code",
      "source": [
        "all_chars = set(\"\".join(\"\".join(x[1]) for x in db['fr']['letters']).lower())\n",
        "\"\".join(sorted(all_chars))"
      ],
      "metadata": {
        "colab": {
          "base_uri": "https://localhost:8080/",
          "height": 35
        },
        "id": "C7QcbHm6fqgH",
        "outputId": "1d296f32-9f1d-447f-bc14-1f84b91b32f5"
      },
      "execution_count": null,
      "outputs": [
        {
          "output_type": "execute_result",
          "data": {
            "text/plain": [
              "' !(),-./012345678;?[]abcdefghijklmnopqrstuvwxyzàáâçèéêëìíîòóôùûāēěīńŋōūǎǐǒǔǹɓɔəɛɨʉ̀́̂̄̌᷅᷆᷇’…'"
            ],
            "application/vnd.google.colaboratory.intrinsic+json": {
              "type": "string"
            }
          },
          "metadata": {},
          "execution_count": 31
        }
      ]
    }
  ]
}